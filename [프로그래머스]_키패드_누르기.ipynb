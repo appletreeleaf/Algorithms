{
  "nbformat": 4,
  "nbformat_minor": 0,
  "metadata": {
    "colab": {
      "provenance": [],
      "authorship_tag": "ABX9TyO/QZttIaTtkcJFUHwLZHET",
      "include_colab_link": true
    },
    "kernelspec": {
      "name": "python3",
      "display_name": "Python 3"
    },
    "language_info": {
      "name": "python"
    }
  },
  "cells": [
    {
      "cell_type": "markdown",
      "metadata": {
        "id": "view-in-github",
        "colab_type": "text"
      },
      "source": [
        "<a href=\"https://colab.research.google.com/github/appletreeleaf/Coding_Test/blob/main/%5B%ED%94%84%EB%A1%9C%EA%B7%B8%EB%9E%98%EB%A8%B8%EC%8A%A4%5D_%ED%82%A4%ED%8C%A8%EB%93%9C_%EB%88%84%EB%A5%B4%EA%B8%B0.ipynb\" target=\"_parent\"><img src=\"https://colab.research.google.com/assets/colab-badge.svg\" alt=\"Open In Colab\"/></a>"
      ]
    },
    {
      "cell_type": "code",
      "execution_count": null,
      "metadata": {
        "id": "2vGfJd6_4ADX"
      },
      "outputs": [],
      "source": [
        "def solution(numbers, hand):\n",
        "    answer = ''\n",
        "\n",
        "    #키패드 위치\n",
        "    pad = {'1':(0,0), '2':(0,1), '3':(0,2),\n",
        "           '4':(1,0), '5':(1,1), '6':(1,2),\n",
        "           '7':(2,0), '8':(2,1), '9':(2,2),\n",
        "           '*':(3,0), '0':(3,1), '#':(3,2)\n",
        "        }\n",
        "\n",
        "    left = pad['*']   #처음 왼손의 위치\n",
        "    right = pad['#']  #처음 오른손의 위치\n",
        "\n",
        "    for num in numbers :\n",
        "    \t#왼손이 누를 번호\n",
        "        if num in [1, 4, 7] :\n",
        "            answer += 'L'          #answer에 'L' 저장\n",
        "            left = pad[str(num)]   #해당 번호를 눌렀을 때 왼손의 위치 저장\n",
        "\n",
        "        #오른손이 누를 번호\n",
        "        elif num in [3, 6, 9] :\n",
        "            answer += 'R'            #answer에 'R' 저장\n",
        "            right = pad[str(num)]    #해당 번호를 눌렀을 때 오른손의 위치 저장\n",
        "\n",
        "        #번호가 2,5,8,0일 때\n",
        "        else :\n",
        "        \t#번호와 왼손의 거리 계산\n",
        "            left_dis = abs(left[0] - pad[str(num)][0]) + abs(left[1] - pad[str(num)][1])\n",
        "            #번호와 오른손의 거리 계산\n",
        "            right_dis = abs(right[0] - pad[str(num)][0]) + abs(right[1] - pad[str(num)][1])\n",
        "\n",
        "            #왼손이 더 가까울 때\n",
        "            if left_dis < right_dis :\n",
        "                answer += 'L'\n",
        "                left = pad[str(num)]\n",
        "\n",
        "            #오른손이 더 가까울 때\n",
        "            elif left_dis > right_dis :\n",
        "                answer += 'R'\n",
        "                right = pad[str(num)]\n",
        "\n",
        "            #왼손과 오른손 거리가 같을 때\n",
        "            else :\n",
        "                if hand == 'right' :\n",
        "                    answer += 'R'\n",
        "                    right = pad[str(num)]\n",
        "                else :\n",
        "                    answer += 'L'\n",
        "                    left = pad[str(num)]\n",
        "\n",
        "    return answer\n",
        "\n",
        "numbers = [1, 3, 4, 5, 8, 2, 1, 4, 5, 9, 5]\n",
        "hand = 'right'\n",
        "solution(numbers, hand)"
      ]
    }
  ]
}