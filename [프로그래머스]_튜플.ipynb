{
  "nbformat": 4,
  "nbformat_minor": 0,
  "metadata": {
    "colab": {
      "provenance": [],
      "authorship_tag": "ABX9TyMw72DMK9yIEgCP1h3hQF7L",
      "include_colab_link": true
    },
    "kernelspec": {
      "name": "python3",
      "display_name": "Python 3"
    },
    "language_info": {
      "name": "python"
    }
  },
  "cells": [
    {
      "cell_type": "markdown",
      "metadata": {
        "id": "view-in-github",
        "colab_type": "text"
      },
      "source": [
        "<a href=\"https://colab.research.google.com/github/appletreeleaf/Coding_Test/blob/main/%5B%ED%94%84%EB%A1%9C%EA%B7%B8%EB%9E%98%EB%A8%B8%EC%8A%A4%5D_%ED%8A%9C%ED%94%8C.ipynb\" target=\"_parent\"><img src=\"https://colab.research.google.com/assets/colab-badge.svg\" alt=\"Open In Colab\"/></a>"
      ]
    },
    {
      "cell_type": "code",
      "execution_count": 41,
      "metadata": {
        "id": "xu1Dle9ofkP3"
      },
      "outputs": [],
      "source": [
        "from collections import Counter\n",
        "\n",
        "def solution(s):\n",
        "    tmp = Counter(','.join(s[2:-2].split('},{')).split(','))\n",
        "    tmp = sorted(tmp.items(), key = lambda x:-x[1])\n",
        "    answer = [int(a) for a,b in tmp]\n",
        "    return answer"
      ]
    },
    {
      "cell_type": "code",
      "source": [
        "s = \"{{4,2,3},{3},{2,3,4,1},{2,3}}\"\n",
        "solution(s)"
      ],
      "metadata": {
        "colab": {
          "base_uri": "https://localhost:8080/"
        },
        "id": "FN36vmlLgSId",
        "outputId": "e00cf360-be82-42aa-fd75-9a9e7edc3cd1"
      },
      "execution_count": 42,
      "outputs": [
        {
          "output_type": "stream",
          "name": "stdout",
          "text": [
            "[3, 2, 4, 1]\n"
          ]
        }
      ]
    },
    {
      "cell_type": "code",
      "source": [],
      "metadata": {
        "id": "WqNn0PKVgp20"
      },
      "execution_count": null,
      "outputs": []
    }
  ]
}