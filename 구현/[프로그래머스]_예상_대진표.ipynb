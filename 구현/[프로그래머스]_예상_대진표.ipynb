{
  "nbformat": 4,
  "nbformat_minor": 0,
  "metadata": {
    "colab": {
      "provenance": [],
      "authorship_tag": "ABX9TyMKpuh1f4UFlcgCoPS4egjG",
      "include_colab_link": true
    },
    "kernelspec": {
      "name": "python3",
      "display_name": "Python 3"
    },
    "language_info": {
      "name": "python"
    }
  },
  "cells": [
    {
      "cell_type": "markdown",
      "metadata": {
        "id": "view-in-github",
        "colab_type": "text"
      },
      "source": [
        "<a href=\"https://colab.research.google.com/github/appletreeleaf/Coding_Test/blob/main/%5B%ED%94%84%EB%A1%9C%EA%B7%B8%EB%9E%98%EB%A8%B8%EC%8A%A4%5D_%EC%98%88%EC%83%81_%EB%8C%80%EC%A7%84%ED%91%9C.ipynb\" target=\"_parent\"><img src=\"https://colab.research.google.com/assets/colab-badge.svg\" alt=\"Open In Colab\"/></a>"
      ]
    },
    {
      "cell_type": "code",
      "execution_count": null,
      "metadata": {
        "id": "2vGfJd6_4ADX"
      },
      "outputs": [],
      "source": [
        "def solution(n, a, b):\n",
        "    answer = 0\n",
        "    # a,b 값이 같아지는 순간은 a,b가 겨룬 후임.\n",
        "    while a!=b:\n",
        "        # 라운드 수\n",
        "        answer += 1\n",
        "        # 다음 라운드의 번호\n",
        "        a, b = (a+1)//2, (b+1)//2\n",
        "\n",
        "    return answer"
      ]
    }
  ]
}
