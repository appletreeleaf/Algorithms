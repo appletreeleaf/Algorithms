{
  "nbformat": 4,
  "nbformat_minor": 0,
  "metadata": {
    "colab": {
      "provenance": [],
      "authorship_tag": "ABX9TyOesWq+JMcJ/HRGtH5/bf/0",
      "include_colab_link": true
    },
    "kernelspec": {
      "name": "python3",
      "display_name": "Python 3"
    },
    "language_info": {
      "name": "python"
    }
  },
  "cells": [
    {
      "cell_type": "markdown",
      "metadata": {
        "id": "view-in-github",
        "colab_type": "text"
      },
      "source": [
        "<a href=\"https://colab.research.google.com/github/appletreeleaf/Coding_Test/blob/main/%5B%ED%94%84%EB%A1%9C%EA%B7%B8%EB%9E%98%EB%A8%B8%EC%8A%A4%5D_%EB%B0%94%ED%83%95%ED%99%94%EB%A9%B4%EC%A0%95%EB%A6%AC.ipynb\" target=\"_parent\"><img src=\"https://colab.research.google.com/assets/colab-badge.svg\" alt=\"Open In Colab\"/></a>"
      ]
    },
    {
      "cell_type": "code",
      "execution_count": null,
      "metadata": {
        "id": "pcm9eIjr3rMk"
      },
      "outputs": [],
      "source": [
        "def solution(wallpaper):\n",
        "    row, col = [], []\n",
        "    for idx, i in enumerate(wallpaper):\n",
        "        for idx_, s in enumerate(i):\n",
        "            if s == '#':\n",
        "                row.append(idx)\n",
        "                col.append(idx_)\n",
        "\n",
        "    return [min(row), min(col), max(row)+1, max(col)+1]\n",
        "\n",
        "\n",
        "wallpaper = [\".#...\", \"..#..\", \"...#.\"]\n",
        "solution(wallpaper)\n",
        ""
      ]
    }
  ]
}
