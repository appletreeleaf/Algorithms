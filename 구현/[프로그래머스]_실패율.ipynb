{
  "nbformat": 4,
  "nbformat_minor": 0,
  "metadata": {
    "colab": {
      "provenance": [],
      "authorship_tag": "ABX9TyPAQWR2rIcvBnrW6ybdon8J",
      "include_colab_link": true
    },
    "kernelspec": {
      "name": "python3",
      "display_name": "Python 3"
    },
    "language_info": {
      "name": "python"
    }
  },
  "cells": [
    {
      "cell_type": "markdown",
      "metadata": {
        "id": "view-in-github",
        "colab_type": "text"
      },
      "source": [
        "<a href=\"https://colab.research.google.com/github/appletreeleaf/Coding_Test/blob/main/%5B%ED%94%84%EB%A1%9C%EA%B7%B8%EB%9E%98%EB%A8%B8%EC%8A%A4%5D_%EC%8B%A4%ED%8C%A8%EC%9C%A8.ipynb\" target=\"_parent\"><img src=\"https://colab.research.google.com/assets/colab-badge.svg\" alt=\"Open In Colab\"/></a>"
      ]
    },
    {
      "cell_type": "code",
      "execution_count": 22,
      "metadata": {
        "id": "XfzQYFaXIZyK"
      },
      "outputs": [],
      "source": [
        "from collections import Counter\n",
        "# 1번 ~ N번 스테이지 순서로\n",
        "# 실패율 계산하고 딕셔너리에 저장한다.\n",
        "    # 실패한 스테이지는 Counter로\n",
        "# 딕셔너리 value를 기준으로 내림차순 정렬하면 될듯.\n",
        "def solution(N, stages):\n",
        "    failed = {i:0 for i in range(1, N+1)}\n",
        "    stage = dict(Counter(stages))\n",
        "    user = len(stages)\n",
        "\n",
        "    for i in range(1, N+1):\n",
        "        if i not in stages:\n",
        "            continue\n",
        "        failed[i] = stage[i] / user\n",
        "        # 전체 인원 - 현 라운드 실패인원\n",
        "        user -= stage[i]\n",
        "    result = sorted(failed.items(), key=lambda item:item[1], reverse=True)\n",
        "    answer = [k for k,v in result]\n",
        "    return answer"
      ]
    },
    {
      "cell_type": "code",
      "source": [
        "N, stages = 5, [2, 1, 2, 6, 2, 4, 3, 3]\n",
        "solution(N, stages)"
      ],
      "metadata": {
        "colab": {
          "base_uri": "https://localhost:8080/"
        },
        "id": "yFK7YM4mIhj3",
        "outputId": "b3a299c7-eb97-4016-bc24-8182b094d8b7"
      },
      "execution_count": 23,
      "outputs": [
        {
          "output_type": "execute_result",
          "data": {
            "text/plain": [
              "[3, 4, 2, 1, 5]"
            ]
          },
          "metadata": {},
          "execution_count": 23
        }
      ]
    },
    {
      "cell_type": "code",
      "source": [],
      "metadata": {
        "id": "QO1SWK8LJOAr"
      },
      "execution_count": null,
      "outputs": []
    }
  ]
}
