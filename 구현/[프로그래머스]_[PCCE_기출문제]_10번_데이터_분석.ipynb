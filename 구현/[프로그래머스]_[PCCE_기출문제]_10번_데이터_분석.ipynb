{
  "nbformat": 4,
  "nbformat_minor": 0,
  "metadata": {
    "colab": {
      "provenance": [],
      "authorship_tag": "ABX9TyMW2mEiPRrtpkl40+eU7LTu",
      "include_colab_link": true
    },
    "kernelspec": {
      "name": "python3",
      "display_name": "Python 3"
    },
    "language_info": {
      "name": "python"
    }
  },
  "cells": [
    {
      "cell_type": "markdown",
      "metadata": {
        "id": "view-in-github",
        "colab_type": "text"
      },
      "source": [
        "<a href=\"https://colab.research.google.com/github/appletreeleaf/Coding_Test/blob/main/%5B%ED%94%84%EB%A1%9C%EA%B7%B8%EB%9E%98%EB%A8%B8%EC%8A%A4%5D_%5BPCCE_%EA%B8%B0%EC%B6%9C%EB%AC%B8%EC%A0%9C%5D_10%EB%B2%88_%EB%8D%B0%EC%9D%B4%ED%84%B0_%EB%B6%84%EC%84%9D.ipynb\" target=\"_parent\"><img src=\"https://colab.research.google.com/assets/colab-badge.svg\" alt=\"Open In Colab\"/></a>"
      ]
    },
    {
      "cell_type": "code",
      "execution_count": 5,
      "metadata": {
        "id": "Pn65ED4luCAp"
      },
      "outputs": [],
      "source": [
        "def solution(data, ext, val_ext, sort_by):\n",
        "    sortby = {'code':0, 'date':1, 'maximum':2, 'remain': 3}\n",
        "    return sorted([i for i in data if i[sortby[ext]] < val_ext], key=lambda x: x[sortby[sort_by]])"
      ]
    },
    {
      "cell_type": "code",
      "source": [
        "# [\"코드 번호(code)\", \"제조일(date)\", \"최대 수량(maximum)\", \"현재 수량(remain)\"]\n",
        "data = [[1, 20300104, 100, 80], [2, 20300804, 847, 37], [3, 20300401, 10, 8]]\n",
        "ext = \"date\"\n",
        "val_ext = 20300501\n",
        "sort_by = \"remain\"\n",
        "solution(data, ext, val_ext, sort_by)"
      ],
      "metadata": {
        "colab": {
          "base_uri": "https://localhost:8080/"
        },
        "id": "nlSphennzjMp",
        "outputId": "9c2ad94e-c084-4df0-b8ba-f1dc27266e1a"
      },
      "execution_count": 6,
      "outputs": [
        {
          "output_type": "execute_result",
          "data": {
            "text/plain": [
              "[[3, 20300401, 10, 8], [1, 20300104, 100, 80]]"
            ]
          },
          "metadata": {},
          "execution_count": 6
        }
      ]
    },
    {
      "cell_type": "code",
      "source": [],
      "metadata": {
        "id": "ISfkvhEn1CfV"
      },
      "execution_count": null,
      "outputs": []
    }
  ]
}
