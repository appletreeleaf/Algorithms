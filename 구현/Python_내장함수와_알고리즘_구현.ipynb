{
  "nbformat": 4,
  "nbformat_minor": 0,
  "metadata": {
    "orig_nbformat": 4,
    "language_info": {
      "name": "python",
      "version": "3.7.7",
      "mimetype": "text/x-python",
      "codemirror_mode": {
        "name": "ipython",
        "version": 3
      },
      "pygments_lexer": "ipython3",
      "nbconvert_exporter": "python",
      "file_extension": ".py"
    },
    "kernelspec": {
      "name": "python3",
      "display_name": "Python 3.7.7 64-bit ('NLPassn': conda)"
    },
    "interpreter": {
      "hash": "ade55d4c86be7d50874b83e4277b883dd708f548765dc318ed8eee76ae3e5626"
    },
    "colab": {
      "provenance": [],
      "include_colab_link": true
    }
  },
  "cells": [
    {
      "cell_type": "markdown",
      "metadata": {
        "id": "view-in-github",
        "colab_type": "text"
      },
      "source": [
        "<a href=\"https://colab.research.google.com/github/appletreeleaf/Algorithms/blob/main/Python_%EB%82%B4%EC%9E%A5%ED%95%A8%EC%88%98%EC%99%80_%EC%95%8C%EA%B3%A0%EB%A6%AC%EC%A6%98_%EA%B5%AC%ED%98%84_%EC%9D%B4%EC%9E%AC%EC%98%81.ipynb\" target=\"_parent\"><img src=\"https://colab.research.google.com/assets/colab-badge.svg\" alt=\"Open In Colab\"/></a>"
      ]
    },
    {
      "cell_type": "markdown",
      "metadata": {
        "id": "lh1cyX2mj_4V"
      },
      "source": [
        "# 과제 1. 나만의 python & 알고리즘 함수 만들기\n",
        "## 1. 파이썬 내장함수 만들기\n",
        "Python에는 사용자의 편의를 위해서 여러가지 함수를 내장하고 있다. 다음 사진이 python 내장함수의 목록을 보여준다.\n",
        "\n",
        "<p align=\"center\"><img src=\"https://wikidocs.net/images/page/14598/2-1.png\" width=\"600px\"></p>\n",
        "\n",
        "자세한 내용은 [링크](https://docs.python.org/ko/3/library/functions.html)에서 확인해 볼 수 있으며, 문서 안에서 몇 가지 예시를 제시하고 있다. 다음은 python 공식 문서에서 제시하는 `all` 함수의 예시를 `my_all` 함수로 재작성한 예시이다."
      ]
    },
    {
      "cell_type": "code",
      "metadata": {
        "id": "KtICkC5sj_4X",
        "outputId": "4d5a08ad-4a68-4387-f2c1-7d565ea2ea1d",
        "colab": {
          "base_uri": "https://localhost:8080/"
        }
      },
      "source": [
        "def my_all(iterable):\n",
        "    for element in iterable:\n",
        "        if not element:\n",
        "            return False\n",
        "    return True\n",
        "\n",
        "test1 = [True, 7 == 4, 3 > 7, False]\n",
        "test2 = [3 < 5, 10 == 10, True, 'something']\n",
        "\n",
        "# Assert 문은 이하의 식의 참인지 검사합니다.\n",
        "assert all(test1) == my_all(test1) == False\n",
        "assert all(test2) == my_all(test2) == True\n",
        "\n",
        "print(\"통과\")"
      ],
      "execution_count": null,
      "outputs": [
        {
          "output_type": "stream",
          "name": "stdout",
          "text": [
            "통과\n"
          ]
        }
      ]
    },
    {
      "cell_type": "markdown",
      "metadata": {
        "id": "Z6GUKRRQj_4Z"
      },
      "source": [
        "아래의 함수들은 자주 사용되는 내장 함수들의 목록이다. 위의 코드 예시와 같이 몇 가지 함수들을 내장 함수를 쓰지 않고 따라 만들어보자. \\\n",
        "(단, int 같은 형변환 내장 함수 및 iter, next 같은 이 파일에서 재구현 되지 않는 내장 함수는 사용 가능하며, 편의를 위해 엄격하게 만들지 않고 test를 통과할 정도만 작성하여도 무방하다.)"
      ]
    },
    {
      "cell_type": "markdown",
      "metadata": {
        "id": "UrC-IOlfj_4Z"
      },
      "source": [
        "### 1-1. abs"
      ]
    },
    {
      "cell_type": "code",
      "metadata": {
        "id": "RCpeIZx8j_4a",
        "outputId": "f9cd511e-64d3-42d7-de98-cb29ff2e6579",
        "colab": {
          "base_uri": "https://localhost:8080/"
        }
      },
      "source": [
        "def my_abs(number):\n",
        "  if number < 0:\n",
        "    number *= -1\n",
        "  return number\n",
        "\n",
        "\n",
        "test1 = 1.7\n",
        "test2 = -8\n",
        "assert abs(test1) == my_abs(test1)\n",
        "assert abs(test2) == my_abs(test2)\n",
        "print(\"통과\")"
      ],
      "execution_count": null,
      "outputs": [
        {
          "output_type": "stream",
          "name": "stdout",
          "text": [
            "통과\n"
          ]
        }
      ]
    },
    {
      "cell_type": "markdown",
      "metadata": {
        "id": "sBqLryIxj_4a"
      },
      "source": [
        "### 1-2. round"
      ]
    },
    {
      "cell_type": "code",
      "metadata": {
        "id": "xaEfCMwmj_4a",
        "outputId": "c3ea30ca-0835-4f74-f647-064549b08ac9",
        "colab": {
          "base_uri": "https://localhost:8080/"
        }
      },
      "source": [
        "def my_round(number, ndgits=None):\n",
        "    if ndgits == None:\n",
        "      result = int(number) + int((number- int(number))*2) # number의 정수부분 + 소수부분의 반올림 기준이 0.5이므로 *2해서 int형 변환\n",
        "      return result\n",
        "    else:\n",
        "      return my_round(number * 10 ** ndgits) / (10 ** ndgits) # ndgits만큼 소수점 자리 옮기고, my_round 함수 호출하여 반올림처리, 소수점 자리 원상복구\n",
        "\n",
        "test = 1.74789\n",
        "assert round(test) == my_round(test)\n",
        "assert round(-test) == my_round(-test)\n",
        "assert round(test, 3) == my_round(test, 3)\n",
        "assert round(-test, 2) == my_round(-test, 2)\n",
        "print(\"통과\")"
      ],
      "execution_count": null,
      "outputs": [
        {
          "output_type": "stream",
          "name": "stdout",
          "text": [
            "통과\n"
          ]
        }
      ]
    },
    {
      "cell_type": "markdown",
      "metadata": {
        "id": "PTJk84oPj_4b"
      },
      "source": [
        "### 1-3. any"
      ]
    },
    {
      "cell_type": "code",
      "metadata": {
        "id": "bnBMZp3qj_4b",
        "outputId": "a142a263-37da-42ba-fcca-f3f6af386e53",
        "colab": {
          "base_uri": "https://localhost:8080/"
        }
      },
      "source": [
        "def my_any(iterable):\n",
        "  for i in iterable:\n",
        "    if i:\n",
        "      return True\n",
        "    return False\n",
        "\n",
        "\n",
        "test1 = [True, 7 == 4, 'Something', False]\n",
        "test2 = [3 > 5, 10 != 10, False, '', None]\n",
        "assert any(test1) == my_any(test1)\n",
        "assert any(test2) == my_any(test2)\n",
        "print(\"통과\")"
      ],
      "execution_count": null,
      "outputs": [
        {
          "output_type": "stream",
          "name": "stdout",
          "text": [
            "통과\n"
          ]
        }
      ]
    },
    {
      "cell_type": "markdown",
      "metadata": {
        "id": "r1a2t34Sj_4b"
      },
      "source": [
        "### 1-4. enumerate"
      ]
    },
    {
      "cell_type": "code",
      "metadata": {
        "id": "Eb3wJhDJj_4c",
        "outputId": "d2c8e6ed-b6f0-4724-9c32-3ac2a08bf3e4",
        "colab": {
          "base_uri": "https://localhost:8080/"
        }
      },
      "source": [
        "def my_enumerate(sequence, start=0):\n",
        "    for i in sequence:\n",
        "        yield start, i\n",
        "        start += 1\n",
        "\n",
        "test1 = [60, 50, 20, 10]\n",
        "test2 = [True, None, 'test']\n",
        "assert list(enumerate(test1)) == list(my_enumerate(test1))\n",
        "assert list(enumerate(test2, 12)) == list(my_enumerate(test2, 12))\n",
        "print(\"통과\")"
      ],
      "execution_count": null,
      "outputs": [
        {
          "output_type": "stream",
          "name": "stdout",
          "text": [
            "통과\n"
          ]
        }
      ]
    },
    {
      "cell_type": "code",
      "source": [
        "list(enumerate([1,2,3,4], start=12))"
      ],
      "metadata": {
        "id": "xSqogGuge2Or",
        "outputId": "f8b0caaa-4fed-4488-a95c-b50ba9011c6a",
        "colab": {
          "base_uri": "https://localhost:8080/"
        }
      },
      "execution_count": null,
      "outputs": [
        {
          "output_type": "execute_result",
          "data": {
            "text/plain": [
              "[(12, 1), (13, 2), (14, 3), (15, 4)]"
            ]
          },
          "metadata": {},
          "execution_count": 35
        }
      ]
    },
    {
      "cell_type": "markdown",
      "metadata": {
        "id": "6GhbhgNsj_4c"
      },
      "source": [
        "### 1-5. max & min"
      ]
    },
    {
      "cell_type": "code",
      "metadata": {
        "id": "CPb7b92Fj_4c",
        "outputId": "688224f2-93c9-4100-8aa4-e8bc56639dbc",
        "colab": {
          "base_uri": "https://localhost:8080/"
        }
      },
      "source": [
        "def my_max(*args):\n",
        "  if len(args) == 1:\n",
        "    args = args[0]\n",
        "  max = args[0]\n",
        "  for i in args:\n",
        "    if(max<i):\n",
        "      max=i\n",
        "  return max\n",
        "\n",
        "def my_min(*args):\n",
        "  if len(args) == 1:\n",
        "    args = args[0]\n",
        "  min = args[0]\n",
        "  for i in args:\n",
        "    if(min>i):\n",
        "      min=i\n",
        "  return min\n",
        "\n",
        "test = [7, 4, 2, 6, 8]\n",
        "assert max(test) == my_max(test) and min(test) == my_min(test)\n",
        "assert max(7, 4, 2, 5) == my_max(7, 4, 2, 5) and min(7, 4, 2, 5) == my_min(7, 4, 2, 5)\n",
        "print(\"통과\")"
      ],
      "execution_count": null,
      "outputs": [
        {
          "output_type": "stream",
          "name": "stdout",
          "text": [
            "통과\n"
          ]
        }
      ]
    },
    {
      "cell_type": "markdown",
      "metadata": {
        "id": "LYJx5t63j_4c"
      },
      "source": [
        "### 1-6. range\n",
        "실제론 함수가 아니지만 함수 같이 만들어보자."
      ]
    },
    {
      "cell_type": "code",
      "metadata": {
        "id": "z5liW1V-j_4d",
        "outputId": "39699d40-bf6a-4ee6-d89b-f96d6052c260",
        "colab": {
          "base_uri": "https://localhost:8080/"
        }
      },
      "source": [
        "def my_range(*args):\n",
        "    if len(args) == 1:\n",
        "        start, end, step = 0, args[0], 1\n",
        "    elif len(args) == 2:\n",
        "        start, end, step = args[0], args[1], 1\n",
        "    elif len(args) == 3:\n",
        "        start, end, step = args\n",
        "\n",
        "    if (end - start) * step < 0:\n",
        "        return []\n",
        "\n",
        "    prev = end - start\n",
        "    while True:\n",
        "        yield start\n",
        "        start += step\n",
        "\n",
        "        if (end - start) * prev <= 0:\n",
        "            break\n",
        "\n",
        "assert list(range(10)) == list(my_range(10))\n",
        "assert list(range(3, 10)) == list(my_range(3, 10))\n",
        "assert list(range(3, 10, 2)) == list(my_range(3, 10, 2))\n",
        "assert list(range(10, 3, -2)) == list(my_range(10, 3, -2))\n",
        "print(\"통과\")"
      ],
      "execution_count": null,
      "outputs": [
        {
          "output_type": "stream",
          "name": "stdout",
          "text": [
            "통과\n"
          ]
        }
      ]
    },
    {
      "cell_type": "markdown",
      "metadata": {
        "id": "Ki0TIFGij_4d"
      },
      "source": [
        "### 1-7. reversed"
      ]
    },
    {
      "cell_type": "code",
      "metadata": {
        "id": "omq-iRJsj_4d",
        "outputId": "a3a05a3e-c4e9-4429-cd8f-98271fbc4cfa",
        "colab": {
          "base_uri": "https://localhost:8080/"
        }
      },
      "source": [
        "def my_reversed(seq):\n",
        "    res=[]\n",
        "    for i in seq:\n",
        "      res = [i] + res #out-place 연산\n",
        "    return res\n",
        "\n",
        "test = [7, 4, 2, 6, 8]\n",
        "assert list(reversed(test)) == list(my_reversed(test))\n",
        "print(\"통과\")"
      ],
      "execution_count": null,
      "outputs": [
        {
          "output_type": "stream",
          "name": "stdout",
          "text": [
            "통과\n"
          ]
        }
      ]
    },
    {
      "cell_type": "markdown",
      "metadata": {
        "id": "EO1bxjI2j_4d"
      },
      "source": [
        "### 1-8. filter"
      ]
    },
    {
      "cell_type": "code",
      "metadata": {
        "id": "TN6rpi9bj_4d",
        "outputId": "f410d970-2021-4dd0-8189-df9f6dd9a889",
        "colab": {
          "base_uri": "https://localhost:8080/"
        }
      },
      "source": [
        "def my_filter(function, iterable):\n",
        "    for elem in iterable:\n",
        "        if function(elem):\n",
        "            yield elem\n",
        "\n",
        "def test_function(number):\n",
        "    return number > 5\n",
        "test = [1, 7, 5, 2, 9, 11]\n",
        "\n",
        "# 역슬래시 \"\\\"를 이용하면 평가식을 다음 줄로 나눌 수 있다.\n",
        "assert list(filter(test_function, test)) == list(my_filter(test_function, test)) \\\n",
        "    == list(filter(lambda x: x > 5, test))\n",
        "print(\"통과\")"
      ],
      "execution_count": null,
      "outputs": [
        {
          "output_type": "stream",
          "name": "stdout",
          "text": [
            "통과\n"
          ]
        }
      ]
    },
    {
      "cell_type": "markdown",
      "metadata": {
        "id": "heIN6IBLxP9d"
      },
      "source": [
        "### 1-9. map"
      ]
    },
    {
      "cell_type": "code",
      "metadata": {
        "id": "748JDhTWxPqz",
        "outputId": "17b896d5-233e-4e8b-9bc8-e914dd03f697",
        "colab": {
          "base_uri": "https://localhost:8080/"
        }
      },
      "source": [
        "def my_map(function, iterable):\n",
        "    res=[]\n",
        "    for i in iterable:\n",
        "      res.append(function(i))\n",
        "    return res\n",
        "\n",
        "def test_function(number):\n",
        "    return number * 2\n",
        "\n",
        "test = [1, 7, 5, 2, 9, 11]\n",
        "assert list(map(test_function, test)) == list(my_map(test_function, test)) \\\n",
        "    == list(map(lambda x: x * 2, test))\n",
        "print(\"통과\")"
      ],
      "execution_count": null,
      "outputs": [
        {
          "output_type": "stream",
          "name": "stdout",
          "text": [
            "통과\n"
          ]
        }
      ]
    },
    {
      "cell_type": "markdown",
      "metadata": {
        "id": "TFRcIgaej_4e"
      },
      "source": [
        "### 1-10. sum"
      ]
    },
    {
      "cell_type": "code",
      "metadata": {
        "id": "OBMnyE-Jj_4e",
        "outputId": "1361714a-c6d3-4570-acbb-e40cad390158",
        "colab": {
          "base_uri": "https://localhost:8080/"
        }
      },
      "source": [
        "def my_sum(iterable, start=0):\n",
        "    aggregated = type(start)(start)\n",
        "    for i in iterable:\n",
        "        aggregated += i\n",
        "    return aggregated\n",
        "\n",
        "test = [7, 4, 2, 6, 8]\n",
        "assert sum(test) == my_sum(test)\n",
        "assert sum(range(10)) == my_sum(my_range(10))\n",
        "assert sum(filter(lambda x: x % 2, range(1, 20, 3))) \\\n",
        "    == my_sum(my_filter(lambda x: x % 2, my_range(1, 20, 3)))\n",
        "\n",
        "start = []\n",
        "assert my_sum([[1, 2, 3], [5, 6, 7], [8, 9, 10]], start) \\\n",
        "    == sum([[1, 2, 3], [5, 6, 7], [8, 9, 10]], start)\n",
        "print(\"통과\")"
      ],
      "execution_count": null,
      "outputs": [
        {
          "output_type": "stream",
          "name": "stdout",
          "text": [
            "통과\n"
          ]
        }
      ]
    },
    {
      "cell_type": "markdown",
      "metadata": {
        "id": "ECrWOlnjj_4e"
      },
      "source": [
        "### 1-11. zip"
      ]
    },
    {
      "cell_type": "code",
      "metadata": {
        "id": "TFQnbWW1j_4e",
        "outputId": "d773f37c-1585-4528-a5fb-15070407b320",
        "colab": {
          "base_uri": "https://localhost:8080/"
        }
      },
      "source": [
        "def my_zip(*iterables):\n",
        "    iterators = list(map(iter, iterables))\n",
        "    while True:\n",
        "        output = tuple(map(next, iterators))\n",
        "        if len(iterators) != len(output):\n",
        "            break\n",
        "        yield output\n",
        "\n",
        "test1 = (1, 2, 3, 4)\n",
        "test2 = (10, 2, 30)\n",
        "assert list(zip(test1, test2)) == list(my_zip(test1, test2))\n",
        "\n",
        "test3 = [(10, 20, 30, 40), (55, 22, 66, 70), (False, True, True, False)]\n",
        "assert list(zip(*test3)) == list(my_zip(*test3))\n",
        "print(\"통과\")"
      ],
      "execution_count": null,
      "outputs": [
        {
          "output_type": "stream",
          "name": "stdout",
          "text": [
            "통과\n"
          ]
        }
      ]
    },
    {
      "cell_type": "markdown",
      "metadata": {
        "id": "Gm9742vej_4e"
      },
      "source": [
        "### 1-12. sorted\n",
        "정렬 알고리즘은 어떠한 것을 써도 무방하다.\n",
        "O(N^2) 시간복잡도의 쉬운 정렬 알고리즘으로 일반적으로 [삽입정렬](https://ko.wikipedia.org/wiki/%EC%82%BD%EC%9E%85_%EC%A0%95%EB%A0%AC), [선택정렬](https://ko.wikipedia.org/wiki/%EC%84%A0%ED%83%9D_%EC%A0%95%EB%A0%AC), 그리고 [버블정렬](https://ko.wikipedia.org/wiki/%EA%B1%B0%ED%92%88_%EC%A0%95%EB%A0%AC)을 꼽는다.\n",
        "O(N log N) 시간복잡도의 더 빠른 정렬 프로그램을 만들고 싶다면 [퀵정렬](https://ko.wikipedia.org/wiki/%ED%80%B5_%EC%A0%95%EB%A0%AC)이나 [합병정렬](https://ko.wikipedia.org/wiki/%ED%95%A9%EB%B3%91_%EC%A0%95%EB%A0%AC)을 구현해보자."
      ]
    },
    {
      "cell_type": "code",
      "metadata": {
        "id": "h3fKPQodj_4f",
        "outputId": "d8165f4a-5e45-49ae-8c22-d503361799b5",
        "colab": {
          "base_uri": "https://localhost:8080/"
        }
      },
      "source": [
        "def my_sorted(iterable, key=None, reverse=False):\n",
        "    if len(iterable) <= 1:\n",
        "        return iterable\n",
        "\n",
        "    key = key if key else lambda x: x\n",
        "\n",
        "    center_key = key(iterable[0])\n",
        "    left = list(my_filter(lambda x: key(x) < center_key, iterable[1:]))\n",
        "    right = list(my_filter(lambda x: key(x) >= center_key, iterable[1:]))\n",
        "\n",
        "    if reverse:\n",
        "        return my_sorted(right, key, reverse) + [iterable[0]] + my_sorted(left, key, reverse)\n",
        "    else:\n",
        "        return my_sorted(left, key, reverse) + [iterable[0]] + my_sorted(right, key, reverse)\n",
        "\n",
        "\n",
        "test1 = [7, 4, 2, 6, 8]\n",
        "assert sorted(test1) == my_sorted(test1)\n",
        "test2 = [(1, 2), (6, 2), (5, 3), (10, 5)]\n",
        "assert sorted(test2) == my_sorted(test2) \\\n",
        "   and sorted(test2, reverse=True) == my_sorted(test2, reverse=True) \\\n",
        "   and sorted(test2, key=lambda x: x[1]) == my_sorted(test2, key=lambda x: x[1])\n",
        "print(\"통과\")"
      ],
      "execution_count": null,
      "outputs": [
        {
          "output_type": "stream",
          "name": "stdout",
          "text": [
            "통과\n"
          ]
        }
      ]
    },
    {
      "cell_type": "markdown",
      "metadata": {
        "id": "FgiQdO2Gj_4f"
      },
      "source": [
        "## 2. 알고리즘 함수 만들기\n",
        "몇 가지 간단한 알고리즘 함수를 만들어보자.\n",
        "\n",
        "### 2-1. 피보나치 수열 만들기\n",
        "숫자 $N$가 주어졌을때,다피보나치 길이 $N$의 피보나치 수열을 생성하는 함수를 작성해보자. 시작은 1부터다."
      ]
    },
    {
      "cell_type": "code",
      "metadata": {
        "id": "SathO3raj_4f",
        "outputId": "4a6defbd-9239-48d9-e29e-7030dc44efdc",
        "colab": {
          "base_uri": "https://localhost:8080/"
        }
      },
      "source": [
        "def fibonacci(number):\n",
        "    yield 1\n",
        "    if number == 0:\n",
        "        return\n",
        "\n",
        "    prev, now = 1, 1\n",
        "    for _ in range(1, number):\n",
        "        yield now\n",
        "        now, prev = now + prev, now\n",
        "\n",
        "assert list(fibonacci(10)) == [1, 1, 2, 3, 5, 8, 13, 21, 34, 55]\n",
        "assert sum(fibonacci(5)) == 12\n",
        "print(\"통과\")"
      ],
      "execution_count": null,
      "outputs": [
        {
          "output_type": "stream",
          "name": "stdout",
          "text": [
            "통과\n"
          ]
        }
      ]
    },
    {
      "cell_type": "markdown",
      "metadata": {
        "id": "qbdm9l5pj_4f"
      },
      "source": [
        "### 2-2. 순열 만들기\n",
        "수열 $S$가 주어졌을때 그 안에서 $N$를 뽑아 순열을 만드는 함수를 작성해보자. 순서는 상관없다. \\\n",
        "(힌트: 재귀 함수를 써보자)"
      ]
    },
    {
      "cell_type": "code",
      "metadata": {
        "id": "r9qXLBcXj_4f",
        "outputId": "b570777e-74ed-4fc6-c02e-d8b6c4d300ce",
        "colab": {
          "base_uri": "https://localhost:8080/"
        }
      },
      "source": [
        "def my_permutations(seq, number):\n",
        "    if number == 1:\n",
        "        return ((elem,) for elem in seq)\n",
        "\n",
        "    return (\n",
        "        entry + (seq[i],)\n",
        "        for i in range(len(seq))\n",
        "        for entry in my_permutations(seq[:i] + seq[i+1:], number - 1)\n",
        "    )\n",
        "\n",
        "from itertools import permutations\n",
        "test = [1, 2, 3, 4]\n",
        "\n",
        "assert set(permutations(test, 2)) == set(my_permutations(test, 2)) \\\n",
        "   and set(permutations(test, 3)) == set(my_permutations(test, 3))\n",
        "print(\"통과\")"
      ],
      "execution_count": null,
      "outputs": [
        {
          "output_type": "stream",
          "name": "stdout",
          "text": [
            "통과\n"
          ]
        }
      ]
    },
    {
      "cell_type": "markdown",
      "metadata": {
        "id": "laEqDZNsj_4g"
      },
      "source": [
        "### 2-3. 조합 만들기\n",
        "수열 $S$가 주어졌을때 그 안에서 $N$를 뽑아 조합을 만드는 함수를 작성해보자. 순서는 상관없다. \\\n",
        "(힌트: 재귀 함수를 써보자)"
      ]
    },
    {
      "cell_type": "code",
      "metadata": {
        "id": "CJer6T7Nj_4g",
        "outputId": "8ab2f70d-3088-4b47-89e1-76a48353084a",
        "colab": {
          "base_uri": "https://localhost:8080/"
        }
      },
      "source": [
        "def my_combinations(seq, number):\n",
        "  if number == 1:\n",
        "        return ((elem,) for elem in seq)\n",
        "\n",
        "  return (\n",
        "        entry + (seq[i],)\n",
        "        for i in range(len(seq))\n",
        "        for entry in my_combinations(seq[:i], number - 1)\n",
        "    )\n",
        "\n",
        "from itertools import combinations\n",
        "test = [1, 2, 3, 4]\n",
        "\n",
        "assert set(combinations(test, 2)) == set(my_combinations(test, 2)) \\\n",
        "   and set(combinations(test, 3)) == set(my_combinations(test, 3))\n",
        "print(\"통과\")"
      ],
      "execution_count": null,
      "outputs": [
        {
          "output_type": "stream",
          "name": "stdout",
          "text": [
            "통과\n"
          ]
        }
      ]
    },
    {
      "cell_type": "code",
      "source": [],
      "metadata": {
        "id": "iGquiHPCb2nu"
      },
      "execution_count": null,
      "outputs": []
    }
  ]
}
