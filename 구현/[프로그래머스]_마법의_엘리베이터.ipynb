{
  "nbformat": 4,
  "nbformat_minor": 0,
  "metadata": {
    "colab": {
      "provenance": [],
      "authorship_tag": "ABX9TyMOZNhNjmyQ8od1ke+20ZCD",
      "include_colab_link": true
    },
    "kernelspec": {
      "name": "python3",
      "display_name": "Python 3"
    },
    "language_info": {
      "name": "python"
    }
  },
  "cells": [
    {
      "cell_type": "markdown",
      "metadata": {
        "id": "view-in-github",
        "colab_type": "text"
      },
      "source": [
        "<a href=\"https://colab.research.google.com/github/appletreeleaf/Coding_Test/blob/main/%5B%ED%94%84%EB%A1%9C%EA%B7%B8%EB%9E%98%EB%A8%B8%EC%8A%A4%5D_%EB%A7%88%EB%B2%95%EC%9D%98_%EC%97%98%EB%A6%AC%EB%B2%A0%EC%9D%B4%ED%84%B0.ipynb\" target=\"_parent\"><img src=\"https://colab.research.google.com/assets/colab-badge.svg\" alt=\"Open In Colab\"/></a>"
      ]
    },
    {
      "cell_type": "markdown",
      "source": [
        "다음 규칙에 따라 값을 더해나가면 됨\n",
        "- 1. 현재 자리수가 0~4일때 -> 0으로 보냄\n",
        "- 2. 현재 자리수가 6~9일때 -> 10으로 보냄\n",
        "- 3. 현재 자리수가 5이면,\n",
        " - 3-1. 다음 자리수가 5~9일때 -> 10으로 보냄\n",
        " - 3-2. 다음 자리수가 0~4일때 -> 4로 보냄"
      ],
      "metadata": {
        "id": "66n5AQKeBm9n"
      }
    },
    {
      "cell_type": "code",
      "execution_count": 43,
      "metadata": {
        "id": "6y1Ysd0CL05Q"
      },
      "outputs": [],
      "source": [
        "def solution(storey):\n",
        "    answer = 0\n",
        "    while storey:\n",
        "        print(storey)\n",
        "        # 현재 자리수\n",
        "        current = storey % 10\n",
        "        # 0~4일 때\n",
        "        if current < 5:\n",
        "            answer += current\n",
        "        # 6~9일 때\n",
        "        elif current > 5:\n",
        "            answer += (10 - current)\n",
        "            storey += 10\n",
        "        # 5일 때\n",
        "        else:\n",
        "            if (storey // 10) % 10 > 4:     # 다음 자리수 확인\n",
        "                storey += 10                # 다음 자리수를 1 높여줌\n",
        "            answer += current\n",
        "        storey //= 10\n",
        "    return answer"
      ]
    },
    {
      "cell_type": "code",
      "source": [
        "storey = 2554\n",
        "solution(storey)"
      ],
      "metadata": {
        "colab": {
          "base_uri": "https://localhost:8080/"
        },
        "id": "HBYFdnhgL-qQ",
        "outputId": "0bfd4266-3974-472c-92cf-43c5084ae249"
      },
      "execution_count": 44,
      "outputs": [
        {
          "output_type": "stream",
          "name": "stdout",
          "text": [
            "2554\n",
            "255\n",
            "26\n",
            "3\n"
          ]
        },
        {
          "output_type": "execute_result",
          "data": {
            "text/plain": [
              "16"
            ]
          },
          "metadata": {},
          "execution_count": 44
        }
      ]
    }
  ]
}
