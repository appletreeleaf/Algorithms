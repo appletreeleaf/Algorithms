{
  "nbformat": 4,
  "nbformat_minor": 0,
  "metadata": {
    "colab": {
      "provenance": [],
      "authorship_tag": "ABX9TyPhAivA8UKTl8+KslA+22vi",
      "include_colab_link": true
    },
    "kernelspec": {
      "name": "python3",
      "display_name": "Python 3"
    },
    "language_info": {
      "name": "python"
    }
  },
  "cells": [
    {
      "cell_type": "markdown",
      "metadata": {
        "id": "view-in-github",
        "colab_type": "text"
      },
      "source": [
        "<a href=\"https://colab.research.google.com/github/appletreeleaf/Coding_Test/blob/main/%5B%ED%94%84%EB%A1%9C%EA%B7%B8%EB%9E%98%EB%A8%B8%EC%8A%A4%5D_%EC%8B%A0%EA%B7%9C_%EC%95%84%EC%9D%B4%EB%94%94_%EC%B6%94%EC%B2%9C_.ipynb\" target=\"_parent\"><img src=\"https://colab.research.google.com/assets/colab-badge.svg\" alt=\"Open In Colab\"/></a>"
      ]
    },
    {
      "cell_type": "code",
      "execution_count": null,
      "metadata": {
        "id": "2vGfJd6_4ADX"
      },
      "outputs": [],
      "source": [
        "# 규칙\n",
        "# 아이디의 길이는 3자 이상 15자 이하여야 합니다.\n",
        "# 아이디는 알파벳 소문자, 숫자, 빼기(-), 밑줄(_), 마침표(.) 문자만 사용할 수 있습니다.\n",
        "# 단, 마침표(.)는 처음과 끝에 사용할 수 없으며 또한 연속으로 사용할 수 없습니다.\n",
        "import re\n",
        "def solution(new_id):\n",
        "\n",
        "    answer = step1(new_id)\n",
        "\n",
        "    return answer\n",
        "\n",
        "def step1(id):\n",
        "\n",
        "    return step2(id.lower())\n",
        "def step2(id):\n",
        "\n",
        "    return step3(re.sub(r'[^\\w\\s\\.\\-\\_]', '', id))\n",
        "def step3(id):\n",
        "    c = 0\n",
        "    id = list(id)\n",
        "    for i in range(len(id)):\n",
        "        if (id[i] == '.') and (c==0):\n",
        "            c += 1\n",
        "        elif (id[i] == '.') and (c>=1):\n",
        "            id[i] = ''\n",
        "            c += 1\n",
        "        elif id[i] != '.':\n",
        "            c = 0\n",
        "\n",
        "    return step4(''.join(id))\n",
        "def step4(id):\n",
        "    if id[0] == '.': start = 1\n",
        "    else: start = 0\n",
        "\n",
        "    if id[-1] == '.': answer = id[start:-1]\n",
        "    else: answer = id[start:]\n",
        "\n",
        "\n",
        "    return step5(answer)\n",
        "\n",
        "def step5(id):\n",
        "    if len(id) == 0:\n",
        "        id = 'a'\n",
        "    return step6(id)\n",
        "\n",
        "def step6(id):\n",
        "    if len(id) >= 16:\n",
        "        id = id[:15]\n",
        "        if id[-1] == '.':\n",
        "            id = id[:14]\n",
        "\n",
        "    return step7(id)\n",
        "def step7(id):\n",
        "    if len(id) < 3:\n",
        "        last = id[-1]\n",
        "\n",
        "        while len(id) < 3:\n",
        "            id += last\n",
        "    return id\n",
        "\n",
        "\n",
        "new_id = \"...!@BaT#*..y.abcdefghijklm\"\n",
        "solution(new_id)\n"
      ]
    }
  ]
}
