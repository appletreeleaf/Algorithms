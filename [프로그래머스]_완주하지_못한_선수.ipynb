{
  "nbformat": 4,
  "nbformat_minor": 0,
  "metadata": {
    "colab": {
      "provenance": [],
      "authorship_tag": "ABX9TyMkX+xXhKhTv+dJFlHjc4Fb",
      "include_colab_link": true
    },
    "kernelspec": {
      "name": "python3",
      "display_name": "Python 3"
    },
    "language_info": {
      "name": "python"
    }
  },
  "cells": [
    {
      "cell_type": "markdown",
      "metadata": {
        "id": "view-in-github",
        "colab_type": "text"
      },
      "source": [
        "<a href=\"https://colab.research.google.com/github/appletreeleaf/Coding_Test/blob/main/%5B%ED%94%84%EB%A1%9C%EA%B7%B8%EB%9E%98%EB%A8%B8%EC%8A%A4%5D_%EC%99%84%EC%A3%BC%ED%95%98%EC%A7%80_%EB%AA%BB%ED%95%9C_%EC%84%A0%EC%88%98.ipynb\" target=\"_parent\"><img src=\"https://colab.research.google.com/assets/colab-badge.svg\" alt=\"Open In Colab\"/></a>"
      ]
    },
    {
      "cell_type": "code",
      "execution_count": null,
      "metadata": {
        "id": "2vGfJd6_4ADX"
      },
      "outputs": [],
      "source": [
        "def solution(participant, completion):\n",
        "    hash = {}\n",
        "    for p in participant:\n",
        "        if p in hash:\n",
        "            hash[p] += 1\n",
        "            continue\n",
        "\n",
        "        hash[p] = 1\n",
        "\n",
        "    for c in completion:\n",
        "        hash[c] -= 1\n",
        "\n",
        "    for p in participant:\n",
        "        if hash[p] != 0:\n",
        "            return p\n",
        "\n",
        "\n",
        "participant = [\"mislav\", \"stanko\", \"mislav\", \"ana\"]\n",
        "completion = [\"stanko\", \"mislav\", \"ana\"]\n",
        "\n",
        "solution(participant, completion)"
      ]
    }
  ]
}