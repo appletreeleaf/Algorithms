{
  "nbformat": 4,
  "nbformat_minor": 0,
  "metadata": {
    "colab": {
      "provenance": [],
      "authorship_tag": "ABX9TyP2KveanZEj3RuBmz/e2QCz",
      "include_colab_link": true
    },
    "kernelspec": {
      "name": "python3",
      "display_name": "Python 3"
    },
    "language_info": {
      "name": "python"
    }
  },
  "cells": [
    {
      "cell_type": "markdown",
      "metadata": {
        "id": "view-in-github",
        "colab_type": "text"
      },
      "source": [
        "<a href=\"https://colab.research.google.com/github/appletreeleaf/Coding_Test/blob/main/%5B%ED%94%84%EB%A1%9C%EA%B7%B8%EB%9E%98%EB%A8%B8%EC%8A%A4%5D_%EC%9D%98%EC%83%81.ipynb\" target=\"_parent\"><img src=\"https://colab.research.google.com/assets/colab-badge.svg\" alt=\"Open In Colab\"/></a>"
      ]
    },
    {
      "cell_type": "code",
      "execution_count": null,
      "metadata": {
        "id": "2vGfJd6_4ADX"
      },
      "outputs": [],
      "source": [
        "# 접근 1) 의상의 종류를 key로 하는 딕셔너리를 만들어서 리스트를 분리하고,\n",
        "#         총 value의 수 + 각 key의 vlaue의 수의 곱 을 리턴하면 될듯?\n",
        "# def solution(clothes):\n",
        "#     d = {}\n",
        "#     for clothe in clothes:\n",
        "#         if clothe[1] in d.keys():\n",
        "#             d[clothe[1]].append(clothe[0])\n",
        "#         else:\n",
        "#             d[clothe[1]] = [clothe[0]]\n",
        "#             print(d)\n",
        "\n",
        "# 접근 2) 그냥 리스트를 순회하면서 리턴해보자\n",
        "\n",
        "def solution(clothes):\n",
        "    l = list(set([i[1] for i in clothes])) # 중복 제거 의상의 종류\n",
        "    #의상 종류별로 분리시키기 위함\n",
        "    d = {k:[] for k in l}\n",
        "\n",
        "    num = 1\n",
        "    for clothe in clothes:\n",
        "        d[clothe[1]] += [clothe[0]]\n",
        "\n",
        "    for i in l:\n",
        "        num *= len(d[i])+1\n",
        "\n",
        "    return num-1\n",
        "\n",
        "# 접근 3) 접근 2)에서 Counter를 활용\n",
        "from collections import Counter\n",
        "\n",
        "def solution_(clothes):\n",
        "    cnt = dict(Counter({kind for name, kind in clothes}))\n",
        "\n",
        "    answer = 1\n",
        "    for i in cnt.keys():\n",
        "        answer *= cnt[i]+1\n",
        "\n",
        "    return answer -1\n",
        "\n",
        "\n",
        "\n",
        "\n",
        "clothes =[[\"yellow_hat\", \"headgear\"], [\"blue_sunglasses\", \"eyewear\"], [\"green_turban\", \"headgear\"]]\n",
        "solution2(clothes)\n",
        ""
      ]
    }
  ]
}