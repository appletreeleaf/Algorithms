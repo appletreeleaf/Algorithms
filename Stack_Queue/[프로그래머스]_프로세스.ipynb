{
  "nbformat": 4,
  "nbformat_minor": 0,
  "metadata": {
    "colab": {
      "provenance": [],
      "authorship_tag": "ABX9TyM2oY9OL59d9J/t+B7yzXNt",
      "include_colab_link": true
    },
    "kernelspec": {
      "name": "python3",
      "display_name": "Python 3"
    },
    "language_info": {
      "name": "python"
    }
  },
  "cells": [
    {
      "cell_type": "markdown",
      "metadata": {
        "id": "view-in-github",
        "colab_type": "text"
      },
      "source": [
        "<a href=\"https://colab.research.google.com/github/appletreeleaf/Coding_Test/blob/main/%5B%ED%94%84%EB%A1%9C%EA%B7%B8%EB%9E%98%EB%A8%B8%EC%8A%A4%5D_%ED%94%84%EB%A1%9C%EC%84%B8%EC%8A%A4.ipynb\" target=\"_parent\"><img src=\"https://colab.research.google.com/assets/colab-badge.svg\" alt=\"Open In Colab\"/></a>"
      ]
    },
    {
      "cell_type": "code",
      "execution_count": 2,
      "metadata": {
        "colab": {
          "base_uri": "https://localhost:8080/"
        },
        "id": "2vGfJd6_4ADX",
        "outputId": "88d193f3-6fe0-471e-8924-b044391cca82"
      },
      "outputs": [
        {
          "output_type": "stream",
          "name": "stdout",
          "text": [
            "list1 = ['AA', 'AA'], list2=['AA', 'AA', 'AA']\n",
            "['AA', 'AA'] ['AA', 'AA', 'AA']\n"
          ]
        },
        {
          "output_type": "execute_result",
          "data": {
            "text/plain": [
              "43690"
            ]
          },
          "metadata": {},
          "execution_count": 2
        }
      ],
      "source": [
        "from collections import deque\n",
        "\n",
        "def solution(priorities, location):\n",
        "    # 우선순위 배열을 queue로 만듬\n",
        "    priorities_ = deque(priorities)\n",
        "    prior = deque()\n",
        "    # location값을 기억해야 하므로 (prior, index) 형태로 저장함\n",
        "    for idx, i in enumerate(priorities):\n",
        "        prior.append((i, idx))\n",
        "\n",
        "    cnt = 0\n",
        "    while list(priorities_):\n",
        "\n",
        "        print(prior, cnt)\n",
        "        max_ = max(priorities_)\n",
        "        if prior[0][0] != max_:\n",
        "            prior.append(prior.popleft())\n",
        "            priorities_.append(priorities_.popleft())\n",
        "        else:\n",
        "            tmp = prior.popleft()\n",
        "            priorities_.popleft()\n",
        "            cnt += 1\n",
        "            if tmp[1] == location:\n",
        "                return cnt\n",
        "\n",
        "priorities, location = [2, 1, 3, 2], 2\n",
        "solution(priorities, location)"
      ]
    }
  ]
}
