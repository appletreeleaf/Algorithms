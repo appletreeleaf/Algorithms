{
  "nbformat": 4,
  "nbformat_minor": 0,
  "metadata": {
    "colab": {
      "provenance": [],
      "authorship_tag": "ABX9TyObWoGseKW3NTlNDL7O4uDg",
      "include_colab_link": true
    },
    "kernelspec": {
      "name": "python3",
      "display_name": "Python 3"
    },
    "language_info": {
      "name": "python"
    }
  },
  "cells": [
    {
      "cell_type": "markdown",
      "metadata": {
        "id": "view-in-github",
        "colab_type": "text"
      },
      "source": [
        "<a href=\"https://colab.research.google.com/github/appletreeleaf/Coding_Test/blob/main/%5B%ED%94%84%EB%A1%9C%EA%B7%B8%EB%9E%98%EB%A8%B8%EC%8A%A4%5D_%EA%B4%84%ED%98%B8_%ED%9A%8C%EC%A0%84%ED%95%98%EA%B8%B0.ipynb\" target=\"_parent\"><img src=\"https://colab.research.google.com/assets/colab-badge.svg\" alt=\"Open In Colab\"/></a>"
      ]
    },
    {
      "cell_type": "code",
      "execution_count": 31,
      "metadata": {
        "id": "cAxCX625W_H_"
      },
      "outputs": [],
      "source": [
        "def solution(s):\n",
        "    d = {'(' : ')', '{': '}', '[': ']'}\n",
        "    correct = [k+v for k,v in d.items()]\n",
        "    cnt = 0\n",
        "    for i in range(len(s)):\n",
        "        tmp = s[i:] + s[:i]\n",
        "        stack = []\n",
        "        # print(tmp)\n",
        "        for j in range(len(s)):\n",
        "            if not stack:\n",
        "                stack.append(tmp[j]); continue\n",
        "            if stack[-1] + tmp[j] in correct:\n",
        "                stack.pop()\n",
        "            else:\n",
        "                stack.append(tmp[j])\n",
        "        if not stack:\n",
        "            cnt += 1\n",
        "\n",
        "    return cnt"
      ]
    },
    {
      "cell_type": "code",
      "source": [
        "s = \"}]()[{\"\n",
        "solution(s)"
      ],
      "metadata": {
        "colab": {
          "base_uri": "https://localhost:8080/"
        },
        "id": "dxRX5OpIXEIY",
        "outputId": "b805b1ef-f052-4ce9-c0f9-e9eed95a1b73"
      },
      "execution_count": 32,
      "outputs": [
        {
          "output_type": "stream",
          "name": "stdout",
          "text": [
            "}]()[{\n",
            "]()[{}\n",
            "()[{}]\n",
            ")[{}](\n",
            "[{}]()\n",
            "{}]()[\n"
          ]
        },
        {
          "output_type": "execute_result",
          "data": {
            "text/plain": [
              "2"
            ]
          },
          "metadata": {},
          "execution_count": 32
        }
      ]
    },
    {
      "cell_type": "code",
      "source": [],
      "metadata": {
        "id": "P4XWrKMrZXni"
      },
      "execution_count": null,
      "outputs": []
    }
  ]
}
