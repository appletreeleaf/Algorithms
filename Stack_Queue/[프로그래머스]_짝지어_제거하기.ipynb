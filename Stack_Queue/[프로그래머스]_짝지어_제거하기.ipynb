{
  "nbformat": 4,
  "nbformat_minor": 0,
  "metadata": {
    "colab": {
      "provenance": [],
      "authorship_tag": "ABX9TyMeVBU9NRKvxo45yoa0RAT/",
      "include_colab_link": true
    },
    "kernelspec": {
      "name": "python3",
      "display_name": "Python 3"
    },
    "language_info": {
      "name": "python"
    }
  },
  "cells": [
    {
      "cell_type": "markdown",
      "metadata": {
        "id": "view-in-github",
        "colab_type": "text"
      },
      "source": [
        "<a href=\"https://colab.research.google.com/github/appletreeleaf/Coding_Test/blob/main/%5B%ED%94%84%EB%A1%9C%EA%B7%B8%EB%9E%98%EB%A8%B8%EC%8A%A4%5D_%EC%A7%9D%EC%A7%80%EC%96%B4_%EC%A0%9C%EA%B1%B0%ED%95%98%EA%B8%B0.ipynb\" target=\"_parent\"><img src=\"https://colab.research.google.com/assets/colab-badge.svg\" alt=\"Open In Colab\"/></a>"
      ]
    },
    {
      "cell_type": "code",
      "execution_count": null,
      "metadata": {
        "id": "2vGfJd6_4ADX"
      },
      "outputs": [],
      "source": [
        "def solution(s):\n",
        "\n",
        "    # 접근 1) 문자열 직접 삭제\n",
        "    # i = 0\n",
        "    # while True:\n",
        "\n",
        "    #     if len(s) == 0 or i >= len(set(s)): # 문자를 다 삭제하거나, 알파벳 쌍이 남아있지 않을경우\n",
        "    #         break\n",
        "\n",
        "    #     if s[i]*2 in s:\n",
        "    #         s = s.replace(s[i]*2, '') # 알파벳 쌍을 블랭크처리\n",
        "    #         i = 0   # 초기화\n",
        "    #     else:\n",
        "    #         i += 1\n",
        "    #     print(s, i)\n",
        "\n",
        "\n",
        "    # return 1 if len(s) == 0 else 0\n",
        "\n",
        "\n",
        "    # 접근 2) 문자열을 집합으로 만든 후 집합 원소 각각 다 제거\n",
        "\n",
        "    # set_s = list(set(s))\n",
        "    # i = 0\n",
        "    # while True:\n",
        "\n",
        "    #     if set_s[i]*2 in s:\n",
        "    #         s = s.replace(set_s[i]*2, '')\n",
        "    #         i = 0\n",
        "    #     else:\n",
        "    #         i += 1\n",
        "    #     print(s, i)\n",
        "\n",
        "    #     if len(s) == 0:\n",
        "    #         return 1\n",
        "    #     else:\n",
        "    #         return 0\n",
        "\n",
        "    # 접근 3) stack 활용\n",
        "\n",
        "    stack = []\n",
        "\n",
        "    for i in s:\n",
        "\n",
        "        if len(stack) == 0:\n",
        "            stack.append(i)\n",
        "        elif stack[-1] == i:\n",
        "            stack.pop()\n",
        "        else:\n",
        "            stack.append(i)\n",
        "\n",
        "        print(stack)\n",
        "\n",
        "    return 1 if len(stack) == 0 else 0"
      ]
    }
  ]
}
