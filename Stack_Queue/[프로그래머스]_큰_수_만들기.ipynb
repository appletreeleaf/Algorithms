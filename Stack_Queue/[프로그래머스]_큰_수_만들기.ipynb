{
  "nbformat": 4,
  "nbformat_minor": 0,
  "metadata": {
    "colab": {
      "provenance": [],
      "authorship_tag": "ABX9TyM8Oyn7imJXUK2lLPtDd4xI",
      "include_colab_link": true
    },
    "kernelspec": {
      "name": "python3",
      "display_name": "Python 3"
    },
    "language_info": {
      "name": "python"
    }
  },
  "cells": [
    {
      "cell_type": "markdown",
      "metadata": {
        "id": "view-in-github",
        "colab_type": "text"
      },
      "source": [
        "<a href=\"https://colab.research.google.com/github/appletreeleaf/Coding_Test/blob/main/%5B%ED%94%84%EB%A1%9C%EA%B7%B8%EB%9E%98%EB%A8%B8%EC%8A%A4%5D_%ED%81%B0_%EC%88%98_%EB%A7%8C%EB%93%A4%EA%B8%B0.ipynb\" target=\"_parent\"><img src=\"https://colab.research.google.com/assets/colab-badge.svg\" alt=\"Open In Colab\"/></a>"
      ]
    },
    {
      "cell_type": "markdown",
      "source": [
        "### deque풀이\n",
        "- 제거할 k개의 숫자를 고르자 -> 실패"
      ],
      "metadata": {
        "id": "_1ob2Um58yDH"
      }
    },
    {
      "cell_type": "code",
      "execution_count": 46,
      "metadata": {
        "id": "SS5Ncdw0mQPe"
      },
      "outputs": [],
      "source": [
        "from collections import deque\n",
        "def solution(number, k):\n",
        "    queue = deque(number)\n",
        "    stack = deque()\n",
        "    answer = []\n",
        "    # stack >= current이라면 current < 일때까지  stack 모든 원소 뺴기\n",
        "    while queue:\n",
        "        # 현재 숫자\n",
        "        current = queue.popleft()\n",
        "        if len(stack) < k:\n",
        "            stack.append(current)\n",
        "        else:\n",
        "            if stack[-1] > current:\n",
        "                while stack[-1] > current:\n",
        "                    answer.append(stack.pop())\n",
        "                stack.append(current)\n",
        "            else:\n",
        "                answer.append(current)\n",
        "        print(stack, current, queue, answer)\n",
        "    return ''.join(answer)"
      ]
    },
    {
      "cell_type": "markdown",
      "source": [
        "### stack 풀이\n",
        "- return할 숫자를 고르거나 제거할 k개의 숫자를 고르는 법을 정해야함."
      ],
      "metadata": {
        "id": "SaIt9liD7dyX"
      }
    },
    {
      "cell_type": "code",
      "source": [
        "from collections import deque\n",
        "def solution(number, k):\n",
        "    queue = deque(number)\n",
        "    stack = []\n",
        "    # stack >= current이라면 current < 일때까지  stack 모든 원소 뺴기\n",
        "\n",
        "    for num in number:\n",
        "        while k >0 and stack and stack[-1] < num:\n",
        "            stack.pop()\n",
        "            k -= 1\n",
        "        stack.append(num)\n",
        "    return ''.join(stack)"
      ],
      "metadata": {
        "id": "rHSWwXYQ3GHR"
      },
      "execution_count": 43,
      "outputs": []
    },
    {
      "cell_type": "code",
      "source": [
        "number, k = \"4177252841\", 4\n",
        "solution(number, k)"
      ],
      "metadata": {
        "id": "M21h8mrvmW9y"
      },
      "execution_count": null,
      "outputs": []
    }
  ]
}
