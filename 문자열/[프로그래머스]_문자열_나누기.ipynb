{
  "nbformat": 4,
  "nbformat_minor": 0,
  "metadata": {
    "colab": {
      "provenance": [],
      "authorship_tag": "ABX9TyNsiS3QbisxW83Trydp6Vd4",
      "include_colab_link": true
    },
    "kernelspec": {
      "name": "python3",
      "display_name": "Python 3"
    },
    "language_info": {
      "name": "python"
    }
  },
  "cells": [
    {
      "cell_type": "markdown",
      "metadata": {
        "id": "view-in-github",
        "colab_type": "text"
      },
      "source": [
        "<a href=\"https://colab.research.google.com/github/appletreeleaf/Coding_Test/blob/main/%5B%ED%94%84%EB%A1%9C%EA%B7%B8%EB%9E%98%EB%A8%B8%EC%8A%A4%5D_%EB%AC%B8%EC%9E%90%EC%97%B4_%EB%82%98%EB%88%84%EA%B8%B0.ipynb\" target=\"_parent\"><img src=\"https://colab.research.google.com/assets/colab-badge.svg\" alt=\"Open In Colab\"/></a>"
      ]
    },
    {
      "cell_type": "code",
      "execution_count": 30,
      "metadata": {
        "id": "iztQQ2bbZiof"
      },
      "outputs": [],
      "source": [
        "def solution(s):\n",
        "    answer = 0\n",
        "    while s:\n",
        "        x = s[0]\n",
        "        # x / not x의 count\n",
        "        c1, c2 = 0, 0\n",
        "        for i in range(len(s)):\n",
        "            if x == s[i]:\n",
        "                c1 += 1\n",
        "            else:\n",
        "                c2 += 1\n",
        "            if c1 == c2:\n",
        "                break\n",
        "        s = s[i+1:]\n",
        "        answer += 1\n",
        "\n",
        "    return answer"
      ]
    },
    {
      "cell_type": "code",
      "source": [
        "s = \"aaabbaccccabba\"\n",
        "solution(s)"
      ],
      "metadata": {
        "colab": {
          "base_uri": "https://localhost:8080/"
        },
        "id": "qW0RsrMdZlv3",
        "outputId": "9a5b1d1f-5cf3-4092-bd54-ba34c9abcac2"
      },
      "execution_count": 31,
      "outputs": [
        {
          "output_type": "stream",
          "name": "stdout",
          "text": [
            "x = a\n",
            "c1, c2 =  4 4\n",
            "s =  ccabba\n",
            "----------------------------------------------------------------------------------------------------\n",
            "x = c\n",
            "c1, c2 =  2 2\n",
            "s =  ba\n",
            "----------------------------------------------------------------------------------------------------\n",
            "x = b\n",
            "c1, c2 =  1 1\n",
            "s =  \n",
            "----------------------------------------------------------------------------------------------------\n"
          ]
        },
        {
          "output_type": "execute_result",
          "data": {
            "text/plain": [
              "3"
            ]
          },
          "metadata": {},
          "execution_count": 31
        }
      ]
    },
    {
      "cell_type": "markdown",
      "source": [
        "### 다른 사람의 풀이 (Queue)활용"
      ],
      "metadata": {
        "id": "YyBMX5S7gCti"
      }
    },
    {
      "cell_type": "code",
      "source": [
        "from collections import deque\n",
        "\n",
        "def solution(s):\n",
        "\n",
        "    ans = 0\n",
        "\n",
        "    q = deque(s)\n",
        "    while q:\n",
        "        a, b = 1, 0\n",
        "        x = q.popleft()\n",
        "\n",
        "        while q:\n",
        "            n = q.popleft()\n",
        "            if n == x:\n",
        "                a += 1\n",
        "            else:\n",
        "                b += 1\n",
        "\n",
        "            if a == b:\n",
        "                ans += 1\n",
        "                break\n",
        "    if a != b:\n",
        "        ans += 1\n",
        "\n",
        "    return ans"
      ],
      "metadata": {
        "id": "xI2qkMmNgCFk"
      },
      "execution_count": null,
      "outputs": []
    }
  ]
}
