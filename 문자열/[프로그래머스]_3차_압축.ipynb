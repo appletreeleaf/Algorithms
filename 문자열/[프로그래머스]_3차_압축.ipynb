{
  "nbformat": 4,
  "nbformat_minor": 0,
  "metadata": {
    "colab": {
      "provenance": [],
      "authorship_tag": "ABX9TyNU9I90tI6SVTdXDHOjJJi7",
      "include_colab_link": true
    },
    "kernelspec": {
      "name": "python3",
      "display_name": "Python 3"
    },
    "language_info": {
      "name": "python"
    }
  },
  "cells": [
    {
      "cell_type": "markdown",
      "metadata": {
        "id": "view-in-github",
        "colab_type": "text"
      },
      "source": [
        "<a href=\"https://colab.research.google.com/github/appletreeleaf/Coding_Test/blob/main/%5B%ED%94%84%EB%A1%9C%EA%B7%B8%EB%9E%98%EB%A8%B8%EC%8A%A4%5D_3%EC%B0%A8_%EC%95%95%EC%B6%95.ipynb\" target=\"_parent\"><img src=\"https://colab.research.google.com/assets/colab-badge.svg\" alt=\"Open In Colab\"/></a>"
      ]
    },
    {
      "cell_type": "code",
      "execution_count": 2,
      "metadata": {
        "colab": {
          "base_uri": "https://localhost:8080/"
        },
        "id": "2vGfJd6_4ADX",
        "outputId": "88d193f3-6fe0-471e-8924-b044391cca82"
      },
      "outputs": [
        {
          "output_type": "stream",
          "name": "stdout",
          "text": [
            "list1 = ['AA', 'AA'], list2=['AA', 'AA', 'AA']\n",
            "['AA', 'AA'] ['AA', 'AA', 'AA']\n"
          ]
        },
        {
          "output_type": "execute_result",
          "data": {
            "text/plain": [
              "43690"
            ]
          },
          "metadata": {},
          "execution_count": 2
        }
      ],
      "source": [
        "from string import ascii_uppercase\n",
        "\n",
        "def solution(msg):\n",
        "    alphas = list(ascii_uppercase)\n",
        "    dict_alphas = {alpha : idx+1 for idx, alpha in enumerate(alphas)}\n",
        "    answer = []\n",
        "\n",
        "    for i in range(len(msg)-3):\n",
        "        c = msg[i:2+i]\n",
        "        if c in alphas:\n",
        "            answer.append(dict_alphas[c])\n",
        "            c += msg[i+2]\n",
        "            if c in alphas:\n",
        "                answer.append(dict_alphas[c])\n",
        "            else:\n",
        "                dict_alphas[c[:-1]] = len(dict_alphas)+1\n",
        "        else:\n",
        "            answer.append(c[0])\n",
        "            dict_alphas[c] = len(dict_alphas)+1\n",
        "\n",
        "        print(c, dict_alphas)\n",
        "\n",
        "    return answer\n",
        "\n",
        "\n",
        "\n",
        "msg = 'KAKAO'\n",
        "solution(msg)"
      ]
    }
  ]
}
