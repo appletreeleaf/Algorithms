{
  "nbformat": 4,
  "nbformat_minor": 0,
  "metadata": {
    "colab": {
      "provenance": [],
      "authorship_tag": "ABX9TyOQ0+AP8ocOaM3JAM22cx2M",
      "include_colab_link": true
    },
    "kernelspec": {
      "name": "python3",
      "display_name": "Python 3"
    },
    "language_info": {
      "name": "python"
    }
  },
  "cells": [
    {
      "cell_type": "markdown",
      "metadata": {
        "id": "view-in-github",
        "colab_type": "text"
      },
      "source": [
        "<a href=\"https://colab.research.google.com/github/appletreeleaf/Coding_Test/blob/main/%5B%ED%94%84%EB%A1%9C%EA%B7%B8%EB%9E%98%EB%A8%B8%EC%8A%A4%5D_%EC%88%AB%EC%9E%90_%EC%A7%9D%EA%BF%8D.ipynb\" target=\"_parent\"><img src=\"https://colab.research.google.com/assets/colab-badge.svg\" alt=\"Open In Colab\"/></a>"
      ]
    },
    {
      "cell_type": "code",
      "execution_count": 17,
      "metadata": {
        "id": "qzoSSpKCeBFe"
      },
      "outputs": [],
      "source": [
        "from collections import Counter\n",
        "def solution(X, Y):\n",
        "    x = Counter(X)\n",
        "    y = Counter(Y)\n",
        "    joint = list(set(X) & set(Y))\n",
        "    if not joint:\n",
        "        return '-1'\n",
        "    answer = ''\n",
        "    for i in range(len(joint)):\n",
        "        count = min(x[joint[i]], y[joint[i]])\n",
        "        answer += joint[i] * count\n",
        "\n",
        "    if int(answer) == 0:\n",
        "        return '0'\n",
        "    return ''.join(sorted(answer, reverse=True))"
      ]
    },
    {
      "cell_type": "code",
      "source": [
        "from collections import Counter\n",
        "def solution2(X,Y):\n",
        "\n",
        "    # 교집합 구해서\n",
        "    # 카운터중 작은만큼 더해주고\n",
        "    # 정렬해서  return?\n",
        "    answer = ''\n",
        "    Cx = Counter(X)\n",
        "    Cy = Counter(Y)\n",
        "    both = list(set(X) & set(Y))\n",
        "\n",
        "    if not both:\n",
        "        return '-1'\n",
        "    if int(''.join(both)) == 0:\n",
        "        return 0\n",
        "    for b in both:\n",
        "        answer += b * min(Cx[b], Cy[b])\n",
        "    return \"\".join(sorted(answer, reverse=True))"
      ],
      "metadata": {
        "id": "gUa9is1yHhHN"
      },
      "execution_count": 19,
      "outputs": []
    },
    {
      "cell_type": "code",
      "source": [
        "X, Y = \"12321\", \"42531\"\n",
        "solution2(X, Y)"
      ],
      "metadata": {
        "colab": {
          "base_uri": "https://localhost:8080/",
          "height": 36
        },
        "id": "sDvHus2ReCXp",
        "outputId": "a87bf563-9c5e-4135-e514-e3171924d843"
      },
      "execution_count": 20,
      "outputs": [
        {
          "output_type": "execute_result",
          "data": {
            "text/plain": [
              "'321'"
            ],
            "application/vnd.google.colaboratory.intrinsic+json": {
              "type": "string"
            }
          },
          "metadata": {},
          "execution_count": 20
        }
      ]
    },
    {
      "cell_type": "code",
      "source": [],
      "metadata": {
        "id": "bgGMw7UPeq12"
      },
      "execution_count": null,
      "outputs": []
    }
  ]
}
