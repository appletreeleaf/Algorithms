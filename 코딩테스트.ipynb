{
  "cells": [
    {
      "cell_type": "markdown",
      "metadata": {
        "id": "view-in-github",
        "colab_type": "text"
      },
      "source": [
        "<a href=\"https://colab.research.google.com/github/appletreeleaf/Algorithms/blob/main/%EC%BD%94%EB%94%A9%ED%85%8C%EC%8A%A4%ED%8A%B8.ipynb\" target=\"_parent\"><img src=\"https://colab.research.google.com/assets/colab-badge.svg\" alt=\"Open In Colab\"/></a>"
      ]
    },
    {
      "cell_type": "markdown",
      "source": [
        "## lv1. 제일 어려운 문제"
      ],
      "metadata": {
        "id": "VGeOm-r190x9"
      }
    },
    {
      "cell_type": "code",
      "source": [
        "from collections import defaultdict"
      ],
      "metadata": {
        "id": "CgqAv3tfi90y"
      },
      "execution_count": null,
      "outputs": []
    },
    {
      "cell_type": "code",
      "execution_count": null,
      "metadata": {
        "colab": {
          "base_uri": "https://localhost:8080/"
        },
        "id": "zl_jolUDgIuc",
        "outputId": "11ece061-a7a1-4fa3-ced7-8de08ad26769"
      },
      "outputs": [
        {
          "output_type": "execute_result",
          "data": {
            "text/plain": [
              "{'con': 0, 'ryan': 0}"
            ]
          },
          "metadata": {},
          "execution_count": 61
        }
      ],
      "source": [
        "id_list = [\"con\", \"ryan\"]\n",
        "report = set([\"ryan con\", \"ryan con\", \"ryan con\", \"ryan con\"])\n",
        "k = 2\n",
        "id_dict = {}\n",
        "for i in id_list:\n",
        "  id_dict[i] = 0\n",
        "id_dict"
      ]
    },
    {
      "cell_type": "code",
      "source": [
        "new_report = []\n",
        "for r in report:\n",
        "  new_report.append(r.split(' '))\n",
        "new_report"
      ],
      "metadata": {
        "colab": {
          "base_uri": "https://localhost:8080/"
        },
        "id": "nreDFMUDho0A",
        "outputId": "3206bfa9-bf33-4960-dde9-6ec011421299"
      },
      "execution_count": null,
      "outputs": [
        {
          "output_type": "execute_result",
          "data": {
            "text/plain": [
              "[['ryan', 'con']]"
            ]
          },
          "metadata": {},
          "execution_count": 62
        }
      ]
    },
    {
      "cell_type": "code",
      "source": [
        "id_list = [\"con\", \"ryan\"]\n",
        "report = set([\"ryan con\", \"ryan con\", \"ryan con\", \"ryan con\"])\n",
        "\n",
        "k = 2\n",
        "id_dict = {}\n",
        "for i in id_list:\n",
        "  id_dict[i] = 0\n",
        "id_dict\n",
        "\n",
        "new_report = []\n",
        "for r in report:\n",
        "  new_report.append(r.split(' '))\n",
        "new_report\n",
        "\n",
        "report_by_user = defaultdict(int)\n",
        "\n",
        "# 신고당한 유저와 횟수\n",
        "for i in new_report:\n",
        "    r_user = i[1]\n",
        "    report_by_user[r_user] += 1\n",
        "print(report_by_user)\n",
        "\n",
        "# 유저별 메일받을 횟수 매핑\n",
        "for i in range(len(report)):\n",
        "  if new_report[i][1] in report_by_user and report_by_user[new_report[i][1]] >= k:\n",
        "    id_dict[new_report[i][0]] += 1\n",
        "print(id_dict)\n",
        "\n",
        "answer = []\n",
        "for i in id_dict:\n",
        "  answer.append(id_dict[i])\n",
        "answer\n",
        "\n",
        "\n"
      ],
      "metadata": {
        "colab": {
          "base_uri": "https://localhost:8080/"
        },
        "id": "fPkzk2efi6ct",
        "outputId": "ea4dd862-d181-4476-f6c6-986b8fbaddfb"
      },
      "execution_count": null,
      "outputs": [
        {
          "output_type": "stream",
          "name": "stdout",
          "text": [
            "defaultdict(<class 'int'>, {'con': 1})\n",
            "{'con': 0, 'ryan': 0}\n"
          ]
        },
        {
          "output_type": "execute_result",
          "data": {
            "text/plain": [
              "[0, 0]"
            ]
          },
          "metadata": {},
          "execution_count": 64
        }
      ]
    },
    {
      "cell_type": "markdown",
      "source": [
        "### 개인정보 수집 유효기간"
      ],
      "metadata": {
        "id": "8jByctKmTisz"
      }
    },
    {
      "cell_type": "code",
      "source": [
        " def solution(today, terms, privacies):\n",
        "\n",
        "  terms = {i.split(' ')[0] : int(i.split(' ')[1]) for i in terms }\n",
        "\n",
        "  p = []\n",
        "  answer = []\n",
        "\n",
        "  today_int = list(map(int, today.split('.')))\n",
        "  today_to_day = today_int[0] * 12 * 28 +  today_int[1] * 28 + today_int[2]\n",
        "\n",
        "  for i in privacies:\n",
        "    p.append(i.split(' '))\n",
        "  p = [list(map(int, k[0].split('.'))) + [k[-1]] for k in p ]\n",
        "\n",
        "  for idx, i in enumerate(p):\n",
        "    year_to_day = i[0]*12*28\n",
        "    month_to_day = (i[1] + terms[i[3]]) * 28\n",
        "    day = i[2]\n",
        "\n",
        "    if year_to_day + month_to_day + day -1 < today_to_day:\n",
        "      answer.append(idx+1)\n",
        "\n",
        "  return answer"
      ],
      "metadata": {
        "id": "uKPmQxqhMF56"
      },
      "execution_count": null,
      "outputs": []
    },
    {
      "cell_type": "code",
      "source": [
        "today = \"2022.05.19\"\n",
        "terms = [\"A 6\", \"B 12\", \"C 3\"]\n",
        "privacies =\t[\"2021.05.02 A\", \"2021.07.01 B\", \"2022.02.19 C\", \"2022.02.20 C\"]\n",
        "\n",
        "solution(today, terms, privacies)"
      ],
      "metadata": {
        "colab": {
          "base_uri": "https://localhost:8080/"
        },
        "id": "5K-SnSH7MNHb",
        "outputId": "983ce1e2-e6a9-4d31-cb51-d8090f654957"
      },
      "execution_count": null,
      "outputs": [
        {
          "output_type": "execute_result",
          "data": {
            "text/plain": [
              "[1, 3]"
            ]
          },
          "metadata": {},
          "execution_count": 32
        }
      ]
    },
    {
      "cell_type": "markdown",
      "source": [
        "### 공원 산책(x)\n"
      ],
      "metadata": {
        "id": "3uvNK-gGZcXQ"
      }
    },
    {
      "cell_type": "code",
      "source": [
        "def solution(park, routes):\n",
        "    start_ = [[i, j] for i in range(len(park)) for j in range(len(park[i])) if park[i][j] == 'S']\n",
        "    start = start_[0]\n",
        "\n",
        "    for route in routes:\n",
        "        direct = route.split(' ')[0]\n",
        "        dist = int(route.split(' ')[1])\n",
        "\n",
        "\n",
        "\n",
        "\n",
        "    print(start)\n",
        "\n"
      ],
      "metadata": {
        "id": "pX_A2vsZXrAG"
      },
      "execution_count": null,
      "outputs": []
    },
    {
      "cell_type": "code",
      "source": [
        "park = [\"SOO\",\"OXX\",\"OOO\"]\n",
        "routes = [\"E 2\",\"S 2\",\"W 1\"]\n",
        "# result = [2,1]\n",
        "\n",
        "solution(park, routes)"
      ],
      "metadata": {
        "colab": {
          "base_uri": "https://localhost:8080/"
        },
        "id": "yjRjaE-rZiok",
        "outputId": "6c92f30f-18a0-48d4-b0f9-806366486b6b"
      },
      "execution_count": null,
      "outputs": [
        {
          "output_type": "stream",
          "name": "stdout",
          "text": [
            "[0, 0]\n"
          ]
        }
      ]
    },
    {
      "cell_type": "markdown",
      "source": [
        "### 바탕화면 정리"
      ],
      "metadata": {
        "id": "F0ACDbiqwO1i"
      }
    },
    {
      "cell_type": "code",
      "source": [
        "wallpaper = [\"..\", \"#.\"]\n",
        "row, col = [], []\n",
        "for idx, i in enumerate(wallpaper):\n",
        "  for idx_, s in enumerate(i):\n",
        "    if s == '#':\n",
        "      row.append(idx)\n",
        "      col.append(idx_)\n",
        "answer = [min(row), min(col), max(row)+1, max(col)+1]\n",
        "answer"
      ],
      "metadata": {
        "colab": {
          "base_uri": "https://localhost:8080/"
        },
        "id": "yq9cN1vYcIMN",
        "outputId": "44760364-dd6a-44bd-d9e5-eeac28ced372"
      },
      "execution_count": null,
      "outputs": [
        {
          "output_type": "execute_result",
          "data": {
            "text/plain": [
              "[1, 0, 2, 1]"
            ]
          },
          "metadata": {},
          "execution_count": 87
        }
      ]
    },
    {
      "cell_type": "markdown",
      "source": [
        "### 달리기 경주"
      ],
      "metadata": {
        "id": "mdhdv21W3HEi"
      }
    },
    {
      "cell_type": "code",
      "source": [
        "import operator\n",
        "\n",
        "players = [\"mumu\", \"soe\", \"poe\", \"kai\", \"mine\"]\n",
        "idx = {v : k for k, v in enumerate(players)}\n",
        "callings = [\"kai\", \"kai\", \"mine\", \"mine\"]\n",
        "\n",
        "for calling in callings:\n",
        "  players[idx[calling]], players[idx[calling]-1] = players[idx[calling]-1], players[idx[calling]]\n",
        "  print(players)"
      ],
      "metadata": {
        "colab": {
          "base_uri": "https://localhost:8080/"
        },
        "id": "6kQ8C-Nx3KYY",
        "outputId": "3806f59b-13c5-4e59-9a19-0ef59d49fff7"
      },
      "execution_count": null,
      "outputs": [
        {
          "output_type": "stream",
          "name": "stdout",
          "text": [
            "['mumu', 'soe', 'kai', 'poe', 'mine']\n",
            "['mumu', 'soe', 'poe', 'kai', 'mine']\n",
            "['mumu', 'soe', 'poe', 'mine', 'kai']\n",
            "['mumu', 'soe', 'poe', 'kai', 'mine']\n"
          ]
        }
      ]
    },
    {
      "cell_type": "code",
      "source": [
        "list(range(1,8))"
      ],
      "metadata": {
        "colab": {
          "base_uri": "https://localhost:8080/"
        },
        "id": "AZ3lYYDmGwQt",
        "outputId": "b4386bb7-1f43-4514-eec7-f03b75d25870"
      },
      "execution_count": null,
      "outputs": [
        {
          "output_type": "execute_result",
          "data": {
            "text/plain": [
              "[1, 2, 3, 4, 5, 6, 7]"
            ]
          },
          "metadata": {},
          "execution_count": 23
        }
      ]
    },
    {
      "cell_type": "markdown",
      "source": [
        "### 성격유형검사"
      ],
      "metadata": {
        "id": "LnMqNgopIzVp"
      }
    },
    {
      "cell_type": "code",
      "source": [
        "survey = [\"AN\", \"CF\", \"MJ\", \"RT\", \"NA\"]\n",
        "choice = [5, 3, 2, 7, 5]\n",
        "point = [3,2,1,0,1,2,3]\n",
        "\n",
        "answer = ''\n",
        "map = ['R','T','C','F','J','M','A','N']\n",
        "dict_ = {k : 0 for k in map}\n",
        "\n",
        "for i in range(len(choice)):\n",
        "\n",
        "  if choice[i] > 4:\n",
        "    dict_[survey[i][1]] += choice[i] - 4\n",
        "  if choice[i] < 4:\n",
        "    dict_[survey[i][0]] += 4 - choice[i]\n",
        "\n",
        "answer += 'R' if dict_['R'] >= dict_['T'] else 'T'\n",
        "answer += 'C' if dict_['C'] >= dict_['F'] else 'F'\n",
        "answer += 'J' if dict_['J'] >= dict_['M'] else 'M'\n",
        "answer += 'A' if dict_['A'] >= dict_['N'] else 'N'\n",
        "\n",
        "\n",
        "print(answer)"
      ],
      "metadata": {
        "colab": {
          "base_uri": "https://localhost:8080/"
        },
        "id": "gJ8e9RgFI1rW",
        "outputId": "e20c8b73-5e4e-462f-9777-518a252eb172"
      },
      "execution_count": null,
      "outputs": [
        {
          "output_type": "stream",
          "name": "stdout",
          "text": [
            "TCMA\n"
          ]
        }
      ]
    },
    {
      "cell_type": "markdown",
      "source": [
        "### 신규 아이디 추천"
      ],
      "metadata": {
        "id": "4QCNiBAsdW9P"
      }
    },
    {
      "cell_type": "code",
      "source": [
        "# 규칙\n",
        "# 아이디의 길이는 3자 이상 15자 이하여야 합니다.\n",
        "# 아이디는 알파벳 소문자, 숫자, 빼기(-), 밑줄(_), 마침표(.) 문자만 사용할 수 있습니다.\n",
        "# 단, 마침표(.)는 처음과 끝에 사용할 수 없으며 또한 연속으로 사용할 수 없습니다.\n",
        "import re\n",
        "def solution(new_id):\n",
        "\n",
        "    answer = step1(new_id)\n",
        "\n",
        "    return answer\n",
        "\n",
        "def step1(id):\n",
        "\n",
        "    return step2(id.lower())\n",
        "def step2(id):\n",
        "\n",
        "    return step3(re.sub(r'[^\\w\\s\\.\\-\\_]', '', id))\n",
        "def step3(id):\n",
        "    c = 0\n",
        "    id = list(id)\n",
        "    for i in range(len(id)):\n",
        "        if (id[i] == '.') and (c==0):\n",
        "            c += 1\n",
        "        elif (id[i] == '.') and (c>=1):\n",
        "            id[i] = ''\n",
        "            c += 1\n",
        "        elif id[i] != '.':\n",
        "            c = 0\n",
        "\n",
        "    return step4(''.join(id))\n",
        "def step4(id):\n",
        "    if id[0] == '.': start = 1\n",
        "    else: start = 0\n",
        "\n",
        "    if id[-1] == '.': answer = id[start:-1]\n",
        "    else: answer = id[start:]\n",
        "\n",
        "\n",
        "    return step5(answer)\n",
        "\n",
        "def step5(id):\n",
        "    if len(id) == 0:\n",
        "        id = 'a'\n",
        "    return step6(id)\n",
        "\n",
        "def step6(id):\n",
        "    if len(id) >= 16:\n",
        "        id = id[:15]\n",
        "        if id[-1] == '.':\n",
        "            id = id[:14]\n",
        "\n",
        "    return step7(id)\n",
        "def step7(id):\n",
        "    if len(id) < 3:\n",
        "        last = id[-1]\n",
        "\n",
        "        while len(id) < 3:\n",
        "            id += last\n",
        "    return id"
      ],
      "metadata": {
        "id": "vbPFFxxpdV6n"
      },
      "execution_count": null,
      "outputs": []
    },
    {
      "cell_type": "markdown",
      "source": [],
      "metadata": {
        "id": "KYtVzogJyuPX"
      }
    },
    {
      "cell_type": "code",
      "source": [
        "def solution(board, moves):\n",
        "    stack = []\n",
        "    answer = 0\n",
        "    for move in moves:\n",
        "        for i in range(len(board)):\n",
        "            if board[i][move-1] != 0:\n",
        "                stack.append(board[i][move-1])\n",
        "                board[i][move-1] = 0\n",
        "\n",
        "                if len(stack) > 1:\n",
        "                    if stack[-1] == stack[-2]:\n",
        "                        stack.pop(-1)\n",
        "                        stack.pop(-1)\n",
        "                        answer += 2\n",
        "\n",
        "                break\n",
        "\n",
        "    return answer"
      ],
      "metadata": {
        "id": "c8_hRxwKd0Kr"
      },
      "execution_count": null,
      "outputs": []
    },
    {
      "cell_type": "code",
      "source": [
        "board = [\n",
        "        [0,0,0,0,0],\n",
        "        [0,0,1,0,3],\n",
        "        [0,2,5,0,1],\n",
        "        [4,2,4,4,2],\n",
        "        [3,5,1,3,1]\n",
        "         ]\n",
        "moves = [1,5,3,5,1,2,1,4]\n",
        "solution(board, moves)"
      ],
      "metadata": {
        "colab": {
          "base_uri": "https://localhost:8080/"
        },
        "id": "oimJOQI2d7Rn",
        "outputId": "5da3d0fb-02ae-48b8-b06a-1f0416ed9c37"
      },
      "execution_count": null,
      "outputs": [
        {
          "output_type": "execute_result",
          "data": {
            "text/plain": [
              "4"
            ]
          },
          "metadata": {},
          "execution_count": 32
        }
      ]
    },
    {
      "cell_type": "markdown",
      "source": [
        "### 키패드 누르기"
      ],
      "metadata": {
        "id": "rYu8jWcjzH8U"
      }
    },
    {
      "cell_type": "code",
      "source": [
        "def solution(numbers, hand):\n",
        "    answer = ''\n",
        "\n",
        "    #키패드 위치\n",
        "    pad = {'1':(0,0), '2':(0,1), '3':(0,2),\n",
        "           '4':(1,0), '5':(1,1), '6':(1,2),\n",
        "           '7':(2,0), '8':(2,1), '9':(2,2),\n",
        "           '*':(3,0), '0':(3,1), '#':(3,2)\n",
        "        }\n",
        "\n",
        "    left = pad['*']   #처음 왼손의 위치\n",
        "    right = pad['#']  #처음 오른손의 위치\n",
        "\n",
        "    for num in numbers :\n",
        "    \t#왼손이 누를 번호\n",
        "        if num in [1, 4, 7] :\n",
        "            answer += 'L'          #answer에 'L' 저장\n",
        "            left = pad[str(num)]   #해당 번호를 눌렀을 때 왼손의 위치 저장\n",
        "\n",
        "        #오른손이 누를 번호\n",
        "        elif num in [3, 6, 9] :\n",
        "            answer += 'R'            #answer에 'R' 저장\n",
        "            right = pad[str(num)]    #해당 번호를 눌렀을 때 오른손의 위치 저장\n",
        "\n",
        "        #번호가 2,5,8,0일 때\n",
        "        else :\n",
        "        \t#번호와 왼손의 거리 계산\n",
        "            left_dis = abs(left[0] - pad[str(num)][0]) + abs(left[1] - pad[str(num)][1])\n",
        "            #번호와 오른손의 거리 계산\n",
        "            right_dis = abs(right[0] - pad[str(num)][0]) + abs(right[1] - pad[str(num)][1])\n",
        "\n",
        "            #왼손이 더 가까울 때\n",
        "            if left_dis < right_dis :\n",
        "                answer += 'L'\n",
        "                left = pad[str(num)]\n",
        "\n",
        "            #오른손이 더 가까울 때\n",
        "            elif left_dis > right_dis :\n",
        "                answer += 'R'\n",
        "                right = pad[str(num)]\n",
        "\n",
        "            #왼손과 오른손 거리가 같을 때\n",
        "            else :\n",
        "                if hand == 'right' :\n",
        "                    answer += 'R'\n",
        "                    right = pad[str(num)]\n",
        "                else :\n",
        "                    answer += 'L'\n",
        "                    left = pad[str(num)]\n",
        "\n",
        "    return answer\n"
      ],
      "metadata": {
        "id": "Nfpg84lPppSM"
      },
      "execution_count": null,
      "outputs": []
    },
    {
      "cell_type": "code",
      "source": [
        "numbers = [1, 3, 4, 5, 8, 2, 1, 4, 5, 9, 5]\n",
        "hand = 'right'\n",
        "solution(numbers, hand)"
      ],
      "metadata": {
        "id": "4fywQ0XdzPt0",
        "colab": {
          "base_uri": "https://localhost:8080/",
          "height": 35
        },
        "outputId": "11870b6e-4f93-46dd-8fbd-0907e8689343"
      },
      "execution_count": null,
      "outputs": [
        {
          "output_type": "execute_result",
          "data": {
            "text/plain": [
              "'LRLLLRLLRRL'"
            ],
            "application/vnd.google.colaboratory.intrinsic+json": {
              "type": "string"
            }
          },
          "metadata": {},
          "execution_count": 65
        }
      ]
    },
    {
      "cell_type": "markdown",
      "source": [
        "### 다트 던지기 (x)"
      ],
      "metadata": {
        "id": "htVIWuID21Ss"
      }
    },
    {
      "cell_type": "code",
      "source": [
        "# 점수와 함께 Single(S), Double(D), Triple(T) 영역이 존재하고 각 영역 당첨 시 점수에서 1제곱, 2제곱, 3제곱 (점수1 , 점수2 , 점수3 )으로 계산된다.\n",
        "# 옵션으로 스타상(*) , 아차상(#) 이 존재하며 스타상(*) 당첨 시 해당 점수와 바로 전에 얻은 점수를 각 2배로 만든다. 아차상(#) 당첨 시 해당 점수는 마이너스된다.\n",
        "\n",
        "def sol(dartResult):\n",
        "    answer = 0\n",
        "    dart_score = []\n",
        "    number = list(map(str, range(1, 11)))\n",
        "\n",
        "    for i in dartResult:\n",
        "        if i in number:\n",
        "            dart_score.append(int(i))\n",
        "\n",
        "    return None\n",
        "\n",
        "\n",
        "\n",
        "\n",
        "\n",
        "\n",
        "dartResult = '1S2D*3T'\n",
        "sol(dartResult)"
      ],
      "metadata": {
        "id": "XAwekCvNsrpC"
      },
      "execution_count": null,
      "outputs": []
    },
    {
      "cell_type": "code",
      "source": [
        "dartResult = list('1S2D*3T')\n",
        "dartResult\n",
        "\n",
        "for i in range(len(dartResult)):\n",
        "    if dartResult[i] in ['S', 'D', 'T']:\n",
        "        if dartResult[i+1] not in ['*', '#']:\n",
        "            dartResult.insert(i+1, ' ')\n",
        "\n",
        "print(dartResult)"
      ],
      "metadata": {
        "colab": {
          "base_uri": "https://localhost:8080/"
        },
        "id": "H52KYqpR0pO7",
        "outputId": "5a0e07bd-ce86-47c4-e5f2-359885c2ab64"
      },
      "execution_count": null,
      "outputs": [
        {
          "output_type": "stream",
          "name": "stdout",
          "text": [
            "['1', 'S', ' ', '2', 'D', '*', '3', 'T']\n"
          ]
        }
      ]
    },
    {
      "cell_type": "markdown",
      "source": [
        "### 로또 최고순위와 최저순위 (v)"
      ],
      "metadata": {
        "id": "RGyQ3ri425rM"
      }
    },
    {
      "cell_type": "code",
      "source": [
        "def solution(lottos, win_nums):\n",
        "    ranking = {6:1, 5:2, 4:3, 3:4, 2:5, 1:6, 0:6}\n",
        "    high_rank = 0\n",
        "    low_rank = 0\n",
        "    no = []\n",
        "\n",
        "    for i in lottos:\n",
        "        if i in win_nums:\n",
        "            high_rank += 1\n",
        "            low_rank += 1\n",
        "\n",
        "        elif i == 0:\n",
        "            high_rank += 1\n",
        "\n",
        "        print(ranking[high_rank], ranking[low_rank])\n",
        "\n",
        "\n",
        "    return sorted([ranking[high_rank], ranking[low_rank]])\n",
        "\n"
      ],
      "metadata": {
        "id": "aoaDoBGn29ju"
      },
      "execution_count": null,
      "outputs": []
    },
    {
      "cell_type": "code",
      "source": [
        "lottos = [0, 0, 0, 0, 0, 0]\n",
        "win_nums = [38, 19, 20, 40, 15, 25]\n",
        "\n",
        "solution(lottos, win_nums)"
      ],
      "metadata": {
        "colab": {
          "base_uri": "https://localhost:8080/"
        },
        "id": "3BYTQlWL34O3",
        "outputId": "3acc6bc6-a923-43bd-e814-8f9c45f3f592"
      },
      "execution_count": null,
      "outputs": [
        {
          "output_type": "stream",
          "name": "stdout",
          "text": [
            "6 6\n",
            "5 6\n",
            "4 6\n",
            "3 6\n",
            "2 6\n",
            "1 6\n"
          ]
        },
        {
          "output_type": "execute_result",
          "data": {
            "text/plain": [
              "[1, 6]"
            ]
          },
          "metadata": {},
          "execution_count": 31
        }
      ]
    },
    {
      "cell_type": "markdown",
      "source": [
        "### 공원 산책"
      ],
      "metadata": {
        "id": "kFWTBJSxAf4z"
      }
    },
    {
      "cell_type": "code",
      "source": [
        "def sol(park, routes):\n",
        "    dx, dy = 0, 0\n",
        "    current = []\n",
        "\n",
        "    for idx_i, i in enumerate(park):\n",
        "        for idx_j, j in enumerate(i):\n",
        "            if j == 'S':\n",
        "                current = [idx_i] + [idx_j]\n",
        "                break\n",
        "\n",
        "    print(current)\n",
        "\n",
        "    pass"
      ],
      "metadata": {
        "id": "TCV0ji3H4pNx"
      },
      "execution_count": null,
      "outputs": []
    },
    {
      "cell_type": "code",
      "source": [
        "park = [\"SOO\",\"OOO\",\"OOO\"]\n",
        "routes = [\"E 2\",\"S 2\",\"W 1\"]\n",
        "\n",
        "solution(park, routes)"
      ],
      "metadata": {
        "colab": {
          "base_uri": "https://localhost:8080/"
        },
        "id": "kUl2yrT2A7og",
        "outputId": "f0391cb9-fb6b-427f-f404-6c0bc13ece56"
      },
      "execution_count": null,
      "outputs": [
        {
          "output_type": "stream",
          "name": "stdout",
          "text": [
            "6 6\n",
            "6 6\n",
            "6 6\n"
          ]
        },
        {
          "output_type": "execute_result",
          "data": {
            "text/plain": [
              "[6, 6]"
            ]
          },
          "metadata": {},
          "execution_count": 36
        }
      ]
    },
    {
      "cell_type": "markdown",
      "source": [
        "## 완주하지 못한 선수(해시)"
      ],
      "metadata": {
        "id": "-K5OBnh2R5Vm"
      }
    },
    {
      "cell_type": "code",
      "source": [
        "def solution(participant, completion):\n",
        "    hash = {}\n",
        "    for p in participant:\n",
        "        if p in hash:\n",
        "            hash[p] += 1\n",
        "            continue\n",
        "\n",
        "        hash[p] = 1\n",
        "\n",
        "    for c in completion:\n",
        "        hash[c] -= 1\n",
        "\n",
        "    for p in participant:\n",
        "        if hash[p] != 0:\n",
        "            return p"
      ],
      "metadata": {
        "id": "8PSO1bvVB-VD"
      },
      "execution_count": null,
      "outputs": []
    },
    {
      "cell_type": "code",
      "source": [
        "participant = [\"mislav\", \"stanko\", \"mislav\", \"ana\"]\n",
        "completion = [\"stanko\", \"mislav\", \"ana\"]\n",
        "\n",
        "\n",
        "solution(participant, completion)"
      ],
      "metadata": {
        "colab": {
          "base_uri": "https://localhost:8080/",
          "height": 35
        },
        "id": "J2IF2ncxSPFH",
        "outputId": "9498e10a-4ecf-4db5-d7e6-b54dddb66b79"
      },
      "execution_count": null,
      "outputs": [
        {
          "output_type": "execute_result",
          "data": {
            "text/plain": [
              "'mislav'"
            ],
            "application/vnd.google.colaboratory.intrinsic+json": {
              "type": "string"
            }
          },
          "metadata": {},
          "execution_count": 14
        }
      ]
    },
    {
      "cell_type": "code",
      "source": [
        "from collections import Counter\n",
        "\n",
        "answer = Counter(participant) - Counter(completion)\n",
        "print(list(answer.keys())[0])"
      ],
      "metadata": {
        "colab": {
          "base_uri": "https://localhost:8080/"
        },
        "id": "JdxSTENuSj70",
        "outputId": "ac59dda5-ba86-4ed3-cda2-499e1458c5d3"
      },
      "execution_count": null,
      "outputs": [
        {
          "output_type": "stream",
          "name": "stdout",
          "text": [
            "mislav\n"
          ]
        }
      ]
    },
    {
      "cell_type": "markdown",
      "source": [
        "## Lv2"
      ],
      "metadata": {
        "id": "ce6S6zSvV-5X"
      }
    },
    {
      "cell_type": "markdown",
      "source": [
        "### 영어 끝말잇기"
      ],
      "metadata": {
        "id": "PGrN4X-jWBB2"
      }
    },
    {
      "cell_type": "code",
      "source": [
        "def solution(n, words):\n",
        "    p = [words[0][0]] # word를 순서대로 넣음\n",
        "\n",
        "    for idx, word in enumerate(words):\n",
        "        if word not in p and p[-1][-1] == word[0]:\n",
        "            p.append(word)\n",
        "        else:\n",
        "            return [(idx+1) % n, idx // n + 1 ]\n",
        "        print(p, idx // n)"
      ],
      "metadata": {
        "id": "lXlelGqFV-K0"
      },
      "execution_count": null,
      "outputs": []
    },
    {
      "cell_type": "code",
      "source": [
        "n = 2\n",
        "words = [\"hello\", \"one\", \"even\", \"never\", \"now\", \"world\", \"draw\"]\n",
        "\n",
        "solution(n, words)"
      ],
      "metadata": {
        "colab": {
          "base_uri": "https://localhost:8080/"
        },
        "id": "s42cNIxvWI9q",
        "outputId": "6b37fe88-e39c-477c-c92d-b7f56c064c99"
      },
      "execution_count": null,
      "outputs": [
        {
          "output_type": "stream",
          "name": "stdout",
          "text": [
            "['h', 'hello'] 0\n",
            "['h', 'hello', 'one'] 0\n",
            "['h', 'hello', 'one', 'even'] 1\n",
            "['h', 'hello', 'one', 'even', 'never'] 1\n"
          ]
        },
        {
          "output_type": "execute_result",
          "data": {
            "text/plain": [
              "[1, 3]"
            ]
          },
          "metadata": {},
          "execution_count": 92
        }
      ]
    },
    {
      "cell_type": "markdown",
      "source": [
        "### 숫자의 표현 (v)"
      ],
      "metadata": {
        "id": "pWW9HUAgAKMg"
      }
    },
    {
      "cell_type": "code",
      "source": [
        "def sol(n):\n",
        "    k = 1\n",
        "    cnt = 0\n",
        "\n",
        "    for i in range(1, 10000):\n",
        "        total = 0\n",
        "        for j in range(i, 10000):\n",
        "            if total > n or total == n:\n",
        "                break\n",
        "            total += j\n",
        "            if total == n:\n",
        "                cnt += 1\n",
        "    return cnt\n"
      ],
      "metadata": {
        "id": "OSbFJPgbWOde"
      },
      "execution_count": null,
      "outputs": []
    },
    {
      "cell_type": "code",
      "source": [
        "sol(17)"
      ],
      "metadata": {
        "colab": {
          "base_uri": "https://localhost:8080/"
        },
        "id": "pya3EeK2BDSo",
        "outputId": "2676fda7-be7c-48d7-8f05-01db92790f65"
      },
      "execution_count": null,
      "outputs": [
        {
          "output_type": "execute_result",
          "data": {
            "text/plain": [
              "2"
            ]
          },
          "metadata": {},
          "execution_count": 99
        }
      ]
    },
    {
      "cell_type": "markdown",
      "source": [
        "### 이진 변환 반복하기(v)"
      ],
      "metadata": {
        "id": "o2Slsr_QC3Up"
      }
    },
    {
      "cell_type": "code",
      "source": [
        "def solution(s):\n",
        "    n_zero = 0\n",
        "    cnt = 0\n",
        "\n",
        "    for _ in range(len(s)):\n",
        "        n_zero += s.count('0')\n",
        "\n",
        "        s = s.replace('0', '')\n",
        "        s = bin(len(s))[2:]\n",
        "        cnt += 1\n",
        "\n",
        "        if s == '1':\n",
        "            break\n",
        "\n",
        "    return [cnt, n_zero]"
      ],
      "metadata": {
        "id": "-MbKjAIhC274"
      },
      "execution_count": null,
      "outputs": []
    },
    {
      "cell_type": "code",
      "source": [
        "s = \"01110\"\n",
        "solution(s)"
      ],
      "metadata": {
        "colab": {
          "base_uri": "https://localhost:8080/"
        },
        "id": "RveD583DBVoL",
        "outputId": "10ff413f-2d6e-4a16-d928-810d551f9f84"
      },
      "execution_count": null,
      "outputs": [
        {
          "output_type": "execute_result",
          "data": {
            "text/plain": [
              "[3, 3]"
            ]
          },
          "metadata": {},
          "execution_count": 133
        }
      ]
    },
    {
      "cell_type": "markdown",
      "source": [
        "### 다음 큰 숫자 (v)\n"
      ],
      "metadata": {
        "id": "F0mCyGroLEwL"
      }
    },
    {
      "cell_type": "code",
      "source": [
        "def solution(n):\n",
        "    for i in range(n+1, n+1000):\n",
        "        bi = bin(i)[2:] # str\n",
        "        if bin(n)[2:].count('1') == bi.count('1'):\n",
        "            return i\n",
        "\n"
      ],
      "metadata": {
        "id": "17Z0w83ELIW2"
      },
      "execution_count": null,
      "outputs": []
    },
    {
      "cell_type": "code",
      "source": [
        "n = 15\n",
        "solution(n)"
      ],
      "metadata": {
        "colab": {
          "base_uri": "https://localhost:8080/"
        },
        "id": "rmwW2DzjDl0N",
        "outputId": "40346ad9-910c-4c45-9d4e-1be54804fcca"
      },
      "execution_count": null,
      "outputs": [
        {
          "output_type": "execute_result",
          "data": {
            "text/plain": [
              "23"
            ]
          },
          "metadata": {},
          "execution_count": 145
        }
      ]
    },
    {
      "cell_type": "markdown",
      "source": [
        "### 피보나치 수 (v)"
      ],
      "metadata": {
        "id": "dPRAGWWROi6P"
      }
    },
    {
      "cell_type": "code",
      "source": [
        "def solution(n):\n",
        "    l = []\n",
        "    for i in range(n+1):\n",
        "        pib = 0\n",
        "        if i > 1:\n",
        "            pib = l[-1] + l[-2]\n",
        "            l.append(pib)\n",
        "            continue\n",
        "        l.append(i)\n",
        "\n",
        "    print(l)\n",
        "\n",
        "    return (l[n] % 1234567)\n"
      ],
      "metadata": {
        "id": "u9rT_Jw3NZZL"
      },
      "execution_count": null,
      "outputs": []
    },
    {
      "cell_type": "code",
      "source": [
        "n = 5\n",
        "solution(n)"
      ],
      "metadata": {
        "colab": {
          "base_uri": "https://localhost:8080/"
        },
        "id": "IEoWdc3nPdsV",
        "outputId": "904d64a8-0534-494b-cf37-1d34f9595e12"
      },
      "execution_count": null,
      "outputs": [
        {
          "output_type": "stream",
          "name": "stdout",
          "text": [
            "[0, 1, 1, 2, 3, 5]\n"
          ]
        },
        {
          "output_type": "execute_result",
          "data": {
            "text/plain": [
              "5"
            ]
          },
          "metadata": {},
          "execution_count": 155
        }
      ]
    },
    {
      "cell_type": "markdown",
      "source": [
        "### 짝지어 제거하기(v)"
      ],
      "metadata": {
        "id": "j9sBMQZ9SqoK"
      }
    },
    {
      "cell_type": "code",
      "source": [
        "def solution(s):\n",
        "\n",
        "    # 접근 1) 문자열 직접 삭제\n",
        "    # i = 0\n",
        "    # while True:\n",
        "\n",
        "    #     if len(s) == 0 or i >= len(set(s)): # 문자를 다 삭제하거나, 알파벳 쌍이 남아있지 않을경우\n",
        "    #         break\n",
        "\n",
        "    #     if s[i]*2 in s:\n",
        "    #         s = s.replace(s[i]*2, '') # 알파벳 쌍을 블랭크처리\n",
        "    #         i = 0   # 초기화\n",
        "    #     else:\n",
        "    #         i += 1\n",
        "    #     print(s, i)\n",
        "\n",
        "\n",
        "    # return 1 if len(s) == 0 else 0\n",
        "\n",
        "\n",
        "    # 접근 2) 문자열을 집합으로 만든 후 집합 원소 각각 다 제거\n",
        "\n",
        "    # set_s = list(set(s))\n",
        "    # i = 0\n",
        "    # while True:\n",
        "\n",
        "    #     if set_s[i]*2 in s:\n",
        "    #         s = s.replace(set_s[i]*2, '')\n",
        "    #         i = 0\n",
        "    #     else:\n",
        "    #         i += 1\n",
        "    #     print(s, i)\n",
        "\n",
        "    #     if len(s) == 0:\n",
        "    #         return 1\n",
        "    #     else:\n",
        "    #         return 0\n",
        "\n",
        "    # 접근 3) stack 활용\n",
        "\n",
        "    stack = []\n",
        "\n",
        "    for i in s:\n",
        "\n",
        "        if len(stack) == 0:\n",
        "            stack.append(i)\n",
        "        elif stack[-1] == i:\n",
        "            stack.pop()\n",
        "        else:\n",
        "            stack.append(i)\n",
        "\n",
        "        print(stack)\n",
        "\n",
        "    return 1 if len(stack) == 0 else 0"
      ],
      "metadata": {
        "id": "UkYZ8zBDTiAX"
      },
      "execution_count": null,
      "outputs": []
    },
    {
      "cell_type": "code",
      "source": [
        "s = 'baabaa'\n",
        "solution(s)"
      ],
      "metadata": {
        "colab": {
          "base_uri": "https://localhost:8080/"
        },
        "id": "RfAFgnnvQWK0",
        "outputId": "67350b08-13bb-4079-c371-042c5ec0d36c"
      },
      "execution_count": null,
      "outputs": [
        {
          "output_type": "stream",
          "name": "stdout",
          "text": [
            "['b']\n",
            "['b', 'a']\n",
            "['b']\n",
            "[]\n",
            "['a']\n",
            "[]\n"
          ]
        },
        {
          "output_type": "execute_result",
          "data": {
            "text/plain": [
              "1"
            ]
          },
          "metadata": {},
          "execution_count": 49
        }
      ]
    },
    {
      "cell_type": "code",
      "source": [
        "s = 'abba'\n",
        "len(set(s))"
      ],
      "metadata": {
        "colab": {
          "base_uri": "https://localhost:8080/"
        },
        "id": "zXXdgXdok1wi",
        "outputId": "537492df-e087-4f63-8322-090b70b76837"
      },
      "execution_count": null,
      "outputs": [
        {
          "output_type": "execute_result",
          "data": {
            "text/plain": [
              "2"
            ]
          },
          "metadata": {},
          "execution_count": 40
        }
      ]
    },
    {
      "cell_type": "markdown",
      "source": [
        "### 카펫 (o)"
      ],
      "metadata": {
        "id": "hi9wGF6t16FV"
      }
    },
    {
      "cell_type": "code",
      "source": [
        "def getMyDivisor(n):\n",
        "\n",
        "    divisorsList = []\n",
        "\n",
        "    for i in range(1, int(n**(1/2)) + 1):\n",
        "        if (n % i == 0):\n",
        "            divisorsList.append(i)\n",
        "            if ( (i**2) != n) :\n",
        "                divisorsList.append(n // i)\n",
        "\n",
        "    divisorsList.sort()\n",
        "\n",
        "    return divisorsList\n",
        "\n",
        "def solution(brown, yellow):\n",
        "\n",
        "    l = getMyDivisor(brown+yellow)\n",
        "\n",
        "    for i in l:\n",
        "        for j in l:\n",
        "            if i*j == yellow+brown and (i-2)*(j-2) == yellow:\n",
        "                return sorted([i, j], reverse=True)\n"
      ],
      "metadata": {
        "id": "L5A0MJdUV9OM"
      },
      "execution_count": null,
      "outputs": []
    },
    {
      "cell_type": "code",
      "source": [
        "brown = 24\n",
        "yellow = 24\n",
        "solution(brown, yellow)"
      ],
      "metadata": {
        "colab": {
          "base_uri": "https://localhost:8080/"
        },
        "id": "RcxpdK462oER",
        "outputId": "48b84dd0-c296-4f99-d8c5-31865e2f8ad8"
      },
      "execution_count": null,
      "outputs": [
        {
          "output_type": "execute_result",
          "data": {
            "text/plain": [
              "[8, 6]"
            ]
          },
          "metadata": {},
          "execution_count": 43
        }
      ]
    },
    {
      "cell_type": "markdown",
      "source": [
        "### 예상 대진표 (v)"
      ],
      "metadata": {
        "id": "yU6LWkB2DUIe"
      }
    },
    {
      "cell_type": "code",
      "source": [
        "def solution(n, a, b):\n",
        "    answer = 0\n",
        "    # a,b 값이 같아지는 순간은 a,b가 겨룬 후임.\n",
        "    while a!=b:\n",
        "        # 라운드 수\n",
        "        answer += 1\n",
        "        # 다음 라운드의 번호\n",
        "        a, b = (a+1)//2, (b+1)//2\n",
        "\n",
        "    return answer\n",
        "\n"
      ],
      "metadata": {
        "id": "gDj4qK1sDqM9"
      },
      "execution_count": null,
      "outputs": []
    },
    {
      "cell_type": "markdown",
      "source": [
        "### 구명보트(v)"
      ],
      "metadata": {
        "id": "v3G9UoACL2Mj"
      }
    },
    {
      "cell_type": "code",
      "source": [
        "# 접근 1) 한명씩 넣어서 보트의 수를 계산하자\n",
        "# def solution1(people, limit):\n",
        "#     people.sort()\n",
        "\n",
        "#     total = []\n",
        "#     cnt = 1\n",
        "\n",
        "#     for p in people:\n",
        "#         total.append(p)\n",
        "\n",
        "#         if sum(total) > limit or len(total) > 2:\n",
        "#             total = [p]\n",
        "#             cnt += 1\n",
        "\n",
        "#         print(cnt, total)\n",
        "#     return cnt\n",
        "\n",
        "# 접근 2) 최소한의 보트 수를 구하기 위해, 가장 무거운 사람 + 가장 가벼운 사람 조합으로 해보자\n",
        "\n",
        "def solution(people, limit):\n",
        "    answer = 0\n",
        "\n",
        "    people.sort()\n",
        "\n",
        "    start, end = 0, len(people) - 1\n",
        "\n",
        "    # 중복 조합 방지\n",
        "    while start <= end:\n",
        "        # 보트를 1대씩 준비하고\n",
        "        answer += 1\n",
        "        # 무거운 + 가벼운 조합이 limit 범위 안이면 보트를 태워 보냄\n",
        "        if people[start] + people[end] <= limit:\n",
        "            start += 1\n",
        "        # 가장 무거운 사람을 보트에 태움\n",
        "        end -= 1\n",
        "        print(answer, start, end)\n",
        "\n",
        "    return answer"
      ],
      "metadata": {
        "id": "Nd_619RXL1JA"
      },
      "execution_count": null,
      "outputs": []
    },
    {
      "cell_type": "code",
      "source": [
        "people = [70, 50, 80, 50]\n",
        "limit = 100\n",
        "\n",
        "solution(people, limit)"
      ],
      "metadata": {
        "colab": {
          "base_uri": "https://localhost:8080/"
        },
        "id": "nehvcv-RMKXK",
        "outputId": "e750af26-a9c5-4945-de75-4b167730bdbd"
      },
      "execution_count": null,
      "outputs": [
        {
          "output_type": "stream",
          "name": "stdout",
          "text": [
            "1 0 2\n",
            "2 0 1\n",
            "3 1 0\n"
          ]
        },
        {
          "output_type": "execute_result",
          "data": {
            "text/plain": [
              "3"
            ]
          },
          "metadata": {},
          "execution_count": 52
        }
      ]
    },
    {
      "cell_type": "markdown",
      "source": [
        "### 점프와 순간 이동(v)"
      ],
      "metadata": {
        "id": "lmcksiH5PIsU"
      }
    },
    {
      "cell_type": "markdown",
      "source": [
        "### 점프와 순간 이동\n",
        "![image.png](data:image/png;base64,iVBORw0KGgoAAAANSUhEUgAABG8AAAHqCAYAAAC6FmM9AAAAAXNSR0IArs4c6QAAAARnQU1BAACxjwv8YQUAAAAJcEhZcwAAFiUAABYlAUlSJPAAAP+lSURBVHhe7P0NXNRV3v+Pv7JRmHBEUG4EGgkwIkSRSDFw0bwJKtylrugqr9Wu7Er7un43f5fdbK2Z69ZaeX1t/67f7MY23bSNtvgWbbhpKSlFiCIiIYosIJCAQjrpIM7S/5zPDczNZ2Y+n2EGaff9fDyOzpwZPvP5nJv3eb/f533Ouer6abf9AIIgCIIgCIIgCIIgCGJIMkz6nyAIgiAIgiAIgiAIghiCkPOGIAiCIAiCIAiCIAhiCEPOG4IgCIIgCIIgCIIgiCEMOW8IgiAIgiAIgiAIgiCGMOS8IQiCIAiCIAiCIAiCGMKQ84YgCIIgCIIgCIIgCGIIQ84bgiAIgiAIgiAIgiCIIQw5bwiCIAiCIAiCIAiCIIYw5LwhCIIgCIIgCIIgCIIYwpDzhiAIgiAIgiAIgiAIYghDzhuCIAiCIAiCIAiCIIghDDlvCIIgCIIgCIIgCIIghjDkvCEIgiAIgiAIgiAIghjCkPOGIAiCIAiCIAiCIAhiCEPOG4IgCIIgCIIgCIIgiCEMOW8IgiAIgiAIgiAIgiCGMOS8IQiCIAiCIAiCIAiCGMKQ84YgCIIgCIIgCIIgCGIIQ84bgiAIgiAIgiAIgiCIIQw5bwiCIAiCIAiCIAiCIIYw5LwhCIIgCIIgCIIgCIIYwpDzhiAIgiAIgiAIgiAIYghDzhuCIAiCIAiCIAiCIIghDDlvCIIgCIIgCIIgCIIghjDkvCEIgiAIgiAIgiAIghjCXHX9tNt+kF4POW7MmIVYA3vR04WKz4LwyKv3YcpI9v77GryyZAMKhW95iewV+PN/JGAUe3n+6Dv499/tEfM9Yhae8+W9EgRBEARBEARBEATxL4NG580yFOy5DbHSO3V0ovT/PoCH35PeauC5d3fi38azF6bDeGHuAWTu+i+kcWeO8P5JvCl8SwX3rcOBXyYLjhk0/g3x924Qsm2w+s75g6/j5mXvi/mMqJvSMSV0hPTOCaYmFO4/Kb25G1s9vVeCIAiCIAiCIAiCIAgrNDpvVuCTUq3Om+9R+vt/w6J3pLeMnF9twCMTA6R3SlxAxdsrgAeGhvPmwU1/wRM38TAaF9hcl5w3BEEQBEEQBEEQBEF4B8/3vDE3obhoDwqdpOLGHumLjoREXYvYWKOLdC2iRktf9gahBtFxw7l6BKKkl8/88SMc2SOlRyTnjqdEzeq/1p5FouOGIAiCIAiCIAiCIAhigHjuvLF0onTNC1jpJJWece686Wg+hZMnm8TU3v+9S+1S3slTaP5OyvQCj9x4rfSKMc6IByXvjd81I+Cnl5KbVVEyJz/OQnyanP4GeaEUdwr1XYslgiAIgiAIgiAIgiAIb3BFTpsq/N0K3L7gYTGVnZZygeYyKW/BCjxdJGUOlKkrkDPRyplydSxyfnW3EH3T/HfZWcRS8/fi555ytsYq8ugATpqlfIIgCIIgCIIgCIIgiAHgufPGkIxH+5YJOaZHk93sEaOA39Xh0isvETUL6/97FmKv5m96cEkK8hl10yK8tnoWCp+UnUUsvV+H8+LHnvF9k1Xk0WF0WKR8giAIgiAIgiAIgiCIATCgyBvrZUIOSXCYuGdBaLD0ChgVmi5uHFy6E7UsCZsVe8iN9zyBT/74BHLGS1E3zSVY/sphyUEzArHZ7POCDXjuP5L79sAZELTnDUEQBEEQBEEQBEEQPkCj8+YbfGq1KbHaVNy3MYwjUaP7I3RGjTV6wZGSgCfe+AsKeMSN7ED5rgZvvvwCit95EivfrumLsPEbl4Cc2Tdr2qg4MPoJrF8tJyMCpXza84YgCIIgCIIgCIIgCF+g8ahwb7MIf95zH6bopbf/OIk3V3wOv+w4waESNXUWpoxhL7QeFR71XyjYcTduHAGcP7kHL//2BWyvkT5jRM37Lzyz+DZkjmvDm/cvwwvNLHOgR4XzPW/69u8ZiRtn3oxY/lx0VDhBEARBEARBEARBEANAnfPGyrExEPhJTbf/VnrDeXADjjycAD/pLeeb9x5A7v+ITpDn3pWWTml13jCi7lqEf+vZj5c/dhH2Y01UMuYlBQn3cqm9Bp8e7N9IecH6t/DETf3LuxRp+Bsm/ecm6c3d2KrhXgmCIAiCIAiCIAiCIJxxBZ03yXju3XWic8bchJMXjYjlUTbfHcYLWaKzYyDOmz7uWYvP/tdkhEhv1dBx8HXMXlkovfOEHLxWwO51NHv5XSVeyF2F7eIHBEEQBEEQBEEQBEEQmlDnvLGKSlHixruX4cGJ4rKi5s9ewMv7hZcOnG/Yg2Jp+VLmr1/DxjuNwjXPfLUB/226D1vniadNnT/6PlY+9DrmecN544HjyX7ZlBI33rkIC6Yn4MboYPgZghHF7svU3olzlgtoPnoYn/6/rfiL1VItgiAIgiAIgiAIgiAIT9C4500sMrONoiPE1ITC/eKSJOs9YRyWRjkQjpzHV+GZu2LF6/Q04S8rH8bTZXdj604pWoVxqbkEpUhHJt/BeCDOGzeOpz5i5+OZ/0gQ7sml8ybjv7D1v3OQNs79psRnKt/HU0teR7H0niAIgiAIgiAIgiAIQisanTcr8EnpbYjlLxv/hvh7Nwi5mpw3E+/D1vWLJCdND/v+Wvb9A8JHyGDXf55dn280fPB1FI/9L+QM1rIpflqU5I9x7ryxdTDB3IWTx+vwTev3UsZIRF1/LWKjwzFKOir90tF3cPtDW8H3RCYIgiAIgiAIgiAIgtCKxqPCleloPoWTJ5vE1CplOuPoO1j027/hZE8Pmj97HQ/LjhvO/g3s/fsoPfg3rFz2Pi5J2QNCNxyjrI7wdprUnO79HzfjRtlx07wHD8+6D7cvWYWVa16Q0ir8+4IHcPND7+Mbs/g1v4SpWCC+JAiCIAiCIAiCIAiC0IxXIm88ISoqHM3N/Sc6KeGVDYutjwA/+j5+836dmO8C+9Om+nh4A448KJ2OdbwQsxduUo6o4UeV/+lu3Cgcgd6Ev6Q9jKeFDwiCIAiCIAiCIAiCILThufPmHz241CNkusXT05u87bzBd6dx8qyam76AirdX4Oki6W0f9+HPexZhiuCUAS6dbULF4ZPosLqkX2gsUm40Yqz8nePv4/aFr9OyKYIgCIIgCIIgCIIgPMLzZVN8jxil5UcKiS9bGhKMDkdsrFFFuhZR8vIoG97Byt8V4huT+M5vjBFps2chJ7s/zbup33Fz/uQevPAUOW4IgiAIgiAIgiAIgvAcjZE3t+HR1cngB0Bp4fzJv+E3bx+W3nlKDl4rkDYL/q4SL+SuwnbxA9dkr8CfpVOk1OMs8kYmHGn/cTcenDEZUeP4MeH9zqlLPLqnoQaln32Elz8WT+MiCIIgCIIgCIIgCILwFI3OG4IgCIIgCIIgCIIgCGIw8cppUwRBEARBEARBEARBEIRvIOcNQRAEQRAEQRAEQRDEEIacNwRBEARBEARBEARBEEMYct4QBEEQBEEQBEEQBEEMYch5QxAEQRAEQRAEQRAEMYQh5w1BEARBEARBEARBEMQQhpw3BEEQBEEQBEEQBEEQQxhy3hAEQRAEQRAEQRAEQQxhyHlDEARBEARBEARBEAQxhCHnDUEQBEEQBEEQBEEQxBCGnDcEQRAEQRAEQRAEQRBDGHLeEARBEARBEARBEARBDGHIeUMQBEEQBEEQBEEQBDGEIecNQRAEQRAEQRAEQRDEEIacNwRBEARBEARBEARBEEMYct4QBEEQBEEQBEEQBEEMYch5QxAEQRAEQRAEQRAEMYQh5w1BEARBEARBEARBEMQQhpw3BEEQBEEQBEEQBEEQQxhy3hAEQRAEQRAEQRAEQQxhyHlDEARBEARBEARBEAQxhCHnDUEQBEEQBEEQBEEQxBCGnDcEQRAEQRAEQRAEQRBDGHLeEARBEARBEARBEARBDGHIeUMQBEEQBEEQBEEQBDGEIecNQRAEQRAEQRAEQRDEEIacNwRBEARBEARBEARBEEMYct4QBEEQBEEQBEEQBEEMYch5QxAEQRAEQRAEQRAEMYQh5w1BEARBEARBEARBEMQQhpw3BEEQBEEQBEEQBEEQQxhy3hAEQRAEQRAEQRAEQQxhyHlDEARBEARBEARBEAQxhCHnDUEQBEEQBEEQBEEQxBCGnDcEQRAEQRAEQRAEQRBDGHLeEARBEARBEARBEARBDGHIeUMQBEEQBEEQBEEQBDGEIecNQRAEQRAEQRAEQRDEEIacNwRBEARBEARBEARBEEOYq8dExT0rvSY4k/Lw2C/ykH1zKE6VVKNTyiY8ZS4Wr12Eu26NR8+egzgl5dqT/sgaPPzTWYjx24uKOinT13ixrvVRMQgLMwDmc+ixAHH3rcSKe28b3OfxMh7ViT4EYdeFI2ZKBlKS4hEXL6awQAt6h+tg/u4ieqWvDhrUp1Wgrp/6GkPqXNyamohIQxcaWy9KuXb4tD59UA5ZS7B20XzcesNw7CmvlzKvBOqfTZZfqeEd+PJoh5SrHV2IEeMix2D4P7pgvsRzEpH7+C+wICsVo89+iWNtwtcGhLfuVQlRBnrvXkX8YYg2Imi4GRcussHiCuOrsfeKjOk/QryvOxgQPCEKwaOUx1v73+uTC16Up1rr/srL/cFHs9yKz0BW+mTEhV6FuqazUqYjPy7dU2qrY/SwdJrgc2noyzYkX/uKj/NSH49ORMq0yUiQdPC42FD2iQ7oG4u9RTaWv/CfyJubgN7dB+Dsyf9VxoPBes5/AecNEw6TpmKq0IhjYfC7iHNtLoRE5E2YOzkUAT+cQ3lxpWLnlgca2TBVn0Jhrm2CSbqOamShfd0otNW1okfKVs2dy7B+8c8wL9EPn3492L0mHhlZ0Rh79QU0uujY8elzkTB6GC42f46y41KmKkKQkDUbqTeOx/Bz9TjzvZTdRzymzL8FyUplp6Ku1TLzP1fi55kTEdj2Baq+BYJTZ2N6+AgPnscXyANkEEa5SNdcbWtMqK8Tf4Sl5+DfF9yDBdkZSE9JQXJsFGKM/SnhxhRMvzkNc2anY/L1Y2DqakB71wCG6sAIJGXMREpSIhImTUBMdCguf9eOc0rGkMf1zI2seCTekobkBLEPR4YOR7fZpMHoEg21kBDlMneZnCjfzpHauoPcUU62irK6fuprjPMWIC8lGhHDmlB82Im17MV+64gPyuGGNNwRE4jhF5t9J39Zf4g0hjj0YVvUP5ssv37oqnFeDyqIyfvfWH7bVBghy5AI3DQ7Cdfqr8LZGlFWDhRv3asSogwc2L3qQlIxIy8XefPvxPzb5yJrbiZm3pyC9FsyMW/ubMybnclkYyKiRvWg7kSb7w0YOzwfe13j7LqODr1/bbyvO8zGQ0/8DFk3BqFOQT7a/16fXPCiPNXaprwq91MWYvWjeci5JQr1Xh8fXKCPQVJODnKy52L+HbdhzoxUJN8YBz+0ooWNs/bjuGa5NT0HSzMSEDPS5HIccd9+BlMncYfUVlOi0DMYeocvdQf52i7GedmxduutszQmFRMIgZORed99eODeHGSlMX2b6cXxVjp4TPQEpDLdfMaM2bg1bRLCRpq9NN5MwLS5Roxmlm2dT2w8N/i4v+ujUjFt5k1IlPTmsMDvcabFuQ/BZ89px1XXT7vtB+m1RpgASGXGWHIiwvRSlsWEluPfYO+X5TCZpTy3eOs6jgRnLsTiOaywR0gZMj1dqNidj+3FTVKGFbwh3BsPw4VabP7NNih1wbgHVmFpgr/0Tgut2PnEJuyW3qmGO19mRAAu7skl8t+37sfK3xdJmT6AGxCh9uUyGXkPpSISHSh+4yMcknJlzO316DwHzPnlc8hit9i472ls/Fj6UBWTseCZPEwJ6EbFu2ux3f4HBK9wBsYrlZ2KuoYxAwvyZiFpjD90rLt2th9G4ZsFqGL3bI14//33ILcRLc/DnYLpEf4wt5aiuNz5TExwWjamhurYKwtaDhehSqEZ2yKVgfTOGaaafKx5q1J6p7ZO/JHwwKNYnGBgr1n5NJ9E1Tff4FATE6GXTWhjg82YKAMru2BEJ9+IpAmxiAtk995rQtn7LyO/vFu8jGr8Mf7uxXgoNQJ6hUWfpuZSvPVGIRqt5YaaeraGD4L3zMKc2BDF3+BYzB2o2leEDz6rhWsRJbdP6a0WNPd3dfUsY1vf8t86k1FpyF1+E8Kkd9rpQMnGfFRJ75wh9xv7tmiD2/rkDt00jLeX+w50oeqj/WiR3om4KgepDC7UMxlQZPd3LvC5/DVizorFyAo3oXjTehRyecAj4IR+Z40LWcz7akNHn0LivB64I5j1C+mdc7rReaIVkQ5y0Jm8dlZnrI7KuhE3dZzdb/bXnbs2k3TvMqTzSUeVtB3YhIJS8bW9XNcGl1VL8dBUqbx6mXw8247OS91oa2yHJZiNlwYd9IGhCGP/C3XVw+rm3c0oPKpNLspjhzvaagtRUSu9kXAp5/ls8j2JGCW9dYqpGltfzLfpi06va8zFY8tSEXa2HM+/WDB4xrUbdLFMD50xGdGsLgS4jC8vQslhzdNtIoOoO9jiQudhOLZp59+X78U1jrLSZZtSwDtyX0LreO8FdKl5WPHTyf22BuvrlmFSn2aYz1ZiBxv/aqyUBVXPbI3KccR9+xlMncQN+hyseDaNjUldKHljPQpOSPluUavr2LVNDW1DNzEHD/0sFXGyPGBw/XL7tkLU2fVhAfnaLuqnrz+x9mHW5DUx4dB7rHyOSG/tMbLyWMLKg9/qBSa3TtTiSHUt2ll74zaW2RCDYDYI6cPjkRQfj0lMtzUw3dbcvB8bNhapl8E8ijidtUE79CPEMrL0WHBZeNVPQ8lqbNmpXSaoxqpOt7A6rZGyB0xgGvL+ay6mhijIPxc+BJ89px0eRd7wRv3w0gW4KzkWxjFMmRslpdFjER2bgJk/mYprh7eiqq7LpYfWW9dRIpgJusfnXIdRV7Nmf7oWpZV1qDt1GudGBGNcoAHjJiQjcZwBo6PtZqQjIxEdFoDhl8869cyeb2lgBmolSg9VqEy9MKZEMAXItWfSKddPxbzxzDh2cU8ukf/e1OTbyJu5rBPlZmJ6SopV4s/NCUC0Tb6Y5BnZmLTZTEgC55q0eivDMSkzEeNGWHC6Wml2VPIKK5XduMmYOXEs/JyVqyAQZ+MGJryH/cAGYzYUBxgikJwchVMHKnHGSviK999/D8HJmUgN0Wl6HjWzT8HzlmDF7UmCRz3kwkF8UNyqom9cjcvXmNF+qhn1CunMiHBEjhyGCy2l2He0S/oblXUy4S48fJuRGSddKH7t/zAhfRDH/94KU2cXTN9dZGPURVzgrztbcYr1mfJ9pagMmoT0yEBERoxG9f5q1ivUIjqKliaPxfAfulF3cBfyP/kC+1gfO24KQEjYWIwdE4WbrvfDIdbO+/Qkd/VsBVfC/vvB2UgJ5TKA9dfjVSj5ei8++aKM9eNjqDddwj90TEaNCcK1sZMxPSkQ9ZXHcM7pQNwLCxs0O1uVy1459WC0MQh6zf29DXWNtSi3lj3tozExLgh+HeXY8E5Rfz5LZVUNVlEa7mZPkjD37kTEyDJac+rFaZvrKs/+hcVMQuIYHXq+a0WdaZjNZ32zfm7rcwJuu/82pNtFfzmmAJxzeFZX5SCVgd6MSi314mP5q5v973hochAundiNzXuaxcxJ/4aVC+ci00beupDFdrP0svzqOVNtJ4vkmVK7v3dI4kzqdw5y0Jm8dlZnrI6aAvGT7GQk2OdL9eP8XkUmzfkZpkYqtUnl9MOZfnlnL9e1oJu9GE/8JAJ+6EZj6Qf4nz/8GXu+PIDysgocqz2O44cPstcHUPrFXuw+cBbDrotFTFAgohOvw4WvDuKUBuVeHjtsy84xBX7vKMtdyvmwRKQnhrJncIaOKe7DmDx2nMl2et1zx2CKTkdyVATG/VCK8r9rsmJ8ABtX7nsUy++YjPiQwP62MCYcCUkZmD7halSVMwNI+rYqBll3sMWFzsNwbNPOvy/fi/k061uV9QpjFU8NqLaLKHfepnwp9yU0jPdewZiL/34gBWFXW9BW8xlef/1NvP9X1qd3f459p3oRFD0e1wZHYFKcH74uq+uL/nYntxxQOY64bz+DqZO4Jvin83FHJHdt6zFS14J9Vc6Xg9kyFpEJBvScN6FTKX3Prmjww3DWKmvYONEo/ZXatqFLXYin70vGOL9hEIIJzvbgGr0f9IFRSE2dgAv1TD7bO3Dka7uoH7luTMf+gtUb2HiwZ6/K5DrqJv0/fo60oGEwnyzCb/5PPsqP1uF0G9e7xehGy3nxdWdTHY4d4pPDPbiWPce4MVwG72UyWLqQO+JScauRtUE7LP9gbYolJVvku1Pi8iGX48wAMNwyF/N4GxrhB0vLflSfkT4YCPpULHj0p0gN0gEXWlH8aSEKuA1Q04YL+rEYF8r0/wnJiPevZ89i2xB89Zz29LsUVSI06nviIVRfL1NKao/ixKlTqDKNRFJsLBImxCAywICEWYvxeEgBXvxTed9snjXeuo4i4dlYMD2CPVw3aj7Zii023rECFHHHzowIRE7kHl/tWDqa0KJpaX28+ntXwODHhRuD/c9nvn3ofhkYJyqxe5jbMBAb2lR72gcbf6TnpAmebBMTiBtf249OfQzmPLwIWRHxuH9BGla9IU3PDhK8zyyfzR0l7J5qC/HiW2r7RC0qPrKbbu3DH3NWpLH/+cygo8nuFoM/GyAZF9pRc1LNbHE32k62w5QaBMMIf7vZdDdMmI87hQifLhS/8QcUWv1ey4l6VO1hAve/czElIgOLcsuxoUDj/hdM4X4kdzLCdEwJO1KEP2wvdVDYW05Uo4K/4F75R7IxNTwVjzzcjRd/72z2ogM1Ows1zgZkY0J6DIKld+phSssJO1dY+CxRyOtYLbEyUh0t4gDrA0/0zya5nF1QNUMYj/kLnc/+GSbMxYoJ0hsZ1bN+tfho2xbsFRqmEnIEChxmiX58xCPnZiOrYxMOlVjJo9ZvsLekS33/6vkWKswHRj32l+jQL7bZGH1zIiJHWNBypBw1fc2vS2jz6vu3fZ0ZMee+uUji7aOmCJvf2C8pK+x5F2Yg7jJTqIX37tn9+6cdIskGY3Ys/UZeL2yMK9+KjQVuxsVzldi5sRujnlqIqYFGpMwCSj6RPlNBw1+3YgOrF2ek/HQxMkPYC62zYEfy8ZKz2V6OPOspvVVLVclJdE5IRNy0uxD52Y4ByKWBE3z3L7A4OYi9Ynpo+R4UHW5lcl+P0OSZmJ8SAUP0TCx/oAvPqR5vB1d3cBodExCPpS88J70R4e3dk5lpS1c1dn6kIjrELb6U+1eGuFsnCnq5+eQubHhrv00bMdfuxfbfW6B7IhtJUYmYM6FIXXSJPIYqwfSb9S9kSG8kNEV1DqZO4gKmby1IYf3O0s36mz+CJ+ViQe3L2K4qGrsUBRtd9KEZi7E2gkmlrg7t7UY/Ew/lcpnGxrSyfGx8v1qs074+bERObjaOsPL2MCbP6+h1ouxvZ+1AlZP53H40dmUjQa/DcC1K+M5XsWqn9FrAIETiBofHM32qCXWnu4SIW02O7oGgT8X8RC67OQak3DoTH9TsVSmnnRN51xxMYc3HcroUL24otNLtmQ59ZD/KJB/C+OnZSP/sVZQM2gP3o+20qXBu3IgDtaWjHBt/sxYb3yrAzs/KWSPfi53vbMGG36zD1iNdQuEF87Cz2QqDireu4wTD9Hhh4LQ0lWKrQlhT58dbUNgkVm9LOfutN6zSzvoh0yFFjJgZKzVOXQSS5qkvh0Gndj8b4Aut0i6UHKlGywX2maULdTUHUWzzuWMIt+foEJe5DEuX26dEaIiY7yd8LqYaWSMy1+OjPzHli+ex17uZIlbHmo7+uslI1+R5GBi6iblYLvUZHuq48U1Hx4JnpCFuLP+fGUPVQoY2apjRx7tSQCxy7pns3lgLnIycW2PFvn+2CQ1irioMk4ySklRq47jpw1yOd5nizYmMShX+t8EvAjl97SIPSVK2zNQ7JIW7thAbFBw3NpwrRf7vWftlbVsXkYZcZmwNRQyhQWKdGIIQLeRIhKcic34OsvoSM1KkjwYH0Vi3kb3u0rYile2lG6YGNshyZ5VSwnCxTC6odwAMWdIywPVfnGtCibU2frrcTtZayeIL36LqEBtnrT/fWa5y3OOOYKu/+6ga7YIHzIL2Gut8++Vo7rCvMyZUuCPHYoHZ3IG2vnyWLS1NGOqOt+GSdmW51C6+cEsjOmWho00zEyeU+srIPjEZJej23eg8LXz9ylNTihoe5BkYizl87uCKMRN5QgeyoO7Tl7DxPTa+C2VWjYr3NuG592uFfmFIyMCccOEP3DPIuoO5vRF1za2qUrM3ZqU1oGMGbySfiGUpTFh+4Eu5f2WIDuTPxdpPja3jpg8zk4VCQHMQouKFHPec6XCsvy5J5zEzXdr+M2Y0/5jQJ+dihbDMx4LGr7Ziw1etrOwMmHL3o1iUaZS+5TlJ8RHCGN95qlLzGB/Jl0oJ9iPTs2XHDUfow7tQxWS0LiIVd11RuWVLzRlx9B6fvBhTY93ZiP4Im7UY4uqnLjSfFDI1YsTUBx7F2t89iaceWoyld2Yg5877seKhZSxvFVY8MLN/GxQ7Qif222eLbo+Rcj1AcKblCI5g88lyVLAi0BlnYfndidJEj6fEYOq1XBvuRtU+a8dNP50f56OEB4lxm/wWMW+w0aAi+GPK/FTBuGHWDbZuKrDdV6IPE6q2/wFba7mgYQZ1eh7ixA8kvHUd54QFimZIS+MuZWHKKuXIabGxjwow2Co653yoEnJFVHqpFsPtOUgfw16YTKxEWDlMzUOCpwP/cP++gVRtCg6U/lYT/hg/fxlWs068+pHFWDQvDXMys7FU6NhPYun8gXYuJXQwhEcgLso+ScarjeEupUxRwCuhSzUKM/OmpkpUWFeamQnvVtaqWKeNU/AP+AQeEXJfKiL5gNKqcY1q9FwssH7mFSuxeu0arO1Lc4WBCh212OuJYs/KI//TenT26hCZmicI7sdWMKF8n7VjIAe5rO5XPLkK657KQ2YI+8Fztdj+tjYPeZhBrC1Lj3Mz09LK+wlDSbLpDIjsaxchdvu3ZCAhghdEFw59onKG1VyOj6q50qRD9AS7mbA+eJi4ct9ynvgeCd4gBOnXOXH8RtyImemsX/YlL8+qucWNg0UpWe3JMiCMQeLyIU9m5YYYSRNFGWZqrXaqpPK93x5bayWL5zHFefmTWP/MMsyZKLUJHkHxwnNYLyXFmfzBRB+EYO6kuWS2jQgK92c9itHDZ2uHNrJCHTkpD0kqxlF9Wh7SBQeBpwq1M4xMdvL/O9Gsed8eX1GPslO8fPwRN8mZ7BwE2DgfxoXthZMo/sxxQsBSzpR0YVwMwYQUIcstg607tHyyDZs3blKV5L2cBovI1MXMoBPT0ju452Iw5f5wBCuOr86T6GDShpnp9VwHCA3loW1KhEAvrDu04LzSXilKlOY71t9RSevrqnb87F0tFXsFdRK+n+BDK/GUoM9a0Ha4EK983CRMqG8oaYV5mAFJty/B6uU5SPCgLgSMuchi98sjjA595mx22LptWNsBzHAfz3WmbtQcVLAfzfuxW4hu9kf0DZPFPE/QBVmVrbrkyhZr+aAQxafZ3RpikPcw07N//SiWPrIQOVY6eNY9C7F4+aN46jmmo2fFgEcWNZZ8gELNoXj+SF+2GHkJrF2bW1HyaUGfo3Xrp5WoMzM7M2Eu6/PZihOC+iBZB49AdKhnU4a62JlYxPf54zq7qRY7/lSAd3dWos3C7JCp9wvtJ84j25VjwDXCBFEn2sqFDAU60NAp+iY0RS55EfXOG/0MTBvPO0Q3qnZvs9l4yxHW8N8pFWYZ+Iz8nNliroC3rvNjYoJBbMT2iqgb+P4bS9P58i8Tyj7Zgr3NvHPGY9HD2Z4ZWiGpfQOp2rRghvS3Goi87xdYzu7b0GtCzeFd2Cp07AIUHGZC2mJAXPr9ePrnyoLPc68s34Dvaax8wj7tF9e72hjuUgq339Czn+ixYgl3tjv23q9PiQZ7ZNQAvMZq4WsvF4obkVm6KrH1NQ2OG07D5X6nVkQoIoPFZzafa0fLGdb5BCFlQV3FLtHpocD4Gf1G3eoHHOuts3gLnl+3DdvLmaLFlJMxoRFISrZ2DKQhnQ2QYQHA2eZa7P54G1Y9v81h40Z3tEm7l+tGOBf4ugipryktD7hQj3x5No+1xxIpW8SAUbws+PIvDU4sU2O7UG56vbN74mHiyn3LeRKX9AwU3Yz5SOf6pOz4ZcZhn+NXWIoilwVP5Vc0CoVvFprzCHcsSm3tuTV4asVCZCZ7Nri7Ykosl6msPbU6HZl/JEzGJGGTWgsaTiovadDNXoLHb+eb9nejUZbF24uYAtoFS0AEsn7+C+QmsC+amDJiNZPbYnJQWweX1FBxjLN3sEUxxYr/bx76UVMtH+xGCT9Rj4/ZTzKF+ZE8ZM5ItFPKEzHl9jwsZp+vlUL12w7v9UChdsGMWMHxj7OtDgcGXElamjoEB5w+PEb1xJx+3hKsE+TDo5ijMEEffPdKUX48uxhT1Sjvpnp8XVKK3Xu+drKMhCno8liiUlu+croDnzRbgseelWQoS9yIy5sVI8i7K0HnSVa2vHxZ2ntUjIq1xqdyP4AZsorjq/MkOpi08fUxHjUChKXkYY5D1IM/wubniROw5iYc2ifmXlkGVyfhp8slzc7DopVPCpN3OROCoOcbvjKb5qV35ImybrR9tAnPc3vvAhOZUWlYvJLJxCeXYcE9MzU4coyYc3eyMDFnqt2P3c50OZu2kYt0KZuXTZQQiNeOOif+MFluGYLEZbGeICwPtClf98mlLWauRuGG32HNe/tR0dCB835BiIuOR6aVDj4nNR4JEazs+UbsTBfYsv532PhRvVT+GtBLkYU9TJ9+aRMK+IoZydFa9Vk+Nr9UJEYnCcsEpb+xgi/dlO0zVRt1W8FPfsp65EmsfniuMCHCNwLf8j+iH4E72je8uRd17LWetZ+lbExdek8GIjU7cSy4LMj8YNanhQwFQhAdLOpel3ljuAKod97cEoNo3lIvNMJ6ab1TzLvwdSNvFmygirWaWfHWdVwgG3mR4+c66Vz+mMQMd875CyZbZSrQ6UYJniPvC6JhtjA4czEev5vvv8EGwKO78cEhfkJIoRgaFpGBx5+8X9VsngDfi0YaQLWm/Zr3pJmJnIlc+nWh+NV12PLOXlQJHbscJe+8iudfL0ULq07DxAzMUfBYesMrqwhfN23j1GHpXTEkWolIVmd8QOl01Ddg6RWjs/ThaX1e7fFO1nAPCO644Xu48GLgUWq/tz2tQB17sflp6Xl/tRqrVonp+fWFzCjSCzMOltZS5CvMOsqYu/qNuoZ2JyV2rhYV7zHDcN1aPPkrqzK2Sk+uWouXNm7Dzn3uTmhSxvRNq+C40o9PVVTceXndmyyuE29pVjLML6NTns1zWJdrxmUuZgKCEa3Bk66LCBacRWZmTLqG7wmi3MecprJvNDl7beDRWlkxrH67UVW8CR/xZWYBVo5fm6UoPHVrH8S9hC71fjz+UA4yo4NgGGaBuYelXp2wjjrnvpV47L5U7xkfTPGYJoR9duFYSbfCzKy3op4UsIl8NEIKJPMcZvRGCHKnCy2KfqgYaT8c1gY+fgkbZVl8ZD92vrEeL5ZxQzII026dycaIImy1mskt5BMFqmB1Jswq+yPYyRYNnhApRUx2nrGdOZX7m+mcgmBWTSrCpLHTYPChA95cjoJ167G5tAltl5gRFz1ZCi23Vsrvx4LMyUgI8mdytgm731lvZdB4A3+kTxL3SWs7uR+WKOu2Lia9K5VnQjYWWUdu2icX0atuKW8XJyICQpGkoOQrYf70AxTxtqkLwZycmbZ9le91KCyBYu39s+0oUzM5IC/1ZmOSMkz5F5YVK+sCSlwZ3UHczH95uhFhfhZ0drDxuoONSYYQTM1ahEfuHPhSFE8wtfYvpbQ/QdNncl/Y70thPFWRlBxM7rB8thVbawTFHFkPr8Lqlf39Y8WvV+ExPgHLT9f8eLvb0xZVYWCGufRyYAySTjKJ9ct5k5EUwiS3qQMVxflMB12veFKP+XAhNv9mHTZ8XI6arm7BHpiSOgNTb5C+4BIj5iznpy6yVsP05XxXcrSnA2V9z1XZ77iVIztdTbSfNom6o/1SdBW0HbUqS+t0RHQI2d6XbXJvi3XDVF6E7a+8jOeZjm+vfwuJ2wC/fRlbmS5Q0+Fc53fJBIMYuXyZ6dNKiry5Fp0X+Qs9rvGKCWdEJpNtT619DmuX52JOtEFw/lWxdvT8i7Y2keXkLmx+YQvya3h5+iMuNRsrnnoO655ZicXzE6VvuaMaNad52fgjaYZyoISOXTeFO2Qtraj6UswbbFSfNhWXMRdTQ5mW1n4Mfy5TF2x+elyisDv68B/O4auSY8Iu6966jit6ugIRz5TW4KAxGPN9Jaqabf8i+M4leHBSoOC5GhVhd0oGP5mFf8mbu6rflIEcvkv82Tq87+aZdSGpmLd4MRbdFAL9VXwW7kP8z3ZJCPGG0tCDcfETMG50KJKnpWCc/gKOuzur/2wT6mqPe5ROq938XSblJ7hj0lj4XWhiA7ZC+Z1rwsjJmYgbORymtv4TPOQdurlX9rf/93N8uvtzdTvw++i0qQnT7U9ksGJkAqazvwsYGdp3ioc4MTCwEyNsTx/ww5xl/44ZY1kr5Y6bjdtQ/b30xYGij0Hmkp/jjqgRrLO04tPtO1CtoOjKddJavg7/921+SsoBVJ4Q11bzo2lvTU20PanN4xTK5L3taRWKnDmBM1EpSAljyksyb/s9OP1dJy4MD0Xk5JlYsGguEkey75mqseO1r/vrU9UJA6fhl5COhEADgke3YN9RNQ0/Hj/NvQVGvQWNFfkoP6nUC+X22YOTe19HwV7lfqaY6lrdyjpFjBlYtHA2rmdWlaVpD37/l+NMn72IkJsSmCFixPTUKJz/thYtPCqgD3enTdnickd9LacrMYNr2aJUjLuah/D+EeteKcBnwukKn2Pf9+FInBCOsIjrMKbTqh/K9TliLJIzM5F56yzcylKMn3iqgSuCf3oXfnotK5iOSmz9NAoLHU5Okk9kUioH16e4OEUuj4AIq9+ZiEAr+ecRN0zF3EQua5tR/FklHLezSMPcHF6n7ajY8pVDnZotUUhNCUfAsG7Uf1Fl8zyqT0KZdAvuSBZPI/Kz9GDPQVuFXL7O6PGzMW8uT7wv8E+cyWtOCGbePgvR11hQV16ASqtLTs7MxqTgYTj9zQ6UScqs/Bt+Y+IxY6bYFm69YTj2lDtpxeHTkPWTCHBRoR/e61KnENu5q3t1Rw86jx3El3tZez7WgOMdF/Fdtx7j+ImWXFEvrcDefbvw8cfv45PPDqLutEc93jnGHPz73Cj2rB0ozf8cUfesxM8zrdt7CqIl54FiX46+BT+75TqMszqNyyaN9BNnABX6hNtTNyx6xN7C28Nw1s7UnnhyEY2n9YhP4fpdJMZ8VyYuRWKK9pT772HjpU6SeXWa92ZWIvjuPPybkcmLc7X4c36V+zGKcSV0B6Qtwi9nhGM40xF3bn4RW4vYeP3lfuw9HYiExChce914DGOGYx3TIeR6GTk2EQk3T0XqtAhWv3rFE1b75EDfKVARiEtLQ3KCOHYnTGd9bUYaZsy7Ez/LTkNY137hGdzWvS/l/vetaFQaT1WkxlbB6tSIBWcOl6PyH2MRFRaM0KD+E8tGDbegs60Ghe/8EZ9W2xrLqmWsxJSZdwqyjwlanClhY5MTpd99+xlcnaT37x1ou3QKuz76Cz7cydqHO3uF/YKp6Rgq9n+BTw8cQ317Myq/arGbbLODH8v/yL9hBp/tNjeh4K03cUhJhZPbUHczCl97D2XCc1npnmysnutOV+w0IllJD5Cv7ULv6WmtdyxTnoZfj5843JdtcrTF4jFl/i1IdtCnPUuRhi517b8tANEZ8Qi7ZjTGBXWh8hvr+uSRZj9HXrwBw1g9fPpOBdM+RNzKBKecQ+d1aci+1g+dZxpQtqcQW94qRLmzdmTpQsvhUjb+t6BDb8AYgwEjr+lB3Z4PcUzlnl/tNcNw7S2xCBttZDrSdehldd3ZeQl+UfFInJuHR+ZehwD2640l+fjLN7bGk+fPqQ31kTdXi9MzJpMGz/Rpaf8Jf0P//hLeuo4rThdhu7wBVu5KPPVInjTLkYsFK1bhqRk8bN6CFiUvqOwB9SIJoaLvzvSdkxMnmDGddLsYVvjblbmYE8VGc4ewQomm/di6YQsKG9hAMCIISZl8n5EnsfyBXKT7YImBZmq6cJ7/P3w4ghWn5JKlMDYzLqrRhK4QYticE6SlOaYTu/qWnRRrPNjINQakL1skrufks4i7tS8xcoY+OQdLH1uMHCNvY0zRe30Tdjtplq4Im2gVjjngNBl85YZ7ulHz1g7kszZmFtp+Lh5buQrrn1qGFXenIY4ZIWIY5Q4P9jLpRsnn1cJAHJx8P7uem32Z9InIWXE/0oUgs2oUfurhLIY30YcgIXcZVj+SjSTWQPlm8K+8Ke0rZC7H9o2FqGDtSBcUj7yHf4WnHs5WJ099SOSsRGFJID+p4xW7EF5z6Q5sOcSdhf5Imj5TzBwI8ukWvE/tL2RjShearZYKiYm1LfHb3udcvc1Yc0j7JK8t4dISwW4TpAPC7TDhvKBp66FX2mw1UD4pzoQGuwiLnCiXrb8Pw4T+ja71EfEOm4DL9EfvdcDtiqzwDNzAZ7V6mnDEZpnBZNzIZ1V5vWmOCO0ncjZTPPkLLuPHxCNbnfAZMOZmprjvK8LOmk6xnV/uxKGPilBxpB6dXpLvthgxJ1dcQmA+UYqdp5nefdq6rYupTU2DV4pctU4enQZUizZBB9C4b0AT0+++5vug+GPKnPnico6UPMznS1YsTSiUZd4AEU53nCrKi4pPP1C9TO9K6A4JN/IIKAvqirfYjOeWowXI/4YXcgiShDW0MtZ7BEr7Arqgf5kHjxTrH7szE4zCNSLZ2Hv5QjfOqxMbgyv3B4VutO3ZgY2/FSMeVm3cguefZ/3iV6vx/IYdKFN1Eqcr0jBJ0Ac5EUjKcra/zlCkCVX7ytHmSaTHOSajylxMlHDb6R5R55kSxKw6pott3fAqSjzQaQVk+8UVk4I0bluhYo+hvhUfKvZpipJH3Bhk2OjRA0szJ6oNnS3F9o8r0dajk/a57N9Dcx3f85JHmlm6UOKtSDOGqeBlsS+tZ7av2sh9eTUA65NP/mo9CrQsRTbvxZbX2dh81gL9mBjk3L0Eq5/l+wYy+ZfKZG0vs0X2bBX2a7pSXHX9tNt+kF67RD6O0FSTr36dmnyMpNVRf966jnv4jtp5WHgrX+8vZclwx8jufMWwPee/NRkLnnF+xKFmbI72MyLn8SXIFMKwTKg7vBcFH5e6Var08TORc3saUoS9W9jA/dnvsLnPiJyLxWszNIf1OYXd76pXdklvXBGCzOW/EJR/bjxu3VrUF57Ho4qy/yMHmUwB5xvvPmd11J7nR7eqrBeltuOiXcntVOl+dPMfxTqmCHUeZgP0O+Lsrnj/fN+dtdh+yPXfO6PvyE+u/Fm7VU21fes6PUVsKzMwNVyY5oP5bDXyX93h0inkqk74Ouaw0So1Nbd0az5eUBeSiKSbEzEpNkRQWk2nm/DNkf2oqFXwCGqQH3y54tKsGPAJLoupA1XV5fj6qNW96ZnilJKKafEhMPA6YgZ5/ttbUOZUhsvtsxtVO7djt7KV7RRzu3rDLpi1y8dZu+SyoK1mF7a8JZ10YoMRUxfcheyJIbhY/ipeel++8WwsfyED49GKnU9scjhamSuPuctv6nP2GMZECKcJcKNcOMHImoBgxAWxdsZPxTgrldyFemZUFTkYQOnL1iDXCNR9uhqbP5MyrQnPxWMrUhFmXXcejQfMkP2luMGdpWkXfr3JmYHnqhykzzT9LkPV0enaMdy9Equ5ceniukkPrcKiCf7C0sgNrxX2jymBaViwPEdYktlS+jI2NGaLZSp9LON6nI5HnnC0dSuqTgYjKVZnNwYpycH+/iDLSnvkvzGfKLQ9Ujnhfjz1QCKC7cpf/r4qnUI/E0t/PRdxzKAo3MdqdBZrfM1sLNqofOyrvVx3D1fUIzDK1VKkqFl4iG8YyffgemePS6eA5btWz4weRrB0nKnO0oSC3zo/ztTl2OtRXxNRM6bL39GkDwr060xtZfk4FpvHXlvQWPwHbPzEC94QI+vrwmk4/N4KNBwT7nrs95Xu4LKdprI6vCeeGaZiGTt+17lc4xG26cK+WjJsbGmoRbvclswdaGl27Dnu6t77cj8RuY/nIcVegHmKqRpbX8zX1N4VdaIgI5KELRp0GBMZAYOOGeehZhSvehVtGuSWbt4S/Ha2EZcbmtAZbUSki/7ovv0Mlk7iuzrRx2cgc7qVHsaM6bqyj7C1oNK1HulWnrHx4Tl+iEcrCtn4Xyzl2sCPIb8zBnr7cVe+tsN47Cvb0SAc063F7+0KzWMNnyyclY1bYoMRJpxqakZnexfamyuxe6ej/epOJgxN2Hg+MRUpCTHCHqkwMX331CmUfFkOaXcWBwbrOVUvm+oL8es8juIKlVOGN6YhOzYQwy61oVwKy/bWddxjwYWGSny55wDKz5txqasD9aeaUXngQ+x4+2841OhE+jhdYhGA4NhwXN1tQud5J+kiMIqHEVtMaGk9i3al78iprR7l1bLUPIf6cxfRdqQIO/78Kcq+acYFa01hUh4e+0Uesm8OxakSMTqAYznbgOrS/dgthBY2sbKxDi2MRcqtPGTeS5ianIeh23ARjVXfIyBpAqLHRiHllkzMm52JW+fMxbz0BESPHCZER7z9yofC3jcynoeaqagXns62oLqiDjZqhtO6Bs4bUzDHGICrL551CGkVQ/d70XKkoC/UW7x/7yybwlX8nQkVBZ/idFQ8xhnGYtL1fjj0dZ0mB4cIH0AfxaL0WESOZNdmylbFZ3/Gpu1f4PQl6StOcFUnvRfPwdTZ5aVkUq0Yy/Re7MDpE9WoLOPLuQ6i6ps6nD7rJKD3B2ZJ9Z7Dqaa/o8ZN2K+5sQJfNfRiVGQoxo0JQmTUBKRaLTGYPmkCYkIC4PeDCXUHP8WWbYU47nKFlRyirENYnNV1VCYj1Lcfc20rzMyWL/v4jyjYU++krZxDS1Upir/8EmVHzlotLbgOSZlRGPmPczi25yBOSbn9JGHu3YmIkcLBR0rG6XC9tHzCOuklBXa43irPjEqFMOSYtLmIH8X6Us1em+UxfYxMQPr0CIy07qMu+q0yRiGSLYcvEzTX450/FEBYaaGIq+VjA1w2pWYZmQaM02aL8sLFddtrLmL0lARcGxKF9J8w+TIlEak/ycLP5iQikvvXmvdj81am8DLF7VhdNcoOVaCUpVOGG5E4xnVIv27Gz5A3KQjDO6qxefcFTEoOR+S4a9HxdQX4wRccRznoZpkr37ckOwajh3WhrJAZ5VZhzpG33YFbw/xYH/0K7x/qtzj6dAq3yw/8kbDwPswJ1cFU+zds/Uszwm5h5TA2Atf517P7c9QJ7OW6exJxz//+OXLTlPuzkOSl2SOCkKj0uVWaFNSmakmFPcHM2FsxM4r9DjPQPvm/KFRc0inicuzV3Nf6UTOmy99Ru3Skn3M43jkWqazNhUQmIvoapg81f4mN2ys1L+twwDgXSx/8CWJYJQmnO776Bez90664ErqDy3aaIOrPFqmMHb/rXK45LvNg42yb1dgthvY54K7uvS/3Q5GQzuSK0LG8QE8HKq10bUW4U+yXecgRloPOxpxbUh378I2x0vK4CIwbzcbBa9gNdrfj0BeVsKiVW/pU3HdvGiJHMJ3w/72KQ4ZpmBQWjvio8yg53OqwPNB9+xksnURdnQxn9+F39TBc9Y9eh2exoa9O/JF09wL87PpApod1o6WuFDte24JPWRm61SPdyrMLGJeaxuSJHj2XlNtm0rw7kcrGxs6Tu7DvqLiNgIB8bYfxuJevEEVna7Nggw44/b0OdU1c6eyB2UaPHli6cFGjFm65iDMnKlFRVop9wpLH/SjluvgxO/tVov5rcTsMtTJNJAaZD96P7Ay+vHPgKXHs2b6tH9RhQQ+zrRu/4c95ABWHj6Hu78yGcFFUAdEJTI824du6A2BF4TNUR97IMwY4XYonNxSqMrYi71uJFcnMmmAK4sqNoifSW9fxGQOYaRrQ37rCV9f1Kf4wMCE4Jzmx/7x/YZfzPfi63PHoxyvilXVVrvLMDzP2tj67pT/8T5+BRU9kI0nfip3PbsJuyUK2n83yZPZM/hsuMBr3bWF/x0YOYw5WLGEDt86ClpIt2PCRkqbjGt5/lo43oaxkL3Zr2CxYXZ3IkQra0T7bKhOChKw0jLePqFNBW20hKpztTWmPPgRhSYmYwj3ufjoMv2TBZWbUtxypRo3q40ud3+uo2FRMDdfBfLoaJSeV5v013u+PEFm2m08WYc1r+x3K1JD7KFansfHCWvZrkYf6GMx5aBGy+DIgSweK39mMwqOuZpe8FHkTGIFIA2srfFbaR5E3feOiu+vyGbKs+chKNCJYUqQt/FS1A7tR+JmyPJBlkdM+2reZerewGfLWfXw2/VfINYpRlS+y++GKsaMcdBV5w48gFa/h0B765K7j37m9Vwm+DObpe1i7sYpE6ctj/brivZexvdy2bdjLdfeoiLzRgPbIG77nwGL8Il1cRtNSlo+N71e7lFUu5fwAdA8144f8Hc/GAn9MfeRXyBNOwGDj2zvrkH9Y/MRjrA4JcIhWU8sV0B1kWdB5ZBue3249YPhjysOPYUEsv95adr1uh9/TJNcEDAieNBlJ0eJyq+FsbLzMxkZeBy01x1GnIorW53J/MGD1mfvQZLulxzwK2ILxqTEI5ntafVWOQ7w8LpvQZqczqJNb4kbUixMM/RGj4ay+lrP6Yjphn55ohfv2M5R0EveRmIokZCBzbBcOlVc7jYBQREUb6mt7Z8vx/IsFtg6ePn2cyZu3mLyxXoojX9vL47wa5DrXjrNIaxVkLcFaNs5opaFkNbbslN64xctRSx77EKTIcycR5O4/9z6qI296A64XNlrz8++F6auDOOVKGxAIQXrWLMSwQu+s7/dQeus66pE3dVK5KeoAZpoG9Leu8NV1fYoFPa0NOHZI3OhWSIeqcar1oqJ33d1MjTq8WNffn8U1iamICx6D2L4ZDgOSFv4b5oX7sYG0FG9+2dD3LN6YPZP/xnzyb1j/TpV47XPHcfyaBEwfH4jRxniEfFcubdCoHtPRL7Fn/0Ec7xiGMdeFY/Qo9hvfKdeDNerq5GpcvsaMdqUZAmfpciBimBWpfbZVZgJuu/82pMeKGz5qSYHfa2hflou40NIgzjh+cwzHhZnHBrSrKLt+LuJMnTxraZsu3TBDqO/uU3ux5d0vFL+jecPwPrhC/p/Ik2YF1acE9KrYsNhbmM6Im8uPHXstonXNOFzX1Ve2+rT78b9mRWPksG5UfbEdlU1Su1cpD3Wxc/GfS+/CdL7ptyrHDUdF5A1+QK8hBNf2bfaXiGm3zkb69HTMy8nGHfPmIusnUzH9xiBxI2AfRd6YoqeI173Qis9Ljztvk3yG7FgFSr/gs2NiKt5/ANV/P+vUqHcZzcIdYg/nCZupcwP3j/nHmLFmwamj3ztsim0en24nB51H3vQdJMA3Xf3T+/i71QbtkffkSRtNl+O194/bRFe4vFcJfdpC/Opu7qThBs9W/KVG3Jixt7UW7eNSkBJqwLjEaYixa4OOUQruYOPed8ozm54kTbOhfCP6/1qK/+TRUOw+1DhuOC7lvFJf405tPo6MCcKoMbGYlHETEuOTkT5vJm69NQuJI78QNpBVM37I3zlz/AOU1mob1/g+Nw9lhItRTOzfyIhAlJfwtughfB+zZXchLYjJC1Mt/viH99DgycWugO5gOh+GyVMjEBIWgxBzLWpO8TFKdOQtmszag7kef/3TASEizrFNq4woZO1r6n8swtJ7b8OtkycgXhpToyMipPE1FskpU3Hr7KmID9ehsa5BcQae40u5P2hYmnBM1m37Eo8CDhc3tOWbz75RiDrelxV0Bvdyi7WZB/43/jOBdRD2Wx/+/n0IB+9+X4dD56MwLTEUoeOTkRjYgfKajr7ru28/V0onUcJNJKYzzjShsalDiIBIuncZ7rp1Kq4dpiLSQUUb6jlmxui0RESOjkByTC+OfSO1Y77U+KHZuP4aMB39c2z+W5NtncrXVjPOB3Jb5We4b/6duOO223BHlq0edmtmOqYkT8CY4Rdxqsn5OC1zWcfkynenlfVtxXQOfuGhGHW1kp6jkrGxiB/N+vKFC6oS/JkN4z8MF5vVyzWgDVXFYsSO09QZJfoUuENu1Qb8Wek7clJ5SJIjUuS5kwhy9597H75aUB2HvkYNjyrWGZH5s3gxzwX8KK1pIfxVF6qsl9t46zqqkTd1Ursp6j8f3Cu7/oXnsPqByVLOIMCXevFNrB7P89KxhmrwZl13YHdBqTBYGhJyse459izPPYlF8XwgbcXuQu9siqiEpcd2GVHnx1uwtZYbnXwD7kVI93SRa0I2lvJNBxdme28vJNSiQjoKVHVqdetWc0MtPtombva44Y1yycvNj9KX88SUf0I01FvK+/O27xOy/oUwocZqk1znqRotA15v4AF8c/niJmZw+SNu1mL8du2TWLH8UTz2DOtvuYngh0d0HmXf2ach+oApRukPrMTqh2cigc/Y8H2JXn1ZheNGJSNCMNVqo7856amYEs03/gxBMLvfy3zZbHMTKmrq3TuQB4LZIsoJNUeW8lkyLo8fmStleIYudiYWrRD3DhLkYIEYYSPAN8Xethd1zODlm2LPmao+Hk/YHFY6SICf4FB8WvqAY8xB3sQg9oIZc1/v0limBsTd8yieyuWOG9Ybagrxis2eKN2o+dPL2HK4i/2y2AZXP5nndONlTfCIq0EZdw2InL0Qjz21GDnR/kCvCVWfMHmnwnGjmoB4LGXPwp9n/bOsf/YddZ6LXGnMTeIb1wb5Y1SA2mOpExHMK4VhsWjtm/HInZco1unR/SjjjWJMMhbN9/RIbKPgkMxkhuvA95i7ArpDUwG27OMRL0xH4NHt7DflzUP10jHVFR4/D0OISFqMvIQQ6Jl8qzm8C1v5mLpxHVY+sRZrXmGvtxdhd00H658GjJ80F4+tuN+57ucLuS8j9bv1v8yWMn6EBE5GzoqVWCQ4brpQUrDVZs8qS/k2bBTqW4fIqfdj9eMLMTVW+nAo4qXxR4kwaePtKOFIf29Qifxt+8X+G8vaMW+T7N7XP5WDKYG8Oiqx40+O0WLq8EcYK4vVTy7EgtQYRAayEe9Ch90m8h04e1mHMeExyLxzIdY+swSZfDN2F5jKdynr2k5TNdovS3/sKaX52Lxxk+pUoTXuYigxQTocIoCNtUKGHfIm1n76QTsERL3zhhlMRUf4CU7cs5vLGp6LxhSYhnuzRGXJ0lSOIpuTIbx1HR9RU4TNfFDaVoQGKYvwAJ0/rhmhg95fXShfzSHRiNw/GHUs466um4rwyjulqOOKoY49C1MozF08LM72RAffwwyMd4pQIdyHETkPZ2vc7d4zSt5nZePW4cHDBftPqVGVJg707rthaqhHywmeuqVB9DLMwvv+1CmNrhazVZ6qjfb+mTChUXHwtk9eGMw9pPPTV7HmtV0oO23C5WFscIwKEZZamrqasPuddXj+T+o3CwWCkHQ3MygTeEi/BW1HCrHqeVcbSmuhHvutHF6FH+/ocwpueOVlPMlP3fnVaqxatY4ZNa9i+/ul8CSuTDVN0skYTKFw67zh8ovLY5bUYG5vFBTJhnZbVwmzPaHnDjF+HOurmxzlYNMubH5hC/KLmWx9R31svaV8L4pqutDm4FxhRvXdqYjkvqKmfdqNOeMc5KaKm5q3HXa28SyXr+vx4ie1aOuxoPObUq+dkjEY6NNy8dA88WAGvhH91nXrsFXpMAZPMHWgwcawkNKJSod+IJyuw/rAhr5N0N1hRJigEZvQpnFvgMj7csST/i7UIv8vRfigmO/xxQzZaTmYo9l/Y0DSg/eLDknerrcN7HAAgSugO3R+vEmUow0d6OxlI6K5i415pdjM2kO+3XJArUT+bKa4lOx0KV56fh22vLMXVXxMFTYrlsbjI/ux862XseY3BaKuEpiInFxh5lUR78r9fyb8kZCbLRzswfd5KX7nDyhQqD9e38+/Uy5MuuhHMLl1UvpgKKJx/PEZh7ZhjZrT8Vj/3fhiPnY3dMFkEe/bcqELNeWFeHFdvufyIW0BfjHLCMMwE6o+3YZVTF9Ys+5lO0fHy3jpN6vx5PPbUMCXrgUwnX+B60nwyNsXKuvaTtMsxA10f6j4DOkUZ3VpvLeWPl0BIqfGSDZXMKLThBc2RCaxOuUvdBGImyFk+RzVe96I9J/YwQV2Y2kR3tppveuyP8LS5+P+rMmI5OspmaZXyBqjzSyagLeuowZXexh4GY/W5PINmbLFGWJn6Jhyzk+U4jO6bKBzKTfaD2Lzu1YndDDUra31MldkffIg1rUd3li37rae+tbbMgVH4wkYAj6pE7nMWTdlho8W+//8N/l46Z1q6Z2nOK9zdXXgo1PZ0vKw9GbniitHHxiKSANTCriBdM51ybUd2IQC227tBq19QV5b7Ph9HpacHiq9GSjeWBPsth1PRtYDRjT+dVffSXfq8YEMUbHnTd+pLl3HsXOfWqdHBhatzUbSCCZ33mNyp1zKVsKL++7oYuMxprVW1V4gjn1Q4x4HsdlY+vMMxA13fmKSO7kZPC8XU9t3Y+dhW0eUInp/6MyyQ9hRrmtCKvPBGHfjchci7lQRdivsJ+cOed8ZLWOVGtxed9L9WL0gUdyD6GlWt1K2W4y5eGxZKsKY7ijut8T7eP9+SZZm56eHOdK/pwjXM3cqOSR9jDd0By04tmlJ5rnQC7S2keB7VuKp1CDvtn21+osXZZ1nuC9Pjmu5NRlz7gli7XuvCjlrYLoEswukiSmn7edK6iRO60TeI8yC881N2vavkfCV/NKM3D5dtLu+Oq8twJo3XQ3YMqlsvMx1O17K10WvhQfkaoDJvFUaZK81cp1qxOv15GtbUz55kI2sFh0zvpr24tebdvWPs30nWIqf67oqsWFdvs/3vdEQecNpwu7XeEgzv21/jE/Lxepnn8M6Hg7HkhCmOV9yuEgzc8oOF29d558BA6KixLA/p0k4Cpyh47MTCp9bp3A+HUX8U9JUiK1fiVFrhoQ5uNdV1Nqg04rdq3jUgfo0cMeNN9CJEWJeTAJjQ5T7p1XiShJHZ3D/Xe+FBGtHDkv2TvLe0ZbOqcTOtwo9cNxcOSZNyxCWYE2bIMzfqGQ/6uQxdEKMmDUIWE6qc9x4hZNFQiTPhjdtlw1oofPTAnWOG46V4+bHRF3BNuz0wHFzJTFMiBBnK9ub8LWQowYeiZUshKbbRmJ1o+R9camSLioND9zu2kjtY9YicWkKZ1goMv9L1EEVkw+WfPxYaDgnlnNoRIaoi7rEiJQosUwvX1LZ7wg7KrH7PTWOG06/48YlQ1InkaOoPXPc/Oj4h+gQ0+n8VfQjht4f/sLm95dxWYVwN9V+oKhrO08eOm6s4c4qHs2kMl1RB5tW+D5HCzOEzcFbvs7H7lYLdMYMPHKnHN7Jl9vOQhyrzLZDW1HI9+cKmoyly+b6fHWExsgbGaYsZi3AXWkxiLTXxHtNaDxaivwP1Ageb13HFfJMKt/7oVqTN8zcWopiphCpxtceQA+RvbKudpB3huYykJHLgu+4f+CkGN6vEs93s/e8rge6g743Zs/6vPIuZ6v8kfDgY1gc7699ptDjOulGY9ku1Cg6UOUy92Kkgjv4hplMORQHv8nIeygVkcKeNx/BemIiMnMB8ib4C3ve9J1CYu6QQr19DD9tKNR7zjVzu9YlX1rrxXnkzZDDp3LWB+3Z7UywP+asWIWscKClZC02fKTe6aSbtwS/nW2ErqMUa9YXMsnnBPkeztVj99F2KVMNXaj6aL/Hs0iOctDD00VcoE5ueoZjlIIGpDL3ZNwdzFPmfDVz7fq6rM3/krX5CAvqPvsdNn+qrs0HszJ9nJWpzkk0dvD8R/F4egj7vAkFLzLDxJ3M1DJ77KNIDm/oDlpwbNOSzHMlT+XZZzbomprL8dGe/ag6au8sNCB4agZyZqYhaQz74oAi5hVQK/c9lnUMTZGPzlBRngxfyS2n7edK6iQ+rBNZznSeLMUhLW3NK3Vthdw+XcmJvqhB3o9K8UHBXlQp6qO8L81EXlYa4gJ4V+o/wVEJX46BTpHr1EdyUTU+0QcNiLs9D7npMcL+W+bm/diwkZV/nxzkS/LL0XhtKqYGsS8w/et5pn91Wp1WyA+SKP6sCEUl9T6ZVPHQeWOFtUAYiGHkres4ICvj2tHcEXxqVHiO3LE9wWNhIJeF9FYLnistntf1QBWl9EfWsAHEhEPvrUfBEd8rYB7hcZ24Ml48L3PX13XBANrWFR9oBg1P64WcN2K5DabzRg6N7kLJG0x+aNr3Kw2Lns1Bkr4Duze8jJ3OlFctRqoNAyuHuPtWYtGNBqvjQf/1nDeeMJjjhmsni+e4vG54DlasSEOk/XHa/4IMtu5g/3t9Ms+NPNVNzMFDd4nGpIz1Uum+qFOG+WwtCt/PR9lJL0Y/qpX7A+h33tEP1JWnr+TWkNQ9fVgnspzRjLd1Qbl9urmuQz9SWOpk3Ze4k+etNwrR6CKIQa5zj/C0HDyuU++N/QK+0AetnTQ1u7Dlrf19jjNdah5W5E4WnDocvoH11t9b7YPETy1cmifuWcXuactLXthDTYGBO2+GPAYET/AsVN/yXSvatITe8xOW7knEKFM1tr6Y72WjwnN0IUaEje4XBlrQXAYyNtER2tAeZSDjeV17/pvKOBotQwCP68TVemS+YfFNHu6wbkLNzm0o1rpJdXgqMqeO82z5jbdnW4Ys/CjK6z2ol4FFWgwKPpWz8h5IrZ6vBbeHn7SRzpQcpiQJ+yHZo2eG7LPMkPVQ+YhksmZFchA6j2zD89udtG2PZ1270XmCn2riLRKR+3geUgzWxuPAkGWtd/bQssXR0NXAAGa6vT0euUJ8Rnh9rHJ13eC7V+KpqazNHmZtVsPG1v8KDL7uIMk8VfLUH4aJqUhJikfCWAMMQUEYxZd1XDahs8uMzjP1OHJoPypqvTX5aoVauT+QCBOvTBxLeigrk7YG50sZfSW3hqTu6cM60UfFINgjpd/LUdhy+3Q2zttg24+CQ/kBCxKXutByjrWdk7U4dKAcjSrsL75hcU6sR9OZivukqkLFHkrKeKj3O8NH+mBw2kxEdpSiSskBHTgZmblpiD5XivyCSkX9SJ88E0mWUpR565RTO/4FnDcEQRAEMURJXYjV98RDd7IIq17bL2VqQJ+BRU9kIwn12P7CloEdCUwQvobaK0EQBEF4jMYNiwmCIAiC8BaG8aEwwIK6Gg8cNxzzfmz/uBw1Z/0xIY02rCeGNvrUCOjPtqLks+3kuCEIgiAIjVDkDUEQBEFcIcRlrRYvL08iCIIgCIIg/tmgyBuCIAiCuEJYOprQQo4bgiAIgiAIwg3kvCEIgiAIgiAIgiAIghjCkPOGIAiCIAiCIAiCIAhiCEPOG4IgCIIgCIIgCIIgiCEMOW8IgiAIgiAIgiAIgiCGMOS8IQiCIAiCIAiCIAiCGMKQ84YgCIIgCIIgCIIgCGIIQ84bgiAIgiAIgiAIgiCIIQw5bwiCIAiCIAiCIAiCIIYw5LwhCIIgCIIgCIIgCIIYwpDzhiAIgiAIgiAIgiAIYghDzhuCIAiCIAiCIAiCIIghDDlvCIIgCIIgCIIgCIIghjDkvCEIgiAIgiAIgiAIghjCkPOGIAiCIAiCIAiCIAhiCEPOG4IgCIIgCIIgCIIgiCEMOW8IgiAIgiAIgiAIgiCGMOS8IQiCIAiCIAiCIAiCGMJcPSYq7lnp9ZBFHxWDsLAgjBqjMY3SwfzdRfRK1xl8EpH7+C+wICsVo89+iWNtUrYdcfetxIp7b0NqeAe+PNoh5fqauVi8dhHuujUePXsO4pSUa0NgBCKNIRh1jQWm8z1SpvcR6jc6ESnTJiMhPh5xPMWGsk90wD+6YL4kfm/wUFdvnpL+yBo8/NNZiPHbi4o6KdNXZC3B2kXzcesNw7GnvF7K9BKT8vDYL/KQ7e1ry9e9ORSnSqrRKWX/UyL3MSX55SYN92HfEGWuATCfQ4+F58h9woW80Ih2uRePKfNvQXJ8KMy1TTBJufb4sn8Nat/1Zj/QhyDsunCMtpLlcvmreZbIGTlIT46HAcdx+qyUaY8vZc0VwPO6TkPu8p9i5rTrcKmsGu1Srm+RxnNvyswhJ4d98Iwu8GVf19L3tDCo8olQha/qxLfX9Y3uO1hcGZtqYAz5vivpqtdcbcaFi1wpHFx5rAsxYlzkGKvf9y2+rA9v9DHtkTcpC7H6heew/pmFiJOyfE363Yux4iEP0sJsREvX0ELcA6uwnj3j6gcmSzmeosM1/jroR+hxjU7KUsJPz77Dvuvn6kvehv0e+03+u3opx4EZuWI53p0hZXiRwMnIfOBRrP7dc1i7nP3GgmzkpKdhjpwys7GU/fZTTz2Hdb9+FAtun+z8Pr2OynrzEKHMeX0PRnXrpDpmyevo/PvakGsMCJ6Ugcz5Ocian40pkyJc16V8XX9/KcM7zPklk1usXy+/U8oYCsh9zIO0YIZ0DR8gytxFmJ8gZfT1CZaknD640b52DdY+MlfKsMPZ55rlXgwyBPkwGX23pYDc3n/8fdeL/SBBlKc2slwufxXPkpAiyuWMCVKGEr6UNV5AH5WKdEEGiSl9qms55HldByEqKgJxUSEIk3J8D7tPfr/elJk+ksOe44NndIHn9a8ClX2PGyxJs6U2OzsVYSGun90395yN5Vznf2EZ5kg5Q4I7lwnj+fpfZksZQxNftSPfXteF7suN+AkxHqXgQOkaqvCHIVr5OoopOoRJCAlVugWfkGJ6CddNtKbH87xu/6qpzyuqw0q66tI74qUMdq/8ngdJHkffscju932LmvrwFPHaA7Mvr7p+2m0/SK/VwZ0398bDcKEWm3+zDYPhIOQNNisC6DxZikOnpUw19HyLkp3lTmdoncGdN0sT/GGqLcCaN8ulXDfwmc0oQ7/wEDBizn1zkRTQjaqd27G7WcqWsHzXiraO7v7fq8nHmrcqpU/VYUidi/QIFZ2n6zh27quV3nD4gJyB8WjFzic2YbeUawMfHGewgm/dj5W/L5IyvYCR/fYS9tu8sC50oOpELY5U16LdDJjb62E2MCHPtGp9eDyS4uMxKTYEhmHss+b92LCxSJuHNzwVmVPHuXf82JTPZCx4Jg9TWL1VvLsW2w9J2VbIdaYO2+vI7blx39PY+LGYpx4jpj5wF3LiQ6CXXK8WMyvDPR9ge3GTmGGNhjrUTczBQz9LRZyhvxWbmkuxfVsh6s5JGdbIssDFtYMzF2LxnHiEjZAyZHq6ULE7X/mefSRj5HJvKVmLDR91S7kq4bPQ9yRilPRWCw0lq7Flp/TGHq4IhWob/FJ+uhiZIZ62H3WIZWXdbuU+oSAv3LUxJ59rl3sqZBZDbf/Sxc7FgnvSkBTUX/4u2zvDo76rse30tRd3/UBxzLGmG50nWsHEqmJflctfzbOoem5VsiYGmQ9mIyFAequRtgObUFAqvVFLYBry/msupioZvi7kkEd1zZHLGhZUfbwaW/dJ+WpIy8PSm0NgPlmErZ9oiV6S+oZiW1Fb5ibU7NyG4hPSWx/J4T6MGViQNwtJrF7kNmzuqEVhQT7KTirJZ1fPqAJnv5e/DWUKw5D6+vfH+PmLsWBaBILlC/eaUFfG6rCgUux/drjte/pEzHnoLmRFObZZLqPeeqMQjQoX9rjNukSWux3Y+ezL2K30QK7gzvt0dlOaMeHQe+tRcER6a4+v9FNF5DJwg0LbdFUn8meqsLu2q+sm3bsM6Tx4XSXWclW8rnPdt6/cPUBbu5R1DumtO6zKR51u0X99S48Fl6VcVZiqsfXFfEUZxKN+Ft1okN65xlo3VNN31XxHCzzCmttazpBtVAGp3vvLdIDyWCMJD67C4nh/WJp24clNe6Vc96i11ezbivqydrTJ2MCCiuKP8O6eeqYFOOK2j6ngR7Xnjam1EDs/0pA8cNwAIUiQjClD+PWIFF6pQJ7ZtEncccM/9EdSlv1n3vEghk20ilZxlZJjpL+48qTnpAmOG66grvrNy9j6ThEqjtSj5UQ9OpnRZG4WX9ftK0LBGy9jzboi1DCFQR/FlPDZ0kXUEnEjZiqVh11KT2DWsAbM7Y2oa261SW2SUmPuss2va25Es/aGqICRdfrFyGP3yoWEuatD+E0dM+Km3L4Yy+80St/Tji51IZ7+eZrouLGY0NJhgqWX9QFW5ktXLEG6B5cOZsL+8dtFx43pdC2KS0qxu6QcFafZYDAiaMD3rI0MRI4VX4Vdmya+0IJVlNFwKcsrnGsV2rqWZNakZVjBB19hBtVZGkIzq4qze7LRNRx6h8+0zerpUu/H4w/NFB03lm60dVm19+ULkeDW2+sJYvuxb0PDPW1XimOOdcpFuvRV9RgQrFC2eunmdHrHzyKj1CmqIgYpKsWzFCX1YdXoU7FgeY7ouLnQiuKPd2DDG1uwYXsRdp/ogtnrcojJ6MxY9pQcHZKm5yJYeK2SsSHCc0aHailTd6gt8/HQVJUDQZjAycYU7kjpZf2vowsmpuXqQ+KR9+AvkJvqXtnWhMLvmVl/F35vCZN7Hle/PxIeeBTL00XHjcXUgRb2IJZhBsSl5eGpZXO11T+Ht9n/vl903PSYUHOYj5ssHW5CZ48oo5b/t69klALMYBP9AEGIu0V4oQ05Ik92bP0o6UKzjU5nl7okA/dchyYjtu20/bU6hH7AHe9tNvniZ2r9ZmHhSv3bedIkV09Uiu1RQyo77ckyl1YcKrO/FrMRhM9Yv7DJZ6nsG3i2AqUbVQWrsWqVhuTEcSMgRf38GNq7u1UtgxXl4hZ9BqYaxTFBFxGPdA2yT8lWs04tF6Qv/sOTNqpgk10QBjJMyVqEFfel9k0UeJsflTgNnbgMS6+T3qjAk1k6XWo2UsZIbwLjkTPbH5s/UzFL3/oN9pZ0aVraY25tlV55TsNft2JDifNqHDX1LiyeFASTaeC/5S30bDDntLfuVzcYnduPxq5spqwwA0erwlJThM1v7Hfa0HUp87E8JQQWpiRpoeWTbdgsvZYRvKns/tqPbsJmL3jF7Ym8Lw9ZEexJTPXI37alb7YwOJMZH7fHYPyMPOSeXI+CGjFfNfqZeChXnCluKcvHxverRW8xM9TmPLyI/aYRObnZOPL7IvXO0PBsLJgewcq9GzWfbMUWm5ntAhRxxw5TCsdPz0b6Z6+iRK1W4iHB81ORIEX/6IypyDHuRaHCbKtbLtTiDW/OMvTN0g8CZ5hiaRf9J6JnBniQILs89QsJhKdh7VoFx9gwN8OMLkhwAgiYmfHDPZ08RNfp7F4IMplikSm9k1E/GzUZ996eiOBhFrQdKcIftpeKckifiJxlechkBt39P8/Amtf2K86aaOZIPl7is8dWkQz9bag/yq+qwMNZmI5ybPjQenZRjviU3moiAwsecj7DHJnKlLpU6Y2MppnvSmz/DUvSO7XIs2BaibxrDqawzmU5XYoXNxRaRW3Wo+XIfpR5Uw4xeZn54AJkhetgaS1HSW8yMqNS8fhK4JVNBYqREoPLwGb6vEc8cu9nbYwPZSeLsJH1M7FeDEh6cBkWxQch/fY8VJV7S846+z0jpj58P/JiI5B1fx5q1uWjRchXj272IixK4A2sA8XvbEbhUVFX1MXm4JEH0zCeR/vceZjJJfX7bsTdmy222bPleGWjbbvZKTh2ctnn7JnuikfNdutoal/AZEmqUdJrdYi7KRfBnxVoi36WYX1wlc8jZHxFKQo2Ojcm+Ox+XBBrX+e06dlV725ClfRaRBoPdJ2o2Og8utQdu3//tMPfei1qo3Y/dmpsdnEPJGMqk4va6EDNzkLYqrPZmJAeg2Amyxp3FWqPAhtETLUfaF5JcaVwtqrFGzbqwPFHwr0ZSGJCyGzuhl7P7JGHs1HDZIkaOaRkq/UTgpzHH0VkANMFW6ulPPU4s8n0aQvxOLOpwpKzcW9tuU/G3B9V5I3eEIrIUPUpeLT0hyoRBlzBiGUGZ3ktM1TZYHXrUuRMVDELdLocxXaRP8WHqlHXxdV/E1pqKlHChI3N5+UD30jL0tGkODsvJ+4F5lwcQs6bmjOiC2B88mJMjXVXtv4Im7UYYtRtF5pPCpnqYcZgm0K5yOmaANFsPt/pPSXI309bFI86ZiJrItMOWFsqe79fSHA6i7dgew1XGoOQkq49qiSSL5Vi8sfStL/fccMx12P3a7tQxQZIXUQq7tJwaUN6oqAsW5pKsVVhSULnx1tQ2MR+SWdEymwvz7LawaOKlqfz9dBdqDjawZ4vCJkLFyJJ0/prH3OOlbX9TJKbtF9e3qCW0nxsZgqhQ3qjVhwELzA5JXxxcDFMmNs/2yPvybKvQIyQ0JC2q1yeYsidJYZinz2MLbLjhmOuRuHbpWhkzVIfm411CtFJnjgQfM7lbju51jUAp9N+bFcoW5fp/f3S3w41YjD1Wi7fu1G1z9px00/nx/ko4Rsw6yKQ5ElUgQAbo9JzsfyJxcjhs4PnqrH1tQIUvlGIEjb+60JSsfyplVgwO17T5M4/LbNnYhofylg5vdHnSOGYUPXmDhTz+giIR06ul8bRWc5+rwllrxWhgs+8BsVjjuahMwY5NxvZuGJBXXG/44ZjOVmIV3bWM9miw/jU+UiS8t2TgXRBJzLhUKGCw8/MDAE2RvNnCI6d5uN9J3lU0f2CMxJdtWL0xBjWlh9Mo3ZsQzxShK0LutFwbKDGegSCBad7MMJShAzCmnB/1io5BoQlCi8IL+BsVYs3bNQBoWdj+MOPYjF3kJtqsWMDk9fMfNRFZGDFilyMH6ggCk9DHA/WsLSi6ksxSz0zkePEJjOXbsPGsi72yh9Tbs3xyeTsAJw3wxXDq10ld5utuaPxK4XwNRfJ6T4TDogOgscfEpfzmGqKsPW9fOQfZkqwLgSZP38My3PVb5jL9/lY8ay4Ee/SOzMwJ30uFj20BKufWYUVD2RoD6P1mBjcICwBs6C9fQCdUJhRV9i0y0VanCX9rQItHzChwBUBQwzyHl4lbEi89JGFyLHaTDLrnoVYvPxRPPXcKjyWFcMavwWNJR+gUGtUiUtCEDdWHHTbm1VEV7mkf1nOmHAfjCozYhHN2iY6qlGkUAZ1O48KIaP68YmYImaphAnH8VwAdaPm4C5Ho8+8H7tPcGebP6JvUL+Bd5hB7C0tjQrXFOjG16e4cAPGp//Ktv0IDlRvwPciWIbV94hRRY378rH9Tx9gdzNve/FYtPJR5CRr/SWNcs96Ez1XXGhVHDxdpQpv+RsTg8T9WExdaBAyPITPrCrI4VVfuXYc86UGfWGsp8U24clysk4n+9TY4o9pRm4UMoProMIM8uki7OfeG4aZ3YN1eC1P8tLIwcW6zbnZ7HvAmNCpULYuk3fWhKqgG51a9rxjvf4aIdquE21Ot67rQEMnl/0aozr5fkOTMpD1wDI89iwbo+anMkXSgraaXXhpww5hmS83tAvWbUF+jbQ8a95CrH12JZY+kIMpk4yQROS/HOk38IhMNjawsnJ0Fjeh6HCTMGZEGr0Tcj6F9Rnnv1eJj6pFJTuO1acmJqQigQ+d5iaUfOqoP1j27UcVl0n6CExSbYgbMIq3WTYeHHKm69QcRyN3OAXE4yHrcZOlOeHiVwYM33Nn+WOi0cQMm507tiH//VI08mVb8Tl4ihlOcVonP4b7246N7pLaNXxar8uSto1zXaObPRMp/HrnTmJ3jeNyX3nJqSpSQiT7wB+h462dl/xkHx/VtVY82LC4by+oAaJLjZA2gffHDcnuva2GhLz+yRcXG1vrApXv23ny9TjsGsXlyy7Tlb1f7YgTIksfW4y8WCYHmIwt2LYNNefKsX0j032ZXNWHD3RSxB9T5icLW6OY/17pNOrWuqxtfBjsd13ZZJ2fVKKOD2QhRkzzQeF77rwJYIa3PFuqMg2Z9XN9GBA8NQeLn/qV4CAQwugPF+C5t8qZ8sCM2Xf+gA17mmBmlTw+LQ9rn1mGnBmuG4pu9hJhn49IfTdTFkqxfTufndyB7aW1aDSzQSYhG48vz1Y0TvVRs7B0+TIx3as9gsKB8EREc+WCDb51+8QsTVgsMPewpGx9ew6f4d7wO6x5bz8qGjpw3i8IcdHxyLTehyY1HgkRQdDzzXgP78KW9b/Dxo+UN3/yGNnr2tOKbwYa1pYWjzh5WU4EU3y8PLDGRYcI7a6zpZqZVwqcZgod/4AZCdGuToRxIB5RQhtpR52TqOCWJnGttSGIzzL+GDAgcgYT/L9eJexFoGd9uW7PVrzyMXeNN2H3xi0oaGDK9ogQZN73JFYvz8WUeJWKola5p/bEOw8cpE5Pd9JI5IRQQR6Zzni5f6nE3LynPwroXaVGaEDc7Qux/NdrsO53oiK27pmVWHxPGsI0D4oTESYo7l2oczLTUtEsHe58ptI2QomlCsm3NKjYtDlP9rHxHH1yNhaseBJrn5PKfe0qPPZILpLcRkx6k0QEy92zV/pfFRZcFr7vahY7BNHB4gTHZQ2OueDbF+GxBdmYk8CMCb9utDWUY+trv8NLb+21c/A1oeyt9VjzWiGKG7pg5mNdQhoWLFiCpbcP1n5fQ4lERAbxUaQLDU6O8LUcaYdwGn1gCDQNZYokYkKo698znWgVxlR9MDNKxSx1TBANbUvHSbulLzK1OHGGS1RmiCtsPDwkCYzHlHuWYfUz0p47zGgqfHMLdgtDZxE2vr4XNRdEw2npk6uw9J4MRKp1hISk2o6N7pLaU061Xpclr53UaMzGI7dK0Vdff4AWhdMj+eECaklKGd9nG0QmzNXWHgcLD07IzJvgjfYfj5yJPPTVwk0T6K9jdoIbEao4MeSA8p6krtPgjsP2CMuXFe/LWbqy96sO8VRa6wmRuAAmn5tLsfGFV1EiR7acY3b1BrtJkd89yZ4xD5lu7HNrdKl5mM/1GL7k9VPnSyKty9rahxHH7FM+sji1ycyH0SJMKDL9wwfz+VePiYp7Vnqtjh+GMwXqHE6daka9xlR3sgaNrRelC6knJm024phEGz1+NubN1ZIS0Lv7ABzObIieiwWsohfkzEZmYhRC/IfBfLYeOz98HTt2N1jphxZcqDuIfX/vxRhjJMaNZobx9ZNx6+xMTL85HsO/O4h6Sc8XicFP752FaH03qj5+CZs/+gan27pg6uzA6WOVKCs7j5CbExA5NhSBnV+g6lvxr4KTM5EaosMwvwAEj2INmKcfOvDp1wNb8R3507swL8wPluYK/OlAvZ3eOwHT5hoxmjW7OqUy4rBn37Nnr0fJ/bn4FvS01qGqvBT72Pc/3f25Y/qMXeuLUlQebcAZH5zrL5ePuaEUOw5aL+0Jx6TMRIwbYcHp6v56ck48cv9jJmJYvdc1mBAcHIro8X44xOpPyR6Q2/O5ps9RdlzKdENwyiyhjbSfeN/J33Rg3BR+3atw9oTVPV8/FfPGsx/rbkd1Rw9GjQliib03n0MPL9LwJGROj8BI82kUF1c6RiJw/CZgeko49FddQJ31d8ZNxsyJY+FnanJoq+ejkjCH/e7Iq67GXoe2x/HH9DlzkRA4DI1frMK616zaz7koTOfXvXwW5c7uSYlJOVh8/3zc9dO5mBEfgWA/9phna1Hw9uv48ECH1T0w+VVehsp/hCPOOBbBQRGYNCUDt2ZORdKNEbhUX43T9hUnP2tPB8pKq1CjIN8UU9PfUVPXih7pMg6M5JuT6mAyXYDpgsZ0pgHl1Yqb2GggBDNvZzLrmm4cL/kLKqXLiW3Uuv3LfUJBXshtTKEdCDj5XJZ7PWeqUXzY2VaDRsxZ/gv8+6RQjPYbht7LFlz6Ry+uZrIyLDIe6dMm4EL9QZyyirpx3b9YPTKjefSFZhR/VokzUq4NhgSh/QV0tzk8jyd9tw+5Ddm0axeyRrHNNaC6tklUFpz2P4W6kr9rJQfCYiYhcYzO6bMIG47fkYhrR/rhKqYt83LvHTYCo5mRm3zTNMQMY+3vpFXBu2sHHsN+b6YWeSzTgWHXpyN5jD9CmDBQkse61H/DvamsXCysPWxn7chqmHFV1+YG1hZHn0VVyYfYse2vKC4/hnZhibQyvV3NOF7+JfZ8dgDl5824xOq0qvAAHPbxlMrQdZ9QQhrPFWWm1vFMoq+9nkd9K6tnYewIwvB/MKX5kvQdzcQjde4EhF3dhW/edaJ3fM/ud1Ysgv170G4ja1w9ozPktuPi99qiMIlfl+m1lVbXlev/QkcDTl0Wn33UKB3M310UxhLDpEzMjNTjQutBp3V19fWpmB6ux1UX2my+I8s+x7YVgAm3sPsN8ENvy35UKwmohJnImRoKvakar63ZiPflcZMlTPRMPsXNX4xFuXfiZ/NuQnKEAX5X8Siyz/DKq++jut2qkZ6rR0VZA74Luw4xoQaERTDdYMZs3Jo2CXGROlQfFaOmbJDlAl8afLDWcYx0lv5eh7omwY2nzFV+GHbxrPLfukk1x4/jtItLqyIwDQsenosbmLVoafoM69+tQ28wKxdDLzrPm/rS5eFMD2Jmk9s6ScjDQ7OjoDfXo+xbAyLDwjEx6jxKDrey9sbK3aqetdc1a4e3JbB+wGVRA/YddT4L4Tj22+FpfbLkebnzJXz/iZ9ey+wZVtavNAZjWsQYxCVE4dQBNo7bNTq5f12o/yv+57VClJcxueugK/XCwuqus9XxPs+MCEfkSGYXnmZyuLLe4XObcdgOdXqNI2p0i0sjApg8sr8XNUn5fp3/Zhpyl/8UM6dNRaqcooIRrLd+Lk/ksSuuQ9Z//htmXsv6y9XdaGs8jPfztyB/5zc4Zy9ULF1oOfwl9lWehzloLCLGBmHs2HDEj7mM0pJjinaXNcKBFXcnYDSTc40lO/DnA1Z6jIRcNnw/oJIasRytfRjj0+ZiUvAwFzbZRYSwtpAQOAI9nbbl67aPqUC78+b7VjTWHkedB8kTxw0nIDoBI//RLwzVpw7UlFXDxr/C+c6EyFsyEedvQsvJKhR+uA07PipF42llE4sLu6ovv8C+Uz24euRoNoAbWINtQOEH9h63NMzNYY2Z/WLFlq8cFQVLKyyx6UgZ64+erv7KlDs7P6rs6fU7RMfFQJVffQbump+IsOHdqP78j6hwsPFUOG+8SjymzL8FyfHxiPNCijR0edyeBKzK5+iut+06kKzs6jCODZB9zsBEP4V64ZssLkROFHeSlWLTpkpck8YMnrFGJMf0oOogj9yyRY2Qtidpxm2IH+X6bxQFgjzQBkRgekqKlCYisE36Dvt8roNBaUcnexYlIe3UeGR95lQAYjJiMTYoChOuacKh2i4r54k/wriymBSIYZYm7NlmazT1Gw0aB4XzEZiWxer0Kib4W05iz9/exp/e+wqnFI0qCy40VOLLPQdQfckfo0OCMWZkAEaeO4Y/Fys4m/qM32YUvvYeyhTkm2Jy5bjhdNahkisWnqQBO24YCT/Dv93CDAFzE3a+XdEnK8W2ZN3+eX/gn7hw3hiM/X3FOvHPOB44b+J+/gj+PY5pWKZabP2fDdhRJCquu79swKWYGxE/dgwmsL73NbuuXM5y/xodmYkZs2bh1ltZujkUp0r4XhH9CkeZs7blol170nf7UGzXKpw3Nm3OSgFzep8unDdWcoA7bjiKz5LClJvbY5kpaUJFwQZs+NPfRKPh8y9RqbsOKdeNQZgxAr3fsOt/L/2NlayZMVMq91tTMfrslzjmToflR2TnzkTqdVcrtOv+56kvZddSLRCA9pphuPaWWISNNiI15Tr0srLv7LwEv6h4JM7NwyNzr2PPyBW4fPzlG1sFzmVdM7lVf/Q4TrWYHI1Vl/TA3NKAOva3igewSGU4pJw3I4KQ2Dd2pMAID9p+H4n4SZY7vSMQ8Rl27VfAE2MhRXTWuvw95evK9T8qov/Zp98Y1DeBYZw22638MkVPUaxP586bNnTy3wsPRGRsFL6trES7taOMOwweyECMHxs6anbiw6O2lrCn8ul81FTMnzgGMHehvu4gCrb+CR9+WQd+cIoDkuG050ALOvRBCAsKxKgAP3RW56P0pMIfyHKhsxr/d9tfHcdIZ8mV44Zztkn571SkgTpudLFz8fCS25AYwIqjoxyvvLYTgprRXO0wTl8zWUWdGDOw6L4MRPvxQyP+gi1f9CA+xYjQsAkK+pOIproOn4asn0RgJHupH96Lr5iB60wvEa+rwnmjtT5Z8tRxM/7upXgoOYjpi634dMd7qCg5C7/UyYgOHIuUKdfhu9YatFjpeeocKBdxpk75Pi/dMEP4++5Te7Hl3S8UvqPsuOHIv937D8AvNFrRfpGTtR2jpj5NTfb3oTYp36/z30zC3LsTESMHE/AkHZ/VX6aeyGNXnEXddxfRdnQ33tvhfkKE03uxFY2HS1H82Zf4qq4TJxu/xClrZ7MDfCuFJfj/smIxijuoDxdi4wc1jvo+Qy6b9upXsKNQLEdrm3Nixly39eWXKLYj+++47WMq+FFsWMx3ZLcPX1eX8p2Es3Zg5/qnsfLpddjwRgEqap11Q1vMtftR+MbLeH4V+1vFkwk60CkcO6aHXjGcLwTjPQjR1k7/7tw4exSFmk7c4idmSEu3vJH6ln/FIMN6WdQA00whfNJTWPncN0soH34qyEdOl0xZYLI+ytE+7JKfLrLsUSziS27YoLL7Q34aUyXyt+0XNj01xGZjxeMLVWzK7J4W0wD35GFKWd9zWB9dXtOF89JLp0wK0r5Pk3kv8r9qhbBhY/pirH5yGRbck4Os+xZjBV+mmM73IeCG4VbvnTTFfnPri+uw8ldr8dLGbcJma65FP8eEln0F2LJuLZ58Yh3WvO1sjx7vkv6IwjIoT9PjeR5uXBmCOfPihbptq9qlICut2798hKkCwilW8vdcJKdhy86YiTk3sL6FLhRv2ybuHyFjrkfxm3ukzbQTMUfr+orhw/vC04cOTEES1lanMsVOyvI2VhtjCxuQOiF9urjvVFsZX/JrPT52o23nVnxwkskjXQSmzpJOCRso0hHZceF8Dac98iaeZpi0btLNZMKW14tQcdYC/ZgY5Ny9BKufXYXVj9yPBakR0Pd2o6ZvSaUa+Gkw0h4K3kgu9mEYMvDIr4FslG6DrCO5Qq5vb9Cq4vdcY+6ylmP9xzU3dLrXG+OCtEuZlv+3F2Vc1vF92Z4UlwNkzc/FgkceZeNojngSVet+bH7He4csWD7bgTXPP40nn12PzW8VoaZDhb5xrhYV772Kl55l+vDz67FVYd+ffzr4BqoPrMTqh2eCzymYm0uxYYAnyekm5mD5g9lIEuq1FFs/YrKoqQivFIiHpnD96enlOdr3GLIicna8uFcMt1LHxCM7gb8Z+ujjZ2LB47/C8ql870CuL0pL+FCLwt8XiP0kkO+dyXTKh7LVlRHfr6xvLxjl1LdHj3QSpqvkbP8kfTjTSxRsF+s0MDvGlxRh4xOsX1unfb4/9MZytBQVR7jdoJVumBrKUWO1abw9fAn4It6WrLZS2PAO3yLFM9TYZJEGbywXVOaq66fd9oP02gWJyGUGQoq3tF1TNTOyXJyTz4nPQFa8kiLnCd1oLNuFGk2bHXpG3M+fxNKJrKBM9Sh4Lx8lsmMoMB7p9+QidwL77EItNlsdN8yPGVya4C9E3njjaDl+us7TwiatJpS9uw75is6JbCx/gR8J24qdT1gfSSgfXSu9HSh9x8hyw0Tct8UbWL5rRZsaBUOB/vLpQslbSkdr9x/fq3i0KhvAk+6ci5xJRgTzaIQeVoZvsUGFGzQyfCblP9iALAl204kivPiGeDS6J0c2Rt63EiuSg2A6ypSsPykdaSffMzN0N6xHodzW71yG9fzIZafH+c7E0ufmIk7XikLWDoqlXBtmLMbaO2Ogt7+GfPSxi6OC9ck5WDQ/TVi7ao3F1Iq9H2/DzsMKCrDVkcrW/eSK0ndP9ch/Z4+mU5mU2ip33njt5CI18lQBYVkMaxs6cz22v7AFFVYjpthGrdu/3L7s5YXnGFLnIj3CH2amsCqeajAhD089NBnBXZXY4OQY3ykPr8GCWJ1NX3Ldv5z0E2ukPmM+uQub99ga9Sk/FfcwUN9345G78n5xQ0umfuqlfbEsPRbpWPb+PGuE67e66QdO+59CXSl8Vx53HJ8lBrlPLkZ6EJOPbzD5qGSsK8kEt7LGBa7+Vm4HPaydrmLtVMrWhj8ME1ORkhCDuHA+Prei5dQplHxZDpMTTVG5HfHJjWwkeGt8bD9ou8+TVA7adQFpPFdsK27GM2f4RA7LbYvpJtuZbsKP0LcnPBePrUhFmMPvunpGZ6j4Pfk5z5ZjzYsFTGsScTtOz16CdfOM0DWzNrtRub0rySeO874nwZ0E996FnIQgW52ptxsttfuw4137vZVEPNEtfI7ctzvKseFDbfqtud1+I3q+cW+Gun3k1MDkzapXdklvnMNPjEu/IwMz40Ng4FPerB7qyj7C1oJKt4am0zoxpiHnpzORHmVgo4DoCPrDG4U29aqbmIvl96Yiko8RvUweb+vXV1XXtZ7peL9mOh6aULiP9aJZRoC12edYm1VyP4rXdSErBlCfuGxCW4OaSTXGpPvx1IJEceKwpwPF79qe6CZixNQHWD9h9aK/UI3Nv90hyAWXNpXc36W3A8W+/HUhRoSNlr0/jKhZeIgfuqKgO1rrhk7rM2sJ1orH7XqFhpL+w3w0yQuHsckTeewEXz2jPgQJt8zCLTfHIyFIdKTwrRQK389HmbW9poC7snFvk4nHkGeOcexLbvuYCoau80YWEF7BqpAmZGMR60jecSKYULNzG4ptlFsjM8wWITda8rj1WmDuZQq63JcvNKHgLavNlxjedN6Ia/mYwGMDTOfhbXje6eyMM+fNPzf95cNPH9rCOqXSjKs7ZTcEmct/gZwonbCZ1vZthaizjbiXMCAu937kTtbj2Jsvo1D6KU0CUyaNGUu5rN3aKZh9JLCB7gH2XPaCVO5HTg0qWcBYUPXxamxV2Ng66aFVWDTBn7WnLaw9WQWeOzUeHdFHxSBY7nTmDtcn1HhiNPja2TuAAd9bTllv0u/AFPfn2rrPdiBzHFxUOG88lK3mk0XY+onCggamvK1mypu9UWWNducNkL5sDXKN/G/Wss/tB3B/9vmvhM9doaXvunTUXepCyznRjWM+04S2Cxam3Nai9Vum1F2b57ofOO1/A3XeJCLv1/djqsGFg2swnTesrQonxrlw4vmCpHuXIT0UaDuwCQWaolcHgIOCrJYfi/Omv8+2lb2Ml953dNoach/F6rQQWJp24clNe6VcjmfGgjx+Ofu9yAVPYsUkg0OZux2nZSeTU6diGhY9m4MkvaMT1K3zRoZHCUjGPTP1cL65yamzkeOJbhE5g92jt4bOnm9RsrPcVlYPQJd3fI4r4byR+4/4zrXO54jTOtGnYsF/5wr90qUjSJgszMZM/6/xyp/6IwXU1bU/Eh58DIvjZfsC0rM413/F67qQFQOoT/uJa3fEMRmc2XsQH39c6vqkx8B4RAbWokV6HJc2VXgqMqeO89pEclutm5M/VcpRp/VJzhuRYZIdzW1qN96/vmc0Mhm9jMlo9pJPGJfsKUJRibqDOdyWjawDOdNPw3OwYkUaIi3M5n+a2fxSNsdtH1OBSufNFYAfRyccc+0NrAa9ARhhSjQWs4r9RHpjhZ4Zk5nTExFtkIwAiwkNR79G8b5aBwHtLedNcOZiLL+dH6vNBhhmEG18bb+LdYieO2/6PcvulQkl5OfVzsAcTfq0hVjx03jBsWWqkU8VU0KFshueiITAJtSoXHJnjSaB2YesCCoZ2/5MIX6MKcT+MJ8oxKo3HGdyXRlUsrIMJoSeZ0LIps0YmQBawgSQzoSyt9Yh3zpKyanxOEA8MRoGolA4oFDvAxjwnUaWcPheHzdrOI7CCk+NSr7L/orcyQhjXdhZP3AcXFQ4bzyUrc7lnhwV1oXiTev7nJ/9yH3CdlbdXf/SzVuC3842QqfkDJAHe0sXKr6uFU+9sSJyYhrr91r7roe46wdO+99AnTf9Dq62sleZweuo4MsGsc2skwpZ4xQXf2u4eyVWTw1SMOY9gW/EeBPCLtSj8M0iBUeQu8+tkBVOds9qZu/7J8FMOPQeM+aVokAcFGQncP1ofAziWB89JBjLPx7nTd9EhELEn2DQPsYNWgvqPvsdNtssxfHQWHD5exlY9ES2OK4WrMVWK3nqfpwOQdbKRzGHiW+lfhI8/1E8nh4C3blqbHh+h01bUu280YgnuoX8N15BqW4GMLHi1jAeJAyz78ddwU3Y/el+6QQZ9bisk8AQGHo6NOvQHDV13TdJww3I3zIDkv2OdWR+xXsvY3u5u4kbO5zWZyhS0mMQzK5bU1KtLDuVnHs+QLZRBhKh7zVUylFP+u5A0fSbDmOTF503avBIv/BHQtYs6I7uR5WrCWMF3JeNa5tMdppamvbi15tst2Nw28dUMHSdN1cQbzlT1DLg35NCbO9KEI8uc++44ah33nBH1JwZqUgaHyIuE1KAH8lXU1uuanCTl0uox4CEmxMROcJT540BSQuWIG+SGILsvny0Kbvy86hVNDwV0obbl+HpzAjo+NF2721BobDkyIC4exbjoVSmJFpaUbhxE4qtZ8pVCbzJyPt1HqYyq9vEl4r8SQrJ5psjLsvBFGas8uiINazMbIx8p8ajPXyz6usRhi5UfcTah5TrFE+MBgVnb2TmAuGIStOJXXij2N4ANWLOfXORxOq4aud27LbZI9Uzp6RHyPXjAdoHeX+EZS3CL2YZxX7gwoHpOLiocN5oRI3ck79j6arG9ld29O97w2Re5oMLkGNkdW7ndHTfv+KR++RCpDP907q962JnYgFvE7wfHGX39CfHe/K078rIs9yqZIW7fiB/zvezOmvdWIcjLJwZBTrPnTd937d0oazwVeT37Xtj3YbsnGoeKVcSLv5WN3Em5sQYhDawe5/ylrPqcadwalBINT+vinFFuiY/5aTkpAn6UGaESB5jfUAwggN0GD5CJ0ViMPru09V99/+utazTh8cjTji2m7UYfky2QQ9DUBDGoAnv/mYLKjyRw6roj1zlm72+8XqBGMXA+vSchxYhi+UrTiR4bCw4+b3Aycj5r7uQGcLyFZaRqOrrKfezMkoUDOGqnfnYvkec1e2fKFJS7N30PSvcLi21wxP5ZBMVK+BqbGS4WAaiaVnMjxXZedF1HDv3uVf41NaJt+uat8HHc1n/ZbXRWPwHbPxEviYzLH/+KBbz7R3A9/7Yjjd29kcjiNf1xLBUb1NoJfL2hciJ1Tot5CKq1w7Zxrkhgsk/PZOv1rvB8kgPswmdrSexd99uNm5rdD25k6N6f+jM3ZjpQd8dKPZtyHrJV7CR2VzBQYgcdhxb+NJeaWz6cTlvrJAjw9VMzDDU9Ftlm4zpSPMX4xfpfG8d5YlHz/tYP9pPm+IFuPhnTk7e8QU8THIR7hJOrtCYbhiOPeXalT11O5W7Qr7nePTsOYhTUq4zPP891khm3Y//tXAupoXrMYwv9yjJx//ZcRDu9+iTdgqHq1MY+Ma+j+KX2UmIGROA4T1d+LalCRXVdaiTj6Dr7BH2QAsIGoPIyAmYPj0FAecP4Vir8+G7p7Xebid0d2kYYmconT7hHr7nykMP/ztuvVbPTBq+k/+fsf5td+Wj7XQO47wFyEuJRuD3Knb9Z6jZVV6JnhNVaIlKQUpYEKKT+NHWmZgz7yeYGhnA6t6EivdfQeFxu3KXTwZweXxvG6ob/MTTDcbGIv0nmcJpMXfMTMA4Zhtbuirx9mtFcNjE3elpN/ZMxT0P3oIUYwDOqak/+bpadrG/ZIKpkx/L35/0k6R+1X4QhZ8fs/s8EBOlOm49+CFKqq0/k45RHwyOH3A8It9Nqo9KV9zB3iXhGcj7X4uQd2NQfz94p9Kpku24G77CCUYDRI3c66y9iIDJExAdFI7k9ExMvzkZCWkz8W/ZaUjgSgbfb2rbNlRbOYzd96+zONbE2nsya+8h/e09e+oEhPmx9s6Ugw2viftT2eNp35WZlruIjZ1R6mSFu34gfz5c338ihJAC4Ccon1Z1pdBX5fJXfJZva9EeMgmTmDJ7bQKTNbekIGnSVNyak405cYFCG2rc9zb+ZH3EpipZ4wQXf9vb3iCMA/VNWje8VmBCCuakhEM/ogffsrJplLL7YM+YPSmUld9FnPrczdgt3zNT7ocFRTmcJOKYohB9bShGXe3+JJfhI0MRY4yCcUx/vY5iRsXwH3pxyXIB7d+eRWN9NcqOHGFt+SyrDTWnTekQFtd/clLq9UbhN3iKDgkU2s3IEcPYeG7C37ne4okcVsVFNFZ9j5CbEhAZFIFUftQ0H8tmp+L6UazhmptQ8Ke3cdyqaYl4erqJk9+byfSaAB6GW4s/bnofLXbCUFVf/7YKVf4JmD5+LMaxsp0zi8mS2XNZHx8LvXCayV/x2l+bBB3JGpd9zwpZt4gY1qRKN/REPlnOW499PLkaG1kKTpLaRTv2FexFo/Vn34nHqA8G3AH21H23YXrUWQ/1dA+ZnoOlGQmIGWlSJefU1on36ppP6P0vLJ9tBF/pZar5EP/nvTqrerHgzJFynOLyPdyAsdelID11LM7sF0/mFa/ryUk4amwKzwhLn495sUF9slBtusZc57os+STQf/0CS2clIJrZOP7owdkz7Tj9ndWpxeZeXDMyCGNDIzBpSgamT7gax6rrFU5iUzhem6eYsQgZ6Ydhw/zYMJyG2+64DXMEG3Uu7siajXkzJ8DCygtu2wl3wv9vLLo9HSGdnp9SZI3chkaPF08GnXNLat/4kBzLxoYIdu8/dIjtXBqbfHfaFIdHp/4CC7IUTqkciH7Bib4FP7vlOozTm1Gp4n7V9Ftlm2wWZvAxnDtGP9uBHYccBrIB9LF+tDtvBlqAmolFyq1cIGiAr40bPgzDLzZ7dI8Dd97EIyMrGmOvvoBGFULsss4Plu9O25whrwZ95mL8d3YsRl/N9J2ztSh4+3UUlH6rcvB0L2h1sxfj/0sPF72K727E//3zXpSWV+K4tWPlaAXKS7/Ens/YNYLikRw1BtEx1+Lbvf3HDtvDvegLsjJsBZzLFAvjaG6QaBwUwrPxyH/eghgekHGBGXnv/v+wo1hN+Whz3qhVxGTqvxaNcDXftYUNuofLUfmPsYgKC8Yofx10zHDobK9B4Y4/Yme1Qnio2v56rg5lB89i2LURCAkIQABT4i0XulB7ZDe2vPY326O8ZRQMQmU0DurfteJYHTNMKqrRMgBl0HU/9vD4XG/DI4aMIRg1Jkh1CouZJBzzrLa9CXzPqis1BXHDTmP3+6/g7T3NLsvVcXBR4byZlIfHfpGHbHsnupN0c+gIDLuKDYCu5KyFtYX9B1FvMOLaYGbAMoVsbIAfei+bcIrd2+uvvYcqu7VNagZdob0fUmjvhwrxh7f2s5aqjKpru0DT37vrB99WotjOsWebrOpJq/OGy5qjX6LkTADGRY3FmJEGjA4MgP4HWd6wseZru4IfiG4wSHpFZHYObuUeOqZa9Xz/BSrtogoi59yBTP75sABYLu1FpeOKsX7ke/YP6nOCuE7cccP/0IXMaWtBdW0VSg9V9Kevv8CHfynETl6nn/Oj8vejtOwAKo8eR6PguOG4UqR7YdEDna3ShItNqsG+T9k12e/s2fk+Pvz4c+yWJ5x85rxhsH5ddaAB3wVfi3FBfqz/6dDbw/r08a/wp1fzHfq0yACMBWe/x2XImx+iQcFTq7avmo8f6OsnQfoR8LvKAtN3zSjdmY8/7lQ+hlatzqBVF/22pQGVVRU4VNMFs/UR45pwMzb6sl1oQGvZeA2NskptnWh9Hqd6pPEOLP7ZBKZvcefhh3jxbaXoWlG+H7ochevHj8aFykJ8WCsamY5jv1o06nka6Dz8hd3Y5jrJE1zuyjLpgV8gj58Gyw+Y2f4q/vjeLnxZanvUO7dvivd8jn2nehESF4trw6IxKUzJYRiHmT9NRtxoOycSd9zwj4f5YdQ1w9ErCAQzG0fPor2TySU+GX6mAaMnuZM33tdZA6ITMPIfVo4qllrqq1F1ko0Nxw7gQ/bcn+ypYc3Fgl6p3feX6QDksVMicNPsJFyrvwpna+yecaA6gka5pc5Oc2aTncDugtfx/lfKZ+N73sf60b5saqChS4PBAO9RTTi/a3wXPmiLP6bctwgTTu/CB1K4rnrc32NfOdQWYM2b5VKuK1Kx4BlxAzZX4WDyddVsPGULu9dVths/uSP4zoXI6a1E/ifuTwXoR9uyKbUh0FcEX/ZXhaUYygxWf7DFdT9WU8dePllGKVxTrh8P0NzepPBcNV3OMaxTLi8Xddi31IYpAKdNqvub2tBmtagJd/WUgV7bl/fmEoW+6nW55VLWuDn0QMNmhALsN9TtM2OFkcmhJVwOWWDRsR+zX4vedyqL+LninkjWyM+r+tSV/uUoAwmXVsYHIexul01NRs7K+cgcA9SVbMVm1cete4oPntEFvuyravue6zHMV7gZG922C460d5T0bsDYn8rGuDJlw/CRTuXN5wmel4up7buVT/O0x04vcBz7OWp0IT0io/jWBN1oa+6Ey19WuXTFU9SVpVU7f489qyoTh7V9vl+QYtv3hyE6AqOGS29ZOXSeUH/stXt5o80u8TpSu+8vU1fyWN4qQetJzy6eUd4awd2BJ85QJbcGB+U+pg3rlX3Ejw5W+e+8inzNjht1mC+JYkevF/fScYtxHEL5pCYTVxdV9C1T7QdYtWq1hqTNccPp/HgbMwy1OG4IQsaAqKgIxHktuTgqnyuCTzytKWk2KFQ6bgbMJXHvpc0qkzcdN8SPFO606dHqzNcA379rIVM0dRa0fJ2P3a0W6IwZeOROo/QFI+Y8PAtxbKBrO7QVhU3sRoImY+myueJRta643I2WE/UqUtfg9L/BImUyUkKYMj3MH3EpMxEnZRME6zzeHTvDPdvw+F+Vzk8L1DluOKr0AjW6kHysvT/CFD+3Ti50oUHDgstCFIwO/gE8PN89uoDhoi3ExitHumFqsJb36h03/3RMmIzs9DTMSU9EpOOqIc841yqWqyeOm39CPI+8OVeP3UedLYxxgsoNvgbMAD3jA/eAy5EGLnZdd4LazcoGjnyPLmbS5ZlKJq3Mp2uxu2Q3ysoUBFJgBJLSs5E1PQZhI5hIVNj8z5orNmOiGm0ebvl5Ok+W4pBqDzNjMHbe99EskYDCbL4yV6Y/uG5nV3gWQ8aX9TMAHGcG5PJSEXlzhWc2fDljPtBry38/6LJCoa/K/cNr5TQk27IBcbfnITedjU18HGNj0wY2NnX2jW0WtB0pR+O1qZjKN+/tKMXz6wvRKR/jyyOFLrSi+DOFI0Y1P68vZY4kY73Z99z1Z/1MLH5qLhLYmO/69EZv4YNndIEv5Yjavid/T97AWj0qDwdQxE07HSJy3vOyGaCeLfd7rTaQGxl+ZeraEcexn2MfVTJAfLyxtVyW7myM4LtX4qmpQUAvP669CPmfl6NTydnAbZxbc3HX1AgYhjk/Zn0guJc3cr+0oIWNWTWamrzWCBgFpHavKvLGKkJpC/vM+pBa1/jwGWW51dOBsgMncV7Kdo8Xys4O5T6mDc+dN54wWErdAJVItR3fObKxqp3Bc2jI9+h6KQs/geXeu2dhyhjB3yxiscAsLeQezsPL++K3mCJcswfb3pVOK3KCXL4eMShtSJuS7fHzDIbyM8C+4BIFg1CZK9MfXPdjXxpSGhiIPPXhMrT0R9awwcX6SGO5vFQ4b6S3WvCmgeRLo2ug15b/XjMDlRV8P6J7EjGK9VV5uZHcP7xWTr6UNZ5i7aSp2YUtb/WfMmh9ZD6Hb8y+9ff5qJHHLn0icpbmITOcfYEroS8xJdR6XPO47/pC5rhQpD1FlZFuQHAU0Dkos6E+eEYX+FKOqO17nutKAxkb3IyNQ8x54wkD0rM97fduyuvK1LUj3jAsrzRyWbqvZ3+Mn78YD0znThkpy8q+EZCX9HK4k+erD/DGR9Vedzy5lzdyv5TeasIL9Zm1BGvTI3D+m3y89E41y3Auj3XzH8W69BBYmnbhyU17pVw1+PAZPdZPvd8XvNHHtDtvFI7kVY2na9W0IjUyrkRqXhfPiLtvJRbdaLBqpFphCs0Ez8ICLd+1oq1DYeNZr8NPxMpANBf8KpYj6aNSkZISg7jx4nPpA9i/F8xiFA6r15raahwqr1Z1vLKnx/4JKKx99j7y/gzWxqtzrI/X08RgHKs5wL7gEgWDUJkr0x9cD+BDxHkjHzvqEd6dcXON3CdcyAv5KEbprRbaDmxCgZe6teh4AhpKVmPLTinTSwz02o7H8qrEB7JCHue8Vk6+lDUDIDhtJiI7SlF1UkGOBE5GZm4aos+VIr9AeXmtPnkmkiylKDtq9/ce913vz+T1jeemamx9Md87BrUs3715zQHhg2d0gS/liNq+57FuwdqYlv02bPlxOG88L5sB6tme2kBuZPiVqWtHHCdufnxotuH0IRifymyc+BhWBwZEBvYP0uZz7ej8TpuN4wnu5c1Aop8sON/c5OV7dy6PEx5chcXx3Dm9Fhs/1tLPfPiMrI7DogzqtgCxwftl540+pt15QxAEQRAEQRAEQRAEIeCPOStWISu8C8Ub1qPQq5MUhAxtWEwQBEEQBEEQBEEQhIekIpLv8n/2JPaS48ZnUOQNQRAEQRAEQRAEQRAeIm6TMHzQtgD514QibwiCIAiCIAiCIAiC8BATOk/Uk+PGx5DzhiAIgiAIgiAIgiAIYghDzhuCIAiCIAiCIAiCIIghDDlvCIIgCIIgCIIgCIIghjDkvCEIgiAIgiAIgiAIghjCkPOGIAiCIAiCIAiCIAhiCEPOG4IgCIIgCIIgCIIgiCEMOW8IgiAIgiAIgiAIgiCGMOS8IQiCIAiCIAiCIAiCGMKQ84YgCIIgCIIgCIIgCGIIQ84bgiAIgiAIgiAIgiCIIQw5bwiCIAiCIAiCIAiCIIYw5LwhCIIgCIIgCIIgCIIYwpDzhiAIgiAIgiAIgiAIYghDzhuCIAiCIAiCIAiCIIghDDlvCIIgCIIgCIIgCIIghjDkvCEIgiAIgiAIgiAIghjCkPOGIAiCIAiCIAiCIAhiCHP1mKi4Z6XXQwpdiBHjIidgUsZNSIyPR5yQIqDvHYarrjbjwkWL9E1vEI8p829BcnwozLVNMEm59qQ/sgYP/3QWYvz2oqJOyvQScfetxIp7b0NqeAe+PNoh5fqSuVi8dhHuujUePXsO4pSUO2Am5eGxX+Qh++ZQnCqpRqeUPWDk694wHHvK66VMX5GI3Md/gQVZqRh99ksca5Oy3eIPQ7QRxqQ0TE1O8HGbtcV3bVNqJ96uzyuA3Md80X8d8VH/EvBFnfjyfrUylO7lXwvPxiEDgidEITLRWu7FIzJ0OCx+LHWa4DvJ54qh0Y4iZ+QgPTmeldJxnD4rZdqTtQRrF83Hrb4Y33w1Jg8yg68jDRRP9YgB4Gv9619Rr9OHIOy663B9WhqSEyRbJGoUzDodYD6HHp8Jtx+bDnFl8L5edwX67RXClzbtjx4fjsneaLNXXT/tth+k1+rgD5QeIb3RRkPJamzZKb1RQh+DpDvnIivRiDC9lOcMcxdqqvfj449L0WaW8jwmG8tfyMB4tGLnE5uwW8q1Z84vn0MWe/TGfU9j48dSppeIe2AVlib4w1STjzVvVUq5vkTdM2smZSFW38sU1Qu12PybbfCaPJCv27ofK39fJGX6islY8EwepgR0o+Ldtdh+SMp2gi52Ju6an4aUUAN0rmLZLCY0flOK/A/2Om2zhtS5SI/wl945oxuNZbtQc1p6y/Bd25TaiSf1KdeZ9FYzXm5Dch/zuIyYEjc+NRWTYo2INFjQ1ngSdYcOoqpZyd3ro/4lMIA6cYov75chlV1CkD+G+1lw+ZIJLT4oO31UDFOuExEZIGVc+BZVtbVoUfwdJwRGIDLUXR9Uxtxej85z0psrCnckR2DUcOmtM8wdNmWjZRzSJ2fjrlmTkRTO5J6U5wzT6Vrs3VOA4sMa6kGAT6xcjzDpnTvMraUoLpcNex+3aZWoks13LsP6GexLvhjffDUmDzLq2iY3SjMQLb3TBCv7Va/skt64hk8uho3mxrtt/7FFmx7hFXytf/nqukNOr/NH2Ky7kJcej/EG19LNYurAoZKP8MGeeidO6hAkZKVh/AjprTN6vkXJznKryeOhqkPI5Si91YIPZNCA9ToHrkC/vUL40qZ1DZ/wCYE7M18RlzLXi/hwTPZGm9XuvJEfqNcCs0aPs0vnjT4VC/47F1O4pddjQt3JWlR9U4mGLiYcv2vFWYSKg2WQESk3JiIpNgLBXBieq8aWDTtQMyAHjjoh6bahq3Rsnf8mHy+9Uy29E9GiNNsg14cbHK/r4pk1Gt025eFqkJ+QjUVZMeo77IV6FL5ZhBb+2luDPJ/puScRo0zV2PpivpNBRL3wDmblv4KVP38m87lWHDtRj2+Ysdhu1R714fFIiI3pb7M9rMxfZ2XeJH5ujdwOXON4X6qFsDEDC/JmISnEv8/gMnfUorAgH2Unu6UcawYwyLuq74BgxDFDnvVudLa2o7NXzLbBuv4lIm9fiJxY9e4g88kibP1E9Jp7LjCZIpe1CEszjTAoOOfMZ6uR/+oOVNkY7e5kShpyl9+k2igFOlCyMR9VwmtXdcJnjfKQ4raI2H2tehUl0ju1MtATgjMXYylrB8GKZcfa3p+3ocymL2i8F8Hpn42cZNa/nOnZFjamlO/Gdq4cuxsrVMpUJTS3rfgMZMUHAV3HsXNfrZTpiG7iTMyJ4ZXK+ktDKcqOsIHRJSoVbDt5qnYc4nLvcVZGvLhNHfU48g0br0+0wsxkU+cJE/SCYqZH6IRETLoxXpA3/N4b921h5aMg+JwitwV12N63t/ugPdZ90jnecd6odEoojWseGt7yRIKtQ8yR4LRsTA3lLcGClsNFqHJXvR7qSerapgfOm2E66Pntu9MtmJyZetd8ZE8MsR0HervR1nQYBTsKUWczBnhuBKrTAxTalKu6Jr1OZX0YMWf5YmRFiW26s/kkqk7Wo0aQbzJctl2PG2PjcUOUQXh2c/N+bNhYpBDFolIWO5SthnFwMPW6vuexwHS6HW1a7EAFnU4kBpkPZiMhQJ1MtcaVXqdWX7TWEwfSb90ij/ce4EwO8+gZPr64xl7fE3E7Nsn9SnqrCdannTvDtY3rNngsK4yY+sBdyIlnuokkvy3mDlTt+QDbixUGLbdjsow/xs9fjAXTrPTPXqZvlrE2VVBpJTP68dwW6Uf7sqnrp2LeeNYZvv0Sv/rd69izZ6/q5Co8KPKe+5E7nonAs+V46X/eYI30GE61dMHU2SUsN+m9eE54bWppwPHDB7CvtAF+SSmIDgpF9OgG7DvqTpmV4LOqxhCMGhNklaKQlBLBGmg3WhrbccHmsyAM/0cXzJeYeEmbjTj26OeaPkfZcel61tyQhjtiAjH8ql5YlIxRriQMH4YfumpQfNg2Fi84OROpITr0nKl2+MwlwdchxtCLzvMmxXR5uAEjhwOnj+2wu+cJmDbXiNFgjWz3AdgEhY2MQDRTxkzW1/rHcAQzDYfPMtR3nLP5jW/rDuBYs/S34yZj5sSx8Lt8FuXFlbYDWfQt+Nkt12HcKAOC1SS9GZXyNeTrmprw6dfahhobIm/C3MmhCPjhnOP99RGOSZmJGDfCgtPVX6DqWynbnvAcLL03AcGs3dR8sgX/8/ZuVH1Th9NtYruVU2dTndhm99ShNzEZcaMDER1+NfYeqId9MznP2jd3WpYeqlBIZzEyPhZhCvclt81eSwACIuPFZQuGLjS2XpS+wTAygblkNm4w6DCMK5xnTPjBT48Aw1gkTp6EgPOHcKzVfiSW2olSfbqjsw6VZQdQ7pDaMPrmVMSN5BKUtd0jf8Yf/rTb8XtMYNj718PS52NebJBye1FI15jr+vqT3Mec9l8nBN+5BCszo6C/qhuN5bvw5w//ir/sOoiq9h6MHMfkSXA4kpOjcOpAJc70FZ+L/iWQhLl3JyJG4Z6VUy9O913HVZ1E4KbZSbiWjU5X/aPXoX1xho/Qwe/qC2i0uS939+sZgpE/x4iAqyxoO/El3i/YhT2sLVe29iIgLBTjmPxOTNBadlYYmbG27C7MieYKNJPfddUoO/gVPtzzpdBnjp/pwYVePwQxOT7u2gTMnHIdvmusQIur6Jir/DDs4lnUn2pWnc6MCEcka89a2xamMxmSkYCYkSanck2XmocV99yCSdFRMOqaUPhRlaJCYAsbg9hw2tmqfL/1lwMRE+wHS1ctdh9okP5G7Tg0E4sWJWPsMC731mPDO6U4dqIJnYK840ukemAWXnfg9IlqVH75BfZdvg7TJ4zB2MhQXPhcyxKANtQ11qLcWg62j8bEuCD4dZSz3y7qz2eprKrBanmqt/ugfbLukxyWNyEKwXb6g/FGpqcww+1CRwNOXbb9bNQ1zAA639OvVzkd3+KRkRWNsVc779d61q+HK41rrsZkFxjnLUBeSjQihjU5bQvB85Zgxe1JiDdGIeTCQXxQ3Kp4bzZ4qCepa5v1qFDQPV2maxLclD1Dn4q8Ffez7wXA7wc2dra14/R3XP/pxnBDIIKDopA6PQG9TBeq75MtKvUIBfQR0QjR9djoWf2J/eY17D5Y//t7qd11XdU16XWq6sOQ+5946EbWHi7UI//1/4M/76rE8T75Jicu246hqmw/9hz3Q3yKEWNHR2DcsFKUn7TXoc6hobEOFZVWMsw6yfLMoWxl+QVcviYIYcJy1PEYfq4eZ74XvyEw2HpdXzn24Ju/rscfP7TT21wlBZ1OxIiMnDQkjrWXqe5xpdep1Ret9cSB9Fu3yOM9k5dakzM5bLx5lqD7O0MYFxz0PRG3Nq3cr1yMO44w+T1iGIZfbHbRp69mbdqMdiXdxFn6zg/jwgIw3CNZYcScXy7GT2MMbNwBzF0drM0HYJQ+AOMmJCPev549v51S6HZM5vgj4YFHsTRlrOAQ4nL02x4/XOOvx9ioREyPvxqVzM6z19c8tUWskf1EVxw9EzYcU3u9umVQ5nrUtHcjcwwPw3fRcu2ZkStESigTgsyHFiNTeiej2Tt2uhSrlDx1kifPkJCH9S/kSZkDpDQfm0ul1w6IHuQwPhvaKmWp4UQRtp6QXstI925u3oPNWiKDrDm0DWvsvdgezgoOCSKY8s3/v9CIYiXPrQNN2L3vJNL5844ZJ8wO2j+vpaMJLU4nOQ3MMHJNcGwa5sSKr001TNj3eerjkXt/BsazHm86WYSNr+2XBmwDkh5chkXxQUi/PQ9V5T6uAz57+fM8ZIWzG2ECtM0Qgsj0+7HIlI/tTsOO+6l7ay1WSq9l1EYLeIR+JvKm8wiDblS89xK2l/fPYrWUtWJrWTVyHl/C5FA87pwfg5p31aodrA6esJcRGmba3NKK3auUrqFyFtArzESuVHY1n7yMLcVWatuJetTtOygMqFkR8bh/QRpWveFUkCnDozUXzkQCexZz01784c1dDmNHC/sdPotXwNpd5oMLkGOMQd7ChTD9zzbn0Zq1+7HTeRCMInEPJGMqb9Pehinmj+RORhi7tKW1FBteU5rZVaIDNTsLUSO9syfhwWTh//OdWqJgZPQYLjxqJxqt69QFZmbUt98ew+QPU+ykPHUwQ/KE3W+EzxIVF91woR05zuKqxbYPupyFVDULl4EFDzmfTYxMXYwVqdIbGc2ziM76tSQ7AuKx9IXnpDzfoktdiOWzjUJ9mmoL8eJb5W7ltzWm2g+U5bVc1oONU8vEH+kP5mBqIOuDXdXY/opdlGWfbIlA1v15qFmXP4A2KdLyyTZsll47oGd1/WwIG7k70easgytBep0qwgJFe8LUVA7biFAnNBWh6ESqoIOEsbEMsC/Hbpga6p04LRiGDOmFMwxISE9DgvCa6SHN1kvmh4heN8TxiW7oCfsKsKFW25LsyMwFyJvg/G9KXlntEFHTj6xTDhDWj99Q249VRfjVouIjjUoWu+60SSHSG21E3sdsjgjeSeqRv21LX7/mUeHLuV4yIw+5J9ejQIs8ZehmL8KiBPaklg4Uv7MZhUdF+0AXm4NHHkzDeB4Rd+dhpk84j1z1FIVA9itDQ2u7MPAbJsxCTrJ7Z4w+ORc5QoO2oO2UhkbAO88bWzSl7fukv/US3DtX19xqk1pMWtQelSQkMmWO/W9uxZEBhv7FBYl1Ygi8AkrVUMXUjcv8/4BQJBiFHLcEXxcqCrWebhWz59ppKe9vt5v/atUvZs/ENB6tea4ab/QN8BwTqt7cgWK+kSZT/HNyPROObtGHIOH2xXjsqcXI42Gs52qx9ZWX8YfCWnT2MkUjazFWr1yMzNSQoeNR5qTGIpLf0Nmj+MjKcdNPEwq/Ej3rYRGJCvfOFHpmTK0X0iosSJGy/xWYEYtoqezyFY180ZnJP9GHxyBOzLQiGFOWL8NSIS1E5gQpWyJy/kxhma3ldCk2bHJ03Nhgrkfxpq3YeZrJWYPoaBvysIF/0UJRMef9dutrhV7Y340TgxuEPX0saGnWMscpU482wXiNQPrDM93vT8cdtg9PFhXIrg6nDiW1GEKDRAeQIch2eUx4KjLn5yCrL0W4USC9zX5st9IbVKX390t/6yUsJlantrpF3Wnvbxitm5iL5bmigs6Xi2x8s9Qn45lW+F40kRNSkW7TDuSUh0V98sQqTQwW/tZkcjbDNQspRt4Ju1Cyw355LEOQLbtQxQsgKB4zfSzjdTPYM/IXHU34eoCFTnqdI+ZLYqEaQmPYCKQGIxKkPdL4Xm7ehxmGfTJjKz6yFqBXWq8jtHGO2Xp8wkFD6vSBafivxUxkTeSdxISy9/sdN5zOYmbf13C9Pggp6WlipmpikHOzken8FtQV9ztuOJaThXhlJ7cLdBifOh9JUr438dx5M9yfDZIxmlKYsO5dGcunRfiAz7DpQpB535NY9+xKrFi+GLkOg++jeOzZ57D2vlTBqOqsKcLWz5SMKid40nnsB+sBIsxybNxkkwqbvd1D/ZF+a7ww+HSe2I+6KPv66F8b6x5/RAdLanBQhE1D5Ltmr127pj9JCt2/BCc+QtEJseNnPrIKS++biaRoBecDP61g6kzkLl+Fp6aKQqRi90eKs3M8ikQ09JWS+4gJC1Mk5Xbb1tHfL9JvEPenaKnZpfC7TSg63CQo+JHGVA3twhV8k74c5DywBCueXMX686NYnMlkgK5buIeXNmwTlGBz6Ta8+MYuVLB71YcwYXjPo1j33Co8tmIJFtyTIzhzriiB/qKheKlbcDIocuGyaBzZG5MSlh4LzEIyw4cHjnmJ4dD3yQgjDNrCJGxRU3aHePgqY5hSq/NHWFQE4oQ0HlE2giUEKeN5X7KgprzQSml1RRN2lzeJjrbxk53LKb601kZWuk9O99rxFCGqKBtJ/CZNtRr3dUtFzjJrA/VRPGUto9cuQjovOnMTDnk0MVGLDz4qR0sPa/Kxc/HYM2vw1MplWPxArtVYLfb9pSvZWP6M5LDle329pyz31BOC9Ov4zTN0bCyaZ6VTRNyImUwBm9OX1Bpf3oJHCdnqDm6TtzdevNSKQjvdYnOx9V4dXoBHg0n6l6XV2T4fPkQX1N/3bIUCLNNysOKhXOTatAM5TUZSnzzhS4hCEclSNJNTLkkJEdvRhXbUOI3EKEVdBxfu/gj2qR+EGeIpksFwZC8QbSuHIgPd7VBuDel1SrT8v1LRETcmFU89swy5s1MVbRfuKEyanYelz/DIW5bB5HTB/1NyhvNoVyV9TkpuoxQuw9wnM5ps9mwbfL3OGn8k5Vq1EVVpCdKlvyb+lTEg2FpuqUmaZJsV8iRiRzWKFGaO6nYeBV+Mph+fiCliljom8AM42P9Mjyr51NEHYdm3X3T06yMwyQcOfc+dNyGpbJBcrCktvYOHFDqjCWVvrMOqN4tQfKIDZ3sNTHGPQbrD4BuCMb1dqKspxfY31+H5twYy42NA3O0LsfzXa7Dud6IgXffMSiy+J839bOIQJ/jOxcjhs0WWJhR/UIv0u+3rgylf0nfdEj4XSbJCojci3Vph/rERMFwcxAIM6p/fKd2oeONlbC5tZWq7P+KS52LRI49inTQor2ODlTA4P/soHrt7LtKjWLldaMXudzbZLL9Rwny6GrtLSp2mQ1qWwSERkUH8qbvQ4OSIVcuRdgin2AaGwC7AwUM6oItKRmaCkQldHcxdragoLsCa36zFhrdsT9uynNyL7evX4sn1BSisaUXbJR3Cwo2YkprMhK73ww01cdokOh78/J0qWLqxfGtWhomVr5BjDV/msBqrhLQeBUek7CGLuHRUlBGLMF+M1faMc1J0mYuy6zOMepW8Wi5mHBGBUYIYakeLFgdEebtoaPqz8UXIUIAvrbWRle6Tq7Bm7Rgx5+EccfN+phgUbHOxxEuRTugM1kaqGKliudCFlvYuWPgRt/xbtUy5EF45Ii7tlYyLX2ZLuf1YjhZgw/N8KVwtas6aoWfGX0JCqtVYnSb0/bggPc6frWfKDev7z2/CbsXNM9WjmzEf6dyfa+L9Uoe4tDwkyGN1TRE297UXnsoHvHxlIPDTuBaseBJrn5PHg1V47JFcJMX+iMdPwakoRoNZuiqxVfUyPu9hmDC3v+/dbbfkpPxrFJbsx/bt1u1gC15i48vKJ562SU9KcnmrMAEDXHQWeWNR53HXKTqgvQnfXyFXdLx2VaPw0xjMX2grh1ZkxbhxBFhBep0y5v3YuiEfu5tZuwiIYOWSi8dWSpNqv1vT359XLsGieZMRF8DEUXMpNm90J6ctaDmirM8JqewbwYhUz5XQ6zgWXOwWJ6SEyHNiUPBNVNeVgi8xtpNd7pIW2WZFXLR4qlVnS7XyJOLp42jkH4wIQrSWTjJB1F0tHSed6FG1OCFs5OiPUG77eRntzpsTlcqCp6ReGsRNqFH8vBR7j7q3OM1MoSxkBvFLv1mNJ+0G275B9zfrsfmtQlTUDqQx8x3lV2JppnQUIBuguTBiWigSUnPw2BNLkK5yKYxWdEGJNjOUPKUIQtg76NMWYvkM7pG3oO7zrShhA0rbabtQ6uYulU4vf6TfLTp6WmpquVmAuMzFmCOVTd076yXDVEoFtcodxAm6qGCxQ/rpB3Dqh3oio6SQe9btorziDTWhrmATSqQ1yJ0ny1HRIJZxQ3u78H9NTTlqpOitxkObsFPFcbl8bf3OjwqdJNtjwq0ZP71/luOx+xKlXPbMfvx/M0z2a95lTndBWLnnFaeWSNV7W/D886zP/mo11qzbhO2fuD7px9JRjuK3Ngl9n/fzVRu3IN/tNij+iBZOrWLtPkCakfcm5cfRwO95TDIeuFNBIDBj5t6pfCaU9Y+GUmGWy2NSJUcGa6EG72laGrGV39qchHaUN6GFF8iYiZifqjR4MRk8I1bo/+bT9QrrqZ3POPL7vNjD/w9GmP0+Iq5IlPap6ja5V5TP1duMX2rSfmf9SzXixnrC+mxLK3a++SpKNG9LU4+CdVbjpSSb16zbjGKTv3hSjjBL7Hy5sc3SXiYbFDF3oOaTbdiyfh1WPd3/ezbp6dV4fv0WFHym4pQvd/CID+FUm25UFW/CR9wRFBCPRQ9ni/2G3U9bX3vhqXtg/XEA8I26n7ovA1PCDRjOT+bkhs4wf4RFp7L7fQxL5/lIuRgejBQ73SIrIVg0bAcKd9zIJ4Ky9rP19/kDPOXTM2wmNg7ZRTqcZmPIR0WoOGLdDmyjUO2JNIiyqZu1H0WOtIon6gSMxzRFOcYIz8akcP7i/8/e/8BVVeX7//grOyQnOiIofwRCQogI8Q8xiKEXTDSosMEmuup3tBvetK/5Gf19tHFsHPM6zTTl/dj8vH6yudpNG22iW3xGmvSTNsooDRGJioQoMoJCIArpGTqEZ+i71v7D2eecvffZe59zEGs9H49Vng3ss/da7/V+v9d7rfVe3bioM5WDNojszCnm8yvQ7Vt/pHl1rLgo9tGBvqp1ixzz61S5egL7t1SjmftAbGJ1A+pp/bZdQivnS7egploc87ShYovrSWNy2HGpXs6fE4rTMeFSopA7sHJlFQonCJdvkF8H1KH0ZYls6CruJx4NZUzBkpUfLqv8BosAYZRutcpvcaanTTlWNrmWTEm+G341vNQ2cGk1bijK8QLF4qrzPXErv2JHqf6oPHdxHc+M2+Wa2GmXkWM1usXM/8PWo3xY0iUr36NHhKotXDGG/uANTeYop3j20tUHFCuaZX9eJnPMmbsweVWma6+ghB/P548CpE4IGWCKDu6af9uBshZi6M2xKCjMl430SQfIG58rksnVoI45MsVphpIW3yS7JAY+bwnWcktc7WitKsF2YUtZ7TsuS6m31OES9xM1AjH2saX8Cp6eBux/pwSl9aSVTVHIW7gQqcHCr3lBaqRjCXzCdP6f/iMMaXeKA3zybsme5CUQk58QZp8VZqBdsbaVYvdrznW9481SNPcIv+Az+GWHoZrawIIR9IhyVYiR/0b4p9fQ41pJ31i1BCtXSfqKzrJ2CZFl8n9HEEoO4oDyEQ+YIsfpW/aoiUrs/oA6riaMnV6Mtc8UISuDKvEUTC6kOXz4wQzdPrCz1LtVQpaxQj4k4pQlGEzM5j1S/a0cJNSE7QBK/tpGNBHpR4+RAevj05BAHSC6jXBCDhY85whSHPxAZ7JiNKHqArU4gUidkqNxcEoGLFP4YFFX6xeCvVKhp83JfmkpNV4N3OjMOrFLA4GbHTioO3CjhAWpC57lB3/9VlTtVx94O23tfUdoG3rMqZzdNVRmIZkb7GpEkv/H3nIEu49YUfMWGaRz5mganluzEBlDZUVL2nxu8sRMJKym9KUB32Ld8xvxyiG6bS+QDJQLkCv3/pGZEh0oHahp5LYwZLj4FrlElwj+phdIVoNRn8njKgP/4TSxoXK8vjbSEcHZUCs6xJOV3DiMMu40U6LHCok/5JKT0TQuB4ueEmTzYh0Oeh3AdYXvuyuz6IScFbUfUj+MXm9C+RvOvoa2LXLMr9Pn1xGb+O4u7JDW85bXsftdcczjQ7gtu1R3aGGw/brvG8S3yJOs/HBd5TdIiMFlJehpUlxRGM3zW/ZJQRTSMpxtQ7IP+rp3KMcLFItOne+p/jzitMvIsRo9QkNOgVavZ6yU0XxUuDkmHhERkiMu3Yr6cdtOZYQJtq++Rj8S8eD8B5E1Tv5oNN1F5bhVZ3JQRI94HtaN8u2v4Yg0imHvRvOpfoyZkogxoRYENH+C08K6YPFYNfT3w/4tfw19nThRUcdH4MWjxfrtGBYSwx3X7FTGkGcMHQ7r2QP436WHnY4LvGC5FymjDBwVLkAdiHn/+mM8dm8IAshwqbliJ7b+nzMqszCejlGlZ+L/CxZOGsU5DDV/3IE/t/Ti8vEW/rjr0eGYNCWNmM121J/vdhzUoOdYUvMs/HCOkJfglmEYFSh/fDaHL46UTP4hfnR/OMxXOtF6WxAiRlrQ+WkNaA5TZxxHBVrb23HhK+H4zI4mVNfJe3iejtzzeCSfgHiE3K2B4UiYeB/Sp2TwJSsbDz/8IHIfmIEHZ89C3uxpmJ6Whvhhn6CywT5w/+aKdXjpdf4I1E8GltKOROL9yeR91I5eTkPOQ3LyYORIyXFIe4A/4lIZ4ThBDUcQftNZJ3kXZ0yz8/FEYjCG0RuYLLhd9qhOHqPH8/W3nUDV3yORFBeJiLBIJN+bhqlpqZgQE4I7brWjo/5jvL7roOSoa4qn/uVKEn5YmIlowc7ccYcFdUdqyV/LodYmouxKjxeVlhjE3RmOEbcqtLPm59WG7Uwtzt6eiHuJcz0mOpHI8jTMzslE1oRxGHM78TZ6WlC6g+hgp/0t2p7F2mhC/LRxGB1C5C2uD3XH+Hw28hB9tvhf8aN4YnDtLdj/+v/FBSXlqOmISB8x8F1tuBD/EBaRkRP1wVqrtmLPJ5Jj/r2Atw0LkHdXEOknNGnfqyhR2LapehyzF8ecupdI3NKi4RhWmui84F+w7IdpuJP0Dbo677Xf7Uc3bTt7G2pPfI2wCUmIHjkaKfdlIZ2075nPG8HHyvXJtKqO1iETWXN/hInBw9BR9Sa2HZDqLTt6GuvwVfwUTBgdglDzeRzhggIE8f7fSo/P7sOXXxD/g2sG8V2U+nUk4mJDYKbHG+96Hx9JfAvlo4jVcchCC+xZP0RBDB0p9qL2wy346Bz/O4YQ3rX/H8Dw8DiX9yBF8JNcZVBNNmmOlpVPPIgHiH3UV5JwJzfqGY6Ie7KRzV1Lx8grYr3zWE9dRE/SeCSHBCMudRoeyBZ/dwbyMxIRQWWTbiN77Y/8akMO748cNk8qwOKn/xkP3Gnm+m7N/9mKtypUJgk8+l/Mr9Pu13nSH1r1i8Mm3zE6Bck/EHw6UqY/kIeHH5zJydHDebMwe3oG8S3uQl9FJZrs4v3b8NHal7GDO9peKpeD7NfRU4RWFKFg1kzM9kFJCpTqWbGOtOlqKWp+nao9U8QhJ60nq1DVKBxV/bdGNLZwm9AGFd4u2XGh9jBOyEzmyPn+7uVzXJA5sr7vzjTEBamMSwb6/TU0tV0F5MbzriWc+GPU3qj2aa19x3sC7iV+gYJ8iIh17KSnRZts60ZjRzevK65dQtMXJ9BMOsy12DTkxgapylbClJlID1e2ZXrHIlJuuXvKg2IYQhXxGE2fMHB8YCAscVEYYTAPkRs2ory1JABMLMLaxRMRSoztZoVjHSc/vQELxpmcjg1VPUqUovGIS7lj64wdd0zqL30G5kyfiNRICz/7THOq7N2lYWuO0rHEgRibtwBzM+MRTQOL1GH441bsrpTejw6E5qMokQg2wXb+AH712mF+4KTjiMho6nBNCkHXyX1oHJuPjGAysHjnJZTInYwl3lf30aoigcha9jMUxprQWvkqDo5aikWJpL5Pkfp+y7W+xeOUe1Hzzkbsdnkesa18g3P9q92bJr6le4xp7oqOnuuwEaf6/NlKbkWbumzGo3BNMbJCSP3uJvUrl3clshCrV6Yjwq3dBDnR0J660CEnyiSR91rIv9eHLUh4KAWh1jps++Ue2fuJdav76P8BqL4ajwkTxnCrN2zdTag9Weec0DyzCEt/EAZc+tyxYkEDpplL8Eu6laLlMPZhGgrIP5vL/wNbPpRz1NXaROtR4K79Xkkf+IjgKKSmk0Hr3VGgu1Sp7DYS2f2UyK57DEX7s3Cn3jyRjmg6riRGtr6hGlXVLRJnNBRx6ffh/qRYPo9ZXyfK33E+GcANUY93VmPzH3UeL3rdio7zcu+kgPhddGQjnTmjK29eJ+/uxcobU1g6cn+Ui6w4Cz+T29OCst07Ua6Sd0bVDtFZYeFUFe+x49pF161w7oTOWYHnsmgSeBokPYAdb0pPVBEh9mjBXOSPD8PX1a/jlffESvMkR5koXH7fwLYOy6goTkZofq5W15WSQaFIoNszqSN3RXjoniaUvbHPxX8QdW03KrZvQqncKozpxdj4SDzMUlsmyoGifRPfxQNyOsGgrh2wRa6yaW3ADrWj9j1h0E9Sk00avFl0L++PeI8Vx96Vy08WiIisfORNTeJOaTJTh6vfDuvVS2g8eRTvf3jCJXis7kcoY0H09FzkZdFgEd/fbFcaUPZeCao85YxSbGvm16m3h1a7qRGn91G5N91SyRkLog+7umC196KjuQWnq+iqV0/6a5D9usR8LOK2rfqGjs+2onTARRLrSL//oebXqdozRYz2W3/g+Vk8jktV8Pi3Yv8UPupCtU+Lsk3zGu6FvirW5juIiPrIemoP0Ql1wlUpYh13o3zzJpSJq8092WTis79EfHbTRfLzLfLvKRdHoKjJrFY0B2+ipxcg1VcpJfq+RIXi/s5BYMJ8rF+QAsuVamx4uVT2OQwFbzQ6t/av2tz2YBtSMtKORYxxY9U+7Cx1dSCUUDYMdL/+c0Ror3twGGhCxqIZsWh973XHIEOrkY8twMolmYim379lKz5NX4bnyXealBxDL428ODg22Zqw+zc7UBNGjNoyYtRI69e8+6pLAmF1hWlJn4WsKF8NYrpRu/eo14k1PcmmKM8dVa+SwY17QMBSuALrM8NgbzmANVsPC1cpBoy8FrTKiQriwI4q1xd/W40pP3mW1IGJ9KFSvPhmtdsA2hcK0yMeB2Ey0FwSqwsd8gahbhQH8GptojUg3ouus9Il9sr6YPBJwuQ5d5O+qbFvBE9E3nzSJ+nKA+kgU0p/L1rPVaPsXTKg8JSbQOPgUha98uz0XXYim++jftxcTo6ND5JDkPX0sygUtxHpsA3GnF1/Eousx+/DtWP7UOtp4GoOJPpdmueGbt+chjgq07K5FkSZN4hsW6eg6OfzkWFxcQSlGAre0G2yGrY/yQUPDepaURZ4iJ0sJXYhl986RbeJvkyeU9OMvSsG/aShJ5ueMDYItBBZ4Hwh+sHWiZryvXjnUJObPZNFpa2ZX6fWHjSFQybGetyGpJHuMz7Y0ufZJg85v84wYtvo9z/U/DpjOsNYv/UPOVj64iwkmJTrxa/Bm8h0ZGeMMRawU+0D3thene2SSextIbG3SuP95PlY+2QKQl37giebLAZG+4juWUd0j3DZQSYWvVCAVLP7RI6azGpFc/DG7zg5sXow0sHEDkEcrK3EwXIbHImV7hzR9qaTeMKYkglD1o/nIPT8URwknUSfj69mGMgAMCwA1k4D4TVNRj4WuSuLkRdpQtfxXfjV27SDOxJ1yjqG3hj5WPKuS8i7msjgSLKaQYzIus9yDyXlrQ26rTGUzhpfUjjaXlRgopMjFZaB4IEdjR//Gtucjr3zzsiLcq0fD0ZcdBJJH654kyhGmgNA2s5HdpA+6tyxvVGY4szutS9K8Mrbjuh96hPLkBUufKDIzdBzWFG/fxfK3WbiA5H81GoUJwVyDtbPiYNFc8QkP7kCxTQ/iazT612byKOmD7zHaPDf1savLNMGGeBOmIjUOJrI0YSAb+hKNTsZzJ7A6ZM6jkumuV2S5B42HGnc8dM0yV6dfFBJ78SExO4NBB0H+iNtfnLtDfdApCfooGb9VDNOHzuKvYe0JwvWZodE/Sh81IPBQdrNRNayDdxKgI4q6SogB6mL1wmrAyQzgZ4cRW/QOvB2waG7Jfp0QO/a0VqxA5v3ur+fvzDmI91IjPoRE5G3eCJsx/ehQnZlogqqbc38upvLrxMDtq4TLRJukF9Hk+TmRSmtUJNhQhFWP56CEdY67Hy5ROb7xLbx5H/wk1Nx41JgusjnmFPz64zpjCEkJx4DBH4O3vgNcYLOnejxfC6ernOVOCabc7EXzdzKNOGjR8TxfC9qP3gFO49I+0EgJj+9GgvGBcJ2tgzrtktWy3u0yWHIW7UCuWGQtfUDq4av1mHzr/Y4+YtqMqsVzTlv3KB70Wf/CI8+mo+5+bP4/ZqS/Yx0T3DGfUmIHXkLzl9sAz3ISZVbhmPY11f4vYUayzfBMQgLNLKf+Dy+iqX74CyISYxER20tLolJvczxyF7yQ0wfbQKu1GLn+6cHlKbqnnhX6AAgayISwm/RtE/S2N7Mr3HhZA3OkPvT6qUDpKxJxBDiDNo9fqXankM7+vijXAi0k92PSUnhsDW0eB6UeNobTeo3d9m/IG8MnVkmivx/HxZ+5yqavjQjaVIsQkfGYmq6S7sY3BtNt1X85MlM3Em+zt72Cbb93jH7TPexc/u8g4ORkJaGsG/Ffd7696qbSXvnFuSjIO8hYQ8z7RN8P8h+YDrSJyXjrjFmdH1J6lBHAjk6C/bE4z/E3IKHyb2d9wzz/SwDqePC8NWFGjQ2dsKmdO+L5F2T05E0ahTuTQnG+brT6KK/S9tjcRGR92FE3o9h265TLk6Cgb3REq6bhsP+Vbts/5UvVzE8Ui4niwPTuAIs+1e+Ta2nyrDtY6G/XG1E4+3JSB8bjNFjJ2FiBDG+tRcHnF9v9pmGps/E1Mjb8G13vVP/nJD7Q2REEydrhFC4tfSEALPjGlfuwNdnXWXJgtSn/gf+JYmMgomj+ac338Xf/k6v23G5oRcjJycjesRopE1JxDcX6tDMJfqgaGsTukLsgfQURFu60dzmKX+Kf/cgTylchNkprnlPPJeoYS069GEfbB0taG44g8YvTuMM/X9DI9o7tJ7AInClhfwd/VvXEolJXB1dwedbf4+P5H6nkdg64TaaEPdVX6nGv2/9M5+rhchCfU8MpqSMhmV0IhIDm4i8ejzKxIn+v32OQ3+pRO1ZK+64Kwaho8ywd3muB212qB92M3Gu2lz7rkr5ajjGRAQhwKs8QnTA8S8octGBnksy+v28r17KhX8Q+0VsVWjEOIz8uhZ1F0WJoAcKFONf7huFAHSj8t0/YqBZdeTU8blNVkCUBdu5/4tNb9fyOUuunsEZomOnEh07MjYJYV9Vo7ZNV++SoO89tMkmXW21CHOFfDS6yj0BOFTtvZRw+SFDaV5HC8br9CN4OtB47ASns/u5FSEzkX7vWARcbcJlzj6ooNrWzK/T59fR7WsPYs7DDyHvoXzk5wr5BnOzMT2HyMv0dEy6NwEjyaCwVfDBtWFBwkP/jKLH5uBHDz+IvNku+momuf/USYiN6MPfqmvxpZr9ukF+XVLWLCSTsd2Veo1yHX0fZk0MR9C3VxW+z5EXiMvpNSET2TOnYQqXGygLs4lvPTuX+NQPZiPnB2mYNC4GwX/n/Tg1v25AZ3zVhkbrMD4nS0wK8akmIpnm1xK+J4fLPZSNWPtfcKJFv//vNyZnIf/uEAR8dQ6lFadlfQv5cSnxOROp3SfvmzARWfelInX6LORPGo26msaB++ga0/qUK2iX859IGZXGP9Olutewp0zudzToQSeI/0Fs1rS4EIyJvxfDu+pwpp3WAOmHjz+NheODMYwGen9fimbpfT3a5K/R2BtJbH04QqOTMOYfbagT8oRxJz7nxiLoll7UHtyBIy3OPVhNZrViKHhjzpyPlcVzMH3caISZb4XdRgYHnVeFhD58+cYUhFHBIYi+Kxk596dhpE3qxMig6DArF76RjXWwroavETQxEXEhxCHPysbUH0xCcmYOfpSfSZQSsQh9pDF37UKdxGfWJehickeNSZS1OSbqiAMkUampo3WwloHHn7ofabFBuKrFAVYx8jRx5o8X/whZYcSg0M7yxhuolo5JyOC76tytiE+Nw2hLOGmXLNwZcB41dJ+DASOf8PgK/CQ/EaH062iiy21lLknsiGNxsgX9CROQMDIIY+LuBJor0ditQ3mb01H4/1uCRVlJiA8L5rar2Hu70drF94evevoQEBSEENoXYhIxdXo2Job9HVWn2nhnWBG6//wZLM9OxJgRZtza102M+JeorW3AGToYutSDb/q/JeMBopAiojDpviwP9/0azbV/R9h9yYgOiUL6dD6wlDszHXePIBVka0HpW793DCYG8M7I97U1yfZd5TIM46bTupeTSzL4mbEIyx9PxZhbqQgdxebfHXVySmxnPsOJYYlIjw/ByIgkPHB/Ir5p/hzNX3mnMJX6Z9Onf8ZHB8XyCf7a2Ijm7q9RV3kAH3zwHv74gfgzFzkKnoiC/7cYj8bRBalW1Lz3GsrOSIST9I+66mucjoq1hCBJaN9PSPtqbZPY2QtQlBanMQDi3+DNl63ncaKWJsm7gjuSxiHiNmLU9u/EnsOO5HmV/XdialSQU0L3qtrz6Plau1vsX/xQR6KD8FUT/ijRazRJdu3tEzA1ljhhY8chqPUTnL4s/FAXM7H4pz9EXloM+jQ8szY79DUuN8r1XZUScDf+ycAgzRlH/ddX1OCEa4DIrXgOBPuFLxtwKWwCJkSF4M7kaUQHpSF1QgYeIAOQ3IRg/kCBI7/HW59JlK2u4I3vbLIaoiz0dtTgkEQWaBLy1tgpSBtNbGbSXej56+fKyb9V0fce2mQzCdPyiP+gIRG+AyF5/tcX3eue5vlY8CCmigcHSIvkEAEa/HkwjwzsyeD7gSlpmHpvCBrLOxDj9SBQPNRDY4JvzW3N/Dq1ujSlF+F/PvMj5CbHYAy5RyCRpJ6rl/DlV2R8Y+2B1T4MI24PJoPj0Yi/eyLxpdIQZD2G054CmfTUvGX/goeTRnMTPd981Ynmi404dvo8p7Mu9PAJy0eEjEI0GRBmEd2hft8b49eJY6H+fgtG3pXknHBcrkRHI44G7xW/T2yb4QijEzdRZGw5MPEVBDPtz3Y7eq5dwYWOi6itq0F1ZTsuE99Aza8TfzZ81DhMTaMHTZAyIRFJ4gSR8D0jSFvc8g9ihtsPE7kcQsGbFqJ7Sf+sbm7C1Wvy42exLUaOlQYB+QNNuPe9dxz3rrGj6HvacFpS/zcueKOMP56p7yyxWTFpSIsIGUg4nzv7n5ARHYRhcv43RYtN/rIWtYF0MmM0xiSkIXdGNqbPnEXG4aNhvsWOjuN/wu/+RHSR8OsiajKrFf3bpiILsHIl3dNqR2t1GbZ/oLIkm67OeWQBFqWHwUSV+patOKi01ElM9KkDPsGgN0vbLEgonI/C1CiMCjJxe4ztfVa0nq5EyfuH0eHyXrqWmPlzGbQC+pbA0cishyWZHL7aTuFYnsYZlDdeR4XSimtzCnIXz0VeSDN2vCJsGTGyvFZYVht68TC2vXnArT0d8HKQdX0fdnJbbbQumwxD9vJnURBjgr27AWWlpahoUJrDsiB6ZiHmP5CECJdlvnIM7HsndVX29h6UK96XD6Y+W5BC7ksGxKUbsVMtT645Hhlz5yD3nhCE3kaem8r7uc+x950DaJatH++W10Y/tBAF44gC1EwAIiLDYJHb42smjs9P85FKt4e1HMbmrQcUnQ7T+AIsnpuJiIuObSfeLFX0tPyWa4OHSRu47JnvOrsP27a7J1kNfWwV1mbQpd3dqCj9D5QqnP7DBfGeLEJBoh3lr78qLAHX1ibGlgz7G5W+JejMobstwle6UIKqnXBsOTCe/0bfM5vCYhExkugFmbxsDuKR/VQ+kvVsmzJZEEeT6ntlD/XWv9al+P7BPKkA8/MmITE4ECYyjgIZfHRdbsDBve+75xvR5S/4QQ5lUNUfdEvG/yz0Mv+NP97DwD3VfAvxcAvhoxukTW2cZ25D1yUrbLZOnCf/7+C2aoZhrtfbL3Ru4SA+d0QM6WceE6f7qu6/g35dJLn/clI3xE/rqD+EPaWH0eoW/BAITkJWYQEKkkO4MU4ZGeOUK27nCCP6nM/LZ2s5im2/36d8X/LsqQuWYMEEcl9bE3a+sAO1wk9kGWS/Thxr6Ebx++Rz9SmmAZCg5tep5ae0ttfhPD3sz+2gG5197gbjtnVf4Lq1Da1dVAPQreMNuHTNXSfcuG1Tyvjvmejk71wUZSUhmo73+1XsMUWHTXay9aSGrVfbcOzwPpRVyitDb8YiIvqDN+ILtVdizeYyFeMgEojcleuQF+mhMcT7DmRf14qOfZde8t0K3mjFV0aeQBy+3EfuQO0H7oExOUzmQNhtQqcyuDfa6R6a0aq8xbrpxP4XyMBawztZyKB9PR20q2Qop2QvfxEFMUBrxUZs3uv5+ZOfWsflTfH9wNc7Iy8qKf39msibTJJRU3oB8i112KcpgSNRpOZe0v78J28UpupARnT20I2aP+/DvupzuH4nkfU84jiESff/S6GJWCei46Myzwl0Cc5yrK1NVJ/ZCGIuGK8Szqv0LUFnqj9vCgqfK0KannigGgN78LUEJMyIjgnhAt4dF7vU31/2JCIZPNkJSf4bY4NkH+rvAcQ2JM8knICnGfIO6147IHzQi953EZ/T/feVHF5DaG1rNXT5C/5oU3c86o+B/DekG4n5moQfacMf72Hgnt7kXVHFF4NAX9xDDh/W/XfNrxP7ouYxThgKnluB7FHE9y4nvsWHwmU3xDrX6i8S3f8Lqvt93fYU4Vm8Ct7Q1bO7cVDulHVXYmZgcV687rxbWvDGr5PHs5wkPLECiybxh2VsJn68R5ssypRP8J08KI4Z85ZgY5avntcxRtcymat66qMTSnkkfYQum6wPX8gsnQ/Sh7j+J8CEEcI/1QmHWYymalnDShTmunXrdZTBCdwwfICtGgff1WbgKfqNszu+uIdnTHTCSxMBGnvctW94l8Fs0ZKPPRAWE103Blz/xtiQ2t9YG96X6btqRe50GNKe1WUo03ryBjFyYuDGbxAn0pQSyw9gzh3G7o/p0eG9sJ46itLfHwdd3B8aHs//rhMtqHhXW+CGMjhyrE50WiZys0hJHqOyUs/fmHB7IN3m4KMSKM7KWRATE4UE1UIDN5RARMj+XFo0nAykBaIz3/mwgQsUmaIyseCRWP76kICu9JPruyrFcODGt0REyrWZ0eKjtr7ZaCnDzr+2cbrYkpyLJ9LlZ7gZ33G+a36d7jGO1t5vBb/zJRChcdwFdYhvEciNnWz4emi6dbBfbULrWQ3lqq4Q/xBnIqYkEZ1PfHlzTDry04TLalzuROPFNh+VZjgtFPIHZDwh6y8ZKmbczg9PYA4fK2M/nQsN3HC/GyL/c0cZixhfTeLdhOhfeSPdunClAfs/3IdPT8ktzyQDyvGZmPPQDEwepWHZtx+jXL7C0MobotwOnrokXNSC8aOjxedTztItj/qJLuJsgcoJKwroOynGA36bHZND62xXILKW/Yw7WYS8LMo/PozD1XWy2whNYSmYQpPdTaCOvh2NH/0a2z5WcUDS5pP3TSFDSn7pbsmfKtEss42BGo+MvBzkJ/LLduWPlvYG72ZofL76wwu8iXaLf2trr0NFuxlxoy2whIQgIqAFu9+1Yc4C0lZXqvHKltIBJ3bgKHO3Yzq9RVubOD3zOT3WXl4HDazuaijFhjeqhataELdoUmKRO28WUknfcpu1mzQHK9PDuJw328sFIfa4/N9XyC/bNozW59Zo9wZOLiB62P0IXDWM6++OBv40D3f8tRrAE+K7aF0tID6nL1d2+Ald/o8/2tQdbbrbcVoel+9El/0x/h7KvoVeGSHcFCtv7Gg9WY16HWpcva39UfcGGIp+nTkHS39OT6Ml73qxGu8fOopalTFO/qzpyIik8t+C0l++jgqVIFbCj9dg6Xgy4uzrRs3hfdj7iZy/SOxlxjQUPJCJ1BCTF9sS1RDan628kcGTnBC//xni98dpGNcOcXSNaX2AuC3bN9hx7WKL5pM0dTPEV94YOyo8dhoW/PMsPigj4Lp8OuA2PocMhQZ5yv6wC1VqRl2sKCP4QSHIYSh4oxvjjqb4fHpRd85EI68fnw7Yh2TwhkD3Gj8xl9vzLM6/uPUFE+kL4oobarQPlmC3ODhVgeZRWZqXgmjxxi5bj5zu20Pk5v0dOHjK1zNS3hl5UUkZwsdt7Y3ClH0Pey862o+jdEslooXcR+i3orWNeNjB4Yi2kM83MKBmvO7ldJC4/ZUGHtdj28fCZU0Y1yGDpdu/uxive+V+IupH4aNOjDssRt/FuE0dNAwFb/TjjbPoe4y/h7Jv4YWu8blvocOPUMR4X1Nva3/UvQGGqF9HkzA/8Zgw8Szg9RiHg+ayKUbReH7lBkXtvtaLlXhze5lC3hpvENrfoH01Otbwhz33xUDYGW1yYo4hFXBRLV/o0Gewgzc3Fd/J4I0AnfVPm3ov7okMRWhIiGPW8roVXd1WXGpvwMm/fo5aLWu8DCQsHsAXe841kPXMBk7Qz1esx479wkUlgqMQHW5k4OQpgbAy9IjKUHGgrwP15JTSWXN9qN9XJxOKsPrxFIwgHcn/S+/FvBo68imR9k5Nn4IJd0fBEmhGRKiFN8BcX7DhmrUNp7/4FMeq9LYtnYW5D1n3JiHaYkZouBAkEu7bdbkJJ2urFWaGfAE9enUa4gZyg+hDf8JiCZc+x7Z31LIv6yNh3iosuteirf+64DRjILuqIhARWfnIyxiHONL26OnGRaL/ykv3ad4apR1tbWJ8lkNOB4n778lA+AUyENYlxPRY2rsRIXzShVf5dRje6G/lZJEGEhZL6PhsK0oNdWujcmR8NeugIeYY0GTf/NGmNwJ/+BZe6JruM9h/ROOyJE0Y8CPcML4iUL2tmV+npT0cYxwLRgSRcU4Qb0/txL539Nhg1TPGkSL1F4MsiA7mW4K/L/EvzjXg2GfVsqutfYOXft30AqSGCB/04Ad77o1fJ48v+u3Nga4x7fcNXTZZH76QWa+CNwwGg8H4HmAuwMoXMhF9pRobXi5lwRQGg8FgMBgMBmOQ0Zg+lcFgMBjfW9LDueNyO84dZYEbBoPBYDAYDAbjBsBW3jAYDAZDHW4bqMm/CeIYDAaDwWAwGAyGImzlDYPBYDDUudqG1rMscMNgMBgMBoPBYNwoWPCGwWAwGAwGg8FgMBgMBmMIw4I3DAaDwWAwGAwGg8FgMBhDGBa8YTAYDAaDwWAwGAwGg8EYwrDgDYPBYDAYDAaDwWAwGAzGEIYFbxgMBoPBYDAYDAaDwWAwhjAseMNgMBgMBoPBYDAYDAaDMYRhwRsGg8FgMBgMBoPBYDAYjCEMC94wGAwGg8FgMBgMBoPBYAxhWPCGwWAwGAwGg8FgMBgMBmMIw4I3DAaDwWAwGAwGg8FgMBhDGBa8YTAYDAaDwWAwGAwGg8EYwrDgDYPBYDAYDAaDwWAwGAzGEIYFbxgMBoPBYDAYDAaDwWAwhjAseMNgMBgMBoPBYDAYDAaDMYRhwRsGg8FgMBgMBoPBYDAYjCEMC94wGAwGg8FgMBgMBoPBYAxhWPCGwWAwGAwGg8FgMBgMBmMIw4I3DAaDwWAwGAwGg8FgMBhDmFvunvLgt8K//cgsFG+chji0Yf+611EhXP1uEghLXBRGBAgf9XDdio7znbALHw2RtwQbs6KAtqNY99oB4aIrBtsjOArR4VGISx4Di3DJ1t2ExvZudJ1tg024pofo6QVIDQE6GspQ0yBcdEXTO908ZD2zAXlRVhx7dxNKTwoXB5tHlmHTdL5OV/12n3DRlcHrt6awWESMNMF2qQldV8mFCUVY/XgKRgz5NrcgNDEMZvQa7gP6uDG6NGHeKiy614LzFeuxY79w8YbA13doZBISQkzCNe/1kBKW9FnIigqEra0S5dWdwlUXRFm11mHnyyVoFC7frIhtfe2LErzydp1w1XsGXe/5qV00yYRGzDHxSEhKQXQQEBBK7KuF6MDLLejoAaztdahvEPShn+DbBD7v1/65r6D7fNmeQ6nv+vVZ/FB3HDfGHjEkmMMQEWOBydaJ1otW7pLP7fV3xgdPQeFzRUiz+McO+cfGfZ/62Hd4/OxjDAZvaAWPx4QJ/CDe2n4CJ2tbYFX0mvOx/DfTMJa+7E+34qBw1VsSnlyHpcmBsNaXYMObJ4SrN5qJWPCLIkwmzphuehqw7d92eWdYNQ3K9bSHBQmF81E4kQyuzcIlBWzdLajYvwf7j/MGRAu5P3mRc/KajzyPLR8IF13R9E43D/w796LmnY3YfUy46ISoHAyg1bj6XE68Q+zLA3KQthDrn0iCReH5NMnNoDB4dcQz2N/H49Y+bohOkfBRDxoGFOZJ+Zg7YyJSI4mTKlxTwtregMOHSlGuQw8pocnGiLLqSX/fJHrMX3bVs97zMVrbRSfe1492m0rxZFdpAChUw304XBxcTXqUDA6TZ+Tj/nGhCA0JQcDXl9BxuQXH/noYNQ3yz+Qf/SzoPl+2p59kxBB+fRatdcd8e0MkTUNeUojwQQ+9aK46gPp24aMRZHwlz/ZaJ1pt15C3ceL4zD92SJuNY31Mme/a+Nl/6A7emMYXYPHcTCS4Vm5/Lxr/+j62762TiXz5WfgaSrHhjWrhqnbE2SHdqA42DEQOY2ZgcV68fqMtRtyFjxyT5mBlehjQWY3Nf3TukAOrGrS2hzkdRSsLkRFM/k3at/VcA+r/1oTali7+5xyhiEuOR8LdSUgNC+SudJ0qxctvVWuKgGpy8jR1qHhkP5WPZCOdntDx2VaUVgofdBGLjCfnoiApDGZxE6KtEzXle/HOoSbZOvCs4MX2Aex9dlznL2qD1JFr8EZWzoeZYKaC02+Hze0hiVxwEeXBU1JuzoaMQyLFP4MDA5gLsPKFTESjGxXbN6H0rHDdI1qNlKuc+KJNAjF2TjEWTIlCqKg8+q1orNqHnaUnZFeueHYGHe+jW2Y9BG9CSf9/jvR/+qjWziac/KIBtdwKG7rayQozt/LJjPDEFEy4V9RDdvKsO8iztnD3MIomB0froGtQHVuN8iXzzNqcOn/oPTm0BgVFnSXBT4NhbfWjRBiylz+LghgizdRnOnkEFdVNOH/R2XnnViLeFY+MKdORFcPLc2P5f2Dbh+4rfURdqAmXuvCkR03pRVj56ERE3CZccKHr7D5s234UUo+AonrfzCIs/UEYbOeIvvmwSbioBUH3ybanVvtvRf3+XSgX9bRfAyYyetZO9OynZfJ+sp5niZ2GBUUzOF0n3trW2YCy0hJUnesVrkhRqzue745v78VEgoz/pAlRt+tGQR/K+fZOSFb6yvhKSvY6+qGFKBintWIkfUWr7RpUG8fDye0P05FgEWqL+LRdbdXYvb0MzW7OjJ7gje9tHBs/E74v42c/c+uomIQXhH97xJS+EM/Pm4QxxJDbrrag6vN6nLlwEV/2ByMsJAgRsamYEnMNFcfb0C/8DU8ipsyKxUiiDBoPfgY95lqZMGTNnoa424Hht/ah7mgdubs+krJmIXnkMAR82w+7nhBWXydOVNS5OSw8dvR91Q1rl44Smoqc8aMx/PoVVJefULivDBN+hFULZyE7LQ1TxRIlaIWgKMc1ocTiz6g6Q3+orT1SnyzGw1Em2K9UY+srr2N/VR0a/9bm8vxtuNBQhxOf/AV//ioGU1JGY2R4DEa0HkXdZeFGHHS7QwxCR4VghKTE3puGOPLIPZ3nceG6889G3G6H9VofcHcGZo8lBsfago8+VeqasZhWkImU0eR7Rugv314W60YPsURZF+PReAsCbiF9orsTXf3DccftFoxJmEAcq7+j6pRrXyBuZuZMYmjsaK/7C2q/FC46IbZPGz5a+zJ2HDqMQ1oLGQi4EvuDGeT7hA8iVOb/QYrrw3EQuTj0OS5402+pQ7GiCAWzZmK2UJIC/4wR+S/i/53ruDZ7VjL6yb2/mpSN9DATrrYI7TBmIt8nFNqcr0M4fv8GEfroHDwcTae9zbjD1IojtVf4H3gkCKHjInFrrxVd1+RKLwLuCMLwW2y4cIL0pQ7hz7zWpYFIfnIFlqaN5hwSu7UTX/YNx+2BZoyOScHUpFtx4rMmtwBOqGv7uBGJCdkpxDb04sR/b8Bv98jIplJR1KWUHCxaNAmjh/Wi/sNN2Px2JU6fbUEXp3usVNvCxv27E+1neT105PpdmJo4CqOjw9HzZyrHWqBOQyzCwpx1UET8BKSMMhGd3oZG6zCnn40YYYLtq6/RL8qqJ/2tSY/5Cg/y9Y8AhNLobVcj/rvyjJOOEtu673Idyo8PCJ4Ef+k9OaJw38xU3EmENeBWtdKDZtf+oLVdXKHBhcIcpE/JkC0p4RaMGD4MtwaGI2HifbK/kz4lGUHdJ9Ds+qWJj2BBThTM9k7s3/YySirO4xLxCPtcPPb+r6/C2noep6v+gurbJ2BqrAWjg82yfs43twUR+3kRTcQX48tVDI8Mx4hbyeCrogYnBq6T0vI31De2kV7Do6pHYwvxP59MQ8StdnTUf4z//M838N4Hf8ZHpJ7rvrEgNi4SEeGJmCTj86ned1IO/jk1CrfbGhXkSwlB98m2p1b7fwe+PiuRP6My4hF5PTvCbEaokp+s9VliyeBhyUzcQwarw8igr+OyFd8ONyPIMhopEycg6NoxnG5zHQKq1d13zbd36IxbiI/jqodUIbpZzofySEcr6hpqUXmsRmO5gjuSxiHiNgV9KOfbO5UY9In1LeMrKdnriKw5mD0uRKZfyBVJX9FquwbVxknkluhjGhhtvdKH228nfSGYjEXui8GFz07gslNXEP0UT3bI9zaOjZ8FvifjZ3+jY+WNGLEkhry6BJvfdY4QcoL5eBIZoltR9eZLKKkXfsDh+0iV4/sovaj94BXsPCI346CMp1kno+iaCZOiN3IYmY7sjDFk2CghMgW5NLJ+tQkHT10SLvI48spoaw8j9aP8N+J36kCM3vsxmu+NDETPW4WVk0KIoWpCya4dqBIm+c2ZC/FcIZVN+Qg8/51qkX8/R3a53EUhCE+MBS42kMGDY6+0M148hzAbZCZO6/mr/DoMurrJOoV/946LXeC/sRMVW0pgc50pkplNkuJNu/kMzomm9dMLG3HWzSYrat59Fbur9ekhWSILsXplOiLsLSh9XrqiwDvZMM1cgl/OjoWJDB7L396GslP8s5rGFeCZpzIx1kRXrPwHqVPnGX6lmTwHema09GDkfY38jcaVKlJEfa11xvwGzEoqIeouuvph3e+OCld5PK0s8Z/ek8MLudLaLq4YnkWXovC8kmfaQZ7JyU1Sgvg666mvo/k9pmHRxnyk3taN8s2bUKayJUNNj2Yt24DCWBM3M/viGzIraWOJjlpGdBTR4Qc3v4r9ku9R1c9C/epfuST0a9l6MCgnRmXEA4p6dnwhls9LRzTRs40f/RrbPpbYCk3PkoTCNQuRRbsf6btbSN/lBysWpD61DIuSiO8n+/da6u674tv7yxb5Eg/PKMqC2wqAWOTOm4XUIEl9i78rsSue7bUDTb6UVts1mDbOnIOlP5+FBNKXWqtKsOU9QW7NKShYVoTsMBPsLQfw862HJfKsTTZ8b+O+a31Mo9wYQLyvbvTqcD+Pn/2NuBjMM9PTcQ91bK82YI+L4FHs1buw/SQdjlmQPGUif9FfkEHTM1wHIgbwZBMR90Ck5hWTSue37QwNiEI5WYmDFTpK1RfQMw+F9mqU7y3Dfkk52C50wB4iWC4/U0wIrIDNzrdyeNQ0leWbEszTEM1t+7XjuttyxaPYvX0HNusp7zkPKoYWOSgYT1+WKNv3HMqdYqvchS1V3eRfgZj8QIGgIIcAdKn1qnXYtHYZVi6ejwXZ5POCYqxcvgabXliBBTPiFdo5FJOXL8NSrixEdqJwWQO2i4ewbctWrji2pXWhRri2bUsJaoWrNxPmSYVYSQM3NNjx153Y/Nc2IvUWTH5sBRZlxwq/ZRzL1LFkUER6UlsTPuUv+YB4FPyADCio3ix3DCgo9nNleG0/XXFjwtj0OUgVrt94mtDBLVWNQtbTOZ5zhJjjkfH0RGJYCd2d2gbHHA3YS5w0WT2kVHbtw3nhr28ukpB1F9VdxEad06tjb0K9p5cPtmLVT5/3sigMDOpb0EHNahAZhC/OQTTdkqyCOSkHi/J4J9vWdkabY2oOQSi3zcmCUCddTVeXxSM60VHMisvTJyJuFLUG3Th5RGELdMs+1HABmzAkpnFXGBzxyFfSs6dKsZ2zFSYkTJ6lv4/MzMEU2v2u1mH7QOCGYkXtG3tQThd+EtkqKAzjL2uB+fZDl+u9aD3bJCnd8n3xe0j0nHQkEBVlbznqCNxQbHUo+30lmskFU+wk5EYK1zXjBxvH+phObv7xs7/RHrwJDuQiVNa2OrTyV9xobWgjgkDEL2kuNm7cICmZvDPtA0KzF2I1N2giz1Jfhu27d6PkFPlWUxTyFpOBk+IAVBkTcfilDo2nEurB4eKx4xJ5PlcBUC37q7n684bUSKp0CCFRGgZgpM5+8yI2cWUdFrg4YBV/rkYr0TLmcflY/1wx8qanyL67OSYFkwuLsXptPlKJkNjbKlHysfDDAazocjJCGorsahB/0IsuvQnjZiYhjgpaZx32yYwQuz48gUaqocNiMcXTgFORAJhl5E+1xIXJyz+dpViSj8lhgbBePIFSYpT4QWgpSo+Tfjs8DJPzFuGZh+ScvkBExEQhgStjETOERmV6+250YpRzpF0vwRORvXgV1gqzpx3Hy/DaBy3o+oDUZUUbbMMsSH1oCdYvL0CykANKN+ZpmDuRtkMv6j8/4GboeaSyEQuLlpdKTEcyVQ+2FlR85D7LYj9yFLU0UGKOwgQvBmOmYGl9aylqbdKA9/cSPdRH7Mq4WVj9iw1Yu2oZip8sRN6cgoFS8OQSLF21Bi/9ohhFdOakjxjfd/cq2ip3emE9L6OD1IrRkw0CAmXqQL1osznaME2fhlR6PyoHLflYNBCY5UsBzceixKDovSGIOQxjp+cTWSuS1FcxConsZRO7qKn/UWyHsf1tXp5DE2dh5doXicyuwkpJ/fNlBdZufBEbn5qFVCLOtrZq4utoS8pmmh7FBX7Jv5CQlMn9iycJcxYWY+ViR8n2OMa3E3sh/NONXlzpEXqAdk/yu0/kRNyjometH5xAPd23FpaEHJ0Dy6x7+NxfrfUHZHRbC/Ydb+F0UnRsunY/+Lvs2+uyRRrtqE+x4evBcnMHE7/buDCkjaWdTMFHat+HozR6Q34vNUtHIJPiDxvHxs8D5fsyfvY32nPeCHsZlffBE6ImIidlNIbTPXAumwHpvnQiLobzNNDjOefNn4cfTYrEHcPIoOnkn7D5rSr0kUa+fLIaF8ImIHlMMKIT0pCVdhf6v7mI1ravVfe7ivuyR0Q5723zVBx73+Th72tC2N3ZyH5gBh7QXNIx8sonOK0rfCjBPAs/nEM6B63qAAvu+LYS1X9zU2sEcc8e3b5yCe1cHoRLaPrCZY/+5TOobu7HqLixuHPUKMTfnYrp04VcJTOy8cCsWcibPRMPTEnFhJgQ3CHsjX9910GXfabu0NNjnpj3IxQV5OPhB8k9srMw+Z5RsHafx6Vulz/22z7aFKTPSkX0cDvaT6ntf3UnYdosZIQPR9fZ/4uPT9FIvAt2K8akZyLu9gBYO8m924TrBLV9sTxi+wQhTkb+VMu9IWiU29P+0A9RFBfEbZPY+No+NLeKe0bbcOHUZ6jouwtZd49yyasgPgddHvgSth2k+Q401pOwDxsu+oJ/d3c94LZHW2YftxSjfddpr7hGaPLQlKkPIv+xAszLS0PyKDMC+rpR839/j20f1As6xo6ehs9QeTkIsfExGDM6Bmn3Z2N6ejKixgTB3tmOy1976BQcgUheuAB5kSbY26vxX/99xiX/jJxsjEdwh4Z2yczBo3EW2L+sxp7P5NaMXMFtydmYEHob+q9+gsoGx/Nqz3ljQgTRwe71rlbU26T/0mlUVtbiwi0hMN9hRljIaIyJiEJ8bMxAiQsLRujwW/FV13kcqziM/9rzR5y+pKW+5TGNy8TD//zPmPfowyjI4/Vd+sRYDOttQnO7mDFEQGuuClGPyeyn9lQ82RzNmNMxb8H9uPM2O5or30JZ30T88P67MEaS64Dmc6HI2Xr/6j05tOYokEFru6gRPBF5T/8LFs/JxtS7Y4msRSJioK5CEEtkL4nYxZycmZiaHEQc8DPo+kb4WwU4eT5E88aYEHjbcJhHBmOEJRgRIyVtEDgc/T1X0HS+Fh+V/R57/nQCVzWJcxIeffyfEGfuhdVmQlBEOIJaiU/B5Z8jfhkZQXS1OXLgfBMcAxpjdu/X/YibQttxOPAP4keck/vyJPzTg5MRHdiLv1U6t42on2X1hRZfUhZB98m2p0E58YWMuPJPMzFXVc+2YOT4mUgaEUC6y2HiowmXPT5LCqY+OJH4K92o3X8Qp2Uetr8nFpOnRhEf2YZmcg9H2kGVuvvO+fZGbZFGO+oTkpE1exzx1bvxxTsy9abo/4jvJqlvmd/1bK8diH2156KzzXdCqw8+aDYuGw/OIfJsb8Mnu+Tz2rVHpGA26YeB/7Di4EA/9Kwn/GLjvnN9zLgP/r0ZP/sZ7cGbO5IxlSgIy21A3ZFa2QhX9Ix8ZEcMh7XuD1j/aokkKaUZSdzL6hS+UTkoWvxDPPpoPvJTYxERZOKWMx187zXsOiDN9k0E8BRRPJf5gVNEcAiSUjKROyMLEycm4varNWhySp7LIwpf17lKVNRLkvp5KPVnzqBdJS9pUFwy7iAK46ueHlh1lW5cOG1UAOig7wnkhpvQdb4JtpGjED02Ef2NpL65bQdSROG7hKMvbkVJ1WeorpL/3v7u86i1xXJtP7yvE1W1HbDZbej6ew++slKh7UT9eTvCIoIQ0HMWv//tH3HBg5PJnR7zcAruvGM4brHb8Q1NKjfsNowMjcKk+6Ygfth54ixKHlqr4dAN+b4cYwODsZmzyCB3GC6dfU9BEX2NMGJAk4NvQ1+Xs7JSVPAD3Irrt9twSUb2RGdbUWZdElKKxGfkIJ0YpN6OGhySMR79fXFIp05f/1WcGHDuRDkxYDQEh8JfwRv3JJ1ay3nUNbTI6i8lhk39Z6yYnYQxQWRAZe3Eico/4X//rhTHmt06FuztZ4hzTAdmgRgZFooxISEYExWNgK5PcKLFQ8egffjHK1B8bxC5URs+euv3qFPsu9JkpOdx+nQTLv9d+BUFLBOykRNtJir0c0UH4ta70zE10oxbejqcfsezM+g+MBTL5dsiEX3HMNjaiSycaHL7uaY2sX+Ny2dPoOaTozj0ZxpElCl/Powjn9Tg9N+I/HuqahVM6fPx3P8zDckhZuJI0dPYyLt9a8KI4NFISs3ERNdkhR4HXQK3DMewr8mA3O39PRdPNkcTwumB6USV2ts+wba3TsD25QmUu9RjU0wW19ZyjqZ/9Z4cGgblNM9C8Q8lSdCFQtuE/tzowJzU14IVP0JWGGk34ndUHD6I9z78I957f99AXR05fR4XeoMQEjYa4aNjkD5JLkmmHH3EnJ1BbXUljlAfyUWmD5Jr5UcrUXOctrurNleCJsn9Fzx653DYWw5hc50ZU+PCETdOfCbShxrPoLHBUUal8T6Qe7/+Gl+GJGPa2GCMjpXzI2iOlYV4OJrUsLUBf3yn1ql+Rd/q5gneXENTG3lBIRl5wD+6YfMQhFMkiX8/NT0bcC/tY7fB2iapH4/PkoT0WYmIuFVhwE/5O6mHGeMQGtiHS042VqXuvnO+vUMWWk9WoapRXqe6F2121DeQOn+Q1Ju9G7VySfUV/R/x3ST1Lf5u7yXUdfZxMiMm2vccvAlDSjYNRBDzZOtCeY0kEiFFqw8+aDZOkGdbO8qVdLuFl2tzz5eSZ3bIxuWLxDcJEA4fEA9HIfjFxrHx80D5Po2f/YmOhMWSRGkNZXj5jUqnGWFHIqduVLy5CaU+SbgkfGewHV1XWlD76VEcPNLgMhPtCo0yzsCc6RORGm6ByVqHzb/aI7tUzV8JlwYfInjznsWiSSEw2Zqw+ze70fsEGQQmk55la0HZWztR7nR8pM728JRIT0/Sv7T55HdTiJxYUVO6FbsrRTUWiIi8RXh2RizMZOC6fwt5LnErk5gEzelYayuOvUvk7KTwUQnhWFJc+hzb3nFddi4mEdN7zLM22VFKGqec1MwzhmU2sxgbC+O5U07K392BsuMS82GOR+7Ti8h9TbCdLcO67WI9eZGYS5AJuCSl5J/f/X5iXbkxBJK70iSBqdPDcen0KXR0ui+DVyU4CglJYegiyl1Vt5tTkLt4LvLoscDEoaso/Q+UyiY+Nt4mnhLRcgh9zfV39CRAdEXT97qSNA15ScISVq/pRXPVAdRr2RoZSep3OV1WbEdzxU68ttfh5Jgz5+PZghREmFz6rqj/yD+lx6Sfr1iPHfuFDzcYekTpMz/KxFgzFa8T2PnbEtQrGFK19hp8vachwaSo410xWRAXSXwAvYkMBQaSVl6pxq9eLvXYf4t+Mh8Z5NdbK1/F5lKXI73zlmBjFqk4n0D6vuux6MR+jn1sKZ7JCIOJ2s/XiW5o4U9MoXpd3g/w1J7k75eTvxeONe9oa8bp5m4glOi02FhE0xwOCrpK9b4KOsYzgu5TTbqrU74kfVeKET0nkvDjNVg6nng4Ku8n20c8PosW3S/Wg+vvqNXdd823NygLg4nY1uQdtv1yj7JP7eb/yLSvgtxQPMqxmbTfC7T9CFeVx0oDPrgTN7B+J5BxxAIyjlDT7bJ1KNaf8FFE8jv+sXFs/Dx08fP42U/w66M10YCyg3Xo6qd78gqw/ucrsGheAfIeX4jiVevIwJAKHj2ppMRF8LyBfOdrL2HNz9bjV5vIgNOj4FF6Ya3eh92b6d9txLqt7yvuMfQpE4qw2mmfonelOE+4rwfo8v7ClT9DMRW8fiuqPtiNGlsv6t/cg/0XybDDHIuCp3+G1Yvzjefg8CFZU3kj01G1RxK4oRDncP9OvE87iSkKGTPiheteMjqMz9Ui7mV0IgqhnBK3waojcENptcoNrJ2Jtuisb3oKlMweUWkRE0x63mfqsn+7cjf2HO+GzRSG7Hlr8JJE1l56gXfw6aBuj8a8Cv7C1t2GxouktNNjoIcKxPAdqdYfuKFcJe+iGrixIOEhmi9qPh+4ocbiDaXAjXec75Kb73EmIUTOBVTBHIYIWflzlFAy9uMwhcj+XFoG9kMnTkRuVqbPSpqr36lA9IwUbj+47dwBSAM3FFvlHuw4xicrTJ2aw18c6gg5mtb/mA/c2Nqr8ZpK4MYTftF73lJZMpAU3amUt2nwF5QxD+cVqPVSk3rghmKrwzEh2eEIose1YYL5Nr645Q0eJvxM7DsqmMLSkbd8NZbTwA3opMgOHOSSbLbg4O92OvkBa58pRKrmfOrk77dswrbKFnR8Q/OeJSGb9KXsZD5wY22vQ8nrZKDhB1016NBVxZLkl0d1+gNSGrs961lV7Fa0UhsolIsDs96d6OoR/qmI6NPogfn2g40pJpTzg3G1W3dQWRF6Qo4gv1Xt2rwnS14SF7ix08NJgschV5oiSw4bed4B2WzGoKWldOVkt2edrIqd6C9HH2tsd2yP8o+NY31MFTZ+1o2OlTc8pnE5eOKxGZjMnUQgwdaJmvK9eOeQs8PLMzQiVa6IkcPW6h0oOS5c1EQvus66OIZU+B5PwQjho7dombVNXrAGiyZY+ARTxPkof8f5ZANuYFi4EAsyomAZRiO+4pGfau0h/sw3OM8+xaNwTTGyQlRWukwvxsZH4mGWRsvFqL+RVRhqf5tYhLWLJyK0rwm71+1AjXBZC+KsrPXUHmx4q064KiUMBc+tQPYo9yi8YnRednbDKPKzItTRz3r4PiSPJgPpYDI4+aYbrVe6cP7kUWL0XfuuF/1WmPXQu/JmIIovN2vi09lrLX0sBYXPFSFNZzxDEWsddr5cwjlrtB2m5N6H+5NihROUaL6oQ9j1zmF0qFpYL9pk5hK8RI+vvUjqdIt8P5r89AYsGGdym01RmmlSm/UzwsD9uePsfWUs7bh2sQVWDSN5/nhkMgD7aD22uSVdJ4hHuEtn/MQ6kJ0FnIXijdMQJ3zyGtIf1r12QPighGT2jK48oZf6e9H41/exfa/7SReuiG0tt3LAL3pPFS9m0VXbxTOWwhVYnxlGDSd2/Psu9YAX3WL1PwsxmXQE2ZU3cqg9n1abl0xs2JPEhtF/9xG7+ke5wK/EDyDfJX0XPbOnNPdXxEgiTdet6PCQrDvrmQ3cfWV1rPBuQ2rljUEZkUWDnuXr3Y7aD9Zj5xHhosdnEf0nMsjY/RJK5FYdy+knDrW64/nu+PYOWajdvxsHFRNuy6BBtqWI/ccnSNtGlAW3/q+y8kbyu4r22gnxXp04uN+KrDzidyutMlTVRzfCxuVg6Yv0mPA2lJF6KBeuOiE8M83zuO534qmKnvWEP20cGz9Tvsvj58FDd/BGZMCQUzwqPAMvK3cGuxc4zmh3YFzxDpFOFFuA5QuT8HXDUXzwQaXyoC84CZMfiEXv/gOC06bWHuR359wtnFbhPba2SpRXi45sCop+Ph8Zlm6Ub96EMrltDIMZvEknRu9xYvS6T2DzSyX6IszicxJjt4EYO7cJiMgCrFyZiWh7C0qfd17irqjgb9RWEX8gOBTfh+BNwG0mzgBIt8zIIgnehD62CmvpHgt6+WI13v9wH2pdtjTI44XhEB17xWBlJha9UIBUs3twVdEZHAQ9PZhkL38RBTEugyopN0nwZvLTq7GAHv3Zb0XzqUqUvO8pKOhALXjjF72nisFBOUW1XTQgCcigz4r6LypRVd2CS1+1cavweB8oHHHp9yH73lj+eG4tgR4RtefTbPNonqylyO0/7rmNzWEIvcOKLskKQtEH8hS8McfEI5R0chtdheSWA8Ad1d8X3u07G7wR+4CSnjXPwtKf53ADz/0vEB0utpmGZxGD6x1Vr+KV99wDhGLA0d5yAGu2HhauUtTqzpmb37cXZUH4qAedcpD6xDJkhQsfZDEjOiaE/JcmN+1y15dSeppQ9sY+3g8VZcGt/4vvJqlvmd/VErwRgxRUVn6+tQn5zy1B9ii6+mMH+RvJ+dgUVX10I2xcGPJWrUBumJKtDkTWsp+hMJZORG0k7yPqPA16YhBsHBs/6/Rd/YFfxs+Dh+HgjT4MvKyokISP3iKnxKKnk4GKobFyN2r3HlUY7Mcj+6l8JBsyHBLl7VfEAI3ae/gHfmabOh+vE+fDxUAQUhevw6JEMnCQRr39FLyxkAH0ejKAdnd0tCAOdHuJ8XiFGA/pwJs41E+tRnFSILn3YWIYnY8yNDaI8Q3ijKg+SL91y7HgAaH/+jR4MyQxOGggA8PsGUBtRbWmwZADbwyH6PDQbYvu/S90zgo8lxUGk8zedy3OoH/wwhE3IDuiQ0tn6zb87qibQzWwGkM6qy7Kqi8HgN5CnLeMRCtqVZZKKwVpVIM3g673DPYvii/axRyPjHlzMTcphJ+hU0Tvyjn96A92eEZrUEZ01LX2f9Xf1xq8oavvxsYjgcjMMe4YWKHuZNvToJz4pe960LNi4L6zEhs2lZH3EtDyLGLuOi43ww7USGWNBhtXF5I6sKPx419jm9Mx5Wp15w1D0bcPQ3JeJsbSYKpe+r5EhQ+OHHZg0F6LdeRmw0Q5l9xP5nc92WtT+kI8TycuyRigfOsmlFERleajfPdV7Jau4PPGB/cTA7ZYbrVQbCFWL0snY5xOHNz8KvYPTGJq0RNDzbcfin2MjZ9vxPhZisHgjagctc7uGxA+mkshRljSJDJpDlamk87aWY3Nf3Q3+mmPFiOb/FhuGZfWGSPv8WKwYdiwZqJw+X0GVst0omJLCWqFT4qQtki+fwYy7qVbGegsAhBgMsFEEwjTI1fo1pv2NtQeP4RPqz0sORWVir0bVWWvo0QuYbHUoFD8FLwxjc9BbrwF9u46HDyiOYf7AJaHluH57CiYnJIAk/eYU4xns6Lc30NAu4IXtj/8IAljo0Iwgta5NEuVndS/rRvnLzbgkz8dQr2GnCyeZ4qkiLNGOh0PitDOZmsnzl+9Dgy3wNJahprw+eTdrag/3omA0YEwB4fD9Lf3URowx9nZUHRehhpeDC4Foh9aiIJxFi5gsPNDT3Jo0BkUkThotftLsFtYpksT5q18NAmhw+QcFn3BG3PSNOROT8c9RGZHmV1kluoMmxVdbedw+MhB1DR4cpMNOOKWcciaEOa8ek8rAwmLe9F4aDe273csY5YmLHaqI1FWfT4w8i9imzovKyfX563ConstuPZFCV55233ZuP/1nhRH/3LbAmGOQkIc1U9mRIwNQ2hQKEzN7zue2VftMnCfNlQcb3EJhpkRN2kiEtwSxCphYGVrZApyiX7wHLwx6gcAHZ9tRalKujN/BG/o6XMV56wwh8cKW0dJbZI2DA0yDaxm5BhoP0H3ybanvJyYI5OQEMLfKSCU+C8WMywhRC+hBe/82w7U+KvvyupZ0kdmLMDSvHjuetU7L6FE2g80PUsYspc/i4IYE+zED97+n6VopH4tPXRg8SI+ubTs1he1upPCfHvfYtBei7JAc8xckWqcAEREhsFCV22J9xN/V2Lv1Oy1aXwhls9LR7TJjtaKHdi816GouZNgSd80wcX+DcHgDe3zRT8vQoYFsJ47gG1v8YFzujVpwbxZSKXXTxGd+ZZUnrT5a/61cayPKfMdHD/7CYPBG70DFoMKzBUPCkSvgzF00GpYlRDrVy+e2yN09hIsnxHL7fmj2Pt6caWrC1ZhRMM5WxYyCBe1RE8LSt98HRUuSs2BJLM3+WTv6UZHt504cMT55gZoMss2vTEcfjU65F2eFLKSE+i2GQwEWIjx+3gntn3kXhGaFHxwJoqW5CND2Btr77Oi45LVeeAw3ILoEItQ93Z0nNyH/9jtnMXeO7zot6JDIXyk2M8fxsHbcrg+OgAdzLccxU5bpo7gjV794wPELVvkeZyX9Hr/LOorHVzxXpc6HDQCDQCSfw3I0PEybH6b7ut1RlPwhgwgsp9cgII4PleNq67gMJGBdmgId2QmxUpkYtubBzRv6dGEqux4huq8lTNpEJm+A+13vTCRAR931Cah61QpXn5LUkfi93nQ3/ra2d+I+/bJP9VOGZHFj3rPDX3OnK1hH9a9IQSiNLaLR1TvIz6fl76NGoIN8yw3+rcvcJMwpN08+Uyib0WPhT2mYStu9PhMJAerB28UoTqp34YuYu+6Lrfg/MUzqOJWkKn5SfrkxN7XgjK6mtRXMiKDmp6V3Zqi9Vmk2/kIXP8Tg1024n+9Ied/afUx9doz7+0Rhwc/7ab37fXWjygLwkd3JPcTf1dSd/L2mp8gXZrN+/O2lsPYvPWAS5CP6PYfE90+nv9mmuB+++ZSNHtoH5FBt3GxpH6XkPqlwi+cRksTvVPs5FlfJs/q/H5a5dufNo71Md+iVbcpIdavXvxo8zUwSMEbC0ITw4gzLJOoSA83hfAFwhIXhRFux0eoMRFFi9MRbVj4xPrVivB9noRvYPaoF82V+/AmXU6q0Hg0AWvuP+cjl56Yo3T8oQTzpALMz5uExOBAXiES56brcgMO7n0fVa65PzQaDlm8+VtN0Nm0uSjKSkI0GdzR1Uhdl8+h4kAJyp2SXznwrOAdy67p7NrOnftUVtXQ1Tn5WFzIz6Q0H/kPIvvKyTL1LXUMR1pWPEKNKKmByL9zslhxmb7rPl83Z0PGIXGgV//4AEU58v5ZbsSg3qn/kVawXm3DscP7UFbp7pBQ5J1BZ8Qtj7A2ofTdElSorKoxJ+Wg6HFhdkz1vQ0soxWPiPaiz9PZu7lzMpE6WgiOkn5N6+jT/XuwX3rMPkXjoOtGtLMSpunFWE/39XOf3GdgPeMPvSeH0P7DrWht7XbLKWXrbkJjuw12IQ+NE1oHw55QvY/Y/7XqSAOzfEGhSAjxj9xo9ZnE39OL7H3lkpFrShSr5qSrrdAjslPfwg3i3GaQfSUjCsjpWVkdQtHzLHQ739w5yL0nBKFksEqDzK3nPsfedw6gWdZH0zrAYb69b/HRwFsNUW4kdSdrryWBjq6z+7Bt+1GXwIaIGOQJx/kPhRWmGv3oG2Ljgicib/4sTIniJ4XohPDZ2gPYU3pCRh71yLe/bBzrY8p8h8bPfmaQgjc+whfCl1mEpT8go2If4b7cWKwb4aMe/ORAuKPNoAwo4oZSbHijWriqxjQs2piP1NtUTkMwgmq7e0gqS49clUTlPUK+w3OyNO/wrODF9unE/hdedSQ0VME0ZwVeyiJy7cG4in1EH/5XUm7OhoxD4uAG6B9FGRSNjfYTjVwZSoN6JWSdQSckbfIuaRMt6kJMGK6q9xz61GNCaFcGoS9zaBx0DZV2diybt6JmfwOi8mhuACtqP9yDneV6Ajj60ObY+hAjA3O55eYxM7CYbnXpaULJ24dcVijFIpcu0Q/qRPn2vXB9Lffl5qJu1y/PStvYvEGrw67190T0/r42hLrzpZ/kUUYmomDVHG6FWmPFTmxzXS3jS4zIq2a01t3N69uL2499gxX1+3eh3Isj43m0+dpeIeMrKdlrU3oB8i112Cd7qpEL5kCYbL3873loH5Gh78v4V7612bibt4+x8TNlEPq0BrhFYN8rRochISbKZyVmtHBfN2jHfB6rfqqjDIrg6eAfvGtpMtFZIw2Yye8K/xwy0KANcZI1BW6GHCY6ltDEiOFCzdMcRBqgClpWBmXLjVNQQ59eWM83ofWsscDNdwcyEOVkz4TAIJdZdQVMQQG8viB91DO9qC1dj3XrdJTBCNzcVNCjL5dh/Y/FVXp7sPtQKXZ8TPO4WJD6UDFWP5kzkH/ke0lyPpYuLsZKaeFylBCC4lHk+rPFNHBDfxiGbLefFWPBdPozOdpwUE5mVYqvAzcMDaRNRFoY0WfDApGQloME4TJj6GEOHyvroxsrYxHjqzjQEMJeXYYyLYEbihi4YTBE2Ph5yODlyhs7Wk9Wo155dbw73Wew/4jBs2B9ETn0OzcoqqoLjZHD5CKsfXIiQokK7zhbif37j6L2olxjWxCakYPC3HQkB5PhmJGjt9XQGPW/WfAcnZcc9dvXjZrD+7D3kzrZ4IApLAVTHs5HXjJN3ClzSoALQ6OPuOM2UyQzm+TAC/1DjIKhI9RFGbzahIOnLgkXNeJB54nvLibw1IzPT8ZQRmkmT8rAKSr9vWis2oeSPyucpBUchdQHCjE3IwqWYQr5Hwa4CfSpxhlzw+1MsLVVorxaeTukGlRHpOZMQ26KkBiWtE99+W7sdE3G/HAKIui2E3q8eMMJHD6opO+NoW1W0ocYWckgt/LGC5RX3tzYWTsRrfZAr93wj53RunpEB55kxJyD4rWzkEz6hbW+FC++6Z4PzGcYkVfNaK075tv7lkHo7zK+khZ7rQuNPviNsnHa8a8/oc3GsT6mzE3g7w0RG+5l8Eb4qAcPnV+Vm0r4hI86GZzlhtqFj+7ZXjQnEwni+8hsPxIThFGsFyvx5vYyhX3XBtFoOG4WtCn4WGQ8WYQCLijD47rMXkw2yUGDPAdLsNvDtgexj+jGLw6lA/GEm/MV67FjP7kg45A48KaPGTQKogwawYPcig6PbvzcJlK0OYOBGDunGE9OpUEZ4RKXfFT4N0XcxkihQZ6/vo/te+tUBkTe6dNBsQUaB12G25lg1C6MXbAGyyc4ppCpft69q4w/ocYVmkfjiTkoSAqDWWg/66k92PCWb1Z8aNN7PsSvg2GjiLbXCL6vO60+k1G74dv+pzUAoQNNMmJBaAzQ5cNApix+lVetdcd8e98yCAO9CUVY/XgKRpC6E1eb3ujgjREGZ+wjyrd/7JA2G8f6mDLe+XtDbfzsTwwGb4wkFRKwdaLVqBG8KYTPwNG2EgYn+iyeSkGEj564IFxVhrT3+HSkpSYhWTjeOXQ4/xPb1Uvo+qYXHecacOyzajRrOK5aN4on/dycZD2zgcipFcfe3YRST3mB6CqF9CmYcHcUwoP5Y1R57LjW1YWu7jac/uJTHKvSlshM31HhEnqaUHWBcp0AAP/0SURBVPbGPt+tpvKEjEPiwAv9Q+vNSG4auSSbWvGg80xhsYgYaWCuX1OST9/gFlxTwxyGselEXyTFk/eyIDrYsQ+H0xdfdaK+oQ7HquVXkzljIGGxBE9HIPsEUVatddj5coniwMhwOxNkE/JqwZyDoqXjcP3kCWJXFFZCucK1XyamjTfjizdLUOOjQLwuvecLNLbL4GL8OG/imvooD4cDvk3gsV/rS3TvoKOhDDUGJ4rdEfwWX7bnUJIRvz6L1rpjvr1v0etr+wZd9loLGn3wG2LjdCHmyPSPHdJm41gfU+a7OH72DwaDNwwGg8FgMBgMBoPBYDAYjMHg+5ewmMFgMBgMBoPBYDAYDAbjJoIFbxgMBoPBYDAYDAaDwWAwhjAseMNgMBgMBoPBYDAYDAaDMYRhwRsGg8FgMBgMBoPBYDAYjCEMC94wGAwGg8FgMBgMBoPBYAxhWPCGwWAwGAwGg8FgMBgMBmMIw4I3DAaDwWAwGAwGg8FgMBhDGBa8YTAYDAaDwWAwGAwGg8EYwrDgDYPBYDAYDAaDwWAwGAzGEIYFbxgMBoPBYDAYDAaDwWAwhjAseMNgMBgMBoPBYDAYDAaDMYRhwRsGg8FgMBgMBoPBYDAYjCEMC94wGAwGg8FgMBgMBoPBYAxhWPCGwWAwGAwGg8FgMBgMBmMIw4I3DAaDwWAwGAwGg8FgMBhDGBa8YTAYDAaDwWAwGAwGg8EYwrDgDYPBYDAYDAaDwWAwGAzGEIYFbxgMBoPBYDAYDAaDwWAwhjAseMNgMBgMBoPBYDAYDAaDMYRhwRsGg8FgMBgMBoPBYDAYjCHMraNiEl4Q/m0Mcxgi7roLd2dmYlJyEhKSSIkZAZvJBNiuos8u/J4OLOmz8EB6CqIt3Whu+1q46sKEIqx+tgj5PwjHhYo6dAmXb1YS5q3CyiceRHpkJz451Slc9Z6sZzbg6UdnIH74YdQ0Che9IgWFzz2LBXnpGHnlE5zuEC7f5Pi+nm4ks1C8cRHmPpCEvkOf44Jw1Wv81Of8JftqfBfa+0bU202FX22En/qYz5iIBb/4H1j0UBbCuv6C2i+Fyy74U4b4PuZLOzG0bM9Q0yH+eh7/3neQ2jJvCTYumoMH7gnAoeom4aIGgqMQHZuECdPuQwr1bUmJDg+AfTgpXVYYcG81YaxfWhCaGIPolExkTErmffFBet4bg6CDfa7fB1+3a29vvo1DR5hg++pr9AtXRcwx8YiIsEjGXv6qIyWGul288Qyq3lMiMh3ZD9yH5LtGoKOxDX3CZWe+W2O975q/fMvdUx78Vvi3DgIRMWMuirKSMNZiEq7JY7d24ljFXrx/qEmz4Uh4ch2WJgfCWl+CDW+eEK66kLYQ659IgqWnAdv+bRdu9vG2pnc2QO5PXkReFNB85Hls+UC46BV0UFCEyUG9qHlnI3YfEy7f5GirJ2qYpiFO+KSLtqNY99oB4YMGkqYhLylE+CDSjdq9R4HpBUh1/RF60Vx1APXt9N/5WP6baRiLNuz/6VYc5H7uA/zU53wh++aYdKSljSGuDY+1/XMcq2qDTfjsisf2HjT9EghLXBRGBAgfPXHdio7znZwu9bbeogU5srVVorxarzHT+dxSJO/gV/zahn7qYz5Dm572l92h8H3Ml3ZiaNke39tW7/DX8/j3voPUlo8sw6bp5CWIHV71233CRSUsSCicj8KJsYgwC5cUsHW3oGL/Huw/bhWuuCBrx93paChDTYPwgaCnX5on5WPujIlIjbRA3RundrEBhw+VolzpeVURdZ5RfK0rhefxuX73gW43xyM1bxoy4sIRE0rahdi8rs5LOPbZPlQQW+tq+7S3t/o7u/cpI3WUhMlz7kaE8MkTzv6DD+rOIKYw0l9HeuoBcthx7WILrErOoo/xrPcGYZyhyTfSaG9vkrG4Hp1qCktH1sP3IS0mChFBJpike5T67bD1dOP8xQZ88qdDqO/sFX4wuBgI3sQid3kx8mJoJ7Gj6+I51J5rQv1Z6UDJjPDEu3HvuCTcE2Mhn0gHv3gUm7fs0xT51VTJmgQmHtlP5SM5SPiok47PtqK0UvigBY2GWm6wpPrOdAb58RSMED4qYq3DzpdLnOpC1fGi0deMMVz7qNJ9BvuPiJ6FNw60aBSkgQYVxPrs+5I4SNXQ4m7Q6Oqie8UhvDLnK9Zjx37hA0Gbg2pAqQ4zwUy7iianUYLobDrBG0QIz+qMjMFWNaAWpD5ejLlpYbAIislu60Ttofexu7yFv+CKSp9LfWIZssKFDx7pRMWWEtQKn/QoVTeCM1H0r7OQERYoXJDQ142agyWy7+OxvQfNIIn9SfjoCcnzeFVvBLEOjP29zueWYqBO6WrMrCiZNnbBaRDksQ219edrX5TglbfrhE8invrYINqexHwsyot30eMBiIgkfdtkJwO2S+hwGS3Yzu3Dzg+bNMhQJgqX34eIniaUvbEPrcJVLag5qdEPLUTBOM96WnxOHv8Eb7TZDCuOvbsJpSeFjwRtNkMvolx5QEam1Z5H/JkmXO6tdl99et9ZrtXkQw90Jps+n6tNd0Jr8MacjqKVhcgIJv/u70XruQbU/60JtS1SzzUUccnxSLg7CamC3ek6VYqX36p2D0jL2nF3XOtWq24PJfd/jtyfuhjWziac/KIBtZwv3ouus1aYE8OIXqD+eAom3Cs+r5183w7yfQp2XhFBFwifnDBZECcEj6ydbej4hr/sjLPddyN2GhYUzeCeURyC2zobUFZagqpzcgMk9cCEVpvh7N9SvAtAmNKLsPLRiYi4TbhABnt24gcOvNOVE9hD6qFeEizQbsvV39m9T6n/vjwadZCA8zN7qDtZW6UDFTsk1qF+vNFBsch4ci4Kkkg/Ewf4xI+uKd+LdxQWLHjWe476t/fZcZ2/qI3vfPBGo98p8yza+hhpz8XzUZQo+AOk71qvdqOjx9EK5uBwp4BO19l92Lb96CCsanNG97YpS+G/YDF1dEgnKvnP/4U/HDiBM2db0NXVDetA6UT72dOorTqKQ2eGIyktFqNHRmHMsEpUn5OKM529jUVYWAhGjHKUiPgJSBllQt9XbWi0DnP62QhxueCYicgZPxrDr19BdfkJhYqLxbSCTKSMtiB0hP7y7eU/o+qMcCstTC3A0mnJiI+NUS1Rw1pQftx5DVropGykh5F3vlzn9jNEpCArJRzDhY/umGC+bRgCvr3qVhfxmTORQJrraovMu9ydiyfzJyFZ5hmlZcytbTj0uWjoIzEhOwVjbrOjvU55Ob48GXj8qfuRFhuHCWOH49injYorIzjE+gwfhtOKbexMaPpMTI28jdRFP+wyYckAkwnDSa/7+qJzfajW0wBNqDl0GIf0lNuTMXssubG1BR+R99XM3Rn831Fn85ev46ODfyblM/IE4rNShboe//4WvU6LtC0SMWVWLEbCikbhb5yhAdhn8aN7LBh+CzEQ1m502gMw4nYLxiROQlJgE6mDq8LvSlDpcxNyf4iMaPl+5F760S55LlXZV4M42gtWPIr0EOIW9bSh/KMylP6lCpX1Hegxj8aY8BDcqfA+Httbk37xBUROiSfT1XYRTRfE0oeRsSHEwbGivqIGJwauk9LyN9QLy1wN15uAWAfG/l7uuT0V4b0M1Gns7AUoSouT1U+OEolbWg/jhKiqPLbhOKQ9QPuJPKKu+La7XqZ+PPexQbM9cffjh/ffhTFO9wjCcM65GIbhd0iv8+V2WyP3Tp5lKBWzHktBvNmGEzrbjJcveTsRkTUHs8eFuD2XaxGfk8cb26PMgM24hci06z6EAfrw5RfOS8e12Qy9jEZ0sgV916zokiv/CEAonQ24fBp/cLEnas8TFJeMO/4hvVcvAm6nMtKLjouX0C79jiutqKtpJJLNo3ZffXrfWa7V5EMPSVmzkDzS3aY7IdpTD3Y49cliPBxlgv1KNba+8jr2V9Wh8W9tEt+WljZcaKjDiU/+gj9/FYMpKaMxMjwGI1qPou6ycCORDlKXDbWoPFYjW/ruTEMcGYi41q3YL/v/AQwPj+O3QIXfgsaWK8JvUHKwaNEkjCZtWP/hJmx+uxKnB3xxukWqD7YBf5x/3iPX78LUxFEYHR2Onj/r3dZyEaerPkO1W6lFz73TkT6aD0/0XTyI377+R1S5/V4dLnG/IUMsGbAumYl7LCYM6ycyedmKb4ebEWQZjZSJExB07RhOt7kOhQUdrKDftdkMUm634qMqqUx40u0qxBbifz6Zhohb7eio/xj/+Z9v4L0/HcZB4qMdudCPkLixuDM0ChMShuNT8p3idhXttlz9nd37lPrvy9OBxuYGVEtl9dJIjE8IwfDOaiJn+5xkuKr2PHq+FtvGQ93J2iodRcUOXTcNh/2rdhm/Q7l8ExyDsECjOoj40T8pxqPxFmI7AFt3J7r6h+MO6kcnTEBq2N9RdarNbWubZ70n1mEbPlr7MnbIjSuUisyWULoiaUz0KOdxdDjxfWh7Xr+GpjbiG0t/NoroSW7bnUZ7O2i+MiUIoeMicWuvxF5Ji2gfuxrx35VnnOrecx8LRPKT/4ofJ5H37+tExZ/+gP/9X6U4dLTSSY9V/oX0548/Q903FsTGRSIiPBGTYq6h4rh7W/sT3StvtEeIHSj/jYHZWzGi5sdon9pMkyp0f3S4cuQ3OpsYk0RSD6f2YMNbzjO5Rup1AJW6UH0Xmq8oRnmprSltDpanhbk8kzezn9KIvobZH3HWSkcbi/Wo1HZKPzfc5p4Q3+HiUazaYmDljcxMofbIvfzsh4Xc+3k6W2drQdlbO1EuzGqFZhdj+UPxsKAb5Vs3ocy1aXT1Oe1yYlT2oxeswcoJFtjbK/Hy5jI3ozEwK2lvQekvX0eFJFLosb0HdTbBFQ+zVwJe6QyEoeC5FcgeRXpiywGs2XpYuO5PhPcyUKfqS6IDkPHoQmSFucial22oXr/a2kgvftNDCniWIeNtpqanjMmuN7ZHGaP9aLDbiqL2rPqeR6xLz/Kr9z21/r6afOhB0/ep2FMpet+VYuRvRJT+VmxnJ9ye3YgO8rXesiDh8WIsTg8j/kQnWvvDEB1kR2v1+9j27gn1ybkBklC4hujvEMB6bh+2/E6cxbYg9allWEQHU7L6R103edpGMyJjLoonhMj0JeN1JLYbXTG4gbyH28oL8zQs+mk+Us3dqNi+CaVn+ctK/VpWDhSgMlQ/zrVPGdffTkwvxsZH4mHuPoHNL5WorMDUU3fq+lxN1/kKb3RQNM2hMokKbRNKdu1AleAvmzMX4rlC4ncorOjx/J2+7aN6ZIhHfDaN9vaG+srOiG1C+9860v+keJYnsd6tqHrzJZTUC5fVSJ6PtU+mIJSOMZ4nYwzh8mAg3cmlCds3vDq2hMcjlPuXJ2KRLAQ0rn/juvGlAXuJ0G/erqPs2ofzwl8POa62ofVsk2IJGM4bkq5u1yX4NwhibDtknlMstwcRo0m41iVdUuorTBg7dS5yY4WPNwHUGYhOTEfWnALkuZUiLFq+DEtdy3i+l1itbdz//QNVsi9i02/EQhWQEpmYm06XWfei9mNH4IbSVb4Du+vp5xBkzM7kLw5Z4pFxJ5VP8h5H3AM3lK4PSlBBJypNUUi9n792U2AWl1iHIiKd+4c6phAil/F8ieH7rEdip+GeUfw/TVFJyDK8jnlwsHe2yOoovlhw++30t6zo0GJwjUC3rm7cgI0DJVOlj91AzKRfLFiG1b/YgJd+zeuDlzauw+rlC5E9SUU2jMgQY5BJQhq3DaQX5097O5iJQig3aUZ0TBp3gUGw2fnhdnjUNMVJLSfIYDya2ylvx3VtkQpdWM8ecPi+7zkPRuhK4A5uQWkUsp7O8Zifh9MNT0/k9VZ3J7xTlRZETy/E0l+swVIauOkjA823tmHL7ko095kQnV6E9T9fhoLpSZ63yMzMwRRah1frsH0gcEOxovaNPSinNjwoCQWFYfxljajbjCZgOP9kX/vQN4sLpv3TjsZ6mcANxXYUrd30HyGISeKuqGK71IzGi22aykXXVV8+xBJOVwLTf4Q4bzOmqRec/OAoIhnfB3JQMJ4KLRnov+cI3FBslbuwpYo2ciAmP1Bww+vj/J92Oo+hPZad2OsvP8qvED/2LtomdrSec9WVerCiS+v713eT3yaYTMa3AhpEd/Cm9f9UopYaqVHpWPuLZSicmY4ImXwTdKCbOrOIKPcl3OwurA0o/T+uS7p6YT0vr1gVy2AkuuToRZennCy6iEc4l9yZDDBUFpsMHcKQMJp3FC9d9HVCJnqKGGlFUxjy/rlQYxBwcDARB0ccxLjKtX1KAVYuLkRhViZy3cpEpMZEIUEoceHhiCaFN+b+pg3HqipxsEIsTcpLF9PuRhzVMt0NOHjEvV0b958CXVBoHpuCyfwlH0Mz2EsHwRuwOMlIHZEBO7envAsd1dwFGTpxvou+owkBhjVrAELFQa3GIqcP9WCaHiXkFQjE2CTPHp4lcRaRy2K+PDZNuKpGGLIfncR9h9VK6scUi9wn0rUNVgagW17l31+5OHIZ+JTIOxFFB6I9XTjvhwHU4GPQ9tCtB2uLUTQhCqOGETvTxjv1HT3EXJORQgGdlXosRbYN9MsQQ8QS5Ri8ZJOBrL8wkUFuGs3FcvUcDtZHufUvs57k4Wlhgt0NRPhY6TPTPFDO+jk3UvjR94CKP1ejlbgm5nH5WP9cMfKmpyCU1rkL5hhiHwuLsXotXUVBfIO2SpR8LPxQCl3xMzCp4l7oqhtV7N0O3/ei++Tn+3vJ8/YRGRw3iwvYrl21DMVPFkoG0wUoeHIJlq5ag5d+QXQDzTNFAy3v7tWVv4pCE9znzSvm7/XrNVj5SDoSiN61XqzEtk1bcfBcL+znyrBlUwkO0me1RCH7kYXY+Gv+uRbNI38/3d2eZd3D5+xprT8g80wt2He8hfP5o2P12ig14nEPN6lsx6VLvjt5hg/+mRAerqQHwmDm8h/YcU1mZ7orrR/uwrYtWzUVXfk5dREmDIoJdCJstsS/iboXOU5+sNZJfd/DT64660RPRZfOlDIzCXFUGDvrsE9moN/14Qk0UlEgzzTFC9/TLPPMqiUuzK2PeApiuhejyZsH31eWYpo+DalUV9taUNGS7zaZXsDl6VWjDV3EVwLCkVoYr0HXEP98XgofDL/a7WUwXD+6gzc0crxzM1XOxOkPikLW7EKsXrWON0ZESW98kTdKL61agkWzJzqU+5ZdTgm65DCNy0TBM6uwfqNg3F4kSn+lhxlDn0OMtfh1vtzAFknqguq/vk6clSQ9HLJEZiKBBt2Iof9C53JCz9hQ/7tDvHIblY6l8zRMQQwS0enCAIaUpQ+7PFf1pyirOIrdu50j1a9s2ohVP33eqaxZtx7rSNl5lg+Q+HJ2x51O1O8vw/69Ymnjo8EymGJCuZkA6yWipPlLzrSfQTP949tCEOMTpz0QoU73MeH2QJqjyVGcMrlrxo7rXP9UmzkOQ1wo76AZnhUNikeROKjVWNzkRhexyJ8US2rJDuoHht6b73F1mq29zhG4O+Zph34gkuctQj41ZNY67N5ejWbyPZbkAjzziJ5lcEmYs1D+/ZVLOqKFv/YllqljuUCUrb3Jf0t2T5bgFaFP86USzcKPfIc3ticMeUXTMPY24jge34Ofv7AJmwWnfvNLG/Hz35HntZsQnZGP/EThTyTokyGGlFDit4iDl5zxnkbjBonNxzMP8Hqh8dP30Tq90K1/ZeuIG6WmjR2YEY5OnuWXfjk4iINh0g4hKfw/vKG+DFveOICaK3aYR8Uj95H5WLvW4Y+Kq9k2Lp+PBZlk8HEbzW1yAJt/5+EwjqtNjv4lU44K22f0Yj9Vis2/ehU7yhtQf8UGc0gUkpPTJYPpTGQnxxLf04xrV5pQ8VEpNvyKD7To5droccidFI+EMCI5PZ2ord5Hvvt5bNhShkZpIOLqCezf8hLW/GoXdlcTP4MMiEaEkUH/pEwkj3atpRRE05x16MZ5heN77Scvgcv0ExwGGdVljMgUxHGT9G1oPMJf8gWfnm4jPRTEJylC7jjXgWkgIuYUIYv61WSAeUzX95KB4pwlWP2CIIt0jPXzFSiaoWWQ6R2m6XOQRXWL1Ur8ShMSMouQLAYk6mmyVqk/XK07KOgr4h5e5KYTPRU9OlNKQlQIV+9drXXyvrbtOFq5PkH8U8NqKQzZMs+sWhbmqx/AQE9Be5zIEV2ZS+WIjtmJHC14aKL3K0cG3VeWYE7HE6QvmEnva67ei1oL8f0lk+m0RHs4GRs4gXc+bOBkPDqzGOvXLuEWp0QnRknqxoLQxBRMfqgIxWt/huV02xz5i5qPiE3mf2HQMDRs4pUzcfq5D1bUVxPDQZfutV1Cazud7WtBDVHavJpuQ4WrcpfBlD4fzy0uQDbRqJZhdtj6SOk3kYEfP2O4ep4vo+5qmBBgrFZUiZ6ZxA8wLjSgViZCHKr2cjRDu0sU0alkS4XLN0TPJEaV/J8+bw1/ybfYDmP7/iZuT3TopEIUDZGl213nHA7V4VMuAZf2apTv3Yeak2KEmi8dKkfFRVt4A95rMzi7ExAoyAjdrlWILGk9mR1ylDA9H3nzCjDZgyDECaPDa5dPcf93pw5dnDWyIG2eN3JG+rHgVFuC4/l/cJzA7n9zDnRt47Zq6aUO9e307wKRSt5dbrbHlJ6PNOooEQet9hP+mmbavsBhiXOtp7jJjQ5C58zlnbvOauw81U1eggzKFy50OEsy2LvrHIE7p1MzXKGZ9FegmBgcU78VVfvfR2P7PrxWyhussdOLsXpBpk5dYkfrSfl6UCxVX3Cru3xDEvKTqQfGL1XXh/sqA2kxtiLMG7yxPelI5BzRNlS9XccNIKTQGfGjNEpH+mWcjL+kXYaGBiaiU0Tdd6O3ebVWOwYv2/7kh7oLzsSChdMwlvgI9pZD2P4x0XuXO522THArrLQGqJOLUJBIZNvWhKoWIhPBKVj8pOhfHcAOpyDlehzUtQosHRHCShWLRar3/QXxU8TvC6XBLe+xnzuM3QfP8YOyvk5UHW/i67j9Es5zq9maUHGyk8/n0nMOpW8e9lz3PW2O/iVTpMeES7EkzXXopGdmCVddIL5F/Ye7sGPTS1j3vLNtHSjPr8evNu1A6cfVho9Etu7fTe7BT1St+eWr2PnuUWGAqsBV4ju+S/rFL9djDf2bTVuJz+fqB4UIwTcbrEoBrPZuWKnqCrL4LMgo+rf2tiZ8yl/yCfaPd2JnPZEcUxTynl6H9asc/tPKn6/D6qwo3vZ+sFv51C03aCLVFVieFYuI4XZ0dRIZ7CTfQQaoGXmLdE666IQGjbnToXpRW74Ve2nQLygJi54WfC631Au9brZnsHGaiNBYjul02Sxm3kuyWpUmOjrR1UNrwnXyUgtNOCrzjLTUC/1NOk5xKmq+FXeSXjEWpRM5Io9/nY6xySMGEDmanF2E9WskQTk93CBfeQDhhECaO5eugNz9AdExx3Zhg1T/kaJlnGGv3oUXf3cANWRMZw6O5RanrFy8DBuFgOmm36zB2sXzsSB7IpKDTdxpeCW/exW7q42MYbxD92lTDsSM2Ffw+W+34z1JNubqqs9R+0UkJqllHZcSmY9li9Ix5lY7miv+Cy+9VoqPuezZf8aRv0ciJTESEVF3YVSXJOO1mOH6ttGYlJ2N7Adm4AFS4ocfRo2n6dfMIiwtzEH6Xbeiuu6icFFEzLBtRVPlJzitOp2iEfM0zJ2TgoiAXpwu/z2s9/8PLH8wA1PT0gZKyije7ZDNhO0pQ/sdw/konEy2b7WTIhSRPO+pA793yTIu1o8JY8bPxOxZQkkZruE0JedM9I0t9WiPnYK00UGIHhuDC5+dwGWp5hdPiNCRxVzMKK70vko/F+vpUt1r2FN2Bo0NZ9Dc9rXwU6OkY+qDyZwsnak4ijo9I1bx3YOiBBlJRnJsFGJuvYILgSnkWUn9J5H7C/KTfncs4iNH4x8dtI8oZ/wX37+7+SNFeeDrQuaUGhU5c4Pc49GUENBVqeaAfvy14vTAyQquaD9pwZlL9cNw5/3jEDEyFulpd6GfPFdX1zcYHpOElFlFeGbWXQiikfiKEvz3F85epsd+8fc2NBMZoHKgtxiTGzortwQ/yYrEcHSj4t03ceTQRfSnTELC6HCk/SAR31ysQ3O3o4Nor7dAWNLz8dTiH2J6JPGU7eT+7///8Z5gcPrbTqD2+l1IGTcKYZFJRJ5IXfY0orldqcUooh7ow7nD/4nSw/J1IVuE07J8gWn6D1E0gchZz1mUvuUikxIbkS7qKVKSAsU2T8K0vDiMvnUYbvlHv9til/7+ftjJ9b+31+ITt1lhD6dqKOE32xOJ5OxE7pST1lOf4MzfhcsDBGL8tBlE5u243HAY1X/jr3qWIeE9DZwkoXaqhrE+77A9EQkO2zn1Tug7yc8Fzc9CE/zfexfuuNYJ6peLOqT73Hs4WElP9emWnLriG0zjZuHpJQ8ihTqmndV47Xf7wakAogukJ2DQcvtEDzqNEjsNi+ZNQxwZBLZW/Td2/KWPOw00PCIRibe34FhDt1s/8KgrpUROQd4/ReEO8k9Pel9NPjQzndiZe3g7Q6PO1r9+jgtyTSDaU0usw2eZlYUwqU8pRdQdvRdRtvVNfORU1zU4HXA3/knLCSsaT7nidHRcLEICbJwMiTIJemqm2CDkHtxpMknTkJc1kT+ByusyFgFXm3DZTV9IoVudn8WCXOKzTpnO+dlGSs6UdGRNJ/++J0ByKk4K/inPkx4NJq/M60Xn3zGomyT+bd2f/ws1rmrYqG7nIPr1eDVO/GM0YiJCER4SPOA/jQiwo6ujHmVv/xc+qnMe7KnqoMxF+Mn0SATY27B/28vYuY/I4CdHcbg9GMkpMbjzrrEYdqoSjaQNxb56x+gUJP8gA+lTosi4wYwAA/qb0xULZ+Ju0q9o0Pi3/32GjNO/Rth9yYgeHYup6TG49mUDWiU+ib66E/W5b2yE+Pu9Fw5jxzt/kfc9ZIsn+Xdn/LRZHnXi8JTp3PPIjzXU9N4VtMs+5xmMSuPbVzpOcSqKvlUYsp/5MR4IH8YFOP79f72Oso/4E6oOfvY1Ro4fhztDopAYcUVS1w57G3a3Y4zt3H8Jg+4rOzCNL8Cyp2chhRgce/cJ7Pzff5TX/wSt8tTffR61n/wFH312Gk1X+/BVJ7Hrw/phvUZPtOpEfW0DTpz8C9777z/gw0MnXOR/8PDDGhP9RM9I4WaVbOcO4LW9zmfj2yr3YMcxPvlT6tQc/qK3jA7jl1JFCvs4nRAT+anMBOgiEMlPTOP2RaPzON6vJHeWSULWyk0teIBm83aJJjoVn2T6ptsqZgj7uKuxV3HLlB1WbpWVUNq5LGw66UX92/tQQ6e4LEko0p13QxlpHgJpSeOW6OojYd4qpxl57aWAiwaTp0Ha4+K1VSicwN1WnbMnnKPU5XR56uv4X++cQP0xyXWu8Fu5Xtn0iuaM+YHDPa0XpRnmXeTrHbpCQxup4+kqnV660hYYNR5zBlYMuedKUV11poaNGOn/JPIjLHEveGwJ1r+wDuufmY8F6eT7+4l8HdqJ19RONBsKBE9E3vLV3Kwct+zzSAlKuQ20LTj4uzJUUOMQFIsCOpO3cj4yxnF/5RG6DTV7XjE347f+8UxuC6vtSgNKXt+EUpeZApqs+uXth1HfQ3xbWpfz1nDLshc8noMEmZwPQwLpUtlj+5R1n92KVomudU/s2IaDLqsNpOWVt32YYN5vtucoKritECHIenIhsugJLSLBSeTas8ilO3qMrEIbcris9vLRNi9zzAznlYar1gzocm67zAsrsHrBXOQmC3/gT2hy2SdXYf3TpP8RW2y7WInNW0vRbHDVBIU6usufykcqEQ3qwO/cS/Rii2TlXVYxnl9e4FV/F1cYcxGgUXRVHP3gLwKRNSGW6/+t7XS1Qyzuf8jDKgRbt8NnudgMtzQy/iIkxVm2lq/AWqls/YbarWIsLRgv/AGPteF9hy567QB/MXGi07Yob0uaj3b6idug9aURoSsUhH8qIupFXyDxx6+cQplf8sT0ouPQHmz55XrOb1q3ZQd+9SviP/1sPX61eQ+qdG5ZS76X9wsaiY0+KHFl6Ja5ki+oAIchldvXJGKCJVLcLiIkGtaDOQzJhcuIPAq6ggaN3zhMnoBgq8buLWWouUq+JYT47E//DGufzhdy9H1/aKW5Aj0grrrXDD2tWOIXyxUxR480N6d8iYVF2vCJM5BFt8rbmvAO8SmdVgperUTJnuPcih1LYiay+KtDG+IzZy8m9vHHmRhL7WM7kdHflnhMzaKLq8RGHNmH/XtLsHMgt9QOlO4tQ/mROnR52E3kbzQeFS4eGSZ89BaXIw+zlm1AIbG5jR+txza5pG+RhVi9Mh0R0qPIvDmeTO3YyMQirF08EaF9Tdi9bofXW4ZM6Qvx/OP02LhuVLxJBk0KWY1UjzHz4l31HmPp+Xk1Hh8ni/wReI7vJPd89xXHEjSxnXS8t9Zj8VzrQ62eaPBm0b2SwZBXWHHsXVKvfs17lITJc+4mBrUbtXuPOu/FFOpU7ig9nnTSvnQJYif2v/AqDkqVoVY5jCzAypWZiCa/t6PCjEWzY2G6Uo1fvVyKLhVdYvxIyEBYxqcjLTmeDIpJO1nb0HrhAio+UV4iLt/edIaxCGk+a+o67Hy5RF1uk4m+eZLoG/rvfitq9+/BznLXYJMFCYULsSAjCpZusR496AxKLNGby4jeJP+0kzqpOLQP+yqcg+PuWMgArABzp6aAThhD5ph1HoceqN2/GwfdZi/VsV1q8tL4ESf8qdUoplublI4v9SivOo7kFHWRGxr+VopfbU8ssp5ZhMI4Bf1Ht268TwYApxyOp+bjMw3bHnk74fl75fDG9iijZjPsfXZcJ/+3Xb2Erm/IoKy5Defr9qHmnH7bqgVTWDqyHp6GnKQwWOjUWn8vGqv2Ymep52OXFZ8nNhMFj+YQ593CTY7QQNB/bHd24E3jC7H8iXRE0yTw/cT273LYfs3vac7B0p/PQgJaUHaESM4M4tRdPIoXt+yDXIxETT40IR7TSgYkO7ddQi61OfY2lBEnu9x1q5davxvQA77BSaYV9YZDtvBNN1qvXsd1arfOfcFtW1TtH3SQJ5zg6j12XLtoNEGpFB261Il4FK4pRlaIFVW7X0KJnF8k5/9z6NdNDl+TfN875Ptk5c7ouziQPaY8JBap1D8hvXBUNLHlpgCEhttQvu51dKi0t2o/Ie+znrwPhL9z/139dRQ6ZwWey6KJb/l8TjvelJ4AJhKLjAVzkT8+DF9Xv45X3hN9Fg91R1NAcNuwKAGIiCR6zkQngi+hw8UxMQeHc3lK7NZOnCf9g+PS59j2jnzEbaDPnD2A7W4+lAfoMfc6IrnikdTWU3uw4S25yZ0wFDy3Atmj3NtNsT1VdIV+XO4/cwleIn44Wg5gzdbDwkUpcs+rZm9vgK9M/fz0GZgzfSLXj7jeRe3jX9/H9r3uW8VdUdSpdCVjktxkmhF60Vx1APU+PexIHo3BmzAk52VyyRB9QvcZp3312ctfREGMHbUfrMdOuSRegxm8EZShRWlAoANTehFWFk5EBJGyjiqpgnNH1VgPUvCGyzv0GHGGhtHZ/x3k9+We1/fBG0rCj9dg6XiiCYgjtvs3ZOBCnQmxnfQYZzmjKYPr4FFPPQ06dKvFD4xkVutExZYS573V4gBRqU5Fh1ju55rkMBBZy36GwliTIPMgRoGeOCfKlAnZT+UjWRK8EY20rOz7idQnliErnPTLz6SnNNwYg5T846XIvbUB+0r3ecgNZiF1ZSUDSf6Tqs7gCMTYrHTgTDWaZfIyiUHJa1+UyK4uoSeqJIy2ova4mh4QPurEu35G62wFiqm+oEvJXye6RO4RfRm8ceuDZkRzs5o6HfxBsD00ADBlajwSxoZxTjIdFJ7+4lMcq2pzCwB4kgEjzr+I2qDDs+zK4Z/gjVF8bzOc+xQ96GH3Ls/5AkUUn8ecjgX/kwbkPQSCaDLLR/KRE/gpXnuresAZ1vaejmAq36YQ3kXZl1CTD88kkUH/QjLoF32rS5j89GosGBdIVMJRvEz6ltOAU63fDUx2+AZbWyXKqw3muBMw1j9uJDp0qQuTn95A2o36C6+SdnSvN0vhCqzPDIPdbeCpTzc5/Fua1H0XfvW2Un4qA+8i6m7hoybsdths51Dyy12wqbS3aj8RBuU24e/cf9eI/o5F1uP34dqxfaj1tErIHAiTTZrnhuaRm4Y4WnfrXkeFcHUA0SYLH3Uj2395xD5jCJX7yjK9GBsfiYf5SjU2vFwKt7CPOIFJJ7+ed64Hxfb0ZxDhIaL/stUmbW+O4I2o4+lEZ/OpSpS8ryHfmICiTvVn0MyPaAze+BcxikkFawMRLNcImqi86SzOqi1CB/NT8Mby2CqszwiRMRT6MGcuxMpHkzhDYSXvtYW8l9p+U1VjPQjBG6fnrS/Fi286nDdn/BO8kTpjtO5/TurebiB4YxSt9XRDMKxc5Ou5aO1CZATb0fjRr7GNJr8cwKEcu04S52a3i3OjQQ5DybM+R57VJA3Cpc0nf5fCzXbVvOue3Mt3jmomCpffh4ieJpS9sU9m8Ovp50MQmmdDmDGn2L9qG0iQLQYqpdf04F29Kwf0R4xLR0akiUscWHFOfjaro0E5Sac6FqQ+uQyLkqnXIC9PA/gyeOOGwb/1u+2xIDQxDObrVnSc7/Q4G+VZhrQ6//R7YzE2MQq9x3inUW3QYUz2vuvBG1KLM+djbmgLDn7kIRmsDKrPExwGS1+noRUWWt5zYEWDZKWedJWDXD9Vkw91ArkErsVUBxCnf9sv9/ByKa78IcrSzYdR6XdDEW263TnYpwuj9WDYF1Fp50wyEC4kA2GpzyBCA4+raeCR+CsfE3/lI2ldaA9MhGYXY/lD8UQWtfjjBnS7eRoKF090CQDSFSV2jE2PRyhNfP3Xahw72wabjG5W04fi+MjdJ3P4a81HNpK+2SvTp7TX0c2OJX0WsqJkgjeWcciaQGwibYPPzuGacNkJlwUFnsnEohcKkGruRe0Hr2DnEalcOgLZ9pbDZCxzwKmtjes9LxAnbeX6GEUMNhGZLyMyX85dHFr2liOS+JaJVtSStlIyZUp9SbGPDcmVjJ7xInhjQfT0HOSMH4eosBCMCAACTCZuqR3NYA2ioLo6L6H+1KcoV6lojkiiYJYTBWPqReOh3dwpRKKwmzPn49mCFESQnzl1Ej8Fb0zjc5Abb+FO3zh4xMheejK4WLCES6JJZz21BG4oqs6s3Ls6DepCEZc8hnyzGRFjwxAaFIprxzdix34tjpfe5/VX8IYwsM3Djuby/8CWYUV8OxlpY9LJszPGEIX9JSr2VxP3UR0tDqpjVsEARNYG9qz7HfV6Ns1cgl/SrUz2TpS/uwNlx2ntWJDweDEWp4eR6wpLzz30ORoAfK6QOutENqTb3wgDQR2ZrUHGBnJyeHJUbg5HxjwpH3Onp+CeKNIn5bKS9ROn8Gobjh05AM/boJTxXb0746/70lN3ipbkI4NL7k7k6EO5LWYSvA3eiDqWLncfG4DGdw9I7uHhb5Xwq+2h6JNxz20l3E90fIPCETdacHRMxN6EEqtD7f6AnDrsgpqTOvC90iXu5igkxAk5GoaHIDrSghHEltF8F40fbSS238/O5IQirH48BSM0zQJqtRleIM7EahxYaH0ecZCjdYWIp/s69L5gtz8U7ylZIUfkwtW3U5MPZWKR8fR8FI2TD946Akb89rCd4solvcEbmvfj/hnIuJc69rxMcv4t0b02ms+HbnVqb0Pt8UP4lNShVh1M85Dlz8gk+iQEobe5rxC29/XiyqVmVB0pRTlnl9UwsCJeHMgaDd4YWB0QPT4TycFq7RyG7OXPoiCGjB46q7H9P0v5NjPHI3fxIuTRXB0D266laNB1NHfUE3MxN5k/2lmbP25Qt8uiTR+r6uEBv5jI+94deKeCyhs94KAYz9I8eZIBuXuf0mcP3BHrQi++qDsf4c1YUQXLQ8vwfDbxaZ38aEm7oBvlWzehzMVF0a73hG1CP0jCWOILjnCyswRu5VY3zl9swCd/OoR61Qm8MPK9z5LvNcHWchj/8cYBx4oV6lc9Q/yqEPIz0j8cCyiGYPBGA2Jfcl1l5HmV8c2F3NDAI3Q70OqNa7DykUxMjgvDqABiKK8KxyjS48KvEqkIIM5XXBJyH1nIJ2lNV4lste/DbuLA2YiwJswoxi/pvZev4M6i31hIAzdA1ynyO07RTf9gP3WYO7pRv/NMO1oBlv5iDRZxgRB6msMevKghcKOZoCQsFY8so8kTB87LL0Qhl3xuIlLpefYhgcTp9ZC4j2Ce5Ofn1UtLKXZwhokmTyxCLufFGyTqXuTQOsm412fLoYnk43bdSfn436dlqMAdZ3mKGBoTcZpoYlouaeIaLKWBG+oglO5wD9yoQgM/K7CWc+D5vvqOyyxr1wc7+O8cZkHqQ0uw/qlp/CDNlyRauO9XPFKUyDmXW2Y4GXRyF1Sgzj7tZz/JFy4MBnSwswYb503D5Bh6glInGl0SV5fXtxD9aoc5JBbZxElYv7KQS9j23Ybm/FmG9WsK+MBNH3GW3npVPXCjiyjkCslDN24U9KtUxz42C7npmZgiPabfDxi3PYPAbWHIoPp0UryQCJNPumwhzXGdOJHc8bVUVssP4fA54W80YEmcJdgwUhbko0BIopqbnoRkwZYFEK1kMrg9TxemQF6/B2qbhbPRo1ZJ8fEBUw7ExLRpvj1yO4IMpul9c8ZHCVeM4qz3rfVleG0gcEPpRT3ppzuOd3ODTerb0eNoU4Wf6mZUDhb9YslA4IYGb11X89CjXl8ubUBXP/FvYjKx4PFM3XYmdDaxT79YgeLZ1J8Kwwjy9Ne6BP+2/RJ/BLA5DAmkfQrJ+79EninLo7sViLGPrcD6pwuQnRiG0GE2tF5sQU21qNtPoPZiGzq+MSEiJolLGL/+mVm8vVKkE/X75Y8eVyz1XeRtvKDhqPx9VUqzx4TERJ9vL+MOrqBbPpeufZH3SV4o5gM3thaU/sE1cOMJMoiesRCr1xajiAvc9KK54gb7t0ahfvERuuXVgslziLy9SP01/thxs3DsuNtKCp9jRb3ED1EudWj11VGSQxzrh8Sn5Y6Fl/rRQrvQYPXHJW6BG83QgMpzP8P6x4kvSMbYI0jrd1D9M5BsnZRu0ug0yJw8DcWrfobVC9R0XScOlh5FI/2T2BxubL121TKsXLMOL1G/ih7kcrUOe95y3/nikRviKytB6kNYRWMeHes0Dmh8e5PHAyhoYI0mj1/gZ1/PF+hfeTOwSoYmszqEPaWHlZf30lMuCgtQQJWn0my+BNO4HMydk4nU0XQ2j1wQZpg/3b8H+11nIfy08sYw4wqw8qlMRNPn7mlB2e6dKNeRVV418u6U5EuCrRPnL/Fa29bdRBwLm/ZcLgPtSP4tk8hSGT+uvOGIJc9MjHYUeTA6w0XDi0ba2C/Rdi3P74L4HN7IWt4SbCQGQQ98sEjtOalzMxdFWUmIDuJnFLsuN+Dg3veVT0NQqtNYUi9LBJ1wvAyb31backe+M28RlmZbcOw1x4yE59l/bUQvWIOVE6hj34va0o3Y6ZLXzvFzlfxaIv7QEZ4Ql4/bu1FV9jpKKl10ngSqKxfMm8WdBqG+f18ZX9W7K76+78AMF/k3zQPyJnH0NZ2641EHyK+k45PTCv++3IKOHita65tw3mk5rAFdQPG7XInPpQ/lthK2YQmfeLQtDVabYVRc4k6wttfhPD280C2JpJ9nAv1iM7xAp6yYY+IRShrKUzJwn/VPyUpZdb1Pt60sRHHuONg/24HN9JQrgvYZaBFhu9Q4O6r+5Fk/PjE7HMfeFE4g0VqXA1t8yWC/ch/epKt2FeScBhpy/zkfuTFEjqXbt+QQZYvq9g934n1ukkoeejz84h/zp4y1Vr6KzaVKq6Pi3fLHecRkQRxN9mlU/xjIv2cZFYUIs4Z2pqtk5s5B7j38qiR7H9G75z7H3ncOKOh7QdfJ9Fdz9hKsfYieREb6w5UGlL1XouOUJ4O6XRblZ5SipU9y46PZk5BAV+TSnQ1t5L3edc6J5d6ntH2/MnrrQtTRvqg7H+FXvS7nR59DxYESlCuMpzzrvTDkrVqBXNLN6Eq0nTv3qayqoYsG8rG4MJ2MPWl+sf8g4zyV1ZQufYxi7+nG2doDZCzvmgtNo729Eb6yAqbpxVhPcxFxn+xorXDYGy3ot0k3Dv3BG7Gh2iuxZnOZogFyICZCAprLn8eWD4XL3qLaIT0kUxpmGggOcVu8PEGEUsuWF8vMIqLqTqDsYw/bxGTw10CKF0b5Jc+hjyxEQf8JlHzo+SQLB/4O3hAGggHCZyNK1y8KW68hI4jP4Y1iE/scPeb0ih7JkklY7A0qdWqigzF7pYal3u74RPZFmSEayW4iguO613jgJBT+5yZPSWFvgEESk3ZbG0qx4Y1q4aoKas+oFPCVIHuagwIDiZ01OO+G7qtKLHKfnIXrx4lDpEe+/Oq0KemCG2N7HAjPRY9Hb7d61Ov+TBbue0fIs+1JeGIFFk0i8knqbfMWl6S1nvC5vIiJcA2eQOEnHeRLXyN0diEyLh10n1yTwyW5qTH5IPcwk3vodbA01uVA3WjVwZiGRRvzkXqbymlJBL263URXWNDjn1WfV+wPZJginlylFd16RUCsR636awB/nLIp6DrZ/hqIyfMWIbH9AN4/pHdrsQE/TxG1Z3Tgqz7p3qe0fb8yeutCKXhjINCoxsCpU0IeQ/6qPGLAUotNVDnNyld41ntincuc+KqANn2hl5sreMOdmDiPBrGsqNnfgKg8fquhx+31Enzvs/gP/dum6GoISoAJI4R/qqM2fLhBUMNDlzzr0+gesX5cghIDgZsbRdcHu7BTV+BmkGjZhzcr2nQa3O8B3XXYtmWrjuLDwI0H7NUHDAVufEJwJhYsJMbOZEfrpyU42GaHKXYannlEXMtOBv9Pz+ASWXYc24myFiJZIROxdJmnZemDS4ew/8IcPEbTc4WaBd0q6mQpljDEidtbFAodtFNM5Hflfi4tMaO5XwVGe/5dQ/dVpQUH39xx4+TLl/jJ9rjxDb/SVV4vOErZxe+Slp2IKUlhXJ4oc0w68m/00ufEicjntoGlIFplJczNTNdHpdoCNxSnU2mMYiBwo4d/8CEQkymQW+nnEaKCtfzegG4387lXPDFiOP9bdk0vS1earue2BGgu3ubfa6+Uv69i8XXgxhNkAPb26yjRHbhh+AcLYmTsv+ESKeZdCvF8X/FYaZMF0XI/l5aB+w4FTHRXlCZEfSHrC37nEbbV/1hcfbQHuw+VYsfHNBULTdNQjNVP5iBiCIYivEH/yhtJRn/bxWq8f+goak/JLQENhGV8JvJnTUdGZCCxQo5TCHyCX2dVB58bsfLGGIOw8obDceS0Vytv1DLMK6B8Eo7eWQiC+BzeRKWHSGTbX33OuOwTpf1QEQqz4rm8WLaLwmy7dBvXyWo035nO7+ntrMSvNpWhSzw6l66O6GlD+cf74Jb4V6zzq004eOqScFEjuk8uENCoW+nANCMvB7mJNFeV/EkufsOnmfnJe3rY4uEVfrURBnTBoCA8l8Z39pfdofh+FsuT7SE24xliM+JIB7I2YMe/7+K3zGjF1zZDPD6YtMUO0hb1wmXNGNVBHpL0i22udhqcPN2o3XvUZ6f0Deosp1YbmlyEtU9ORCjRuh1nK7F/P9HBTlv3RCwIzchBYW46koOJvHlaySnZpk63fr5felj2vqawFKTm5GBuOs2b4Um3e+OLGWSo+CIc+nSddnyp27U943d/5Y2/kNvW6wVuW3V9j2e9JzkSu68bNYf3Ye8ndbLbN6m+mPJwPvKS/eEL6lx5M5i+MoHXldOQmxLLB2b6e1Ffvhs7XQ88ejgFETSpOz1evOEEDh9U0uli29jRSsYN9brEwLe2UQuGTpvi9hM/NgOTuVM/eFyXbQbcZhqYYeD2nP5hF6qMJm+Sw6+O+eDz/QjeDCKifAgf9aBcV6IhM4AvgjdG8GX/GGrBG2mQpv4AdrzpSEZIk6qvLJzIBXUoduJc7/ytkP+AYk5BwdIiZEeSXyDvs+MVl4GeN3XuRVt70q3ciSfieklq2A+WcMneGTJ8n4M3wietfDeCNzzmGNJvL9IEnzrxsc0Ql7IbPvrdqA7yIO+ivtWPb2Xd9/Khgo6gAz3IYdGcTCSIWzxktghJDyDQmoeL5rJZNC8H9IRzDtf7ilsqKZp0u9gfhI86MeQTDhVfhEPQdf66700YvMl6ZgPpU9Itat7WkTF74mtd8V1Cm96LRcaTRVy+WDEw5TbG9rsvqDN4YwSDvvLYBWuwnMtfyUN18G7xZEFXuBPn5qBAWJVLsZ7agw1vuScuFsfL+hl8effiqHDqJKUjbeq9uGfgSE/e8tAESB09NljbG3Dyr58rRrm8QuexnkMdfx1jxitz4HzFeu7ocO8Rczr4Yw+zDxGP+RU+6kF5NYCYw8AAXkSYjRzPOYDGo9I14ac+543sh2bmILqzErVyyQiDJyK7MBNxVytR4paMjcc8KQep9kpUuSaX82aFiQ9mb8ykzTPSkpA8OpDLSxI6nF61oeuSFdesbTj9xac4VmVggPp9wq82Qkx2TIz2utdRIVy98RjTUVqPjdaD+0DCW/xse3xsM5KfWofipEAySN5IBskGZkON6qDrVnScV0mIGxaLiJFG3rIXXWd9p3N8Lx8qiEn/yWBB25YhunKc+LeprjqYtDWX0LwXHecacOyzajSrHtHrivS+FlhCQjCCO7rSiG73Lo+ItnxjLhhIWDxATxPK3tjnw9lpQQf7XL/7UrcLK0M89En/HWPsbR0Z9XkHfyXCzYIuvUdsQGr6FEy4OwrhwY4xNhll41pXF7q6/ekLarS3N8JXNuegaOk4XD95gvgt1dpWbxP7PjY9E9PGm/HFmyWyJ7SJSf/141vbqAWvgjcMBoPBYDAYDCmByF25DnmR3SjfvAllepMVMxgMBoPBYMigP2Exg8FgMBgMBkOBdETTrONXzuEwC9wwGAwGg8HwEWzlDYPBYDAYDIbP4LdLBHzVhg5d22oYDAaDwWAwlGErbxgMBoPBYDB8hhVdZ5tY4IbBYDAYDIZPYcEbBoPBYDAYDAaDwWAwGIwhDAveMBgMBoPBYDAYDAaDwWAMYVjwhsFgMBgMBoPBYDAYDAZjCMOCNwwGg8FgMBgMBoPBYDAYQxgWvGEwGAwGg8FgMBgMBoPBGMKw4A2DwWAwGAwGg8FgMBgMxhCGBW8YDAaDwWAwGAwGg8FgMIYwLHjDYDAYDAaDwWAwGAwGgzGEYcEbBoPBYDAYDAaDwWAwGIwhDAveMBgMBoPBYDAYDAaDwWAMYVjwhsFgMBgMBoPBYDAYDAZjCMOCNwwGg8FgMBgMBoPBYDAYQxgWvGEwGAwGg8FgMBgMBoPBGMKw4A2DwWAwGAwGg8FgMBgMxhCGBW8YDAaDwWAwGAwGg8FgMIYwLHjDYDAYDAaDwWAwGAwGgzGEYcEbBoPBYDAYDAaDwWAwGIwhzK2jYhJeEP5tiOiHFmJB3jTcOewznL4oXHRlQhFWP1uE/B+E40JFHbqEy999kjB5zv2YlBQOW0MLrMJVV7Ke2YCnH52B+OGHUdMoXPQR/ry3L0h4ch3WznsQU2OuoPx4h3DVBX/Kj3jvewJwqLpJuOgleUuwcdEcPODLexrFj8+SMG8VVj7xoM9lS7xvemQnPjnVKVxlDCamsFiMiR6FgH90w/YNvZKCwueeJbo+CX2HPscF7re8QbxfOkZe+QSnFbq+fvx1Xw/4Q48YIHp6AbImJcGCM2i/Ilx0ZRB0ws3fd2eheOMizH3AV/Iu4q/7+h9/6fvBx09tYMBPMcfEIyIuBWlTJiI5KQkJtIwLJz8xAQO6dzCwIDQxBqEjTLB99TX6yRXedxxkPeqCMf81EJa4WMSmZiJjUjJfp0lRMPcPwy232tDztV34Pa24140Urg0jLIDtKvq4Wwvy5TN/1bc27UbbiBuBf8ZBfrYRgzReNlo3nNzfMxFZ96UKfWwcLMP7cWuAHdZrfcJv+R7/+Ri+7WepTywjspGMoO4TaFZqRC/6mdcrb8zhY5EQE4WY0cIFOUyBuP02E8yBgcIFHUSmI3tOAfLmTEO0cEkPdBASnRhvoMTCYhZuYph4TMvKRG4WMczCFTnMtG5IuZ3Ya1/jz3sPGt7IjyfEe5PiM0z8/Xx6T6P481mGm7n7epSt4CgkTM8nfZj044emEX1BHB01xPsO9+Uz52P5b17Ept8sQ65wZWgThuQ8qvcMlOlJwj2ME/fwIqxcXIwF04ULZDBxe6AgS8IV7xDvZ/axbvLXfT2gQY9Qp2Pjxg0GyioUThBu4oHkNGpvMjEtUbggx2DoBJW+m/sT2g9fxPJHhAtDEvIOQh35Rt5F/HXfQUCrvnfDC11GC3GmPVgMnai0wYC/qa1MlqparX5K8ERkP7kC63/9IjYuL8bKBfko4PxEoWTnYynRvWvXvoiXfr4CCx6aOAiyMg0LyHeuXJiPOOEKVz+DrUdd4J9Bm8yZxuWgaOUavPTrdVj/TDGWPjLNUadZs7CIvN/qVeuw6cU1WL4gBxGaK9W9bqRkPUZ+tngR5gw4+YJ8+cxfJffzoU3zqY14ZBmnyzf9JF+4MDTRI0faUdEjXuFr+VFHV90Q3ZX3DPFjRN312CxJHyP9ZAG5tnwNNpE+uPqZAiQEC38nR9I0WZ3qWpx0LMXA+GAgDqA69iD39GE/i4gk456YsVD/SkF+SNHLLXdPefBb4d+GoCsnliYHovnI89jygXDRlbSFWP9EEiw9Ddj2b7ugK/Ap/i3asP+nW3FQuKwV8fn004uadzZi9zHhoyHogHEaxnp4durM5kVBsQ5pZJT+XBVrHXa+XOJWt57ujcwiLP1BmPBBJz1NKHtjH1qFj+rEI/upfCQHCR8FzMHhiLaYYLd24vzV68JVAfH+GuSHrgArGGdBx2dbUVopXNSCeO+2o1j1233CRZFMFC6/DxHCJ2U6UbGlBLXCJ86gTSeVLntPb4lFxpNzUZAUBrMQerXbOlF76H3sLm/hL0jR/CyBGDuHDNanRCFU1CP9VjRW7cPO0hOwCZekeO779FmLUJAc4mbcbFcaUPaHXaiSeWTxvtb6Emx484Rw1VvEvtiJ/S+8ioNyL6QGnVV9PAUjhI96OF+xHjv2Cx80MxELflGEyS79RRMKbU0NWMRIFSNB5Kj1Ir8+0L1txedx1WVa+4jApc+x7R3aQcX7qehZOpDKGOPZMeo+g/1HGoQPGu6rAdP4Aiz+YToSiG4SsV6sxO5dZWi8KlyQoqpHeAZsUb8dNl2Tv1Yce3cTSk8KH1XwqO8pHnQCDTItutfTcJnIwbrXUSF8EtHSdzU9o0+gQYNMjL1N+KhIN2r3HnWxY+q2W1sdAde+KMErb9cJnyjafAI3qKObFAL0fYmK/dVEItShs+up5NdtbZUor5abnfSHvlfCC11GUfUbAxGRtwALM+Mdg3E7eY9Py7B9bx3ku5lKGwz4m9pwqgsNfgpiyXcvId9N67yH2O2zDThZ14BLpMJtl5pgs8QjlLyHOTIJqUlJmDAuDBZi520Xj2Lzln1+nIUX6kTy7Hw/9YUfLAddXTANcQp6RESrrgglOm0l0WlUBGxX23D6bBO+aODrVYTWafK4eKSOIzJPdUIf+e7/JO0v44M44143UtzrSf33KW72hdiErrZq7N5ehma3zucbmybiCxsxgF99XVfEfusBmXpXfmeN9xRwtmvi38rpcp1+kdMYwrP8aMO3fcyUPh/PPZaCUDru4HTXOTSeq8P5bv7nHCGxpH+NQzINlFB9T2xK1XuvoqS6l/+5FFF2POD6XJrHB+Z4ZMydg/zxvA4doL8XHS3HUbrH1ZfzRz/zcC8v+o+ubVO00ugWl9mzZg6U9DBe+Ywc67gmlqTAP6PqDPnhmInIGT8aw69fQXX5CX0GSPxbEIN88DPoXcB33TQc9q/a0XThoubyTXAMwgLtaK/7C2q/FG7kieAoRMeGYcSoEEmJQWpaFBnw9aK1+RJ6nH4WMrAlIT5zJlHiwNUWob5ciP3BDO7n8tCo3TAEfHtVtm493RuTcvDPqcSYjbDoL2YbTmhuz1hMK8hEymjne4wYzveqYcODnK5zRby/BvmJyJqD2eNC8O1lhfdUQry3tQUffeqqJlMxiyireNfnciv9aJfK5t0ZmD2WVLrsPb0hliiEYjwab0HALcRJ6e4kdRGEEeYgjEmcRPpbE3l3l5GlpmcJRPKTK7A0bTQXEKKBtC/7huP2QDNGx6RgatKtOPEZcSyF3xYJnZTN9X952RKfNQgBRFk2nz6O6jMtaLrUg1uDR2M0KSlpyehvJPXm8sjiffsu1ylvpdPL9GwU3E36HNEk6DuM6r8J17USfR9mTQxH0K3DcMs/+t2WTqvx1QUjS3Wv4nxzI2pO1KDymMbSfyemRhGLqdDW8UX/A8sfzMDUtDT5cicG/s69bSMxITsFY25z1cNa+4hQvu0UvkO8n4qevTsXT+ZPQnJsDOJVyphb23Doc9ED13BfD5jSF+L5eZMwhuomMhBsvdKH283DYSZ2IT09ET1Nn+OCawBHVY/wiHVqPf3fWL/5Dzh06LDGIreEl9QlXcrvYlNi701DHBGBns7zuHDd+WcjbheWM3vQCaGp92NSGOknCtBZooBbe9AsY4+19F2PNslnJOLB+Q8ia5y83DhKEK66vUsipsyKxUgFv8NTHQWYTBhuGoZvu+td6kH9vopMLcDSacmIvysRd8npeRemFC7C7JQYRA1rkWkHf+h7NVR02aWRGJ8QQrRyL2r378SewzK/U1OH1q/ct6tw7/HjFXh2SiTuCCDv0dONzm8CEGgm7xGbiikx11BxvE3m71Ta4Csy8G+sQ5X0+0W92lmNzW/vc3q2Y/WSrU0a/JSs/+fHyAwZBtu5ffi3/1WC6lONaO/ohrWLv4/9Gv/vrpZGnD5GA299uJPonDGjojDmW312iw4e/t+5Ep/8/hg0WSdi+YoiFEj8dH7LuoWvE8mz8/3UuB5VJwnT8uIwWkGPiGjSFZGkbzyRjFAiQ/Uf7sC///4gar9w1KtYaJ2eOf4ZjhxqRH/KJCSMDEZc5K04TGRd3Z4L8qLQru71pP77svbldjOCiH2Zcl8MLnx2Apedoo5GbZr/bMQAfvN15RiN6GQL+q5Z0SVX/hFAxgxkPHr5NP7g8izKciRzz6+BEXcMxzBbNxqJDEm/4/LFOpw4K0Yr1HS5Tr/IaQyhLj/a8WEfQyZ+/PQ0xBEZ7Kj+A375WhlqTp3BhVbnPmZtPY/GU0Q3ln+CCzFpSAu3IDpmNOqO1JJacqGjFXUNtU76VFr67uTl1PW5RDvU/w9geHgcv2Ur/BY0tkj2AJrTUbRyPpHNIAz/thcdHZfQ/hVtw14EWIIRGkJ8uamu4w/jvqObriWF1ikdn48Z73x99qwshHUJ9/ei/whhX23YLjWj0cI90QDiygka7W51aZ2Oy8I/vCEoQHhIMyx0md9Z7oNmrNUHoHfSO/euTCSrLfeSY3ohF/mXJwzZi4uRLXwS8RTpFKl4bb1i1FTvTJEbH2zFKg3P4ISh7zyB3f9GivDp5kIusj74RM8rQl4U6Q3WJpTs2gFx1UpodjGWPxSPsdOLUHhuE0rr+etaMc1chEXEgMHeifK3t6HsFB8lN40rwDNPZWJs7DQseOQ4kVXt+0stjxQglz5rD3nWNx3PStkvBHbyoqKQWzALh7ceUJgh9RXk+9JjhRUcJiTcV4jQj0uNGcWeBmz3ajZEK72wnm9yN3hqJLmsXFOgtXoHSo4LHygxM7A4L96gDtmHLT91mTHQMgOthfp92Lb9qKKRMqXNwfK0MNj7dNWSOuYcLC6kus2O1qoSbHlPmL03xyP36UVEZmNRUJiPk7/dp69tfA5dyq88YxidXoyV6cIHEY2zO41vb8I64d/u6JupvLE0YC/Rk4fJwF6eiShanM5tx9bWcxyo15FjdtD3mDB2KtGtJ7WsGJDHH/peHWVdZrpr1oBeNgcQH/KszAytEmlFKBpP36MbVWWvo6SS/wbT+EIsn0faNTkfC6afws4jOu5p60THWef3NonbYa73kueTDoHo7Hq+Y3bdZPG4StBs4rXZJdIX3RZYyHH1KJq785FMBqUBnm4uCxm4XOzi676nk3wnv8pautLZdunGajKviQrhV8T2NKNcbvWxGy04eOQcsqiNGjWG2woltVGKfTcoCUt/86LwgYf68LrcLUX7koKCZUXIDkvCoqdy8POth33gE/nPRtwYKlG6RXlZPW23hBDiHpOxqHZk7in6L9112LbFaF3I+EWqK3WGOqSPcfrnEmreVVrRKKUX9W+eQDN93+AQLm2I2w4NGjNQmYNI9mCUzZEpyI0UPrTZJauvA5H1VAEyyBjeTtpw92t7UCv9HuLLZT+1AAWxUcibX4T6l0o07h5RpqO9DY0uEWDLqChuNai1sw0dTrnLrBAWuHsFv+xBI60f7iLCvNWp1Fp5Y2Qnnd71Z7q2r8gSiMnJ/FJIKjzJGd7ncvAbR0qxefsOXWX3EeFvfQZNuOScL2FAuIcUgYiYMR9L16wjz8jnP3iJPOv6Ncs87O8OQOhATiJRLr4v5CBvPLFMpONXveccDOkqJ7JUTx3UEKRlZfIXNROPgh/EEtfZjsZyhyNPsZ8rw2v76QwsGTCkz0GqcN0zYci5N4q/Z+Vup2flIc7T746ikVgAU+zdyPFrQ9JZ5vnIiyR6qrsBVe3kS0elYzkZpHy/5MeB3dbEDUIGiut2xaECN5ByeVZJuT2IDzdd6xKNtvdE06XsRFTsLUcdjjWF1NnB3x1ALRlxmaLSMVdvN/M5R7FbxqaolveOCn/rO+iWXqm9WZw0OPv0tcEHDeRkhyvEnnA6oMfqtfM2qJiikPtYAUKFj/rwh743iDkdT2TQZ6GYkJBRhGTNSjkMeQ/QQTBxnI+VDARuKPZTpdj+1zbyhoFInTLLYFDaQVyocIdhJuFZRUIQE0PzGggl0uLyc3fqL/PPOXZSMTLGeeor1E8qRhY3J9iNi+e4izrpQo3ok0u2uNsuHhrw03d+qDQnf5Ng7eWDr0HhSI7lrngk9K5wXi76et2CaNwk9UUyGNNQLuqcoI6eo2Rf6lD2+0o0cz5ROvJl89GYEJ4syQfiMbfd0LARg0MS0qJof+rF+dNebrUn/ZiTjeAwJHAXGERAcZ0T1lBET9dm403To0BTr8Nud+tjvsB69oCC3M5AWizVxN2o2OMSuKEQX658K+/LISQJOWn8ZW+ofccR9+DLUbQJwZyu064/24VynYtQ5NAVvHFnGqKFRMWWqBRDCYVVSZuLOdTA2aywEsEJvTcXuRqVs4iRhMVmxZk6FWgUUc5BVCld6iufhz7WbpwX/qmdWOQu/xlW56VwyayudfFG8HyXFabgKEzOLsL6VYUYK+fEBcWjiCaO40ohsoTL3wumj0Mc1UedddgnM9XTuP8U6OJ489gUTOYvaSMxHck0JmRrQcVH7jOU9iNHeeVnjsIEzUouCiM4/X4JjTL35LAdQSPn+JCByFo/DQDNKUTWVqOYm2Vuw/49u1DyHnGQ+oi+SirA2pWF6gnVZJEGEDWUuDCPDr2vsdv9YSqHGsSxGs07a5cuKsiYbuKRMZZ2hl7Ufy6zGsx2FAfP0sFXIOLumchfM4IpRF5WVEqom5xa0SVjU1SLL6Z7fIjJLP+uysXHAftYYca+u3MQVtL5iCtt/AAvMhPFj+l0hih+0fcG4FYaFGAyVc0th1FyjjyLJQmLlinYflfM6Uiki0jsLfjkPffVFtYPTqCeHngSRpxzryawwpAcLtijyFiXiQY6u/48VonlnQbZ1UVSWt8vQzmdQLAQX+bpdVxC4qXPLESBJEFn3uMLUbx8Bda+uI74SXRFpB3NFe+jTOeK2u8NZ/diH7diKwTZz6zD0nk5SJWzu+YwRGTkoHD5OqzN4CfCag7udQvcyk1SKxV9E9TEvtylYl/a9+Eo7dzkPe6ZIJeH0oToCWJyWFLS4oXrSgyijQgIlNHX6sXdphnHNDMHafR+V8/hYH2U23fpGdMlhAth8aBQJEh1Bz0ZSOKnbtyYeZOsQPUFh1FW3ckHxB8h47fFRHdPkLPHFoROmIa8xauw/hFS71R3/XWf/M4Rmu+FO0REvtA8PKrYu+XlNi2Mn9jouYR6xYV4lWjspH0tEKGe0+7oJzIedKctJXrsLL+MAbwK3oQ+lonU2+hggVRCcBLmPmLAmVAidhaWzknhDVfVDuw+TRrHFIW8hQt1zM44Tk3RU7IN5u91YEHCQwux/Ocb8NKveUF86RerUPx4po4M90aoQ+nL67FunaMcbBd+5EvEyHS/3d0AecBSOBd5MUSUu09gy79txCubBUO4eRPW/dsO7G+zwxSWjqI5MoaprxNVFZU4yBXinAmXvw8kEGeEik5Xa528g9h+Bs30B7eFIE7tFAFXiAdMFZ2985wj4bITDTjLbcAORHiMj4Iq/oboosmPL8P6X8wnskaemQxUyt7YwW8zaCEO938eRn0P8eUi07nVX0sfn4ZorY6EUwBRQ1E4ocIfRAvH49l6pBnkbixG4uCaIIPXhFHk/31t+MJnyTSTEEN9a/slNCo45a0tdOsB0WMh4ooB/VgSZ8nLikpxnPolj3lSPhasXIONLwr2ZiM97aEQqR5n972DbumV2pvtDdoDadyyfZl3VS6+DdhPHkdXBwIdbdX8hZuBb5rw2p9bOLsbkVGEQrVjLOUYAvrePKkAy386n/hZJuJ/n8DONw6g6q33UU6caWr7l/90GfImcR6GMimCg365DZ9yF1w5ivOX6P/JYEKPPXQlLR9pVM9wRCFrXrqk39N7SwaJwRq0HV1hsfnX2PDuUdSc78S14SHEtiche+DEFlLSk5AcFQIzPYjg+AHs2PRrbNnbpNvXGtJEBhIJo9DBHvcPL+hFzfZXsa2yjfhGgUiYNAuLnlmBl4RBIF3VzQ0IX1iB1Y/NQhaV6542HHx7K3bLJVIdgCb1XoLVL/D34e718xUomhFvUPd7ti81FzmhxajIFO7/ztC8UMZXyfjVRpB+K6+zlYsnm6aZ2Hw884CwmvDT99FKU1i4fJf2MV0msuLE+ghD2swhvNvDEz7tY8T3Kd2Gzfsb0NFnQkRiJhYsWIaNYr8gfYzvb2uwdkE+chOJ/urrRs3+nXjtA8UICs/VJmFMJ1+O6l2lQuMRGjANM+rBeSIQk+eMRwSRR/ooptj78ES6D/qYC4aDNzTp1nIavba3Yd/b1Wi1mzB2+nwsyPRgdDVA9yyv/NccJJCxiI2e8PFhJxrf2sMN7OnsTPFPlyBbp8KxtdfJCoZaOaZn6+QAdGXJKizNTsJYmkmeLhnrI89tDkFyegFWk2fP0hnjcl2a7lS4/bODjBchv7QYXos2nypxz6pPtyYca+EGRxGRMkrzeheO7S3Dfq64ng4yBHGajfDy6PlbecfQalVa4lyHLi6qY8btcgKh8CwWs+cB/yUrHy4aEarVkBEFz60qC0fCbIV+ap6OBG7VHtEfksGf3gGglIQ5xFCvWYeX1i7EgvQoWIbZ0VF/AK/85nWU05ldkRbiEL+yAyU02eQw4uyl52OlcCzr0nnT1Gf3nQKIGkrVF9yKqMHAPJx/8uvfyIb3DOFYHRGi3WEV85QFhSLaG5lXIXomv9LTdqEBNfwl7xGdnW9sym3WbuWXAFtCdAflOk7JyActJ/mAkJpsqTkw9KSVtURuJ0daEEBPsiL25jqR64i4dCx6ejWWztZncNSPNPd+trH+mPw7ei4+DNibZ2EKd+RPN05X9MqspgtUlXd6uuHS5csUSwGdoPAT9o934h1On4Ug67H5upb2+0ffayA4Cqkzi1BMV1nOIzJEHsN6/jA2/7YE9VT4aVBj606U0JVt5ijkziODzLVLUDgzXX6GXphAsl79UjGo0WqldWRCQpZr+6Twy/k9YU7Hgof4/CSNHx/mtvlaknLxxICPS3OKSAaJmvOG9cJavQ+7X3sVvyL2bmDljrT8jNjCX76KnW8fRn2nMXs4pEkJBx8TsyAi1hcDGysaS7eiQpis7DpXjZrzwqruS5e4/9fXV6NeWO3efGwr9h9Xs5N8Uu/lxFmPGG5HVye5Vyf5fUsYMvIW4RlvJqo92Bf6VCaTvOG0k4GukVUyvrYRA5w9IaOntRXdg3I5gjOxYOE07vQ2e8shbP+Y9JXLZLwobGsTS4frWEOBaFJHqaTqbefquP4eOqGQ+JKCfO5/3clPXbeuEs38T7SRLgSciYfJ5W/1Nz7vY73oOLQLpYIvTcfUFWcdfew8rWsiD1xqAoL13AHsPqQh6NzTJozp5EuNwq54S9Jch1/yzCzhKuEkaW/6pUFjMUUpaBKZjwncqqpuXPTdrnuO0EeK8QSNT1gbsLOUrsa0YHJhMXJ9PJFmYBhOj2ZcgvWP80at+a9lKD9Vhp1/bSMOKH3IVVj9ZI6xFSbBSch6chXW/zgd0bcR4Wghxn3geESaJ6OEX3JqjkXBYqJwdKxkoYmL5ARDuRxAvYFVKwk/prP9RJPQhvvV81gjdPQ1/7YDZS1E6OmzF+aTmnJn7FTRQSbluaIBp0w8B148GtoZXhHben1p4GlCJ+rkLES2ipIxsj3j2jd8Vw4cLh8KNwUHcoPn78TWD6fZiEWYo3eWVEK0xcuOr/AsERoiSq1WvW3Ri8On6OwwcZyzZZQWl/x1mrD3mxgA4bK3nO8xISKEfBc9JaD+KDdj+cqbh+UNt60JVW9uwrpf7cLu6hbud0xkQI4r1fxAWgmnAKKGouFYX18RR/oOxUocPF/hWB0xC6nCMlBPJIxz5ClL8Lg/OhCTn3DMbG76Sb5wXQXzNOQmUg3ai9PVSrOPBu4bZcHtwj8VIYNLo+3JJc+Xk5H6Lt7BUZEtJQcGafOxfDqtbytqSl8asDfrnt+IVw7RQHgg6YMF8rnPIjMd9mbjKhSKs3PDzby9UYg/cPaGFuGzXlqPyL+j5+K7gH3oQxM5/YPOBhxudxmEc4VPZKyEOXysI9eJTKGHOPiPXtS8tQ81PeSflhQseFK6GkQd/+h7dcx0efzaZVg0eyKSg02wdTah7O2XsOG1A866merk7S9h3dtHUdvZC3NwLLJmF2Lt2hfJwFMhkNTvOV+XOcS1fULUA/QUzkYJ27raKlHyERmIVNA8OtTHXYGl/1977wMXVZ3v/7/CUZhoRFD+CDQSQiwh/iFCDFz8AwYVtthGm960TW/Z17w3f9fatl3X9bq1bXm/tl/zZq22aattdItbtMmqpaQYEYlIhCiSIBCIQjirQzRLv8/nzDkwf87MnDN/FHffz8fjo8yZmTPnfP68P+/3+3w+73cuX33RhEOWBqnkhLUjAdMst0V5WLKYEegzxKC8XGa63LbgAdKqN07UhJku+++EmRay/FeLXTosDe3F2PmS9Ranba8Vo5mPGSWkL8JCabv1S2vxzAZ2jg3P4pevSw+qFyDXSqZyXceFc3BysGi8X2Z8MUdINBySkdPKisM5TSGaiTlYvkoco11VeOlVMchzRZFVu/NSrWAxMk/8sWwqX5DQhbLSXSgS4mZ5z/DWTRDjLHG9SHZbnHfx9RjjNnXxVut63rK1CEd6zDae9wiALiYW4aFK2+AASr7gDc50wILlyLdZxamZOAtLHhQdfq112OcNJ6KADsmLVuMJNtY0fKyVvoP6qiIUfcE0Rr5riPssCpzFdFWHCueNDnFzC7H8l2vw+GyeuaUPjR9uwyZxSVT3+5ux8YMmdA8wAyoxB4//6kmsvFdJUFB+3gIsWrka659cjIJENrEOsHOX78K6zXutM8IIS043YPsx6Yl5PvsdvvSvEFkZ7i5l9CazkP0D3lF6ULZjh3WgJB4k6dX9YsDLJGZ8iMdV0PyJKHTlynNFXty3rxMD8U1AtHW/F4gbZ56C3NmeUV11SjB+wlOWYNHcBIv+oUPU3MVYNYNrDCacPu5xtOsrj81yQPdWcpkxP0X0AO7QGHwS0TwY7ZzHGnJFXLBMJ3CB6cPd2NfKhLgotB5fad7XX7DsMaaM80xTbLRyB6c04XoB04dMZnCH6a83YMtru5U9sextQPVbL+P5X/8Cq59hssVRjJ5hTyrChSfUBnS2Cge8Qvcpqf/WoY3HkHCJuOzYxLdUMoV2squAoSYYeKR+qW92uJIpAUi8b7bwdMzUXoX3HG6ZUnteRn0PLoh/OkS1Am5WPKxXddiUwe0WCuIp2QjkjBli0NbKXdhpEbRVeEpWuh3v8KdkbAymzXYVH8EeQ8M78nONUF72mtP1sqPPw6IUvn+hD7WHStiI6UGr1E8GC9MxzJ92iqG+SH7lhFjWveZh8ExHGKvw5gfmGCu6xGzFy7J9Je+dYfywBuWtLaiu2I1NG9ZjzYZtKHOy6sF4dDe2s889uYH36QbUd9Sh7H/lLT3NKNfXyjMCWbfLIadPzPm2ruWPW8xRr5gfIBo+2IaN5fwhJdM9Zy/F2icyMbqdyUbJIJWcsHbEItNyW5SHZdYkH3pVeOpqcQwoXa2gGmnVW3+XkG1Go5+CPBcLP4w9lmPTkZPMeyTexJ0dPKi3uN1ahAfDLvqS991QJGdYGuAa6CJcOAeZ3eJ+2mf38eUccUXQxiKNP+R/aGh3xsbNxfYr+RXDt8etwKrbxfhSn7wjtHn3+9uwvZ7Vl1cM7wTkJfA5x0x4Qo73Y8RachWMsUGCk0Snp1SYjSA6DM1hR9Zg7SNLsTx/kvgFM1b6yUt7xaNm2t4oQjFfLKEJRdZ9TwrbuiQn5LMP5SCZ6crClt2tXsgayvpjcsFSrPr1k1jC9EONqQflb70gbsnsQ/3rL2BTJatP7rNIL8T6X6/GUtbXPEWFv+M76CYmCLnLjecbUPJ2ESrZoNel5iAjMgCdDSWoZoLumaNTkLuQHdOzDxpOKegA/LyTMI3vQx3gqRirUPLWbjRaOj6sMKB25wbU70lF9o9nsd8JRnjMFGRcqEGZM21SDBKpCiPr+GoCeMWHIYTXaE8Ljsht8zMewrF21nEmBiOaP0iy8fhx54yS1OGOuTxpXMMDzd3mksENb8SRHdg07mGsnK3HtHmLWRGPSwiOu3fMyx+vdoTlgN5Ju2j8lo+kAIQwQce3SNkzRTTejbgg1yw98mkPTReNgsKp03GFUN7QkJbad59TY4i0YN+mDThdsBiL0iIRzjp8eLT4FsPAt0PuKEGjV2cIA4wO5YYCesUtMU4RDWzxlRJM3zBFWOnSd09T/7Nvpi16mhXzK264eCJTDO3MKBG+PwVjpyYJKyKdobvzZiEmmfHkfpSPyUF26FQsmLnXSbperiBvxk6FcWs0qYUoFAJa9+DTPc4mXnXnFTCy9ueDIVAntK+sMzxIa540e5UGuU3A/MWFmKZk1ZIQT8nFHGWVyjUWYcIKjx40HpObcPpQXd+OBRNjERLGJxybFVkdFVjjUVrYKVj0K4X3xoM9mtPmeIXT5WuxrVR8oQo9sgvSxWX2B5kxw4/JpaAd/inRTfyp3qTHhIDs024vxJG6HeYtSE7wnbx3AtN7ijepz2Jj6qpDdTEr4msr2s0r4HRjQgVZaS8HAhDDV2GyMdCteAV1MDIeeRQFYswLKc3sUJ0yY/e9zXimJR9L5vOYW7HIiA9BWZWrlOo860+DB4afNXw+8RnftqNk0w5BtmX/+9PI9dZFWxC14GZh1ZvxZAW2nk/H2vRQZNyVhwNMP3Ekz89+sRlbbOYxZ+n4hVUETmKq2L9vnb7ZvNK5D4Zz9vNWW0M7DJMTcK0whqS2Z7L2zfXifONIdogZe5zML5roEKE/G9lc5B18MUfkYOn6TO/F8mNzmq3xLQePh5VxRyZmJbAxz5cdcFuh8j1sL65x29EQkl6AwuxUwa5lIwvN5ZYxWni6a2Z4370cy9JCzYZ3QgI2PVukbrsUQwqozIOz70Ym8vUJWHB7KDZ94Ep2uIe3xpgQVHim/LytSyzEht8Viq/ssX/fcoxYoA0WHJ6WmPi2Pvb/dxe7cLr3O3zHbM22U2rGRAvKNz+Pxow85M5IEB5ICCuJB0wwcCfVsUN45wP3+40VTGmM4TYBk5WDdg2zQ6Jm5iM5uA/NlXtR//YLWHd0FhaweSMlTANDh+er41WsvOFLdXdi06vPYs1zOwTHDSd8kvlpQKa0kqS3BqUv8eCzv8VLijomO2/pXux8ezPW/Hw9Nm61ddxwQcE9Zg9bBSvky+TMv/MCnn+7GDvfcb4Gz50gkavuzhS/rRDWO4RnqAPfuX6C6xPsnyB6/+lJgLCkngs6wzfuCZ7uPS9jHWu3bXsqBvdMNp5uQNmeYjzz7Hpsec8ihSLH1IdLXt8adnXR9pX5SbBu/I3yhn1iEiZwI4pHWFez3a/uLM7z/8MiHWSpSsdk/gSS9y3Vy1zN+9DX/fxZPCMF2WPlmWd+gXWbzALOW3BBKbfE3K2Sm+rYeaI2YDEry+9QETvCwCYrmzFsW9p46j2GiX1W7n3LojaVqUdoZ2HRDL5ktAdHyg9g36c87XAAkrPUpAB2jCZ1IZ64W9yue7AIxV6PWF4nPKXisZpiHCj+yQnmLWHdZ5UOhnYcqRxafedxOWI56Wsxkg9Nhslbur4qDHbzjdQ3hyd6ZKxYYl5RYWzCm15c9Xdl4MbFblTytg9MwML7M10/jfOpvLfHq3LZMjXykRZzXIOxkZguJ1sGY6p1o1PuWYcsPSj/y1E0M7laW1aEdc/KpJllGI+WYMt/PouNbxdhyxsWleRQT3Ej64+TovhBwHCEGXRLJvPZtQeVTP8zlFaZV6NHp+MBlXFkHMYQc6uoiKcVpHXTEVeH08IC0DAkzhUO2BCA6debjdizskHU3dgKfMXnCG8xBfc+UoD8RLPjhhvJW7it4IHjhnPBpEM4745CAOsNMoHBmfHNDe9XSlDW2oXKfe+pdtzw2Fn3ZvCAyn2o/WQvyj7huw80mJBRqDp7siK8OMY8iWkkV6x2H7y/2WZF5FAZ3Nr3mxeE7Vh8y2PpQbUTUh86y4uxfcOzWPML8dw/X8vk+mbs9JbjRqAFJX/eIawqtbRrElPMvpEU0fdlOnUARRufxZPM9n1HzUNFB4wYGx33a/Fv15h60Hveeu18yNQspIZq0NvyESpPiAc5JhPENOfA+CmYNWkc/L87j6qyGvulg72t6GgzOFCkEpCZG4NxIy6ied9ntn5h9juXcLGtHb0OtLDvNP4wfdOBpjOt1uUbf4wPD8RIHiSyohb1tu/z8lUjGlsEVUcZnWOROHsiQq7T4poTh3HCbuJPx235iQgfacCJQ4dQJ0Yti02fK3h+7epQxNX7Q7TieOVnqLIo105R+l1LIjA5KwnjR5nQUfcxar8WDwukY+Yd8Qgf0Yv6/Ydx3M11oNqICPhd+hr15ftwuJxda1UNTnzVDuO34gcsuXAWp76qx5HaBrR9c2moX1ngsB/awFPHj580DRmx/ua2lfqmoQV7PrV9FhKP6Tl6jOFOCLm+54gb0zBvAqt02XO6Sas/9JkJCB8dgrHfVqKmxbLDs0l9wZ2YHqKBsfkTvH3EYt+Mq2v523mMnpqO2NHBCA9qxGEpop9IyPwf40exgfDrbcLb79aymhhCaZ0D/TB298AgFtk2tkA6b/+5OpQdVRbud3rBEsxLikas3gslzA/HbeXU9yOBgV6ckZMTLkrjqXo0t18ST+SC7kbU2Ixh23IudqZQPxeb/oL/YkqF3GekctyiKzhsL5kxYP9ZSSY4Ggt6ZK9YgLQgPxjZJPXKX1tgamnFQGIqEkLDMPlGfxxh5x6aMJ3JGHu06YuxuiARIVxxq38X/7eoXlYOqD2vNZfwddhkzIpmCt3YIFSVH7ee4PX5WJQdg9F+BtSWlqDO0jHmUI5cwrnGE2hs8FKxmo+6MCY5C4lBgdCOsB+7nOR5dyJ1rAaG5kMoOyY6213IBOXjrwfN1db9Teqbdt9t/Bz79x/wWqlWK1Z5DJNHfor863l6zC6UFf0RZTwBgkOcy353ZJQZb88pnajrGofUqREYHXIDYr6vQNVXpkGdwe76Lou8H8KrcjmUmb+HpGyLHfBPzGB9PwghY9pw8AtrPS3krgW463otk0Gf49XDTTaywkkb9J5A5ccVqDnZOaSPJmQiN2MKonSsvw/K8X4Y2joF+cBXn89JTULUpUPYtfMv2F9e53B7DF8t8tR9t2FezlyVJREDavoLw9wHbO5RlFOw67dinVjo6ObvuyNHHcADQC+dBaZ6wfBFCV45yH7f1IK6EfGYNTEYIRMSEPpNFWotxqUz3be/vUleRrpVWqz6+rexKZgRoYP/AOtbtZZ9i+laOfMwlelaHcffYdckjTXLerKvSzOX0Blunl9CxsjPLz/JicZ1TK5XvXMIjX8Tjw/Oaay6+k349u8DMPHyzWnsr3LVI3wxRzShWkYmu11c3gOnE6c1ERjb8zl2vfYaSj4+gW4XeqQljvrRQHsNKmtqsWf3AZzocLwvfKCnFScqK1BnNWcokeUBSFy8BLeP17Cuvh+b3juNga8bcDY6BSnh4xCXGI0zn9VASPA3iKP+owAvjzGcb5EZK+6WJpwb7NPuc6HtNGq/ZO1WexoXL1lVnId4oDv2nkevzbU4lJ+WvhEPbEV1zhsZFE3orpw3TlEyQBzjUMCPvBE/5NfU14qSV95Cpdxn1DhuBE7jG30Gqw8douMj0Flbi7OSgGHKY9bDP8LMcRo2IGqx/Z0hwe108DCcv89jKugRGjoRkzOnQx94HGcsOoqrc8vjvBMPaE04d64Nxw82qWzLIWb9dDXuz5qEoE4Fg2Tyj7F6cQ6ybgpGo4P+I/XDAVMgAqOSMH3OXGTMSEPq9DTMZJPTHTmzcUduDrJvTcWMmyYi9jqDebAoct70oa35LC6ODcZoVmKmZSIlOQFxCQlInpmDWRkZmJefhzumBuPTiuPo92BAOqYVTdcmIjMmGONjb4J/d5042egQd89DWDwpCH48uN6fitFsKSBdXsslNPZFYMakMIREJWD839tRd7pHEC7cYF6ZrUfgNX2o3bcNB60cRiqUeVH5jQu7RtGYcscw+poJ9JraalQckcp5XJcwEeGjeHrN7dh1wPI9Vs6OwaS4YPhfbELRjnewx/K96jp7J+Hf2tEsJyMUFMWOG4W4Uz8c6Xv+oxORMM08NoQSOw6h1/nDz6KP2LetJBPk5LAeaQ8txF08hczFBux4qQRnha5yCc21f0PozYmIGqfHjFRLmah0ouRB4P4Ny2dFY/Q1rBuf2o1N2yrgOO6kBxMwo/+4EWPSmSE2JhJTYwdw/EumIPB74Vktls3FjdcCxlMfYctfW6z7h1M5YgNPZT//R7hvPpNLt93G5JK1oTYnKwPTpsZj7MhLOMPGizP15MzfWb2y3w0Jn4gxl2pR1yopoDyxwFL89OaxGIkeVLz17tDDBBcywVX/0kbHIjw8EnHp6ZgUYUJTy1A8IXf7pi/hgS1/unwBZozzMztu3tiCki9crV5wrnfI3afwYCBqrDBHjI6bgoybkxGXMhPZs7MwO3cKrin7HGfc1WectRm7hrqgFMyMCmTKeTy+/fIzjJhknvft2+EyyHsL7OWybRmAPiUSo5mRWbb1zyiW/YxYjjWgc1Aum3Dmb2GC0yokItbiPli/n70EK7Ii4c/quKp0h4wMUNkGM/KxPDMRkX4tsn1aP28RClNiHL5vicOHiQ5LL/wjwjB6hHr916z7jYQuMRmTp2eY+yB3NjB5ofm7BpFMj8mYmYU77kgG9vcinNeJr5w3+kwseSQfU1if5HGE/rRtz6DBOvAVm2+5Mcv05vFJ05Gg60XtcbPzTK3+qmW6RjbTxfJzb2eylcnSOTmCfJ2TlYWsOTNZf0nEDeO16P66BQYnxr/hQjimpEUiNDwWocYG1J/h/Y71rflLsWRKMEYam/CX1z8Dz59iX09i/5KxdxzNLzyI6v3/MlM0uv+CbYct+5E0p/Wh5n/W4fe71Dg9fDNHXAn6v6pFzZdiu6nUKZ31I9MlSaaEIpH1ldSbJmBkrxJHgys5wnSXB/8NP00IZD/Sjr+89ha+Es7J7KeGPoyZxvSi0eOQMp3J7DN1aB4M9Ou4/zjlMo0xvn1txl3M3sm9DXfl5bAxZratzGNsNmbcnITYCYHo7+zAORXOFc3EdNxx94/x44I83MXOZ6kTDepFk2IwoqcatV92es1xI+gz/MH3NzpM8kB3tEWR/PRgnCl23gg3GJPEOtoUJDKjlRuuvMRERiPqOj8MXBONG9MzMZ0by3NyBcF527wcZFx/HmWdEVfMeeMQjxxKjuluuITAKfGICY7A1IwszLhlKhLTZ+HHeelIHKPh3iSU7tiBOgsHuKvBI70/JioLM2fPFgbLbaxz5wqdOguzbknBjJREJOojET2C1beFAqF2YJpxZgD14uxJZpR+6b7jhqOoY0soaCtJsdSG8Kd0kRg/RoeQ0eYy2t8P1/x9AN/2sWs/24VTJ+qZIliJr5lRPaDIeROImBRex+YydeLQ00D9WP4bgdBew87ffx6N/Kmbjya+/pO1ZgEcHoyY5ExBWGbP+yHSmNLux8ZH9dsvoYQpZ1YouZava1EbkIgZE8ZhfFyKYGzMnMuEZ9I4dl8mdB79C175i42xylCszIvK76DDzAXuGICmC0Mre8wlaFAQt3/+LsrrbN4PSRb71FkcLD6AZsv3HKzuGi64Uz8c6XsjtUNjQyjcccM/YNFH7NvWgfMmKB2F/16IeXzDLw/UVvJHa6OPKS21p/2RMFXPfieMycQ0jO+vQ01LkEsnCw8cuuyhn2DO9VqmXJrQVvlnbPjT504cNxzPnDfCSgZ+vSl6hI2biIwfsrEwiyknsxIxPoDfYg3+9Mpu0TllgSLnjVlZXv0vP0RqFDPwmaLeZziPM+d70X3BIJY+/H1UIMaGjEXsjVMw51am2LVaKnY28Kd4oZMxOTIY1ycymXBrCpInp2EOM2Cy44KEems++Ce8/pnFhONCJkht7z82Qbh3Yb5hc3nuPFGJms7lIDMIY6IRd90lq3O47ps8Ts6/YcntGQjtdqd9VMCzV973UyzLZW3HYzUxhbzojy9h/0klSp9zvWOwjkKTBpVL4cGANE/wBwR8jogIFuaH6zT9aDtVgcZv3NRnXLSZsb4VA8lTETc6CBMn+ONr6BHDPi7bDr6W9xbYy2XbcgNuEeqjF8ff3IMa2c+IxVYus3urY/eRyu4javA+ZiPrxmD4C/1+B/5YZr/SQK1OGTedGXRh/hhhbMe+z06LR4cIT8lCyjiNw/ctUb9axA8TZ8rIXQWYdSwNrhPkPO+DA+juvsj0+HEIvI61PdeRrtNiBNONus93YfRkVicWOpYqHc0J2tlL8YufpOF6HkbGwB+WvIYaK3ubGbNHa/B19BRMDQ3EmOiJCP0bM9Rb+5Trr9pUFPx/D2NJRgJiQ4MweiQ7a18P2rrNsvWbi/0YGRiI4KBgREXHY8bMLEwJ/Rsqv2iXn+t7j+O42LeuT0gX+tacnNmYycbgyAEDKt/9Az4U5zn7ehL7l6y+Kj+/5KXFI5zNB6b2Q9j4yiHrFTmezmk+mCMkpJVkM6Kt7Q6fo1KnVNaP4nHbwtuQMTEC17QoqWcnciRoCvL/z1LcFcM32Mno5kwvqqu6INiKel0wEm7OEPrjYdYfnfcfeS7LGOPbjh/5N6y8PRmJfF7TjoDpW6azMP3lrDjGMEqLYDYHjR8/ESm3Mvs3fgRqq/j2eWcEYMLdj+L/mz8NcWOZLfX9RbS1dwp2Wt1X3IF9Hhf9BjCg0WF8aBgSmO3j8LzxeViyiPVH6cGkZWH2+B133IZsps9Y2tCCPiMsDOhEtOpxJi6eYLqa8LDGwjdyfXQ0eIKsAe1ETL31VuEapIUE/LcTA1h9w31bUbHzJmbBo1g5JxEJ0hJWsXDHDUcbNA6hojFw7Qh2wd8ZcK6rC02nWAP06T1wlLip7LjCR84bPiiPH/ocTTo9rg/RYTSrj3GB/kJ9nGEd4g+vvAWrVZgMV4NnPFMOYq4dgOl78QBj4NJ5NHeJSn9nE44cP42az/6KPZXWS8mUD0xLPDWAXGO+Lg3GTxryrDosvJ34l5y0lbSUzupJXfkevP3ObuzZ9xH28ScVZYdRUfk5+9wJnOGOG/5Fp0bXCHx3rRFn5Z6IfVXLzvsxDh75DHveK8b7pez80nJpHzlvzAK4CjV/H4fo8BCMDtBAM2BC99l6lOz6I0rrZJ4mK7wW44nPUH4uEOOjxyFYOwr+TIk3fNOKitIi/LFUfouKYmVeZX14Z1mkiz7sq/F/GXBtIMvTffRjYSw4LBZtY9+2cs4bnvnpJ8jXMwWlvwtlf/5vvHtUpg/2NqLyyCWMYQZtVF8dtr1RzSZdF+0TkYdHfnorYrkywgN/v/n/sKvsa3lF2wovyC5+vZ+fh9/1kQhlCn/gKD+YLvag4dg+bHvlrzgj1yWVOG/Sl+DJvBgEXmNA7Z438eIf/gf7DlVYbTuqqqzA4bIDzAhsw8XIWCSGM2XlBxFocthHmUz44vDg2B17nQ5j+BL57yW58AcUf2oz4bgYjyGJaUgKYSq9RWUPfMsd3z2Cktbd3Y7aukbUHvsYHxyuheHC0HJz133T93OLmWAkL/oX/OQHZuOk89hf8Lv/LkGznC0vi3O9QxsZg1BNv4XTzVzamupQe4rPEafxycG9+LDyE3zw5rv44EPuuOHfdFOfcSlDe9HUrhWMwpAgPWJ4/LNrHDhvGD6V96rwTL/j91Ehcx8H//dl7PrYUUw+Nb+ZgOw70xDF5JCfxiQzDhMwJ+9m8/ujrsHXB6pxVnxHjqjbF2NRbqa9YeGwTIR+TCD8/dTXz+CqJ0kP+vAwjrcy/bSxjsnjauwvfRvvvs91I3a8U6wTi/nQrKN5Pk5NnSMQnZqIMX+rw67/3oFq2Qrqx1lBt4lAyN8+weul5q1uyvTXUGQ9cj+yIzQw9TTg3Te2YlvRX7H/Y0vZWoGDTAfcx+qw7vtQxE4IQ3hkPOJHsbo4Kb8ylvetg18NYPTY0dBep4Ufl4HNNdj1yqvsuK2ObVlP9nVphaP55UgJXnztEOuVtngqM70/R0i4q4t4jEqdUhoLR+qdbdtXW8+sHQXdyX5chtx5P+4XVtz0oPzt/4ciIfOQDYKt2IRvoiciNvgSKorfQZMwP7noPzL4fowBcfc/gvtvZPfEndT/uw2vvP4XfCjYVDa6C5Mzn3zjjxtioxEWGoOp48+j7JiTvpGyEI/dpkcgq6vK91/Gptf24LBop5kd2HVCKIGKjw/go69GIOamGIxn543V1aLiuM3YHZuCO2bFI0r0RVg/pNTC/3vJjjbi3NfncVawnRvxScUn+KozEImqx5kJP1yyGvczOW3pF+HFnNncD6ND+AMc8zVce80A06V6cKarE01fnkajLllVP7bkmhun32bhEnACX6ZmkerM0CEF3xJxlplJyqBysQFb/tMcyV4i+d4VyAgTX8iiRZSQeq8Pna3dMoLNgotNKHl1N9qQjoKVNyNcPCyLRoeYCB00PDVih4ssM2c/x5Y3fZe6WojqH+l5Zhg5HJ7bRfaPkaM0QvBDKeq3cww48tYGFB8TXyrAfF1M0eo4aw486AyprWT6j8dIfdMqi4uHSBHaHZxTN3cp/r/sWGgNddi+0TKbhQ9wcS2eIGV7cNlvfXgNjpEy4TiIcO9EJg0Ri6wH85DIDSFvMCifPEOqd56m2FepiO3bVqpP66wcwtOYe6agc4+SANQB0Gj7YBL6u4v2YYTcuRj5AzUoUhVczvV5fYICOTLYbg3FWPeqXEBKW1LZvRR4/14ug0xw3DcvZ/tMQe4DejT/ZS/qVQd5lTLG2PZ3T3HzvArbLIR97gn2OTFGqVdlhGJ5rwpf1bMzlP9myPzH8ARPCW0yQcMqtXHPb7HFIhOmZu7D+M08vfi+Bp2VL+P5t+Wy+piR6pBnPREy2ymGXatP0/OLdWIxH5p1NLlxyrd93sj0azGTipIECVom+41M9osvlaJMN5baswulv34B+xRMFrq7V2NtGrNnWtl4ksnCqQb7erKvS8+4AnOaQnnjWt77CJ/MYd6sZzV6EZMjbHyY2Pgw42b/8ekYs6ibt1jdKFFfZi7F+jvNds6W3+xyeB9x9z+J5ZN0ivUiDZPJz3KZ7HX9xb32lzJumzGh83QDzlrIIKfZZj3ox+ZlM0poOITS90oGS3mlTRR8NSm1LQiPiERctLPCHTecAITLvm9ZQsXPBiNa9n2Lwp0B/KMaHaLk3rcsEdZpzP4Z+I5nTVDkuPEEczpfHk3caSlrV2G8DX+mT4oVIuZrgpKQLZt1gBge6FzLEVVFkk//SLSg/C2lmcMkx40yut/fge1ezQpwhfm7WZpqNEzJEv5yAVPGAoT0hd+ZU8wSKqlB6Wslbjhurl663y/C7lbqLN5AiAHEjASNqR27d1ShjY3auDlLhzLE6PPwyByeRaYH5a/uRyOr9vC0hViS5Tqji6HhHXM2FcXFl44blcRPQV4Gz6SShCilK9ncMCrVo4GW2XRKGKnc8iEIN1CjFzFLaNBx4wE+HWPMFhSWY2oQECg5KpyjUTjGOsXV9VptsCK9aLS/+VMmNcqkDzFU7bXwjexG9TFr34ivsgMqX3njCYqecnsTHULivWgoOVtV5AWUeT7dw5fn9gT7pxVO8GX/uQIrb6LuXY1VKcFM+rSj9OXN2Of4QZ3n+OQJhRnFT2Kla+htwr4vnC0qt0XFkz07XHjRL7tM8h6X42mXfdtK9emtJ+TefMplia/O6wIlckRfgMdXpAorQnmq03eKD6BWdl5h81faLBTmpiNOiHV4CM+xcypZPq2IyyATXK+8MaHtWBXqVU2rnsgDtShfnaEON8+rps20s7D8lzmIYzourbyRw8Vv8lhJBfnITeQPDg2ofusF7KzqG1rVxLeIHmhG3KxURI3i8UK2sfpogSZ1MX5xD5MB/OnryQoUv7Xbzni7HLLbPeyf9jvU0dh9ruX3yT67jX1WcYptN1CmvwYgY8XPUaBnHd7YjrIPD+BAVR0MMradJjQJ03n8rsncPjDZraRyB/t6sq9Lz7gCc5pCeSP1Z2NHHcpPqbORjO0VKKtytLXRBe7qlP1fo7y0io1qOTyYm3pOuJHK2hHe7j/OUWojRt3H7Jap3G7pQW35AZSUV6FbzjkVFInkOfnIT9UjhA3J7qM78MwbTuomgt3vSna/fL5yohfxsZs8axYWpEZayWXvMXzHmRz/oM6bqwulg8cdfHluT5CuSxW+6D9XwHnD0YQyAfS3dlkFw6t4IBxcoViZl65BNZ4IUReCmJw3ToljE/WSm3Q4Xb4W20r5Eak+yXkji0I5opmUj2ULzE4ZAZntE9pR5idLHK7MvLa1BM3elBOXQSa4dt6IL1VxOdvUhYHvNr46r+9RLO9VcSXqw/lvDhop/T2o/MvLKKqQDAke4+tRLGHvmUcoD+5cgo1vVA0+8damL8SjdyQhfBQbuw3FePrVofc4Uh26hQ/G6xA5WLo+EzF8K/dzRcJ8aO+UMCNtWzC17MWTmw+IR32DYv1VG4u0excgX3C4mbHd8j9SoxlaDcDatnpfEXaWef7kLOORdewaLUMHiP3rn8h54w4e6S/u6pRO28SDucmrY9Pb/cc5ym1EHeIKFmNRWqSwc0DAxPQXywBpfhpoJfVloA+Nn7yDre/VWclAOXhGyCX3zUKiTjxgqxdZnteLY9ea4TvO5Lg8zpvJhXj8niSMtpgYiCHMwh8WhpL38OW5PSFqZj6S1e5Gc+o1dxOpb7LBs+alveJBD5HiCXnznO7iw2uxN/AdEBSJqDB3JngTLrS2uOngciGIr2bnjVjvF74swvNv1IlHfU0SCp4oRIqOGTxeWcIvnU99vCzn+Oq8LlAlRwKgm5SKlOQEJI7TISRsyODAtz1o6zWg81QDjnxWhWZfLLm9DDLBcd/k2RkihWww6vFEHqhFNGa5ge/VLSu+Oq/vUSzvVXEl6sPVbyYg7fZgNO+vQKdMX+NZ8BbOjkTb/l0oPSqjjWhDkTh7KrB/r108Ox6wOH+iZKGoxMexF22xd0qYSXxwDZYmcCfeembs+WZLgIRq/ZU/9U+djsk3MgMzQIvwEDE8wncGdPcYccHQjuNffoojlb7cim/vCPOMKzCnKZwjNKF6hPMsum7gNBaIK9zVKVk/6Dzd5cCZ4MHc5NXdGd7uP85RPcaYfJuQyvSXhFiEa0da6C9GdJ81wMjqor6hDkccrH5zjLVepAsOFtvCfF7fj93hO87kuDzOG4IgCIIgCIIgrlICkL1qDXIjelC2cQNKLssWRoIgCMISCttFEARBEARBEIQTUhEVwv47fwoHyHFDEARxRaCVNwRBEARBEARBOMGcDGSkJ1teCIIgCI+glTcEQRAEQRAEQTjBgG4fpr8lCIIgXEPOG4IgCIIgCIIgCIIgiGEMOW8IgiAIgiAIgiAIgiCGMeS8IQiCIAiCIAiCIAiCGMaQ84YgCIIgCIIgCIIgCGIYQ84bgiAIgiAIgiAIgiCIYQw5bwiCIAiCIAiCIAiCIIYx5LwhCIIgCIIgCIIgCIIYxpDzhiAIgiAIgiAIgiAIYhhDzhuCIAiCIAiCIAiCIIhhDDlvCIIgCIIgCIIgCIIghjHkvCEIgiAIgiAIgiAIghjGkPOGIAiCIAiCIAiCIAhiGEPOG4IgCIIgCIIgCIIgiGEMOW8IgiAIgiAIgiAIgiCGMeS8IQiCIAiCIAiCIAiCGMaQ84YgCIIgCIIgCIIgCGIYQ84bgiAIgiAIgiAIgiCIYcw1N06/7Xvxbw9JR8HKmxGOLpRvKkKteNR35GDp+kzEoB2la15GuXjUFdroWISERCIuJhha8RhMPWg82Y7us03o7hWPEV4namY+koOBzoYSVDeIB23JfRjrMyKB9kNY89Je8SBBmIl7YA2WJwbAUF+Eda/ViEdtmFyIx+9JwmhDHbY/V4RG8fDlQhOqR/gYjfhKDSZcaG2BwSi+9CEZj6xDLhtmp8vXYlupeHBY4568HxZoQxEerYPG2IW2VgM7kISCJwqRorsK74UgCIIgCIK4YnjReZOHlb/LxASuXP9sM/aJR5UgGfXO6UNz5V7Ud4gv1fxe0BRkFczGrIRQ6FysNTIZulB7ZD/e+aAGl8GG+qci+9+fFgzG5oO/wKb3xYO23LkCG2aanTerf79bPGiPonMR/3Aoct6kLMbaexOgu9iALf+5Q73zxsPvS9eonj5Uv7keO4+IL32IovEj1YP4Ujm+uA/35xckZCI3weUE4xCnzmYlSPU4KNOmYNGvCjEtUMW9BEUiakKsxUMHA9rqW9BGDxwIgiAIgiD+afCe82ZQ0VevuEuGhHMMqNz5LIqOiS+VKvN69rmH2ef4g/CLXag92YBjdQ04awSMTPE16mIRwrRhbUQCkhMSMHmi2cFjbD2EjZt2o9t8FsILkPPGBZKR2XMCpQc9sRaVoEf2yqXIjdag+1gRntnpwBFyxQhFYm46JowSX4qMnpiKtAgNjB11KD/FVzFY0P81ykurYPCi82Yb+369eFgp6lfesLa4LwfJgeplZ9x9q7HkJtfuFdsVNqqcNyYD2joMKpzZBtSX7kDZSfGlHQEIz12ExemxCJeWP7LfaPy0BFvfq4NJPGSNB84bSaa4iRIZY17JZMCRtzageHCOEnHbecPqKSMPBbOnIk7nuD8Ze1pQeXAvdpc3Oag7giAIgiAI4h+BEWOj434t/u0BzPj4yVwkXceXtWgQGuKPI582Klb2v247jZraalQckSnHRkA/NQKjcR5Hdn6GZvE7QDym5+gxhhkKjfs+Q5N41JaMf7kf6cF+MJ7ajf/8v0Wo+qIRHZ09MHT3wPgtsxkumP/ubmnE8SMVKKvqx/Wp8Rg/NhLjvz+Aqq/EE11RAqCL0SM0lBlpxl70D3sNXYeQ+GiEjA3GaIuivykFMYHch3YaZ76zfm/0tSYYLvQDN6Zh3gR2n4YW7GF9yBGx6XOZQQP0tnyEyhPiwaudGflYnpmI2OsMTu9dMfxpvT50qG6tuBV33B3Dxg+gvRZo+rh2mDkq43HbwtuQMTEasfqhEiXIGGDkdWFWx4US5ofjZTXoHj8FsyaNg/9351HFXwvfUI7u1hzMi9ICo/xhajuEunPiGwoZuNQryBTlJQiTspIwfpQJHXUfo/Zr8UQKCEmdixkRozDy+wGYZNzwIzUa+Gv8cKnVepwoGj9SPRpPY9fzW7Gn8jNUKSo1aHZY6QFIvP8xPDo9AteNZPL3Yg+6vh2JAK0W4/TJmB59AeVH2zEgfnoIZfJels421DXUys4v/debZRK6qrDxjd2ynzlSb54rnJGQkYPEMdfgfL1M+0n1OCjTIjBZaG9n96JHxor/g6VpeoT4+8HQ0YCKwwdRvP/w4HWdODeA7wN1GB/KxkJCCjISRqDmsyZaMUoQBEEQBPEPihecNzokP7gUP45hxs75BlR/Ow5RYXpM1V9CZXWroieBkgNFrhhTMjE/Ngh+7Nx/Lj+OIRNUmTKfwAwxbqS0172GciVG/rctGDuFGzZMYW4fLo6BJNzzb/ejIH0SgjrVGXdXhrlY9rMfITclBTMsimAkMUZHWh8XyvUwGzb/zM4bhfeumJzFWFuQNVS3VrTCEHwTYnRsnJa+jor24eYR7MXp5kZU19gb0w5LdR3avrmEAU+cN9pU3POjacyw5i/8ER4ygAOfnZZxJjiBr/RY+iPMy5mrsHBDnn/RDefN1CykhmrQXL4Gz758APv3W5fT12cI79uOE1XOGzedYLKkLMSKOZHwN/Wg8t3f4/c7D+DwxwdwoCMIiUmRGBd+A8K/rURNi21/9MB5861Bdm4xdIdh6qwpiOI73Nj1VLz7MdpkPufKccMx16eD9lPtvAlA4gP/ioVxTGAamlC0/UXs+uBznPiq3eq6zn51HLUVh3DgqwGE3ziRzbsxmOrQ+UUQBEEQBEFc7XiUbUozcRYWPbEaSxKYFdDfjtI/78DOXYfQ3A/oEvLx1BOLkTbRndgPEnrkTdWDLxhvO3mIqe1yRCJ7/TqsF8pqFEwWD4vUnzN/a8LUpQquJQDhs5eCx8sFetB6SjhIqOYQdm7dho1qytuHxO8Sl4c+1L/1Ap75zQsoqeoTjw0n+mA43cTGvbl0B+qRljUfC+9bguWLeSlEYXYm4gK7Bj/TdrrLs20j2lhkP5SPacxmNp6qQjUTHRr9bKy8O0mQQWrhW7v2lVeoKkfaxS//QxKK3Dl8ay3QeaQIRRVDEt30RTG2ftLO2i8AydNz3Iizo56QO7OREiS+CErAgjv14osrTEQOchNZDZi6ULpjGypPOR+fplMHsH1HBdpY59clZiI7QnyDIAiCIAiC+IfCjZU3OoSkzcWCwh/jvqxERF3rB+P5Ouza9CoqzrK3extReeQSxtw0ETFjw5B0cxZmJEcDA10422ZQZVyF3PkvuO8HOvhdbMBbOz7BOasvS09i2an/PiA+aezH118exvFO4YWAobEH/j9IZNcyVriWOemTEZd0I8ZH6hGbkIA4XianI2vubOTdlYfsG4Phz66yufzP2Fne49ETTB77YnzUWIwerYGRrwgQj0sMvj82GCP/7uwJr/SkVv2TeXUMbXdyfD3SFi6+3UkLU7dcm/bDaPGEWFGRtvWoXHkjuwXLaXF0zUqw3A6m9DyW9cUu2Nm2N2+vvPHG+aStV/yeZbdfOcHiu9eOMOLiJXdqnW+zWY3/mJsI/dhA9qof33T3YkCrQziTLwnJmZgRPwK1VRbbRaSVDqPGIXVwdUsiBpys2OCO6PuX/RgZoX6svhqwY8ub+PjCOCQnRGL89cnISAzEmYYT6FawCkOq974zB7DtzY/RyL6nrDTh3N/EcyhEWnnjaAWNo/flxo9dG8nWo7IyI/o8yo5aCGKONgt5dzCZbWrB3hc/whnxsET/CX9EZcUjfHQgrvniME5Y1YUHK29kCMlaipXZemjRg/LiOvgnRiNqQgLGf9eCmmb1EYC9uvLmhzn4cQxrnPZqbNmrcNz2noB/0lwkjPbHgGG4bPclCIIgCIIgvImqgMXa21dgbVbk0FNoYxeqy97Dm/t5oMQETJt/I8KZMlz73iG0MTMrfHYhFmYlgIePkGireBkbi1vEV47gAS2X4NHZXLk2oPqtF7DTbnWAmgCWzIBOnY35tyRgQmQwQkbJPEcfMMF4sQeNp46icl8F6rvUr0YYCgL6Mj6NWIgF8TpzXdkETtVMyseyH6ULxpMlxq4GlBQXWTxplQJbii+tsLxv6XOOA57KZumxDMz6jgHZP07FBLGtBoN0WgQQfvJDDZYtYNdteT0DBtSXFWF7qeNgmdqpeVgwewp+ME4HLasQU38fzrd/gdI9u1Fr+1RZZcBi9bgR8FQbi7R75yM/IRRay7VqA31oO7Ybm96okrn3AEyYvxQPzIi0y3BmaK3Aa1tL0GwbnEL23t1oWycBWi3b32nQWn0mFhXOxrRQm9VqfMzvfwc7y2zHsOV1bsfJyYXIT7RIx88wdtWh6A+7UKvCNtbMfRi/maeHxtiCkte3o8yivwgr/3igX2Y0Nx98kd1Dl/kN2UC7XSjfVIRa4e8htNGpyMrPRgYzlvm1Gs/XYBf7XL3YNpqJOVh2/yzE8TdZezce2Y+SPUy+ObsHqf65TFHpr7rwZRGef6NOfOUaqe0dBdV19L7c+LHL4BWfhyW5sVZtqBQeY2z7BzZuiVTWLvewdumowJMbS2TlRdbKp5EfbULt+2ux/aB4UMCDgMWWCGN5ARawvqkBa88Pt2PLnhazM+f2WOjYVXXW78eONw+gU3HwGIu+/xYbo1XiYQm1AYvF/sPrcM0rylckTntoHRZN1DjsCwRBEARBEMTVjaqVN6bWQEyYMhrnTtdiT+n/YFfRR6g5La1OScM9D96KFH0geoWniSZcPF2DigOH8UnHJZhG+cNfcx6VOw/gjDODJmgKch96EPdPGYuRMKD2g114/ZPz4puWqHkSa0J/eyNqqypwcP8B7Nn3kX358AD2f1yBmi9O45xbKwSGnmZ/e91ETI8Ogh83HtvPw9B/ASc+rRNiRmiYAfOL+6ZivD97YexBW2cPzl7ow3cjAzEmaBySpkyG/zeHcUJ4ehuIkIkRGNHXh5HXBsLfzwRDRwfOfGNA94Uu1FfWgS92UrIyR3oC33+ubuiJ+GBMixGISpooONmMPV1o7u3HxbOHUcO9TdLqjX4N4lMTETuK3VPbeeGaERAIrcYfoTdMRsz3Faj6yr7eQpgh8sQdSbj+On9cYzLhW75Kym8UxoREYurN0xHrdxpVpywsYYWrRb4dFYiLXa1oOqO2nEZdQwvrNUrRI3vFT3FXrA4jv+9DZ2c7TjZ24Bv44zoda5+IRKSEtuHgF5Z9lMeseAzLU1jdXiPW6fledLN+pb1Wi8CgaEy/ORpnPquxXk0me+9utG3IDYjVDaD77yMRwr1lrJ81sn7WfcGAc611qDnZI3xP6q92qzaEDG1z8QOe4WZAam8DjNfoMDowEOPjpyIhoIl9x9KDMXSd/WOSkDExCCbpvr9l1xGowcjAMExl/a3uUJ3i+p9x+3wkBfmhrfL/4c8V1o6+gZ7TqBkZjzkTgxEywoQ9lWKdSf3aKtCuNFY4emQ98FMsujsfd9zK+vQYf4zs70HtoRJsee0jfG3RJgM9Taj69DS+Cb8eseOCEB4Vjxkz52LOrSmYENSL6gbRYWSJVP+GizBcVFd6v64fbB8leLrypvtUBcrrzWOj8VQ9mtsviZ9gdDeixi4YsbIiew8pmchn/dvQ9hn2V8vvDxt5E4/RMwqjQxORMC0NqdOlEonxo7XCnKB+5U0AdJPSMef2BazNM5ESpoUfa+/K9zZje5m5/YzN1ag8F4SEhGiMj5iIjB9mIOH6IHxn6sG5s/arJq1JRMa8iQjx02CAye6KBhO4c+z/LBBXIvG+yD+mdOXN9zcgNSUCo7Uj8PWBaot+64x03JafiPCRPajbexjHvRKgiCAIgiAIghhOeC9VuIdPRjWhqci4IxOzEsyputHfhbI3t6DkC5uVGYM4+z1pFZB3MLbzLFQyRpoNQ0+z+bar7XjpPZvVKNpZWP7LHMRpTOg8thsv7qywyAyiR9pDC1E4kVlUPTXY+GwR2sR3XK++cGN1Bkd6Isz/NjRg+6Yd9qsiLFZxmFg9bHylZOiJtDYWucuXIDuCGfnnq7DuuWJrozxlITt/Eju/AdXFm7FzMMaFxcoqE2u/Taz9OsS3ZFctOEjBezkYXMXRhdKXX8A+iwUngiOOryQwtaD4Ny+jXFqtIa0WsbtvRlA6Fq3MxzRW6aaWvfjl5gNDfUS6d09X3kjInm8I+ZU3CSh4cjEygmXam7fb/KVYlcFX3/Wg/DXWJoN5tKXr5H/b37c2fSmeKDCvbLBfVeGYjBXrUKDXoK18PTa+JyMLZi7F+jtjoW1l97hJvEeLFWWOUoXrCh7D2rRgdJ9vQe2nh7DvYIPrLD1BTK7M4zJKj/BAAz7dYXn/VwZPV97Ifc+c9lp84SmGOmx/rsjcBmJ/tOunFkjX6xi184tlv2QMGNB45ACK36+QX1nDZFrynXlYkGKxYq6fje8X2PiWe4bAsZCjfEw/ycZ08r0rkBFmfhsaHWIidNAoXXmDUNY+j7I2YBLk1G5seuWQi2DRFnMHk8PPMDlMvhuCIAiCIIh/PGw2dFx+4rgx+Mt1eHZ1AfITQ5kC3Ie2+r14/pkXnDhuXBGLzIx0ZHupzJqkzpIxtRyCneOGocudiji+bYgZxVusHDecFlS+fgi1/GBwArLTzUcvDwZUvi3juLHE1IISK0OeYWxCadkp9m3G2EikCAeHyJhhNmg6K3dZOzBYG3eWbsc7fAuMJhJps2PF48OQSJ1wDzh3CgdsdgqZqoqw5fVdWGfhuOF9L/8Wc5Bt+/tm9FZg59vmzD0a/dThF1x07ixMD2b/s7Z907a9ebu9tw0lQiagYKSwsSFH97Fiu/s2VuxEubDYQoOYmCThmBI+PcmD2AJRkxchzTaeLHeEZZm39bS12u5VcY6h+AWs/vlaPLOB3Y8Sxw2ntwHVb23Dxt+sxZM/t3XcJKHgCSlwuhfKIznieZWhi8xH7nz7khLMe+LwQjNKGFFO4U6l1T+zLIfQLL6njhrsPsIDWteg+O3NWPPzZ7HlLQeOGw7r97VvbcY69rln3t6L8pNdqD9ywLHjhhGVGCk4JU2so2oiE5DBOmTtm5uxZZNYytqV9a9BurCv+BAa2Zd0E/Pw1K8ew6LbUxEiBVeWCIpE8u2LsfJXD5sdN8YWFP+ZHDcEQRAEQRD/qCheeSMXI8FtLFYCSKsUYOhCbV0F9pU6UaytcLbyhgeWDXUrVoMcpm/a0akgBo6zp9n8aWr+E48ha6zzlQeJD67B0oQAdB/dhmfekBbUu1p94ebqDAUrFAZXb8itrBFw1A6xKHhyKTKCe1C+lRm6J8XDlkirJixXhjhbLZL7MNabU4F5hdPla7GtVHzhiHR2jQXcQSCzikaOiAI8vioV4bw+fs3qQ7YvS32BO3hewPNvi6u6hsHKGyluhrPVEYPt1t+EnWu2oVo4KF2n4/7t8DqdokfasoUojDcb/HwLWtvF76ANDEF4cIDgJDO2HMDGzXuHjFYl/drrcOdNIVJc+yWUwdpszUt7xReOcb1SxYyalTc+Q2oXh7IkANmr1iA3gvV1u9gxnq3s9B3pWPLrfCSPbEHZl8HImqxjY/plNqYtPL3SfQ+OQ1crb0S0SchfWcjkhIUDTlyROFKjgcbi0Yux9RBe3Lpb4dxJEARBEARBXI0odt5EzWQKKn8i7w16TqD0YIP4QgdtkIEn4VGONhTh0TpovjOg09P0wF7EuUE0ZNwaOs6i08FFa4PCEKWzNZ5dGfBuGvhqnDcOHACOjaokFP5yIdJ0PSjbuAEl0rYoS64G5w2PefPvS1m7mg0ok7EHna0tONJQhyNVdTDYGksKHQey7TEMnDfKjHq5NvfgOhUgBL2eYQ44bnbKmnDhbDMqP9mN8iobGeC0DWKR9WAeEmWDgKtHNjDvZYRnrAsf43p1jfFsE7otZKyidubZwsJcO4bsYW3Dxojd2MAsLH+abxt14NjU5mD5L2c5eN8N501EKrLSxnvJid+H5sq9qLeRYyF3r8ZTacEwnizBmvdDsWpVOqJstlG67bxhSGOGp52v7NEJc4PEd4Z2GIKnIi3ChbOVIAiCIAiC+IfAizFvPEQ0NK2VUAdKrkIDmSMpv+pRYSSIODeIJONDIZYxPFwaxm4azj513gzFK7F7Ei2SvGwNlsSza/piF9a9LmbYcfl7VwBH2aYYdpmjFF7/YL+0/Jzsdz1wiri4Fvv+6vq3zEhtbvk5D67T2zh17krXKb70FKtxaibq9sXI59tYVGNAfekOlMmtUvMyipw3Uv9RjaM+EMBkws8FmdB9dAeeeUNy4JuRHCGmlgP45ea9Nu3mhvNGkm/iS88woXHPWmz5UHzJ0edj1cPpiNJI8Z8CMO2hx7FoYgBMbMw9x8acsBrMC84bR2Pmso0pgiAIgiAI4oqjKtuUc7hy/VMU5iRiQHU2EIaYaccqG5KjrByDWZLOo6rMHD/EEd9p/GH6psMm45Cz0gv/iDCMHqE+q4nD7D0CYxB/ayK7lz7Ulm7HrgPVqDjipNQeh+FCv/hdVxmH3MhIxFFSjy6zPznO+nXm73rMYOcPCZ+IMZdqUdcq3Q8PWLwUP72ZZxTrQcVb72IwcZHCbFOXFVMP2o5WYP+Hh/FJYzd6rvEDRvojONAf2tE8c1QEmj6uNdffdYnCPfv7GdHkpG9K7cGdP4Pt4a1sUxIu6tK+v3YifCo/xs7VI5+9yIzU5mdR87rU5h5cpwJ4ANgFcyyzDzkpKUlIjItHQrQWbdWNrGda0onaMplsc5alO9rchtypuWYj/iz3GalIGa4sCM+Yj3k8A9ZoncpyHS6dlK87l/BVJnNuRuINo9HZ2A5ppDnCuawS6WxDXUOtvHxyUPqvT0FMoKM+YMKZv4UhdWoEQiJiMf7v7agTshUyeTB7CVZkRcKftVZV6Q6Z76rJLijyTTuON9ahUuY6pXJGdxOSxrJxeHIv/rv4gOxnzKVGyKBl/FY8tz4Hyx/MRIw/G15flGDLh7w/s/v+8hJCb0lE1Fg9UpOD0FRzHL2hopxVmm3KAldjxpMxRRAEQRAEQVxdeC9gcbwY2BVa6OKFP9xCE5xkEXAzCWEjxTcsUXHVhqq9KH2vREWpw9nvxC97lWbw7NrsDqH14wE0XZRWF7FVHOGgbmKC3Fl95CFHilB0tAcmTTDSCp7Es79ajVUrH8NT69fgcZ5pihk7zQeLUGK/KMcF/Mn109jwuzVYZBsl2af0wXC6CuVv7cC2Dc/il69UoI0vD9AlIHuu+RNoN0BIthyoQ4zD/RoBiAk2t8clg3zKZFkuQ9ueF1N8hYybIvwvS2ooQvj//X1wEsfVq4RHRCIuWm3xXtwrNTS+tt4m2K7rUqqiG8gSeRNm8QDraTd5LcseetvlZZOTYnQlO+uLsOUgD+CrQ3LuUjz79Dqsf5rJg1xzJrLmg7tQ5HDFl0qMXeiUuUbL0i0t7+EOWpn3LUu36GDWpi/E4w/PQhzrXHyFzabXLVa8GKvw5s4KNLPzaiOmYkHOMA7GThAEQRAEQVxVeMl5E4BpsxPMBh2CMXlmqhBI1B20EUkWmZ6SEDVKfMOCqASe3YMRGIZEF9l6+BaG5StXqCizEecvftmrdOHImR72vwYxk/IcLOVn9Ti/EFkzk6CTtTo10Mhu92gXHUMBmJCQIByxQp+PZClt7WWlD/VvbMC6NypQ38MuUBuMKGZQh/iZ0N1Rh6JXfotN76v23FxWtAmZyLpvMXJlnESmUzVoFAw6DUZK7dXBjvFmRiSm3W6bHklEn4dpQr/tQeMxVynovdC2/gEO+ps91afM2Z10MamYJtsHWR9NmSCcz9RxSgxWfLng23HknR9W5c0Gm9U2lxcehyYqPlZV0co5qX3Ivt+b68pxXCMGjzEllwnLSVGSPa37/c14RpQJJj/uzDbB0NOCfUxWDHd5wDHWnEC7kf3fUYWXXhG3RllgOlWCTS/vRuXR/dj6npq1mwRBEARBEAThGK84b0LuXIp7JwYAF7vQxpRaXUI+HrnTgeHqAr58fePWbWLZi9qL4hsS2lnIv0kyRYORkutkhQBDGzbB/BQ+MgxRYUpKMDQ8o0c/K+I5vEXb/jrhiawmMh3LF6XbrQoIyVqE+RlTkH/nAsxPFA8KNKBTsEY1iImXc4x1of6sORtWyOQCLEofMtU1E2dhyeJ0RHnJTecOxqMl2Pbsejz5c9G4/sVaPLNxFyp5qvBhTtzM2cifmoBZWfkIt2kwTeospIzlf/Whe3DlRBNKPmsRHCDhaQut2kKAp7dezLNRMSOvpQolLuObeNC2HQazEyNoAqYrHY4fHsCn3PmkjcW9D9necwDC54tjHT349KMD5sOEFTF3LMGqZUtVlaxQ8cvDCY0G2lGsqPDEf2fistOIS9KKFgdYyYSfr8W6Z19G6dEr6XJTgbEKO/9rPdZtLB6KdWVLyyEUvXFAnRMxvdDuYUJ+tLnytdGz7d5z9X6BRSb/uHsfw/rfPo31K/PEhywEQRAEQRDE1YZnMW94INcHHsbyaePgN2BA5XsvYvuJcUhJjMD4mKmYEg2cajiNiy4UeQEp5s3Zz1Hy0XEYuntYCcIkq9gAemSvWIC0ID90Hz2ExiA9rh+vR+g3Vahtl/+Rwdgix/8Hazf+Gfv3H1BYPscZ8RxKcRlH4m+NOHIhGtOTwhASnoA5mSlISp6GqdPTMHPenbhj0ljwRT+G+hK8tLsdA+ZvMUzoCklEZowO2nGJmJWVhayZE3GxrBpt4ie6OwKRcIseY/z8MT4xE3P4Z+bMRl5aPML7G1DafB3ixtnERvBxzBu3UBTzxnV8FW9x9hyr1xQ9QkZHI2P6UHul/nAuFtwSKTjgjK0VePXdxsE4IwNf1aEtOgUpoTqhLWamTkbCtJuRmpGFu26bguu578PQgD/+97s4a9ltHdy7W23LaQfC05MQpQ1EXGoWZs6ajanjWlDxpbA0yEF/PY/jLf7mew5i9/zDNCTdNGWwj+ayL/gJ21v+hO2HLVPE+TbmjflaFba3iphYsnj4/UGZU1+EX2zYJR8rR7Z40Jc9vWc5pP749WH8/Ld/kJGRjsphHPd6+BUvyxkRt/ukyWQhn10gtY2rmDdTZ+EnyZFWcZBG+5s9s37+gVbHlbz//TlpXE9B3t1puJ5NLiNHh+G6bt/KTIIgCIIgCMI3uLEegymGkzOR+8BjWPurpSiMZ8r9xXaU7nwBRVV9MFXtwnN8z79Rg/DEHDz+qzVY+UA+pk0KlVkxogJtErJXLoGQspkZvsX/uxs7D/IVDjpMu/sxLJkd69n5LxOmqh14+vUKNPJHssI2InN8DiEF7ABT5st34enXqoSVG5YYPtiG7Ue7YGQWg4Y/DQ+MRLzlVp6O3Xjp1QOoFx/1Cp9hxdjVgKIdO3BasaVxNaFBWKIUH0lpyXG51c6KFnO91g5u+xLjqYTqoGHt1VxVgmc27bZ5wt6H+tdewKbydhhYvWuDQ83fiQgWslXxIMWb/msH6pUu7XK7bWvY++L3+PYU9p2oyATX44TdM9/2Ud3F7tlPZ9FH2XvGLlSzvng1bG/5p2RkCFJk+73jMk1mNx5xBXh/s/X2Pw/L0Ja4BpzuEmcUQzOO1Jv/JAiCIAiCIK4u1KUKH5uPVU+kI0p8CWMP6mv2Yldxjf0WI20oEnMX4M4peoutF10ofe4F7JOLcuo0LW0XGluDmQHJzM7+dpT+YTP2CbZjACbcvRzL0nhgUmYwv/8ith00ryqQGEzJ7A4OUix7Cx4bI3yMaEozo1hZkGIdQuLZ/Tr5vHRe49mhIJtXDYpSbXuS7tlVGmwnBEUiKkzsS7JpqOUIgC4mEqOFmCYmXGhtgcGD/Xjutq35e1D/+5b3rLiPeh8ptbUqnKXAd4aSFPpO8EjmeHrN4ks1OEwX7naqcIa79+EQN1KFK+CypNqeXIjH70nCaCbT1ry0lx1Qnircm2ijWVu28mDRBEEQBEEQxNWIOucNM0QT71mCNE0LjtVWofYLhcbrpFSkJCcgzlSD7W/ZryoRSMhEbkKw+MKWHtRWapCWOxJH3txrF2dAOzUfC+K/xpsy5+YBi/MnumPSMM5+ji1vVogviMsCD5KaYXbemA0dOSwdImrx3IFCXH6iZuYj2ZF4cET/1ygvrVIXd4QjGduGOmx/rki1A0KXmoOMSDedN+5eszYU4dE6t1YfOnQE8hgst7gZjOdiE0pe3T24rdNzcrB0fSZiuPNmzcsoF496Stx9q7HkJh0ufFmE59+oE4/6miQUPFGIFJ1374UgCIIgCIL4x0al84YgCIIgCIIgCIIgCIK4nLgR84YgCIIgCIIgCIIgCIK4XJDzhiAIgiAIgiAIgiAIYhhDzhuCIAiCIAiCIAiCIIhhDDlvCIIgCIIgCIIgCIIghjHkvCEIgiAIgiAIgiAIghjGkPOGIAiCIAiCIAiCIAhiGEPOG4IgCIIgCIIgCIIgiGEMOW8IgiAIgiAIgiAIgiCGMeS8IQiCIAiCIAiCIAiCGMaQ84YgCIIgCIIgCIIgCGIYQ84bgiAIgiAIgiAIgiCIYQw5bwiCIAiCIAiCIAiCIIYx5LwhCIIgCIIgCIIgCIIYxpDzhiAIgiAIgiAIgiAIYhhDzhuCIAiCIAiCIAiCIIhhDDlvCIIgCIIgCIIgCIIghjHkvCEIgiAIgiAIgiAIghjGkPOGIAiCIAiCIAiCIAhiGEPOG4IgCIIgCIIgCIIgiGEMOW8IgiAIgiAIgiAIgiCGMeS8IQiCIAiCIAiCIAiCGMaQ84YgCIIgCIIgCIIgCGIYQ84bgiAIgiAIgiAIgiCIYQw5bwiCIAiCIAiCIAiCIIYx5LwhCIIgCIIgCIIgCIIYxpDzhiAIgiAIgiAIgiAIYhhDzhuCIAiCIAiCIAiCIIhhDDlvCIIgCIIgCIIgCIIghjHkvCEIgiAIgiAIgiAIghjGkPOGIAiCIAiCIAiCIAhiGEPOG4IgCIIgCIIgCIIgiGEMOW8IgiAIgiAIgiAIgiCGMeS8IQiCIAiCIAiCIAiCGMaQ84YgCIIgCIIgCIIgCGIYQ84bgiAIgiAIgiAIgiCIYQw5bwiCIAiCIAiCIAiCIIYx5LwhCIIgCIIgCIIgCIIYxpDzhiAIgiAIgiAIgiAIYhgzYmx03K/Fv72KJlSP8VFjMfLvPTB+yw7kPoz1S+YjNaILh7/oMn/IkqBIROlDMXpssOoy+BtXMXH3rcaqe29zXD9eJwdL1y/BgjkJ6N//Oc6IRz1mciEef7QQebeE4Ux5HbrFwx4h9p05PxiJ/VVN4sFhii/u/wriq36Z8cg6PHTXbMT6H0B1o3jQY3zUp51w+cetL7j89Xa14Zv+ama496G4B9bgqftuw4zo8yg72iketcGXck86tzfl/9U0pxAEQRAEQYhcc+P0274X//YqXOFbnhiA5oO/wKb32YE7V2DDzEgY6ouw7rUa84csEd93h8HfUEn2vz+NXHd+sv0QVv9+t/jCO0j15bB+vE4eVv4uExPQjtKfbcY+8ajHpCzG2nsToLvYgC3/uQNesXOkvuGDevc6Cu+fG2xLbtKJr9RgwJG3NqD4mPjSJaFIzE3HhFHiSxFjewXKWicgK208tOKxQXpOoPRgg/Cnr/qlNPbcHbvyeN6nNaFJSL4lFuEa82tjTxOOVNXBYDS/tkVJ/fjmXmXgDvCwAPGFa4xnm9Ddy//ysN4iUsV+1IPa9w6hTTysGJXXbcnQPfgWX7bh5Zf96lB0fb6Q+xLSub0p/6+mOYUgCIIgCEJEvfNGm4TsZfnIjtRB48eNmxaUvb8d+77oEz9gRlL4FDtv3FDgU+5aiqxQz503xp52tF0UDyrh7OfY8maF+EKGoHTkPzgLGRGsjsRDxq4GlBTtQGWLeMAG9xR4ecPcHjmjyrnBxp80K3FsnS5fi22l4guOCyU+amY+koPFFw7pQ3PlXtR3iC89VLR1qTnIiHTetwRnRpXlU2++GiETMeIrhxjqsP25oqH79KHzZuQoDetPfah+cz12HhEPumQKFv2qENMCxZciQj87NsV8reKxQSzqWUm/1EzMwaJ70lm7inU8YEJ3exV2bi1BswOnh0NjOD4PS3Jj7R1KDjCe2o3tH0hPzj1wQmhjkfVAIfJihsbsIAN9aPzkHWx9rw4m8ZCEkvq5bM4blQ7woevx0Hkj9Xl3v6/yui1RX6cJmDb/RoSLrxzS/zXKS6tgEF+6akNl45nVz5qXUS6+knDZh9ILsfwWNtG5w8UmlLy6W6FDjY2BB/OQaCMrtEFhiNJpYDJ04XTvd+JREen8CuRe1O2LkT9Rh87PNqPYyfRph1PnTToKVt7suj3RhfJNRagVX5HzhiAIgiCIqxF126a0qVj0H4WYGeoPv2sA0wDgf20Q4qakYEz3IdR9LX6OETI1C6mhGvS2fITKE+zAjWmYN0GH/nN18kuvvzXA0N2jquhvmYs4pi8P/oZKYtPN32+vehb//afPUFWpsNS1imeQQc8MoZU5mBLE6ogbsd/0wjRSi0DdOCSlJGKg8TM0yTwplurLYf3IEo/bFt6GjInRiNU7K4Ho3cd+V/yWmXhMz9FjDDNPGu3eY7dxy2yhbhwxUqOBv8YPl1pt6n78FMyaNA7+351HVVmN3fL56QVLMC9J7hotSxAMFYdx4m/il8S+A0ML9nyq/pnujLuXIm+S3O8MlUi/Fpt6T0BmbgzGjfDDNX8fAOvqdmhHaTDy+17r+3Rx/xLdXxzG/v0HVJQehN+ahPGjTOio+xi1FmPNORGYnMW/x50+a/Ffr3+EPfs+Mt+rdK3cgPnNy8JxoVjUsat+qUldiCf+JQ0x12qYQOhDZ68RAQGsvwdFY/rN0TjzWQ3O2Xo8GNLYsxu7MbfiR7fegPGjdQhRUK41Nlpcl/M+7Rg9slf8FHdcr4Vffw9qD5Vi177DqDjSjA6/IESHB2P8hGRMj76A8qPtVn1Bybh1eK/e5homcy6dR9OZ1sFyblQEoq7zg7GDXV9Nk9V79SdOoOM8/6K79SYi9SN3vy9z3a6KdF/q6zQN9zx4K1JkZIBVGX0RZeXH0S9+y1UbhiTfiqlsXnSEICtGXESzTP247ENTZ+EnyZGy/d9l0RpR40QOWaNHZn46ksZZn2O0vzk0np9/oNVxoUjnVyD3wjPmY97EYHx/TmWbSeeWlf/JyLk7ibWXzXXZlQF0WNa9h3MKQRAEQRDElUDVypsovjd/ajBMXVV4aXMxmo06JD+4AksSmBLUVYF1G0qY+m5G9cqbwae36nH3ibb3n4iHsnM+ys6pgbHlAF58dS86hZUHeqQ9tBCFE9ndna/CM88V2ym37q28CYAuJhKjR4ov7ZiCwmWpiEI7Sn62GWXiUTOePW13WHcunsBqo2OZwi++sEOP3EU5SNTaXJNHT0lDkf/EY8gaa0JnfRVqHVgx9itvxPpx+CTZwfsKnkC7h7SCxoDKnc+iSPG2Kel7Mit2nD7RNuO8X0rnZnV7bDde3FkBobtrk5C/ohBZzCDlK2PWvXLIbsWKqrGnuP3d69OaeQ/jN3P10LA22/b8DtTbrBbSpC7GL+7hsqkH5a9tQHG9+AZjWK28kUGZXPFMFmDmUqy/k6+WYvWzldXPSfG4D7GbXxTDDPn4UMcru/SzsXweuxebvuZZGzqvX/dkvwt8JoccoOD33G4zp3LKzb5LK28IgiAIgrgKUZFtKh3ZCXy/SxcO/Ik7bvgxA2pfLUYlX0kSOhXLV64YLPnRdpsPlNHbhH3lFarKoctgLCgifT6yItl9G5vwzqDjhtOCyld2o5pvzRo7Cfnp5qOe0wfD6Sa0nXRQMNJspFw0qI9D4SOMrTLXKZVWHUbzC/bq9UZitLCbx4T2YyUofU++WDtufA03IGMRNzMPufPz7Ur+Aw9bjSVzmY044cG+Ad2KHTduwI2a3z09WLix5QhdwWzzdqzzR7FNctxwjHUo+VMFmk2AdmIqsiPE48OU6fGRwlaptqNFdo4bjqlqB947xd1PwUicGms+eJUwUpTwumC9/XYwO5i8YP0ySih66BTtXQvAtMRI0RnC6ictQfhr+MLGj5zsEUtnoE64F4PBd/KAb0ldv36oLEtQt1348hCA8NkLsfzJNewazbLgWXata59cgUW3T3Hs/GJ9iMs2cx+S+gVBEARBEAThDZQ7b1JuRAzXxNobsE+KRSLQgPKvetj/TNmLjkScWPgeebe42C5rXDsr1ebYqm4zYeaQsaqsrEC2+F1L4n5gVla7G/aj2s4IrMF7deZ6ipucaT7ka/TBGM3/7+ny/ZNXb5AahhD+f28XvOePi0SIEMOhG52K48R4A2dGTCzy7luK5XdmIjsj3a5kJeoHx1FcZBiiwngJhrtDShUna6wco5UdMnueBAIwXc/jcJjQ+Ln9SjJ07MYh7r1BKJIz3IzX4QqeMcbCCF6/Ph0TxLfUoNXwiu3D2VbruF2WHO/iY5e1qr87awPNaLRSf1BaPDV+E5AcIToGxkViusuThSJr2VKsEsoSzE8UDzsjZQHmT2S/YTTAwJo75KZsZOvF95TC453J3r/jEuKjsZAcYQ7I1X32C+H/qx5DD06LfypHj+yVP8fjuUmICwIudLejsbUdp7sN0LC2mpZViLWrCzBBrj8FxqJwsA8VIEM8TBAEQRAEQXiOcudNpE7Y0mTobrHbAtF28iz4dilTy16s/tkvhLKl3rEh5JSIdBuDTEF5JEf8sjo6O8xKqfrSBfvIBAGIEQK29qH5pHzUB8PJdqGetGNC3doeppZpE80rCjrbq8wHhjnJCWZjtbO1yq6PuU28ud+ivw9CeI/LhVMjpgYH9ldg355ibNy6zaJsxhpx/AyWn6/FmjWsPFNlXo3k6/toOGTlGD3S46glJiGcGXY8GHbjYeGAHdWtZ4X/R4/10moMXTDixD8FNBohlohlcYfvhCA2AQhxEtT6B6Fmo/67b6WNoeqJSpX6g9LimfGrmZmJZNZGJhNrQw0zyO9LdbH6xoB6C8fdkXbxsCP0OVg+P4mNLxOaK7dh53FWN5pI5C5ejEQ1XqeZBTL37rwUxvtitUo6JvOVk6xPn65yc/5SQPlL4pgWy9YGH/xWhCj3BkyqZamuYAFy+crZnhps+s/1eH7jZmzZxMrGDVjzn9tQ2m6CJjQVhfNlVqH1d6FysA/VwGKHIUEQBEEQBOEhip03ccFmd0N3T53wvxViBE+NxoPnxDyTBXeMtJ9F21mVpds9g6r2TVEpVV0sslYMkoBwoYoM6JSpIoFjPeYVCkEJWGazLcbtbWaO0OZg+gSzIXK8vM9iFYhUApwacsn3Wl+fbZnmMmOUStj1ZtzADTJ+vV7cssCMGKFXfmtkLaNDSNoscXvSLCRH+9CF5sKIaTtYgtIPq2y2bbQPbT2yJVFcRSXch3togsxtb96ulYko8Th7x6J/pCJjfgHy57lyuISaVzRd7Eabo4vuMJidlZHpHvWfKGn/jlZnnVXm/c3Wjq6fHUKz+JYajrSa+9uEqYXyTgd9PmYJY8mAxqOqw/Gi/ojUD9QWD4xfbSrunc3j0PShvnQ/GpkFr0vIxyN3OlsWY0DzoOPOItubDJpJBVj1r7MQx+rL2FqBnR90ofH1XYJhz34IS3/2MLL4ihw1XOEts5p5U8ztf/4UDji5dzl4tinZBwtCcW9FmEeo2BBtS0q0eaVc8xdF9tnijKyNjrQIcio8QkZGfNeNI4N9yI208ZebkQGi3ONF6VZBgiAIgiCIK4PibFMhKbOts0dZ8o0eKbOiMdoic4PqbFPdjaiRy+ykpDjL/mTL5EI8/mgh8ubMxhwvlFj/A6gWblnK6tOLxt2OMq6IWV38/DHaJhuGlNFDXbYpx4TctQB3Xc800a4abN8TjcU/+xFyU1IwY7BEmp0B3CCVyYAyOftHSIuyvkbLcp0YJNmuPyjMtmSLdL2m9s/x+oeNg1leBKTMIDo95uXMFUsGQrsVZF2afCvu4N81jcT12TnIS54oZpSZiKnTMzEzJRoXz9SgzS4DmNhWDu/DwfvS/fe1ouSVt1DZcAKNDS1uO1wkNLfMxh36QNaeJ/DnSjWb4KR+qUF4nLntU2/Us/sPRG9dP/T8WnXRrB6kfpGIRH0kYgIMwlh2nAln6P4rHbWzVBcjtcr7jx2hyMhl44w7ivwCYfr2AGocpNsfvCYHfdoR/cd74J86BTFB45BySyL8By7hXG8X++lYJGYuwJKCZIzXsJFS/wFe2ac+25ShhfcBd4qb/SYoHYv+7S5M492+ZT9+/z8HcORCNKYnhSFswlRMCe9DdW2rxYoMFfUWlICM+36KZXMnImQEs+VbDmDji38V278XTce64P+DRMQEByNh2nTEhvTjzFetuOhs+Yc0vrvr8N87/iJTD46LOVuWN9DjjrvnIvZaE5o//x8cPHFJPG5GyjY1ZoIkf1i5NRpNYt8PSZ2LGRGjMPKaASELoy2mv7Pjf+/F8f2f44x4TEJJH7KHp/VeiLzMRAT21KDZdgCKdWrqacC+z9RtnOLXMznED9921uJwvXU9cDRMpubZnluB3LfTCZTiNNuUe2N+sM8FRopyj5dJCOpUk8mPIAiCIAji8qLceZN8K1LD/OUVr8npuM1GubJT1Bw4b3jwxofukneMqC63hOFMeZ28ISkRnoQMZsQ4Tuqqjm/O2DpvTGj7wiLNtRWioskzcqzZiD9LqZlZaYrOcEOBd4A+D8vyEzDGrw+1e/6AytZxiEpkdX/BgO7BYoJ2tBYjHSi9krHCM4P85r+HrtO22PUFd5w3+nwsz4/HaHa9NR9sQ5Wt8iwp2sYeNHb2iNd/Fk1fyhgtNsTdmivUK0Zpcd33BrS1t6H2xFlc9PPHddf5Q3utoxTuklHwPQZ0obg+IQFxViUCMfpgaB05b2TvPwdL1y/BArm+66LksPvn6flxXSRmzhKP/2Ak9le5MleY0ahldnH7UJrlms/+itIPP0FN7/fs7V6csUjB3HT8M7y7/yN88EG1YNw7Niyl+rmAhv3VkF2oINUFz+himYqclYEkhemzI+Yify53DBtg8NdiPGuzT5mMEZx7PFaKPhSjxwaLJRrJglNSpSGH8zjxeScG4uIRNy4YMTcmY+bMuZgzPQVTY4JxnR/PpvUXbHy90tqpyHDP8PYV5iCz/2fRrYjjzq7eOvzxpRKcZQ050F6DWr94pMYGY0x4AuZkpuD64Is4fryTtbMrA1iHuLl3IO/OO1GYl47kMCY3BvrQeLgIG/9UAR6HfRBTF05UfI6vmZxNiNAhPDIBGT/MwJQbIzDS34i2Mz32afel8X0F0zaHzP8p7ksIhN/Fk/jzHz6xk1uSPDT2tKP5vChDz7ehjgl/7mCT+oHh+P9g7cY/26T5l4q944bjXh+S0npfh0sn7R0Okty72P656n7Z8b0eM9i4DWH9JPSa82j86rzo6NMhau5P8NAPbxDGRNOnf0bVV6JX7mp13vDVXp83iPLvNBsPTTgnO3cTBEEQBEFceZSnChdTa3Yf3YZn3rBRkVIXY+09CdC27MWTmw8Ih+zSgorft02Hyp03PAWrVzDUYftzRVcsOK85nawJte+vxfaD4kFLxHrSdVTgyY0lVrEIvJcuVs+uYym7Do0Qg+iXrD0sf2cI5ylW3U6NqzpFLbveVex6I5xcrwdpXTWheoSP1yNG145Py5uszq2ZOAuL7stBMtPhTezcT7NzD610kOrHBbb36fT+ufMmEzHiK49h17zmpb3iC9+gS81BRmSATCp1KU14D8o2bkCJjPdGM/8xPJsRCkNDMda9ah13SWn/Sl62BkviuRzZhdZJC5ER3MfG1/NsfPUN9Qs73Ex5zdBGpyIlJRZxE0KhNXbhdHs7assPyazMMuNw3PJgyhneEmzA6fK12FYqvpAlGBkrHkOB3rwZ0thRha1bpKyAQ/A+f2/BTEwLxVA9uky3HIBpDz2ORXwb1EAf2k5VoeSt3Wh0UCcSPC5K9o9nIYM7Of2A7mM78MxOmejyUjt2VWHjuypl33cGdJ7uciDjFKLPx6qH0xGlMaFxz2+x5UP7GDSu+qty+S2NG/GlBepkv3SePlS/uR47bYKxZ6xYJ/SFzsoX8Pzb6rehhsx7GCtn66GT237FHXefvIOt79UN1TulCicIgiAIgvA5yp03kuOBKTtPMmXHUlnW3b0aa9Pkg1i4ct5cOQKgi4nEaHH7hiqYUdfWar+hIeq+1Vg1NdjhPUYtehKrJutk3/eO80bPlPYlTGlnRpaxCTt/t00m65XEcHDe8KwmS83BMQ0N2PZfO2RTNftU0ZauF7ZOCB1C4pkBL75yiK3xqOr+Lzd8q0UeEmUMR1cYT+3G9g+snbaSgdh8cD3rI7YGbwB7/+cO31fUvxIL8dQDUxAi9uXa1KVYe2cstFJfmVKI5bdYZrLSIio6mP3rvvNGLVG3L0b+RJ19/Vx25w1Dn4elhXqc/WQvdts4Km3RBPFVBwbxMwoMYH06pkW04HilXFwmySnJvr/mZZSLRwfRhiI8eQICaqvsY6hwHDrhFODpOGN1tvJf2b2P4s6TYjz9mnywdO85b+zHoDYoTMjOqE72O3PeBCB71RrkRnBn1Fps+VA8rBbWbom3puMHN+gRzgWhyYC2E1+ivKoK3baOO74d+Z4kjHbyAIWcNwRBEARBEJ6h3HmDTCxZn4dkP6YkbWJK0qCRq0f+Ew8ja6wJ3R1n0S1qvpJCqth5k25riCmn87PNKK4QXyjG8RNQlzhS+BIXMmMzCSGmFhT/hhkxloaKltXfz1j9aQ2ofO1ZFNlEIvXYeaONRfayJWZHiKkLZW9sQckX9k+Qh7jCzhur62XX8DK7BkexTHyqaMei4MmlyAhm91rG7vUD8bC7DGvnjft9Xq5fauY9jN/M1UPTU4ONzxZZByfVF+DxFakIlxsLDJf9S5uKRf9RIMRt6ax8Gc+/zTtHKLJWPioE9+YrpZ5jfcF6e4abhpwdkoHdhXLZ4OSu3h+eaKNjETLojexD92CAbMlRaXlMDR7We0ImchPknP9hSMlg1wyeBatOPvht/9coL61in1CPZmI+HnkgXXDcyPenIbznvLHHve86c96Ic/WoHpRv3YBiN4M6m/uLCRdaW2Bw1Sm4gy5aB42TlVBKnTfCaskbYpHs/zVKDzaQ84YgCIIgCEJEhfNmSPkaUnQDED5/KVZlRNoZcHaKmivnjaRMuYFqB4OAGytvomdjWW6sAyWSM7TawNRVha1/KDZvLQiagvx/XYCsUHa89RCe3mS5PceMJ8q/ZmIOliyaZX6aq8hxw1HvvLE0/rQRCYgL1mBkSKSQDShE244i/sRVgfNC9fX6WNF2ZZhFzcxHMrMtOxtKUC2z68MKhc4bnp1myU068ZUaDDjyFjPIjokvfYzzfpmAgicXC44vw6m92PL6AXQyI89yO5rhC/a91+37s9M65469h5aw99l46ajAcxtLhoxqC6eO/dYgbzlvJMPY0XlcvT9MYPWYfOdsZCfoBUe6HKZ+A9pO1WB3settUI7xVr3b4qvzsnkrdwmWZ5m3BXFZ/dJm+y1mlnjqvDHLTi3C4mMx1lCHfQeHVmm5J/udOW/0SL59CqLYe41v7XXbgWy+Z/ltWXYokHvSfXafqsCRDg3GRkVC6pb8YU+IP/vfMt2/JO8VOW/YPLL1PUiXGaJPYvdv/lsbxlcOjURIWDBGdx/F0xuLYSDnDUEQBEEQVyGqEoo2vrkb1QZmnEVm4qnf8hSoa/A4d9wwg7J633uepQW1S/vrumypd+WgcEYfDKct0zQrKL3fid91RB/KXy1BJTOCeLyH5U89jWfXr8OzTxUKjhu+NWj7VnvHjdvwzC8PrMbah0RHSG8Til5+QYHjRjkTZj6NDb8zl/Url2LVMnNZfmcmsjPSkZWoR1x0KEKuDYBLVwQzJtN8fL3WhCIxl6cFz0OywwzJSQgRLtyE7xwYb4kp6cK9ZsaLB7yBv1YwVLTyNrUsIzXs86O0uFbFd3xLA4p3HUJzP6CbmIPHf2VOjfzsQ0NxhDbJOG6cwR0/S3gMpEh2k/3t2Pe2heOGY6zCzh3m39RGpGLlU48hN1F8z2sEQydENNchZLJwwIZIc5p0aKFz2Se4kc3HzxosShEPXQ74dqCnlmJJaiwzYk3o7GhBdZVlmu0a1LZ24YKfDhMSM7H8ySexJMtZGvF/DATH4hM/x+NiPJfuk7vx3Abnjhs16BIWDKYIf/a3trJzIRZlpSM3xVUafk9pQe0HJSj1wHHjS0ImcnmaimkxkWzuMBfuXOTPUYwXe9DWau6rxeVVTLdQSiiyxLmJlyXzzDKbl4x4/htsjmIn+27kSISL3yAIgiAIgrjaULXyRkCfiUWFszEtNEB4aTJ24UjpNhRVWLskpKdsg08qXa284ZljwsznVEpU1iIUCsFM5Z+GOicJBU8UIsWlx8ESbjyz/1w9reNOigXzkf2DYIQwA114un28AkXvmFcmyKH+6Wswkh98GEsS+A3wbDi78eLOChVbHpw/1U6+dwUywsQXg5hg6GjH+W/53+ye6lvQrSLmS9z9T2L5JPF66/di22uHHG5TsMLtp6RS7AfHwVI1qYvxCx7LCV3Yt/EFlMoE3nX11N0d3HnarupJuCzq+zx3GGmYkev0OoOmIHdhDqZHBkPHt6AwA+xk7V7sKq5x2B/l6zQAiQ88hqWJ7AKNLSh+9WWUO9pKF5SOwofzkPjNXjz9yiGx/3lnpcbgdjD2d1vFC9hYbB3w1fJ91wFhna2Q8BWhyF39GLJDeTUewIuv7nUod7iDKu6epViWGgqNgy1urvHVChlvn3cKCn9ZiDTe//t7UL2vCDvLHOadt8Llyhu5lXRMNnb3GM1jgMeLaevBhZ4mNH7VYhUzzfsrb7yDdM+qcLbikm+HGmPjjnEQP84KpytvEjBt/o3yDhlTDxqFbYAyW79o5Q1BEARBEFch6p03ClHtvJGUKTdwz6iWlF+m4/Wb4GpNjRVM4fN2lh93FfjcB/Ro/ste1HepXb3iI4PL2fJ5bSYKFoWicf9u1J5Scb0eKNo69t1fsO/y1WG1H+zCdgtjTYh58WA6JjB7ggecXTfoBLDmH8d5I/V57oQ7i065m3WAXMBiT3Bcp3qk3R6L5v2OHZ2O8UKfHtyWZYLJpIHmYh02PrPLYlWhtFVMfB+uHB5Xwnkj1UMXSn/9Ava5rEfn1yjvyLVEChTdh87WbjbSnHCxCSWv7mb1qSR4tjvndY5mZiEWRbSg9P0KVf3LFzJAwqEscBH0euQo3v+Uzl/qt1ua71mhrNDoEBOhY+PF+XZRt3DqvHETV3NKxCwsXZbD+qcBlW+/gKIqX60OJQiCIAiCUM6IsdFxvxb/9iohU7OQGqpBb8tHqDzBDtyYhnkTdOg/V4eyo53mD1kivi8oU8wY2rPvI8VFOL9qIjA5KwnjR/Wh5n/W4fe7DmA/MxgVlSrvGbESUn05rB9ZOtF49ATOXVJhhQ8Sj+k5eoxhSn3jvs/gtTsaPwWzJo2D/3fnUVVWY72yxtSC40eO42yPyuuV+oahBXs+VWcW9J9gdZk4FXGjtQiPT8WczBQkJ0/DjHl3YsGt7P75xsHeOux4+S846+CyYtPnIo79/GBf9gLutLf5OkzoqPsYtV+LB1Uh9fl+fPmXDfjju5+hqlJZqTnZI57DOziu0160nTyNi+50aU/7tBBrpxAzx/nB0PAudp2/ASnRkZgUfQHlR9sxIKwM+inuut4fxlN/xSut4zA9MgLxU8ah7fM6nJO9ZqnOPWk3tUQgMSse4SNGwNBVidp2F5WpjUfarHiEjjDiTM0h1Nl0x8nZP0JalA4hox0VrbDlhVnwuE72fYuiNaJGkAt6ZOanI2mczGcGizvndc5ASx1qvmxV3b98IQMkHMqCOCav9OxHHTDw9wGYWBkQXzunH19/eRjHlU4tDPM9K5QV/bHIcCT3PUWaU9yQ/w5xNafMugOL4tn71/gjKniE936XIAiCIAjCA4bfyhtvPl1zypV4Iu4Y91beeMIVWHnjLh73DR3iChZjUVqkEOdikIE+tDUcxK43na/ykJ66mwNtigeV4CQTzpVdeXPl+7xvVjK426cDEJ6Rh8KcVEzgAbl767Bt4y7UYyg4suF0BT71m4psnob/YhN2Ps/T8OvZfUjxeXpQ+8leFH1gu1VsaLVT27Eq1LvYIWJNH5or96JeTZ8TibpvNVZNDRa2jtSWH0BJuUx6Z20oJqRmIm92KuL4CkQ2vpxlXPIubgSMd4aTLEfe4IqsvLnCqJI3vpD7Eldi5U1iIR5fPAXhfibW5ttYmyvbXkcQBEEQBOFLfOe8EWMAnC5fi22l7IBS541buOOAkIwq8aVKvK3Ek/PGCV5z7FkajMrTIkuGm2qc1IHU3urxhvNGfKkSb/b5YeW8schgZWitwGtbS4YC2OpzsPzBWYiTUmzbxeLRI23ZQhTyp/SmLpS+/IJNyntP6tyTtpZxWA6YYBz0bojxu0Ts7puw4p/XeSO+UMo/ivOGow1FyHUGdKvekkwQBEEQBOEbfOa8sUPcv3/hyyI8/0adeNCChEzkJgSLL9TSg9r3DqnMdqUk5oJjOj/bjOIK8YUXkJxdDuvH6+Rg6fpMxHBDdw0zRsWjHjO5EI/fk4TRhjps56nDxcMeIcV+YIq2t2MNKcEyRboqnKwG0KXmICPSPeeNu6sxzNm30jHBwmhXg6JU6QrJeGSdYBgOOne9gvt9WjNpFqZrPkf5UZmlMWLK7bRRp/C+g6DjmonpmB7ajvIK2yf0nqwwkQm0qhZmgCbemomUGyOhC9AiPERnjpNysQedF1n/PNWAI59VoZkMVKf4pr+aufyyXxlRM/ORrHZKdrLa0G2kOcWb8v8KzykEQRAEQRDucPmcNwRBEARBEARBEARBEIRqLCOAEARBEARBEARBEARBEMMMct4QBEEQBEEQBEEQBEEMY8h5QxAEQRAEQRAEQRAEMYwh5w1BEARBEARBEARBEMQwhpw3BEEQBEEQBEEQBEEQwxhy3hAEQRAEQRAEQRAEQQxjyHlDEARBEARBEARBEAQxjCHnDUEQBEEQBEEQBEEQxDCGnDcEQRAEQRAEQRAEQRDDGHLeEARBEARBEARBEARBDGPIeUMQBEEQBEEQBEEQBDGMIecNQRAEQRAEQRAEQRDEMIacNwRBEARBEARBEARBEMMYct4QBEEQBEEQBEEQBEEMY8h5QxAEQRAEQRAEQRAEMYwh5w1BEARBEARBEARBEMQwhpw3BEEQBEEQBEEQBEEQwxhy3hAEQRAEQRAEQRAEQQxjyHlDEARBEARBEARBEAQxjCHnDUEQBEEQBEEQBEEQxDCGnDcEQRAEQRAEQRAEQRDDmBFjo+N+Lf7tGyYX4vFHC5F3SxjOlNehWzzsHXKwdP0SLPD2uX16zcMNHULioxEyNhij1ZZrTTBc6BfP42P+gdok45F1eOiu2Yj1P4DqRvGgF/D6ea+qOhdlwZwE9O//HGfEo1ctuQ9j/ZL5mPODkdhf1SQe9Jy4+1Zj1b23ITWiC4e/6BKPeo6vzuuYf4z2vvz1dpXxzzIX0/x2hUhCwROPYlFuKsacP4zjneJhQhG+aevLK9t92V8l+e7tc/t6Hvfe9dL4IghfcM2N02/7XvzbN6Qsxtp7E6C72IAt/7kD3pWNeVj5u0xMcHluHUImT0FyTDC0MKHzdA2OH2uHUXzXDh9dc9wDa7A8MQCG+iKse61GPHqlEetQfKWK9kNY/fvd4gt1aBMykT1zCqLG6BB1rQndPT04/WUN9h2ugkGuYXzajy4v2f/+NHIjgeaDv8Cm98WDXsDr572q6lzqx+0o/dlm7BOP2sGdIhmsktzgdPlabCsVXyggamY+koPFFxI9J1B6EJg2/0aEi4cG6f8a5aWs//O/71yBDTPZdXowxuTwlQzy/LxMRqfdjLQInfjagLYjn6O2VagNGRS0t4/q0J4A6GIiMXqk+NIV3xnYHNTFZiJP6y0UibnpmDAK6GwoQXWDeFgx3HEfyuZENzB2oc1h28jBDbJMxIivHMPac83LKBdf+VIG+UoOC2hDMSE1FYnBGvNrUw/qP6tCc1ef+bUtSu7zsvVnjsK+IdMPVNUrq6fEW2cjbbIeMSE6iLVl5tsetHW0o/bofnxaZR4vatCE6hE+hp3RaV+dgkW/KsS0wD5Uv7keO4+Ihz3Fw37r077pRXxznQrnci/hy7qW5LvzczMdeGY2sqdGIiQoDKOZrOg857zf+3oe915d+Gh8EcQ/OW44bwIwYf5SLJrOBI0005oMaPy0BFvfq7MXNGomMX0mFhXORnJowOAkbuxqQElxESpPySk9rp03IVmLsTQ7AeFMwbWivwfV+4qws6xFPGCBjxTGQYHbUIx1r1aJR5XCPdiFSJFsGzUwZW/NS3vFF7a4ocBPnY9VqaFuKpF6ZDyyBAUxAeJrG/q7UPbmFpR8YdPeLtskFlkP5iExUHypks7PNqO4QnyhAF1qDjIiHdyDBXJGlVNlgT+BvScJo8WXDjHUYftzRVb14Oy8bl2vx+MgQd5JYUUPat87hDbxlfJ+bmPk+dB5M1KjgcZPvXIntYcVwpiBeK02WNazEkMtKB35D85CRsSQ0SPIy6IdqJQRaxxnSl/yvSuQESa+cEkXyjcVoVZ85YkyqU1fiOW5SYiSEULG8+x+/ix3P8PJeSMpqOJLV1i0s2dK+NDvuqdsS3XoBqrrVOlvtaOEtWeZ+MpXczFHGp9t5eux8T0HThXVBCA8dwmWZ+mhk9mUbmitwGtbS9Bs+4BCyX1eVueNwvaSuRZlxrBZj3xgRuRgPZn6TfjO/KeAJHc5JkMLdr+xHWWyeqAF2likLZiPvEmh1vU/0IfOlqMo3lWCxl7xmIDvnTfbWHvWi4eVoqwOvYtmYg4W3ZOO5OAhPYH31507bOtsCMfXqdBZy/qPvW6qcC63Q4m+wbB8SMJwVddRty9G/kTlirfx1G5s/8C8WtalM0TP6umBWQ71VmNHFbZuKbaTF87nDUkXtp6jleDsepXWg+X9k/OGIHyDjHrhjAAkPvAYVjLjhztuTIYutBlMTOrrEJexEL94INX6yYka9ExgP5yHadxxwyfarh7wU2tDE1D44KMoSHVteNoSwpSdJ243O24MHQ0oK6/AvvIqVHcwBWBUMKbdvhQr79SLn/Y1oUgMM9+DLiwWUcJfatDg2gANtKM0UPqAVxkGdJ9sQpuaYrRUsdQQgGkPiY4bYzv2vfUCnvzZL7CalSc3FKPkNJtOR4Ui676lyFbdLDpER0cizs0SPU48jULCJ6UjO8N1yYwXv+A1zH1AG6BuPCi73lRMVmy8K2DyzZgv+zuWZQoSxY+bcd3PR/L750V8rYrSl7FmzVpVZV+H+F034YoQ7+NCsTR0uKEmHedFjXHK5eXqfGRxx82AeeXaoLx8eIUb44f1kQj5sSFfQl0ryQrQpC7GEwVmx42htQo7d27Dxq3bsOX9CtSeN0E71v37uXy040gln1ssS5O49cWAeqvjrFR+ieGxerwJh2yvzVU51uV4xapTdmOTZV+3Le83mc/b0+VVB41jMhElyvzw62e6r7fYEHLnUqyazR03JnSePITtrC/z/rx9Tw0aL7JZKjodK/9jMRLdEl6XE+d9o7LD/JjOZHKvN0Td+6igR+r8+tBctRsbn2E6gI3cffLn67Hu9b2oZnJAo9Mj/0EXeoE2FYWrlqJwcijTBpgO2dGOxlZeutgoDEB4TDqWP3F5ZInuhjB2DYzASCRbT3DDEk3qQjyxbJbZcWNidddjgGnA3F+Xr/RBf/UT53BWvEcsMmV1DJsy+Xrx88rQhk2Qmf8cl5gwhY4ebSaWPGh23BhbK7Btw3pRHrJ+/9Yh1Peyj0Sk4pGH8hAifkUZki7snTlaQmk9KL5/giDcRtXKG83ch/GbeXpoTF0oe2NodYRmUgFW3peKKI0JjXt+iy0fWjwdUfTkLAEFTy5GRjBTdU8xJe+VQ6Liq0PygyuwJIEJA9nvix56ufci2Hsr2XuaPtR/sB3bbFbYCI6dmZHsXlpQ/JuXUW6pg/jgaR83Un5xDzun8KoPte8/j+0H1Tzt85UHW+VTY0vUPgGML8RTy6YghPWf0pdfwD67p+ncufM4Fk0MgPFkCdZstVgK46MnsO4+4Rpcku2AlLuWIiuUnbeMnfcD8aCIR0/VnNSDs/M6v96RSLuLjb9Qm77laZ3PXIr1d8ZCe7EFZUfbrZ6qDmG78kbqj46eujl6392nda4ZrFeZtnSG4/ZwIrcknD5lD2XnfpSdWwNjywG8+OpedAryS4+0hxaikD8dO1+FZ54rtoudoW6lh3KZ494KkgQUPrUYaUEmtJUzI/c9W4GgZ/e5VLhPU8te/HLzAYuVnQra+7KuVLBFWX90r94kmPK/Pg/Jo4Duo9vwzBvei43kEEkmeLlOk5etwZJ4mXrwkdwPmf8YnsgIFZ02PSh/bQOK1S6PsEWbg+W/nIU4pnNUv/U8dlbZzO/aVCz6jwJMY8Oz++gO1l4WSzKV3OcV7c/WZKxYhwI9q70BE4xDg1LA5UpFi3pSpgdZy4EnmRywJ4Bd08+FazL11GHnS7tQa7laRMtXIyxCvj6ANXcNNj5bJM45PtCreDs/ztpZ1KnsZZdrPNIRVCPVgQmdx3bjxZ0VZkeqNgn5KwqZHsPmGaaXr2N6ue09uH2dTvuyu3O5i1Xk+tlYPo/pIza/6c49KJXbTley8PgyU4Nh6qjAcxtL7ONccefOz5h817JxUrwe2y3UYee/70qHcoyz63VvrvLB+CIIQs3Km1jk3aJnyo4JjWXW21pMXxRj6yft7B0N4qbliA4KFcydhek8NkRvHbYOOm44BtS+ugtl59mfgQnIL2DWsEJ0GUmYwHQLU0sFtstsjep+fxtKWthUpNEjZa66VQyq0efhkQKmmPG6O9bE7ioAyblLkT3Rx7+rCpknxK7KEZXGQkKo8ATB1H5UxnHDYQL+SDO7EjZvRcQiznxwWGLqapFflSQU1q0Eq6AP3R6u2vAWzq9Xh2uv5Z8yoNNTA8aSoACzItXbgpL3SlAqWywdN76GxyaJRVTaLOTOz7cv9y3F8pUr7Mo0IW6Nj9uSG2+/exobpMIVW0ekz0cWM2RgbMI7g44bTgsqX9mN6ovsz7GTkJ9uPjpsiZ+CuCD2/8VTrB/ICYQW7HvzqLBKRROZgOnmg1cHWmbACn+EIDxV+MM5mmBExbO+yUu0shlUMzMBceJ24JAb0t1YzTlM0Ocj+wY+F/bg2KcOjAI2/y8fHB8rkC0edgdt+mKsFBw3Pais4npLMDLuXoo0T1dk3BqLGN7oHUfxpq3jhmOsws4y8wqjkAlTrt720uYgmcsfhkmNR0IicTzC+dcvNqNc0QMsJgfKTwl6gWas3oFeMBsp3JnEHXG7bBw3HCYryzbvRS2v/OAEzEoxH/Y62lhkP5QvOG6Mp6pQzS5ao5+NlXcnifJg+KErmG12NJ0/im2S44ZjrEPJnyrQzNpYOzEPz1rOT2LhTo/hg/NV5J2BOkEfMRiGR2D4xDCuWJhw+piM44ZjPITKFj4+AhATn2Q+RhAEwVDuvImYgh9wWWNsQfke+wnX8H4N6nnioVA2MUaYjykl4weRwsTWVr9XxpBrwe6jLUzEAVF65duywnVm/3tb817hu/b04dMzPcJfEzJ+jvXr1w0VwdHiHXjMnccfzhQcSYb6EmzduRNFX/AZPRK5yx7Dktmxqid1TZCo5CsqeohV4QIDmmWNayfloOoImQJG49/Ev2RoNeAS/9/vcqo63jbM9az/8f+70Xo1PGmIuB6RXHm72I3Tg5qb58SNMy/2NfS2C/9fHkZC67Dv92H6XUux6u4c+eXUU2OHlv9GhiEqzFzGKho/HtL+JQ5YOkZPcVNFnjgmL/kldTfsR7Vde9XgvTou1wIQNznTfMjr8LhEFvKSlWUJbjiidQHmrXG9XY5jQnR8jbP8HjVubpPjjAywkIfKSgh3KnmAZmakuGQ9ABMSEoS/nKGLz8GqZaxv8nK3knabggVZsaxO+pgxwma4oAQsUL0FmD+plr9/hyXIu5t2hVUKi9MRJcyPB1DixHnMY6IYpSIeU4cOcfc8hqfEBynNB4tQ9FYJSriBpItF4cOrsciN+XgQ0WFn6DHrK7IcO2s21EaJjm13uAL92ZKoH01BHLtRU/shPG2z1YkXl9tMJY/PyJGK9SxNiNZcX/198m2fYn4whItnUS/7YIhTgcYu/tsBCPGB00EzcRaWrDKvEIKhAbteL8abpTXoNGkQlbYQa1fmm53VKtBo5dvTcTHPDcoJwHQ9fyhqQuPn9is10bEbh7j3hmFk87h5G9pQGXpwMPxJjhCewqD77BfC/8MDE9OPxD9laO0VK3iE21KJIIh/QJQ7b1LMyqip65SDAFiHcPos/1+HKFVO4iRECRkZenDaQco7E1N4+OIbBIXC6yFEfEIAdKl5WLJ6DZ7iMXc0fDlqCZ57rYqJ6j7Uv/4Cth3tgdFPJ6zAWfvEUmSlSku4XWFetTOo6LssSzBf0Z7rSGRbGGPKysPIEL+tiF6z4qWLuNHhU0fNZGYs8z+YQXdaOOJLkhAiaY8D4v/eYOZEwRjB+XZcDb4b3YwJwtg2djR5bVsCJzzQ3KMvGS6n8yYUWU76/qflB7CvbDe2iLEozOVlrPu1TQyOn0vGSAlq+UoW1nMv+PI2OqpQZukYbXfkvAlAjBBQsg/NJ+VXvhlOtptXr43hsR+8ATN2rBzyQ3GJpCIFFlWFZMQxue5wlV3EeIRxa4R91m07ITTVQh4qK4tmit91Cz3ypppXqfJbDLkpz2WcDWNHnYoVjXpkrJiPNNa4ptYq/N8PGlh7azBh5kIsUhUbLhOLZO7dacmN9VKfYugzmbFr3kZk6qlB0Zt8fnTAxQZsHXQQWAYqVwDP/DR3IVb+6kksZ/OsdoDNwR9uw6b3uZXfgvLNL2D7sR6YNMGYpno+tkCcQ3RB5odRsrD5TXAyOHJCKOGy9+ch+PbvZVO5EdyDT/fsFuSMao7VCfF/MCoW8x9Md+1s4Iks0vh4YoZ3c438Sk2FS4A0PngopI1ORe4jT2LtQzlIDmJj+XwNtv3XDtSzBjZVFWHjqwfQyP7W8vgxT67B8nsyEaXQiROVKt+ejkuBOp0MkxAuXEsPGg8LB+yobhUUe+BcDbZs2mxVqs3PP68C0jFZWC3G7Ay5VXFXgPPCfkNnzv0ATBazL3afc+9BKUEQ/5goV7nFTxovOpbWbQYuFDUYKTsbj7R6yjf0JCgYWn/+v5EZHcIBezrMwTgRqFO81Pj0OfMzhKgJOQ4UqQBMv97siW8+KCmFYinmyrAbjJ2FwpWP4amn12Atm6B51ixcbMe+NzbgecvlqNyBw44980aFoMRox8Yi/57H8Cz73uOrliLbqbPFhLZjFk/oFZQjTo1OA1rFpyinz55Fm6rSgwviWRRxsArHudIWlIRlMsGtNRPz8UiW2ehpPulEkfcarK+6Y3Q6JQAZk/WCQtp56hBM0ZZPxcxF6+zhdXwelshs3RksWWqfrLkiAXmJ4pO3+kPmQ14hFCGi86bP2AVNaBKm3W7enpQ1M0nhajB3sN7+Z9v3DVV7UfrBITRaLalukU9PL8Dvg/9vxAU3V2cNPj3l27XuybFyVAjbuIR+Ya6fgvmZDuSVRIK4qsuAzjrhgD3MEBWkX1ACltn0n/xo52e3Jhg6QTZzgzTW/IdADXb+p7Wza0u9GwrxsSbzSq/AiciTXTUSgMTbmXHB/jK1N+FT80HlnKyxkoNqyiFHc5ECQuYvQAb3QHdVYfsXbL7UhCJ3sfOgnzxOh6IVjTwOBZsjCnjsjn42t7zLDOgju7DpIN/+o8O0ex7H8ly1q0cuw5ZZS9h4SL5nBdY+kmc2djuq8NLviwRj16ukFWAlM5af/dVjWDkvCRPYOOZBsbdvfR7b9lguzzCgducGrOPzMZv4B+fj367DU6sLMU14mqCAIy1mx0LkFNwr60TTIzvVPDd0n3HghHDGFerPEny72RN3D61aKm6PHJzTLIvT+U2gBm9+wFekMLmSkI/1rH0WFWQizmKlJI/RxuVlwSOrsZ73E+7gaz+ELZZxgiw51i6cD4ETMN2RAzMijxnD/I8etHpsC+uR9QDT9dY/jfUrC5Ado4O2vwe1ZUV45jnrvmw6tRdbfrcNRfU82HcA4lLzsOqpp1m/XI2l8+WfdNYfkW9H16VGZWYrcX672I02R+Ovw8BGCGt/rRq3Lc82JffATywzLJY+RaQiy2oLc6T3HMQimnlTzPL3/Ckc8HiVtfQAhdVJoNmGcIfqKvNWwJDJBTJO9wCEz1+KfL4V0NSOY8PE4eQJVjsGFG4NJghCnhFjo+N+Lf7tlLjpc5Ea5o/+c3UoOyqfKyNkahZSQzXobfkIlSfEg+OnYNakcfAfFYyklBTMEIse0meS8MNcPcYwMda47zPIq4RBSMhMwvhRtp+Jx/Qc9t3vzqOqrMZqyefAmUDEZk7EuOBoxF/bgiMNPRaLK8yCcQnTHP1MLdi/43OcsfQUSNcsc16nGP1x45xbkaA1ofvcaVTuL8G213fjeAffT2aPqeMEO/9hfPLNCASNDUbodYEYPdCOkuJaQahbE4HJWbwO+nHqwB9QfOAEGhuUlCacc7JLiSsyzdWfoarSnVIH8ZmMQjpRfzECKYlhGBOWiFnpkxEVFYrxsVORwQzXBVmsvfxYNbZ8jFd21Vo/mXS3TdILsbxgFlJvGIGqulbxoIRUpwY0VRzGccUndYI+Hz/JicZ16EJF0UeIvmc17s8a6ve8xAjOAB4KxmKcSMTcih/degPGj9YhRK5c52/2o8rUQ2z6XMSxOVH2vA7QzPwRCicHY+TFkyh+3aZeB8fuOKTmzMU8sSQEKDl/PG6Zy+vWhAHdTORnT8PkmGjE6qORcGMyZv0wA7GB53G0octm0dNQm8jLA0fvi7IA5/H55j9hj6K+r4DUW5GXxOrAwOTEx7XK+x1Dao/RkWLb3zQRsZERGNHdDu0kdq2sXiffIvWLZKF+9GMH0Mjb9cY0zJvAvsx+d8+nluuhpPvvReNuR/JSrAs/f4y26T+j/c3eSmdyfBB2/Xclsb7B/tSOHMAn5cchL8mGZL+i8w7SiroR8ciYGIxxE6ZiSowWhu5edH8biNCbUjCncBEKYplSy5TXPbv+bJOuVmpvJ/PG+RYbWai8dAhLPdXC55WH8e8ZEfBncrX8rddwcH8rBpKmIm5cGFJuice3rXVo7hmabJTXmw5Rc3+C5ffPRlKQICRRvO0lSOHcjCdqcTLoJkyOCkL4DSmYnhiE7vOncdbit+yRGzMKS4vaCmL9L+1WZpj9GIvm34rUKB38v+9D46fv4MU/HsA5R5fprtzntI1BYnYSQv/eg6bGz1G8fTv+Z/8XDutEmI8/FufjIB2uCwzEdT21+HPZaWULM/92AmfGsrE8PgjjE6cjNmQA31zoQfc14xA1JRML7p+PDNbWwpaaVz+yvmcl93nZ+7OINhZp/7IUy2ZGY/Q1QPcX7+L3/1OPgZzFWFuQNTivScXp/CYy0F6Hw42X4B/JMz0GM2MuHqkpqZg1yzzHZN+aKshL/RgtRvb1oP7zErz42iEZvUjiNL4OZ78focP4hJvg312HExZ6F9/SdD8bOzdey9q59XNs390oyjJJnprQUfcxar8WDiqAyakb0pF3vf+QrvdaCapOdso/dDL1oO1oBfZXtaFLq8NYHetf1/ajcf+7OH5O/IwFhhb5dnRdWpzUkRxDOnSlo34n9U27uciZzpGAzNwYjBvhh2v+PmA/fr4fgIkdN31zGvsvxOKBvKlIZLoB1w9i9cHiAypnNoEa9Ljj7rmIvdaE5s//BwdPCBvzB5HuYcyEIR1n3q3RaHIob9Ix8454hI8A/LTXoGt/NRz5g2RtIomvG3B2fApSwlifTWLjaOoNCBkXjZgUpi/NvxO58cw+AZOR+4vwdo313irn84YrHcoxzq7XvTleuhYNwuMs5MT1sOtLBEEoR3m2KTE6vLNI47KRyqUsCiYD2joMgwZ552ebUSxET0/Fol/xyPzOIqM7ij7vPGsLzyi1il0znwiMPe04fqoF5zVhSLxBj6gg/mzSgOq3XrDPCuFBhgsNU/rQa3Bz1UgAtPxJZK+cl93LUdtzH8b6DG9t/DbgyFsbUHxMfOkCrkgtmJ+OFJ7mWDwmYGRK2pHd2P5enX39udsmPslq4IihrBhStqzke1cgwyb9tm5sJMJZp5TNbuBB31OdNWEwKwZ/kvoi+47NtkWXY9cZUt2aMfZ04XRHM7o1kYhhCnuUqOAb6ovxtLCdUELq53w1QJ3M02kdEm9JQtQoB7JAti15jJZCpLChqRqe0pR3UsusKoY6bH+uyGXbRM3MR7LFgzljTxMaz5xF5+kQJM+/0TqNJ1PuG0+2oLNVXAXksN9K9dODso0bUCKrNTqWi2oyRpgzALHbNQRAp7OUOzzwcyRGWzxhj8pahEK5bEEK4HHBlmYnIFwMvmvFxRaU7NyOslO2MtHbY9dDgqYgd/F8ZEfzJ6h8PEnbchhsnBX8ez4yhO3BrD476rD7vV2oPOW6PbRTZyF7ahJ+wOqbywyOobUCr20tQbPMk3Jt+kI8ekfSYF0ae1pw5FgNDu+vkIlPcbnqMBS5qx9DtpRvYMCA5oYa7C7ebeOQk8EDeXhlCMCE+UvxwAyeBls8ZIHxfB2KXpYJqDsc71MbisTcBShI0SOE9ye+3axsJ7aXNpnldRCT42H2q1wGMy0qnodCMSE1FYnBOoRPMGcL+s7QjrbuHrQdq0P96S6F+hTfTrjEvCqNwWMkSRkOpZTUfHvedqtVXv/s2XBEGdDfhJ1rtqFaPGqF1DdldCiXGRWVyBbW/uHRlrrgFBQuS0WUl+TSYGY5B2NLugduI7QJW6QZF5tQ8upu2dVxmnkP4zdz9dBwj5SfCY0f/hZbZOKAcpxlbzITgPDZC1DIE6zY6Cdcdpe9vx37LJLDSDifN6Q+rb7+nF2vGt1hCOla+I6BKtRLnsWeE27HzCQIQo3zZu7DeJanCW9lAnyTrRFsxiwETah9fy22HxQPulRKYlHw5FKm2BpQufNZFMk5ACIK8PiqVITbncOxkSKhnZqPJfPTEScaixImphwceH8HSo/KPKcYlgrjkJJRW7oT+2wXkTjjOwMzGG0UoCvovBlCN5ja0Xi2Cd3OFPnJhXj8niSMVmg4D+LMeSOlLnemuKjAafp5C5w6WTzoe+qcNwFIfPBxLOWBZq1Sp1rg0Tgwt22UXg9j1QEbI40HDl2KZUJcCVulWern4kuH2ComzpRFD5w3cqjtg+6QkInchGBZJUdWzlqSytrtHtZuHRV4cmOJ1bhXrIBF5GPVqnREsbbfVq7FEi77B9OPO24jd5w3AqIBN3miHlGsnQwd7Tj9VQU+rXJkuDlqb75cPxMx4iuPYXJjzUt7xRcOSGRy5AEmR/jfAwYmn3fJZDhkfb5gMRalMaO+ZyiNu6v20MxcirU83T7729jVhH37ilAmN2dZIhrdd07Rmx0+vXXY+MwuGUNEqsMulG19T2V8LhMuSI5GJfAVkJOA2mOHcKSy3XpVpTMkw05uDhvOBEUiOfVmxN3A26APnc2sPzccQnWDg7ZzKGuvQH8em478hZlIiwyGVnRAcYfhzh0lrp1tDHXzkLdhxnBGHnJnJCAuWDfoeDf0nkUj63vvfFBj0/eG9Kor7rzxqk4GnC5fi22l4guHSPfv5GGAqEMZ+fav/dZyzbGjToXzxg5PvmuDns1jD/OA6CY07vkttnxo7whR118TmL2y2GyvfNCCuNuTEML0gS2/2SWrDzhzhtgx6AztQ/dJ5zIy7r7VWHKTDhe+LMLzb9jun5baVH39+c5588/qHCUI36DceSMp844MXW0Olv9yFuI0TGD8mgkMSfIoMACnPbQOiyZq0Fn5Ap5/2z5osa7gMaxND4WpZS+e3HxAPMoRhbwC41IbHYsQ8ckl04LR1upEAXbHaOX7dtPGi8s9PaezoYQpeuILAccGk0vU3MflQq1S7q4S78x5Ixm5jpwXKgiZ9zBWzeXxDPqYUf08M6rln8RwrrzzJgCJ9z+GpZOYlWxi4/VlNl5tbU2OR84bV4Sy632UXa+GKYW7seYVKd6O/aoOeWwVHC8qfD5AbgWWIs5+ji1vWi9zimKK26qpwQ6VqKhFT2LVZJ3s+8oUsABkrPg5CvRcJr/MZDKQ/8TDyBorrSjRIOvBPCRayCJtUBiidBqVip0npKNg5c0IRxfKNxVZBNG/AsauMJ6WI3tEg4LVJMygDDLAKH7GdXvokTwzTHhqKefcznhknTDm5Q01PpYmIfq6L1Av8/R2aMy4g7vKuJuOVLUOU+4sukVa6uMptn3MB/BYZ7mx0No98b8y/VkY/9FGtJ2qQ+m7e1Hf5Xg+s8XhPCQ5pL1CH5or2XV5HL/EHeMy1k7+eQKf/7Z/0HSFnDdMhqxYJ8j65oPrWXvZtvPQXOAMe51jGDhv9Ow8/8rOM4o/VLBd4TuEGueNtIqHj6Onf1+F6aIO4+j8Sp03PMZT+BgNTN+0o1PBWHP+eXLeEMQ/OsqdNxZLn80KvbW1F3L3ajyVxibmrgqs21CCQdeIEgMwfSnWFzDFxdiEnb/bZp3+1mJrh/3yRFHIe9u4dMdolb4jvvQUe+HJn6amCxORavq/Rnlp1VCbWCEZQW4gY1gqRm0du+tIcOK80bE+u5b1WXunoBrM8ZMeZUqXlk3dbZVF2PS2zLYvC66s80aH5AdWYEki76kOtg1KeHAtipBW8zl5cqUcLyl8PkJqG9XIOR0TF+KpB5IQIrfCS5uJJT/LQ7LWgMrXnkWRTfRKJQrY4AoyS3mcspD1hSTWe+T7jHuKnQyi0T1o0Nji6v3hiOR4Fl9aKtxqlXZb1Bge9iRgmu32PZGoSelIDAK6T1XgiKyB7K7xrNZ5w7OZsf/clftewcmqYBdE3b4Y+RN1Dreaunr/iqENYOO/z24e44Hnk2+5ETdNiITOwp43nmvB6dYmHKlic99Y84Myu9W0Xm0TbxmD7hiXHjxIk8PJavbLweA2ILmHWPoCPL4iFeGmHlR/2mDO+mqBJCfs5c+Vdd4IyS8eMOvLPND1c2wOdRQvS7EMHVzF04Py1zagmM+t3EH0MLtWjc1WWRGlzhu186fzzyt13pgflMVMTIKm1fyw2Nn1ujfHk/OGIHyBCucNw0KBry0tws79fO8z37O5SMhwwY9XvsmUHMsBqsgADEXWykeFTCimrips/UOx+emlNhbZy5Ygl2dIGVyyb4lS542kpPag9r1DrldYuGO02ijoAlPnY1VqqJB1ZOO79sJOWnLaVrUNRUfFgyIutxF5DWmidAM5w1IpauvYXUeCE+eNZtIsZMfqhEwv+w66YQiy/pn1wCLkx5jjXChx3HBUO2+s+lYIYhLHs7GmFeIDhASG4MLR9cITNpdKSFA6Ch/OQ9pYfiY2hj+Q295hgbt1rhQX59el5iAjMgDG9gqUVdmvyLNGocLnwdNNpU8yvYKTfmv5NNRKXgZNQf6/LmAyhR1nBsHTzCCwddi6UsCEjDIFrE24cfTW81ZOmkGnjszWIPcUOxnE+3Z4HlfvDxO0U/OwYGYSfmCx9cQKYStHO44c3Ivd5WIMETfwzHnjGF+dVzU+lEGX4x6dGUMcV+8PFzST+PbzVGaoW2k49gz0oa3hIHa9ecA+xpKDGDmWONOJrFG5bc8GYSW2hq/ijcS9vjAufT13ehVpKxDTCvjWqNfNbcdjEy66L0fI9GX4gsnb1+3lreMx5GA+tugDIfokRAVyPYad4NRObP9AmuMVzuWyMHskdwmWZ+mFmFN8fnxpc7FsfDAJJXJAcAY9mI4JrPvb1sVQbE0TOo/txosWmWWVjm+186fzz0sOEzFuoH8woiJ0QuIBIetvGJ+TxFh+ItL1Obvewd88uRdbpblfG4m4GDHAtPg7o5lOyjOYNe5Zj+0HyXlDEL5AcbYpga9rURuQiBkTxmF8XAqyZ2dh5tzZyLoxGP5McDUf3IE/ltl4HBRli7iE5tq/IfTmREQFRyJ15lzMycpC9txU3DhazKzx+p9wws6ZMRQp33kmijTc8+CtSNEHoldJ9HV3MlyYLuFidw8MliX2ZnPGmN4mvP3BZ9bvsaK/xRzlvufU29hXYf2e8VvxvD6nEZX7PsIeNaU7GjMcZB9QjFTH+B4DulBcn5CAOGclKgox4YEYqaZNOA6z9jA98+xpIUNDU4vj9PfySJlfcpDCHSHcmN29A1t2NyrKSuI0K5RUL5YZnmalI2Mwm0eimJUhAuE8exCbgfu7GlFR3+vkvDzexr9i5b2piA1k46m/C2W7XkTRZy5SkLgzDiT4EvmMKYiLHInTp20zSolMy0R+DLvgi204eKgOto4G/bxFKEyJQaRfi4LsBgqyD3F+kI47YoMw8poBmBSlkGHqjkYDf40fLrXKtJevcNJvueFy5ou/Ycy0RFwfYiEvZyWb29fQgD9ufhttMh4BxxkjeByi/4OVc/XgD5S7vyjBK6UtVu3GMxq18ewY4TqEx6dihr4fldUtguPBvUwU9kTdnIUZEVr4f9uDPZX2skXKejjC2I59n50Wj8rDlc2n7rsNM6LPe3RN6uBbqFbjP+bGY/xoLa75WxeTL404cvw0ms60CuXMxQGMHKnFmOCxiE1IQUZyEJpqjqPXDQ+OU1niAb46r2o8kUEuuBz3mJgxF4lBfhhh6ETZMXsHdPLM25Awmk0hPadxkKeVd8KV6c+MlIVYszAFUQF+MHQ0YM9f38afi4rx/u4hneDg8U58/X0gwsNDMT5iIjKmjEOdrUz/1mCl48gVZzqRdelFvzRe+JazRaxepqch1bZkZOGOO25D9pzZmMPKbbk5yGVz6pzpbC69KRiNZZ2IdivblAs86rfc4P03LLk9A6HdXrwmh5zH8RZ/JEzVIyyUtd0PmV4/azby0uIR7s9mm/ZD2PjKIdkYLI7HkDQfs3lF0mN4mZk2mHFo6kRJjwnEtUzHH+rTCudyG7iz6b5/vR93s3b151nRTu7G71/cgw4XctW5HOAPp5dg5T3JGD9Cvi6MJz5DjV88UmODMSY8AXNujce3zZ+j+ZuhedGVjJE+N/B3wD8sRl4HtigxkdGIus7PRbYpf4RyXTFyHEIHM04GQsszgJlMuHjhPM50tqK2rhpVFR04d8nk9Hql9/zHThxswxmT45EgZQkTf4frpNew+/im4wCqG93N5kYQhDPUOW8YXFCVnwvE+OhxCNaOYkLSBMM3rTj4vy9j18cyT8eVTmKmdtQyZfybkOsxPtgfgaOYIOs34MyJT/D6y0WolbUzlTpvVE4G37TjeGMdM0zq0PbNJWVpQuVwaoANFwWZB5aNRsjYYIxWWsImIiWOTZDecN6MCESUJPydFe644d9Tqwy5aAN30Kb/BCvvTEAIm8x59pBdv38JexqUL5Ny2u7XRSImTAPDBQO6LUtn06ABWHfsY3zwcSX2l76Nd9//SHDccBydV3f7v+KxzEhomULDA0++8vsdqGxXYCl6ooDeMAuLcqciMSYIhk9sUvEL6JF950zEMQXE2PoZ3j1iH4FbnUNAckK6GN9Sf/j6MH7+2z9g//4DLsvp6zMUKWDO4LFJHrrLbEAoKvogjOQrNhz1WyYv66pk5CVTkP7w6rs47eBJo8M61c/FojsTMc7PhM6j7+K/dsrFBzDh3LEq1GhuwOQJAzhS9GfUid1eXVs5IgF589OZkcj+HGnC1weqcdb8hkgC6zNpwvuuUrRyvHNNKklfgn/PimCX34PKd3+P3+/6GFVH6qzS+Z44+jkqDn2MA18NIPzGiYgaG4n4MW3MeFefz9lXc4jv5ibJMLUw6JwVLn/419wygp3j8/lXm4M77ohFCBvH/tdcxCeHT1in2mfv590eI7zvKhU/54r0Z2a8Zhf+GEmsnoS4Hlt246s2C8eJiOlCFzqOV+NwxQWE3pKI8aOZIff9AVR9JX5AIW61ydgU3DErHlGDBqpFuU4Lf56WWlhfbsS5r8/jrDCXNuKTik/wVWcgEoed8+YKGLy9bP48ch5+10ciNDCQzSd+MF3sQcMR5ynaHbfXOEQl6tBvq8dc6EHziXrUfdWKpq9q2Xz9MfZ/9Bf85bDlenh3nDdT8OMV85E6hj+c6kH1X3fgv4trZR1Otjjtc9p0/HhRGmJGsd7TcgD/temvsm1pPPU5DnYEIiYuGiNbP8LO/e2C3SCNWVf9WfrcyOvC5PVfm8IdNxx5WdCL082NqK6pRsWRoSLpi9zZuo/pNWWHKlBVVYMTDacFxw3H2fV+p/GH6ZuOwYcQlqXms7+i9DD7nfI9ePud3cL5qwW1hZw3BOEL1G2bcgefLh9Vum3Kk2WYHuB064Oy5ZrSnnjvYEB96Q6UnRRfCkh14wYO7ksRavuFw8+7iKEgl+rZGeyeXAd0hJA5Ju4Mm6QcZsNxjK+W6zs+rx7ZD+Tgu6MKMtVY4tHYlZbLMsXebumyDskPrsCSBN5oPSjbvAElMru3nC8NdhMXY1IOZ0uJlSK1jVU6UiV4EldKBmd1quHb1EwV6vqIiDfaStqWBZMJGjZmbWOcaeY+jN/M04vva9B9dAeeecNxulGf9B8XxN3/JJZP0sHQUIx1r1aJR53grD8qCLqrG2tOIe66Xw3JfiVzijvnVYYkF0wwdJxFp1Lh6SR1r7v4Sg6bCUDiA49hKTNgTUJ/NdrFoJICj5vf59sM5LPhSFyJ/jzUXsq3PXhynb5tEznU358ivDJ3Dv+tJr5pL/f0dc3MQiyKaEHp+xX2W/ac4OoeNKn5yNPVYbcQJsIVAdBo+2ASf18aC67qR+2Y8ZUsUHq9ynHdl+PufQxLprJ5js2BGzc5jk1EEMQQZvctMWzRhk1AXHSkl8oERDvU2flE+QusVlPcddxcTrjTpl+h40YFjcU7UOqG4+bK0IJ9r21zyyh3nxq8+UEdugeY8hOaipW/WoenVq/A8lWrsf63T4qOG77VskjWcfOPytkvNmPLJhXFi44bV5iq9l7mPjIEj7WzciZPs9+FfW9UoNmkQVzWUmTrxQ/o8/DIHD006EH5q/vRyAZeyNRCLOfOnGFEp/gEUxs03pw63AUhWjE/odzyznGhMjLcugipwBnaYPn3h8qQ7Fcyp7hzXnWY0Fgm098dFS87bnyLOYi9EBSeGe/bi0/BAB3S7l6MRLFeNamLsWxqMGBswptvMjnJenbcnEdRkOo8JszlpwGdwuq6AETeoGCsaVMxXc/vwYTOM5fLwUQQrMcxXWL7W+ocN0owVZWgRJHjhjPkuCGUMAXTE0KFuHDa6FTkpYiHCYJwyj/ZyhsxgJd4VAnKgqU6wAsrb3zPFVqV5LWVN1cfvmp3r5/XC3XO96HfWzAT00KtjRKToR0H3t+BUifOAukpkLGjDuWn1DgVnAQmv8Irb67sWPf9EzvV5w2agqx7cpAXH8zM16GMHYPBkft7UHmkHRNSkxCuAdoqXsbG4hbB+P0FT/PPTmForcI7H+xG7SnrVQvu9x8P5L52Fpb/Mgdx7FqN/Lr2H0LtF/ZOXq6opuXOQja7by2bl5xmffMyUoYr72BSGTh2+Kwq8MWY1ExMR97tOciKZvJuwIDKt19AURUGV+HgYgv21QIZ6XrW7n2off95bD/YN9TfudPjZAWK37JPOX9F+jPDdqy9J9entaFsjGYib3Yq4njQLDczCF5+OTmcV96Y0HasCvWqmtpbKdSV4Zv2urw6qS/7nFLdQe386fZ86wKl16scV+MrABmP/BwFMWw+MjRg23/tQD05vwjCJf9kzhv1eCQcryrnjXu4fe1SvxBfKoacNw7x+nm9OXYtskwoTYssKRLqcaL0SWPSDTypV6lt3MGbCpqvlT6157V00lTvK8LOwQxWAUi871EsmcqdOhwei6cEG98YisWjmVQgBOGOGsX1vmI8/ap1nB73+49ndS44LO+ejWlCVjczpn4TvhP/5gGwNdKaV7v7/kdHUubFl2pQ4XBVgvfl8NBWKVxkMuidbdj3hSTn9MhYsQQFwqoUTh8aP9yOLXuG2j0ka6mQtTPEjxnt5duw8T3rPnGl+jNHO5Vnm0o3O2ZEpD5t1Z8ZPK7aa1tLnGb4ccTl14mGs/NGfKmKy+sU9U17/fM6b9Tiq3nce3WhbHxpo1kDtLYrilFEEMTlcN5MLsTj9yRhtKEO258r8rLRnYOl6zMR4/LcOoTEh5rT2alEqaEpy1XhvJHSqLtHZ0MJqh2HnXBMRCqy0sarb5P+r1FeWgV1zx2HFzx4LW93b6ee9vp5fTp2XeP+CoE+dJ90oAjwLFgJweILdbjd1xlRM/OR7N7Perb6z4a4+1ZjyU06XPiyCM+/USce9Rz3z6tH8txInD0sv9xdSLk9IxLnPylysEpLh7i5N+O7wwfsjEVPVph4JPdFtKyvpaUkIHFcALRBYQgRIu8a0X3WgAuGdhz/8lMcqfxnU1hjkfVgHhLdMUy9HP/JJ3JYm4S0WzWo/bBGpl0DEJ6Rh9zJWtTveQeVNivFBLSxSL41DG0fVtjFfrjS/Zkj9OnJsYgbTD0sYjKg7cSXKK+qQrfy2P12+GpudIwUM8+AI29tQPEx8bCneDR3BkAXE4nRVhWsFLUr4TzDN+0l6vXcebPmZZSLR32FL/ucNC+6OreOx5uLVO+88aZuwFF6vcrx0fgiiH9yfO+8IQiCIAiCIAiCIAiCINyGAhYTBEEQBEEQBEEQBEEMY8h5QxAEQRAEQRAEQRAEMYwh5w1BEARBEARBEARBEMQwhpw3BEEQBEEQBEEQBEEQwxhy3hAEQRAEQRAEQRAEQQxjyHlDEARBEARBEARBEAQxjCHnDUEQBEEQBEEQBEEQxDCGnDcEQRAEQRAEQRAEQRDDGHLeEARBEARBEARBEARBDGPIeUMQBEEQBEEQBEEQBDGMIecNQRAEQRAEQRAEQRDEMIacNwRBEARBEARBEARBEMMYct4QBEEQBEEQBEEQBEEMY8h5QxAEQRAEQRAEQRAEMYwh5w1BEARBEARBEARBEMQwhpw3BEEQBEEQBEEQBEEQwxgnTZseAAAAF0lEQVRy3hAEQRAEQRAEQRAEQQxbgP8fSN3VphKAXkgAAAAASUVORK5CYII=)\n",
        "\n",
        "![image.png](data:image/png;base64,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)"
      ],
      "metadata": {
        "id": "EgXShM7JjzkW"
      }
    },
    {
      "cell_type": "code",
      "source": [
        "# 접근 1) 매 시행마다 점프 or 순간이동 선택해보자\n",
        "\n",
        "# def solution(n):\n",
        "#     current = 1\n",
        "#     jump = 1\n",
        "\n",
        "#     while True:\n",
        "#         print(current, jump)\n",
        "\n",
        "#         if current*2 <= n:\n",
        "#             current *= 2\n",
        "#         else:\n",
        "#             jump += 1\n",
        "#             current += jump\n",
        "\n",
        "#         if current == n or current > n:\n",
        "#             print(current, jump)\n",
        "#             break\n",
        "\n",
        "\n",
        "#     return jump\n",
        "\n",
        "# 접근 2) n을 2로 계속 나누고 홀수인 경우 -1하고 cnt += 1\n",
        "\n",
        "def solution(n):\n",
        "    cnt = 0\n",
        "\n",
        "    while n != 0:\n",
        "        if n % 2 == 1:\n",
        "            n -= 1\n",
        "            cnt += 1\n",
        "        n = int(n / 2)\n",
        "        print(n)\n",
        "\n",
        "\n",
        "    return cnt\n",
        "\n",
        "    # # 다른 풀이) 이진수의 자리수들의 합\n",
        "    # def solution(n):\n",
        "    #     return bin(n).count('1')\n",
        "\n"
      ],
      "metadata": {
        "id": "3bocTbdK84Vc"
      },
      "execution_count": null,
      "outputs": []
    },
    {
      "cell_type": "code",
      "source": [
        "n = 5000\n",
        "solution(n)"
      ],
      "metadata": {
        "id": "XayLbCbUPQUE",
        "colab": {
          "base_uri": "https://localhost:8080/"
        },
        "outputId": "05d25abc-b2f4-41db-9cc0-621917a872ad"
      },
      "execution_count": null,
      "outputs": [
        {
          "output_type": "stream",
          "name": "stdout",
          "text": [
            "2500\n",
            "1250\n",
            "625\n",
            "312\n",
            "156\n",
            "78\n",
            "39\n",
            "19\n",
            "9\n",
            "4\n",
            "2\n",
            "1\n",
            "0\n"
          ]
        },
        {
          "output_type": "execute_result",
          "data": {
            "text/plain": [
              "5"
            ]
          },
          "metadata": {},
          "execution_count": 42
        }
      ]
    },
    {
      "cell_type": "markdown",
      "source": [
        "### N개의 최소공배수 (v)"
      ],
      "metadata": {
        "id": "eYrhbeALPOsL"
      }
    },
    {
      "cell_type": "code",
      "source": [
        "\n",
        "# 최대 공약수\n",
        "def GCD(x,y):\n",
        "    while(y):\n",
        "        x, y = y, x%y\n",
        "    return x\n",
        "\n",
        "# 최소공배수\n",
        "def LCM(x,y):\n",
        "    result = (x*y)//GCD(x,y)\n",
        "    return result\n",
        "\n",
        "\n",
        "def solution(arr):\n",
        "\n",
        "    temp = LCM(arr[0], arr[1])\n",
        "    for i in range(2, len(arr)):\n",
        "        temp = LCM(temp, arr[i])\n",
        "\n",
        "\n",
        "\n",
        "    return temp"
      ],
      "metadata": {
        "id": "TYaMZdwkE2i1"
      },
      "execution_count": null,
      "outputs": []
    },
    {
      "cell_type": "code",
      "source": [
        "arr = [2,7]\n",
        "solution(arr)"
      ],
      "metadata": {
        "colab": {
          "base_uri": "https://localhost:8080/"
        },
        "id": "IReG1iILUdBl",
        "outputId": "24dd94fb-adfb-46f8-be37-d83d9acf8c55"
      },
      "execution_count": null,
      "outputs": [
        {
          "output_type": "execute_result",
          "data": {
            "text/plain": [
              "14"
            ]
          },
          "metadata": {},
          "execution_count": 63
        }
      ]
    },
    {
      "cell_type": "markdown",
      "source": [
        "### 멀리뛰기 (v)"
      ],
      "metadata": {
        "id": "xb11kMs38zQq"
      }
    },
    {
      "cell_type": "code",
      "source": [
        "# 접근 1) 1 or 2를 계속 합하는 경우의 수 문제이다\n",
        "# 접근 2) a[n] = a[n-1] + a[n-2]의 점화식을 코드로 구현하는 것이다.\n",
        "\n",
        "def solution(n):\n",
        "    if n == 1:\n",
        "        return 1\n",
        "    elif n == 2:\n",
        "        return 2\n",
        "    else:\n",
        "        l = [1,2]\n",
        "        for i in range(n-len(l)):\n",
        "            l.append(l[-1]+l[-2])\n",
        "\n",
        "\n",
        "    return l[-1] % 1234567\n",
        "\n"
      ],
      "metadata": {
        "id": "5Qi8ec1MUjaV"
      },
      "execution_count": null,
      "outputs": []
    },
    {
      "cell_type": "code",
      "source": [
        "n = 6\n",
        "solution(n)"
      ],
      "metadata": {
        "colab": {
          "base_uri": "https://localhost:8080/"
        },
        "id": "XiTE2jwi-jnK",
        "outputId": "f7f9343c-e105-42d8-80d8-af5586543324"
      },
      "execution_count": null,
      "outputs": [
        {
          "output_type": "execute_result",
          "data": {
            "text/plain": [
              "13"
            ]
          },
          "metadata": {},
          "execution_count": 8
        }
      ]
    },
    {
      "cell_type": "markdown",
      "source": [
        "### 귤고르기(V)"
      ],
      "metadata": {
        "id": "3jSKNAcWDmqd"
      }
    },
    {
      "cell_type": "code",
      "source": [
        "# 접근 1) 귤의 크기를 집합으로 만들어서 크기별 몇 개의 귤이 있는지 파악 후\n",
        "# 판매하고자 하는 갯수가 되는 조합중 최소 값을 리턴하자\n",
        "\n",
        "def solution(k, tangarine):\n",
        "\n",
        "    # 귤의 종류별 갯수를 구함\n",
        "    set_tan = list(set(tangarine))\n",
        "    dict_ = {k:0 for k in set_tan}\n",
        "\n",
        "    for i in tangarine:\n",
        "        dict_[i] += 1\n",
        "    # import collections\n",
        "    # dict_ = collections.Counter(tangarine)가 더 깔끔함\n",
        "\n",
        "    # dict_의 value를 역순 정렬한 후\n",
        "    d_val = sorted([i for i in dict_.values()], reverse=True)\n",
        "\n",
        "    # 갯수가 많은 크기 순으로 귤을 담고\n",
        "    # 귤의 갯수가 k보다 크거나 같은 순간 cnt를 리턴\n",
        "    result, cnt = 0, 0\n",
        "    for v in d_val:\n",
        "        result += v\n",
        "        cnt += 1\n",
        "        if result >= k:\n",
        "            return cnt\n",
        "        print(cnt, result)\n",
        "\n"
      ],
      "metadata": {
        "id": "18KmloVPCCIG"
      },
      "execution_count": null,
      "outputs": []
    },
    {
      "cell_type": "code",
      "source": [
        "k, tangarine = 2, [1, 1, 1, 1, 2, 2, 2, 3]\n",
        "solution(k, tangarine)"
      ],
      "metadata": {
        "colab": {
          "base_uri": "https://localhost:8080/"
        },
        "id": "iJbCjw1cD62o",
        "outputId": "9a72162d-d49f-4416-95e7-60b072a40347"
      },
      "execution_count": null,
      "outputs": [
        {
          "output_type": "execute_result",
          "data": {
            "text/plain": [
              "1"
            ]
          },
          "metadata": {},
          "execution_count": 40
        }
      ]
    },
    {
      "cell_type": "markdown",
      "source": [
        "### 괄호 회전하기"
      ],
      "metadata": {
        "id": "3nIwoD20xMPd"
      }
    },
    {
      "cell_type": "code",
      "source": [
        "def solution(s):\n",
        "    # stack으로 풀어보자\n",
        "\n",
        "    correct = ['()', '[]', '{}']\n",
        "    stack = []\n",
        "    answer = 0\n",
        "    for i in range(len(s)):\n",
        "        s = s[-1] + s[1:]\n",
        "        print(s)\n",
        "        for j in range(len(s)):\n",
        "            stack.append(s[j])\n",
        "            if stack[-1] + s[j] in correct:\n",
        "                stack.pop()\n",
        "            print(stack)\n",
        "\n",
        "\n",
        "        if len(stack) == 0:\n",
        "            answer += 1\n",
        "\n",
        "    return answer\n",
        "\n"
      ],
      "metadata": {
        "id": "aKeBAsgSEQwa"
      },
      "execution_count": null,
      "outputs": []
    },
    {
      "cell_type": "code",
      "source": [
        "s = \"[](){}\"\n",
        "solution(s)"
      ],
      "metadata": {
        "colab": {
          "base_uri": "https://localhost:8080/"
        },
        "id": "MAJs0G4uyERY",
        "outputId": "c88e8e7f-b1e8-499f-fafb-5e51b07f42ca"
      },
      "execution_count": null,
      "outputs": [
        {
          "output_type": "stream",
          "name": "stdout",
          "text": [
            "}](){}\n",
            "['}']\n",
            "['}', ']']\n",
            "['}', ']', '(']\n",
            "['}', ']', '(', ')']\n",
            "['}', ']', '(', ')', '{']\n",
            "['}', ']', '(', ')', '{', '}']\n",
            "}](){}\n",
            "['}', ']', '(', ')', '{', '}', '}']\n",
            "['}', ']', '(', ')', '{', '}', '}', ']']\n",
            "['}', ']', '(', ')', '{', '}', '}', ']', '(']\n",
            "['}', ']', '(', ')', '{', '}', '}', ']', '(', ')']\n",
            "['}', ']', '(', ')', '{', '}', '}', ']', '(', ')', '{']\n",
            "['}', ']', '(', ')', '{', '}', '}', ']', '(', ')', '{', '}']\n",
            "}](){}\n",
            "['}', ']', '(', ')', '{', '}', '}', ']', '(', ')', '{', '}', '}']\n",
            "['}', ']', '(', ')', '{', '}', '}', ']', '(', ')', '{', '}', '}', ']']\n",
            "['}', ']', '(', ')', '{', '}', '}', ']', '(', ')', '{', '}', '}', ']', '(']\n",
            "['}', ']', '(', ')', '{', '}', '}', ']', '(', ')', '{', '}', '}', ']', '(', ')']\n",
            "['}', ']', '(', ')', '{', '}', '}', ']', '(', ')', '{', '}', '}', ']', '(', ')', '{']\n",
            "['}', ']', '(', ')', '{', '}', '}', ']', '(', ')', '{', '}', '}', ']', '(', ')', '{', '}']\n",
            "}](){}\n",
            "['}', ']', '(', ')', '{', '}', '}', ']', '(', ')', '{', '}', '}', ']', '(', ')', '{', '}', '}']\n",
            "['}', ']', '(', ')', '{', '}', '}', ']', '(', ')', '{', '}', '}', ']', '(', ')', '{', '}', '}', ']']\n",
            "['}', ']', '(', ')', '{', '}', '}', ']', '(', ')', '{', '}', '}', ']', '(', ')', '{', '}', '}', ']', '(']\n",
            "['}', ']', '(', ')', '{', '}', '}', ']', '(', ')', '{', '}', '}', ']', '(', ')', '{', '}', '}', ']', '(', ')']\n",
            "['}', ']', '(', ')', '{', '}', '}', ']', '(', ')', '{', '}', '}', ']', '(', ')', '{', '}', '}', ']', '(', ')', '{']\n",
            "['}', ']', '(', ')', '{', '}', '}', ']', '(', ')', '{', '}', '}', ']', '(', ')', '{', '}', '}', ']', '(', ')', '{', '}']\n",
            "}](){}\n",
            "['}', ']', '(', ')', '{', '}', '}', ']', '(', ')', '{', '}', '}', ']', '(', ')', '{', '}', '}', ']', '(', ')', '{', '}', '}']\n",
            "['}', ']', '(', ')', '{', '}', '}', ']', '(', ')', '{', '}', '}', ']', '(', ')', '{', '}', '}', ']', '(', ')', '{', '}', '}', ']']\n",
            "['}', ']', '(', ')', '{', '}', '}', ']', '(', ')', '{', '}', '}', ']', '(', ')', '{', '}', '}', ']', '(', ')', '{', '}', '}', ']', '(']\n",
            "['}', ']', '(', ')', '{', '}', '}', ']', '(', ')', '{', '}', '}', ']', '(', ')', '{', '}', '}', ']', '(', ')', '{', '}', '}', ']', '(', ')']\n",
            "['}', ']', '(', ')', '{', '}', '}', ']', '(', ')', '{', '}', '}', ']', '(', ')', '{', '}', '}', ']', '(', ')', '{', '}', '}', ']', '(', ')', '{']\n",
            "['}', ']', '(', ')', '{', '}', '}', ']', '(', ')', '{', '}', '}', ']', '(', ')', '{', '}', '}', ']', '(', ')', '{', '}', '}', ']', '(', ')', '{', '}']\n",
            "}](){}\n",
            "['}', ']', '(', ')', '{', '}', '}', ']', '(', ')', '{', '}', '}', ']', '(', ')', '{', '}', '}', ']', '(', ')', '{', '}', '}', ']', '(', ')', '{', '}', '}']\n",
            "['}', ']', '(', ')', '{', '}', '}', ']', '(', ')', '{', '}', '}', ']', '(', ')', '{', '}', '}', ']', '(', ')', '{', '}', '}', ']', '(', ')', '{', '}', '}', ']']\n",
            "['}', ']', '(', ')', '{', '}', '}', ']', '(', ')', '{', '}', '}', ']', '(', ')', '{', '}', '}', ']', '(', ')', '{', '}', '}', ']', '(', ')', '{', '}', '}', ']', '(']\n",
            "['}', ']', '(', ')', '{', '}', '}', ']', '(', ')', '{', '}', '}', ']', '(', ')', '{', '}', '}', ']', '(', ')', '{', '}', '}', ']', '(', ')', '{', '}', '}', ']', '(', ')']\n",
            "['}', ']', '(', ')', '{', '}', '}', ']', '(', ')', '{', '}', '}', ']', '(', ')', '{', '}', '}', ']', '(', ')', '{', '}', '}', ']', '(', ')', '{', '}', '}', ']', '(', ')', '{']\n",
            "['}', ']', '(', ')', '{', '}', '}', ']', '(', ')', '{', '}', '}', ']', '(', ')', '{', '}', '}', ']', '(', ')', '{', '}', '}', ']', '(', ')', '{', '}', '}', ']', '(', ')', '{', '}']\n"
          ]
        },
        {
          "output_type": "execute_result",
          "data": {
            "text/plain": [
              "0"
            ]
          },
          "metadata": {},
          "execution_count": 46
        }
      ]
    },
    {
      "cell_type": "markdown",
      "source": [
        "### H-Index(△)"
      ],
      "metadata": {
        "id": "uu75Hy1kKO12"
      }
    },
    {
      "cell_type": "code",
      "source": [
        "# 접근 1) 인용횟수를 정렬 후 중앙값 기준으로 좌/우에 몇 개의 숫자가 있는지?\n",
        "\n",
        "# def solution(citations):\n",
        "#     citations.sort()\n",
        "#     h = 0\n",
        "#     for i in range(len(citations)):\n",
        "#         if len(citations[i:]) >= i and len(citations[:i]) <= i:\n",
        "#             if citations[i] > h:\n",
        "#                 h = citations[i]\n",
        "#     return h\n",
        "\n",
        "# 접근 2) citations 중에 하나를 h로 잡고 좌/우 리스트를 나눈후 조건 확인\n",
        "\n",
        "# def solution_2(citations):\n",
        "#     c = citations\n",
        "#     c.sort()\n",
        "#     h = 0\n",
        "#     for i in range(len(citations)):\n",
        "#         left, right = c[:i], c[i+1:]\n",
        "#         if len(left) == 0 or len(right) == 0:\n",
        "#             continue\n",
        "#         if max(left) <= c[i] and min(right) >= c[i] and len(c[i:]) >= c[i]:\n",
        "#             if c[i] > h:\n",
        "#                 h = c[i]\n",
        "#         # print(left, right, c[i])\n",
        "\n",
        "#     return h\n",
        "\n",
        "# 인용수를 오름차순 정렬한 후\n",
        "# i번쨰 논문의 인용수(h)보다 같거나 작아지는 경우를 구함\n",
        "def solution_3(citations):\n",
        "    citations.sort()\n",
        "    n = len(citations)\n",
        "\n",
        "    for i in range(n):\n",
        "        print(citations[i], n-i)\n",
        "        if citations[i] >= n-i:\n",
        "            return n-i\n",
        "    return 0\n",
        "\n",
        "\n",
        "\n"
      ],
      "metadata": {
        "id": "RK0dSlLg5Rc8"
      },
      "execution_count": null,
      "outputs": []
    },
    {
      "cell_type": "code",
      "source": [
        "citations = [3, 0, 6, 1, 5]\n",
        "solution_3(citations)"
      ],
      "metadata": {
        "colab": {
          "base_uri": "https://localhost:8080/"
        },
        "id": "Cygh7UwSKggz",
        "outputId": "6836a8bc-ecce-40c5-931f-f56660d2360e"
      },
      "execution_count": null,
      "outputs": [
        {
          "output_type": "stream",
          "name": "stdout",
          "text": [
            "0 5\n",
            "1 4\n",
            "3 3\n"
          ]
        },
        {
          "output_type": "execute_result",
          "data": {
            "text/plain": [
              "3"
            ]
          },
          "metadata": {},
          "execution_count": 65
        }
      ]
    },
    {
      "cell_type": "markdown",
      "source": [
        "### 행렬의 곱셈(X)"
      ],
      "metadata": {
        "id": "_fWEOhmYde4Y"
      }
    },
    {
      "cell_type": "code",
      "source": [
        "def solution(arr1, arr2):\n",
        "    sum = 0\n",
        "    l = []\n",
        "    for i in range(len(arr1)):\n",
        "        for j in range(len(arr2)):\n",
        "            sum += arr1[i][j]*arr2[j][i]\n",
        "        l.append(sum)\n",
        "        sum = 0\n",
        "    print(l)\n",
        "\n",
        "\n"
      ],
      "metadata": {
        "id": "_cghmhy1MikJ"
      },
      "execution_count": 1,
      "outputs": []
    },
    {
      "cell_type": "code",
      "source": [
        "arr1, arr2 = [[1, 4], [3, 2], [4, 1]], [[3, 3], [3, 3]]\n",
        "solution(arr1, arr2)"
      ],
      "metadata": {
        "colab": {
          "base_uri": "https://localhost:8080/",
          "height": 305
        },
        "id": "3a-bCet1et2H",
        "outputId": "7e708f26-d321-424d-8a61-1c24542ca13c"
      },
      "execution_count": 2,
      "outputs": [
        {
          "output_type": "error",
          "ename": "IndexError",
          "evalue": "ignored",
          "traceback": [
            "\u001b[0;31m---------------------------------------------------------------------------\u001b[0m",
            "\u001b[0;31mIndexError\u001b[0m                                Traceback (most recent call last)",
            "\u001b[0;32m<ipython-input-2-cb02ed2ec4cf>\u001b[0m in \u001b[0;36m<cell line: 2>\u001b[0;34m()\u001b[0m\n\u001b[1;32m      1\u001b[0m \u001b[0marr1\u001b[0m\u001b[0;34m,\u001b[0m \u001b[0marr2\u001b[0m \u001b[0;34m=\u001b[0m \u001b[0;34m[\u001b[0m\u001b[0;34m[\u001b[0m\u001b[0;36m1\u001b[0m\u001b[0;34m,\u001b[0m \u001b[0;36m4\u001b[0m\u001b[0;34m]\u001b[0m\u001b[0;34m,\u001b[0m \u001b[0;34m[\u001b[0m\u001b[0;36m3\u001b[0m\u001b[0;34m,\u001b[0m \u001b[0;36m2\u001b[0m\u001b[0;34m]\u001b[0m\u001b[0;34m,\u001b[0m \u001b[0;34m[\u001b[0m\u001b[0;36m4\u001b[0m\u001b[0;34m,\u001b[0m \u001b[0;36m1\u001b[0m\u001b[0;34m]\u001b[0m\u001b[0;34m]\u001b[0m\u001b[0;34m,\u001b[0m \u001b[0;34m[\u001b[0m\u001b[0;34m[\u001b[0m\u001b[0;36m3\u001b[0m\u001b[0;34m,\u001b[0m \u001b[0;36m3\u001b[0m\u001b[0;34m]\u001b[0m\u001b[0;34m,\u001b[0m \u001b[0;34m[\u001b[0m\u001b[0;36m3\u001b[0m\u001b[0;34m,\u001b[0m \u001b[0;36m3\u001b[0m\u001b[0;34m]\u001b[0m\u001b[0;34m]\u001b[0m\u001b[0;34m\u001b[0m\u001b[0;34m\u001b[0m\u001b[0m\n\u001b[0;32m----> 2\u001b[0;31m \u001b[0msolution\u001b[0m\u001b[0;34m(\u001b[0m\u001b[0marr1\u001b[0m\u001b[0;34m,\u001b[0m \u001b[0marr2\u001b[0m\u001b[0;34m)\u001b[0m\u001b[0;34m\u001b[0m\u001b[0;34m\u001b[0m\u001b[0m\n\u001b[0m",
            "\u001b[0;32m<ipython-input-1-8cc0cc994301>\u001b[0m in \u001b[0;36msolution\u001b[0;34m(arr1, arr2)\u001b[0m\n\u001b[1;32m      4\u001b[0m     \u001b[0;32mfor\u001b[0m \u001b[0mi\u001b[0m \u001b[0;32min\u001b[0m \u001b[0mrange\u001b[0m\u001b[0;34m(\u001b[0m\u001b[0mlen\u001b[0m\u001b[0;34m(\u001b[0m\u001b[0marr1\u001b[0m\u001b[0;34m)\u001b[0m\u001b[0;34m)\u001b[0m\u001b[0;34m:\u001b[0m\u001b[0;34m\u001b[0m\u001b[0;34m\u001b[0m\u001b[0m\n\u001b[1;32m      5\u001b[0m         \u001b[0;32mfor\u001b[0m \u001b[0mj\u001b[0m \u001b[0;32min\u001b[0m \u001b[0mrange\u001b[0m\u001b[0;34m(\u001b[0m\u001b[0mlen\u001b[0m\u001b[0;34m(\u001b[0m\u001b[0marr2\u001b[0m\u001b[0;34m)\u001b[0m\u001b[0;34m)\u001b[0m\u001b[0;34m:\u001b[0m\u001b[0;34m\u001b[0m\u001b[0;34m\u001b[0m\u001b[0m\n\u001b[0;32m----> 6\u001b[0;31m             \u001b[0msum\u001b[0m \u001b[0;34m+=\u001b[0m \u001b[0marr1\u001b[0m\u001b[0;34m[\u001b[0m\u001b[0mi\u001b[0m\u001b[0;34m]\u001b[0m\u001b[0;34m[\u001b[0m\u001b[0mj\u001b[0m\u001b[0;34m]\u001b[0m\u001b[0;34m*\u001b[0m\u001b[0marr2\u001b[0m\u001b[0;34m[\u001b[0m\u001b[0mj\u001b[0m\u001b[0;34m]\u001b[0m\u001b[0;34m[\u001b[0m\u001b[0mi\u001b[0m\u001b[0;34m]\u001b[0m\u001b[0;34m\u001b[0m\u001b[0;34m\u001b[0m\u001b[0m\n\u001b[0m\u001b[1;32m      7\u001b[0m         \u001b[0ml\u001b[0m\u001b[0;34m.\u001b[0m\u001b[0mappend\u001b[0m\u001b[0;34m(\u001b[0m\u001b[0msum\u001b[0m\u001b[0;34m)\u001b[0m\u001b[0;34m\u001b[0m\u001b[0;34m\u001b[0m\u001b[0m\n\u001b[1;32m      8\u001b[0m         \u001b[0msum\u001b[0m \u001b[0;34m=\u001b[0m \u001b[0;36m0\u001b[0m\u001b[0;34m\u001b[0m\u001b[0;34m\u001b[0m\u001b[0m\n",
            "\u001b[0;31mIndexError\u001b[0m: list index out of range"
          ]
        }
      ]
    },
    {
      "cell_type": "markdown",
      "source": [
        "### n^2 배열 자르기(X)"
      ],
      "metadata": {
        "id": "5wCRkPdBXXPW"
      }
    },
    {
      "cell_type": "code",
      "source": [
        "# 접근 1) 문제의 주어진 조건에 따라 배열을 구성해보자\n",
        "# 빈사이즈의 2차원 리스트를 만들어서 값을 넣어보자\n",
        "# def solution(n, left, right):\n",
        "#     arr = [[0]*n, [0]*n, [0]*n]\n",
        "#     k = 1\n",
        "#     for i in range(n):\n",
        "#         for j in range(n):\n",
        "#             if arr[i][j] != 0:\n",
        "#                 k += 1\n",
        "#                 continue\n",
        "#             arr[i][j] = k\n",
        "#             print(arr)\n",
        "\n",
        "# -> 너무 복잡하다\n",
        "\n",
        "# 접근 2) 어차피 2차원 배열을 1차원으로 변경할 것이니\n",
        "# 처음부터 1차원기준으로 규칙을 찾아보자\n",
        "\n",
        "# def solution(n, left, right):\n",
        "#     result = []\n",
        "#     for i in range(1, n+1):\n",
        "#         l = []\n",
        "#         for j in range(1, n+1):\n",
        "#             l.append(j)\n",
        "\n",
        "#         if i==1:\n",
        "#             result.append(l)\n",
        "#             continue\n",
        "#         else:\n",
        "#             for k in range(len(l)):\n",
        "#                 if k <= i:\n",
        "#                     l[k] = l[k]+1\n",
        "#             result.append(l)\n",
        "\n",
        "#         print(result)\n",
        "\n",
        "# 접근 3) 문제의 규칙을 찾아보자\n",
        "def solution(n, left, right):\n",
        "    answer = []\n",
        "    for i in range(left, right+1):\n",
        "        answer.append(max(i//n, i%n)+1)\n",
        "\n",
        "    return answer\n",
        "\n",
        "\n",
        "\n",
        "\n"
      ],
      "metadata": {
        "id": "xH1yEm3Pg-Ce"
      },
      "execution_count": 85,
      "outputs": []
    },
    {
      "cell_type": "code",
      "source": [
        "n, left, right = 3, 2, 5\n",
        "solution(n, left, right)"
      ],
      "metadata": {
        "colab": {
          "base_uri": "https://localhost:8080/"
        },
        "id": "INAKoCLlEYJk",
        "outputId": "1471cb63-5f8a-4f62-c6d7-a4e590f8f80f"
      },
      "execution_count": 86,
      "outputs": [
        {
          "output_type": "execute_result",
          "data": {
            "text/plain": [
              "[3, 2, 2, 3]"
            ]
          },
          "metadata": {},
          "execution_count": 86
        }
      ]
    },
    {
      "cell_type": "markdown",
      "source": [
        "### [1차] 캐시 (X)"
      ],
      "metadata": {
        "id": "GiExX-WjbrB8"
      }
    },
    {
      "cell_type": "code",
      "source": [
        "def solution(cacheSize, cities):\n",
        "    cities = [city.upper() for city in cities]\n",
        "    stack = []\n",
        "    hit, miss = 1, 5\n",
        "    time = 0\n",
        "    if cacheSize == 0:\n",
        "        return miss * len(cities)\n",
        "    else:\n",
        "         for city in cities:\n",
        "            if len(stack) == cacheSize:\n",
        "                if city in stack:\n",
        "                    stack.pop(city)\n",
        "                    time += hit\n",
        "                else:\n",
        "                    time += miss\n",
        "            else:\n",
        "                time += miss\n",
        "            stack.append(city)\n",
        "            print(stack, time)\n",
        "\n",
        "    return time\n"
      ],
      "metadata": {
        "id": "cBTJzbdWE690"
      },
      "execution_count": 157,
      "outputs": []
    },
    {
      "cell_type": "code",
      "source": [
        "cacheSize, cities = 2, [\"Jeju\", \"Pangyo\", \"NewYork\", \"newyork\"]\n",
        "solution(cacheSize, cities)"
      ],
      "metadata": {
        "colab": {
          "base_uri": "https://localhost:8080/"
        },
        "id": "i-_3nDDMd8nD",
        "outputId": "f31b7cc8-6e42-4fc4-9eca-4cc8e7daae3c"
      },
      "execution_count": 158,
      "outputs": [
        {
          "output_type": "stream",
          "name": "stdout",
          "text": [
            "['JEJU'] 5\n",
            "['JEJU', 'PANGYO'] 10\n",
            "['JEJU', 'PANGYO', 'NEWYORK'] 15\n",
            "['JEJU', 'PANGYO', 'NEWYORK', 'NEWYORK'] 20\n"
          ]
        },
        {
          "output_type": "execute_result",
          "data": {
            "text/plain": [
              "20"
            ]
          },
          "metadata": {},
          "execution_count": 158
        }
      ]
    },
    {
      "cell_type": "code",
      "source": [],
      "metadata": {
        "id": "VPrE77iNn-Rb"
      },
      "execution_count": null,
      "outputs": []
    }
  ],
  "metadata": {
    "colab": {
      "provenance": [],
      "authorship_tag": "ABX9TyNAtDzl/RIWdAGy6Z/X3sya",
      "include_colab_link": true
    },
    "kernelspec": {
      "display_name": "Python 3",
      "name": "python3"
    },
    "language_info": {
      "name": "python"
    }
  },
  "nbformat": 4,
  "nbformat_minor": 0
}