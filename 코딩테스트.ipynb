{
  "cells": [
    {
      "cell_type": "markdown",
      "metadata": {
        "id": "view-in-github",
        "colab_type": "text"
      },
      "source": [
        "<a href=\"https://colab.research.google.com/github/appletreeleaf/Algorithms/blob/main/%EC%BD%94%EB%94%A9%ED%85%8C%EC%8A%A4%ED%8A%B8.ipynb\" target=\"_parent\"><img src=\"https://colab.research.google.com/assets/colab-badge.svg\" alt=\"Open In Colab\"/></a>"
      ]
    },
    {
      "cell_type": "markdown",
      "source": [
        "## Lv. 1"
      ],
      "metadata": {
        "id": "VGeOm-r190x9"
      }
    },
    {
      "cell_type": "markdown",
      "source": [
        "### 신고 결과 받기 (V)\n",
        "https://school.programmers.co.kr/learn/courses/30/lessons/92334"
      ],
      "metadata": {
        "id": "qCcKgwoovVLE"
      }
    },
    {
      "cell_type": "code",
      "source": [
        "from collections import defaultdict\n",
        "\n",
        "def solution(id_list, report, k):\n",
        "    answer = []\n",
        "    id_dict = {}\n",
        "    # 동일유저 동일신고, 중복방지용\n",
        "    report = set(report)\n",
        "    # 유저별 메일받을 횟수를 0으로 초기화\n",
        "    for i in id_list:\n",
        "        id_dict[i] = 0\n",
        "\n",
        "    # 신고내역을 추적할 수 있게 report list 수정\n",
        "    new_report = [r.split(' ') for r in report]\n",
        "\n",
        "    # 신고당한 유저 횟수\n",
        "    report_by_user = defaultdict(int)\n",
        "    for i in range(len(new_report)):\n",
        "        report_by_user[new_report[i][1]] += 1\n",
        "\n",
        "    # 유저별 메일 받을 횟수\n",
        "    for i in range(len(new_report)):\n",
        "        if new_report[i][1] in report_by_user and report_by_user[new_report[i][1]] >= k:\n",
        "            id_dict[new_report[i][0]] += 1\n",
        "\n",
        "    for i in id_dict:\n",
        "        answer.append(id_dict[i])\n",
        "\n",
        "    return answer"
      ],
      "metadata": {
        "id": "R58n4YXYvXo-"
      },
      "execution_count": 159,
      "outputs": []
    },
    {
      "cell_type": "code",
      "source": [
        "id_list, report, k = [\"muzi\", \"frodo\", \"apeach\", \"neo\"], [\"muzi frodo\",\"apeach frodo\",\"frodo neo\",\"muzi neo\",\"apeach muzi\"], 2\n",
        "solution(id_list, report, k)"
      ],
      "metadata": {
        "colab": {
          "base_uri": "https://localhost:8080/"
        },
        "id": "g-dCq-_1vnys",
        "outputId": "e27b7a06-fd2c-4267-c9ff-17eb7b5f5772"
      },
      "execution_count": 160,
      "outputs": [
        {
          "output_type": "execute_result",
          "data": {
            "text/plain": [
              "[2, 1, 1, 0]"
            ]
          },
          "metadata": {},
          "execution_count": 160
        }
      ]
    },
    {
      "cell_type": "markdown",
      "source": [
        "### 개인정보 수집 유효기간 (V)\n",
        "https://school.programmers.co.kr/learn/courses/30/lessons/150370"
      ],
      "metadata": {
        "id": "8jByctKmTisz"
      }
    },
    {
      "cell_type": "code",
      "source": [
        " def solution(today, terms, privacies):\n",
        "\n",
        "  terms = {i.split(' ')[0] : int(i.split(' ')[1]) for i in terms }\n",
        "\n",
        "  p = []\n",
        "  answer = []\n",
        "\n",
        "  today_int = list(map(int, today.split('.')))\n",
        "  today_to_day = today_int[0] * 12 * 28 +  today_int[1] * 28 + today_int[2]\n",
        "\n",
        "  for i in privacies:\n",
        "    p.append(i.split(' '))\n",
        "  p = [list(map(int, k[0].split('.'))) + [k[-1]] for k in p ]\n",
        "\n",
        "  for idx, i in enumerate(p):\n",
        "    year_to_day = i[0]*12*28\n",
        "    month_to_day = (i[1] + terms[i[3]]) * 28\n",
        "    day = i[2]\n",
        "\n",
        "    if year_to_day + month_to_day + day -1 < today_to_day:\n",
        "      answer.append(idx+1)\n",
        "\n",
        "  return answer"
      ],
      "metadata": {
        "id": "uKPmQxqhMF56"
      },
      "execution_count": 161,
      "outputs": []
    },
    {
      "cell_type": "code",
      "source": [
        "today = \"2022.05.19\"\n",
        "terms = [\"A 6\", \"B 12\", \"C 3\"]\n",
        "privacies =\t[\"2021.05.02 A\", \"2021.07.01 B\", \"2022.02.19 C\", \"2022.02.20 C\"]\n",
        "\n",
        "solution(today, terms, privacies)"
      ],
      "metadata": {
        "colab": {
          "base_uri": "https://localhost:8080/"
        },
        "id": "5K-SnSH7MNHb",
        "outputId": "3732c4cb-3d5e-4987-a770-f5dec77739f1"
      },
      "execution_count": 162,
      "outputs": [
        {
          "output_type": "execute_result",
          "data": {
            "text/plain": [
              "[1, 3]"
            ]
          },
          "metadata": {},
          "execution_count": 162
        }
      ]
    },
    {
      "cell_type": "markdown",
      "source": [
        "### 공원 산책(x)\n",
        "https://school.programmers.co.kr/learn/courses/30/lessons/172928\n"
      ],
      "metadata": {
        "id": "3uvNK-gGZcXQ"
      }
    },
    {
      "cell_type": "code",
      "source": [
        "def solution(park, routes):\n",
        "    start_ = [[i, j] for i in range(len(park)) for j in range(len(park[i])) if park[i][j] == 'S']\n",
        "    start = start_[0]\n",
        "\n",
        "    for route in routes:\n",
        "        direct = route.split(' ')[0]\n",
        "        dist = int(route.split(' ')[1])\n",
        "\n",
        "    print(start)\n",
        "\n"
      ],
      "metadata": {
        "id": "pX_A2vsZXrAG"
      },
      "execution_count": 163,
      "outputs": []
    },
    {
      "cell_type": "code",
      "source": [
        "park = [\"SOO\",\"OXX\",\"OOO\"]\n",
        "routes = [\"E 2\",\"S 2\",\"W 1\"]\n",
        "# result = [2,1]\n",
        "\n",
        "solution(park, routes)"
      ],
      "metadata": {
        "colab": {
          "base_uri": "https://localhost:8080/"
        },
        "id": "yjRjaE-rZiok",
        "outputId": "eca93072-369b-4bbc-db6c-8c5c82a41842"
      },
      "execution_count": 164,
      "outputs": [
        {
          "output_type": "stream",
          "name": "stdout",
          "text": [
            "[0, 0]\n"
          ]
        }
      ]
    },
    {
      "cell_type": "markdown",
      "source": [
        "### 바탕화면 정리 (V)\n",
        "https://school.programmers.co.kr/learn/courses/30/lessons/161990"
      ],
      "metadata": {
        "id": "F0ACDbiqwO1i"
      }
    },
    {
      "cell_type": "code",
      "source": [
        "def solution(wallpaper):\n",
        "    row, col = [], []\n",
        "    for idx, i in enumerate(wallpaper):\n",
        "        for idx_, s in enumerate(i):\n",
        "            if s == '#':\n",
        "                row.append(idx)\n",
        "                col.append(idx_)\n",
        "\n",
        "    return [min(row), min(col), max(row)+1, max(col)+1]"
      ],
      "metadata": {
        "id": "yq9cN1vYcIMN"
      },
      "execution_count": 165,
      "outputs": []
    },
    {
      "cell_type": "code",
      "source": [
        "wallpaper = [\".#...\", \"..#..\", \"...#.\"]\n",
        "solution(wallpaper)"
      ],
      "metadata": {
        "colab": {
          "base_uri": "https://localhost:8080/"
        },
        "id": "B9izhOFEwT5T",
        "outputId": "e89ce9a7-dcd1-408f-ccb7-c9dfd6ece785"
      },
      "execution_count": 169,
      "outputs": [
        {
          "output_type": "execute_result",
          "data": {
            "text/plain": [
              "[0, 1, 3, 4]"
            ]
          },
          "metadata": {},
          "execution_count": 169
        }
      ]
    },
    {
      "cell_type": "markdown",
      "source": [
        "### 달리기 경주(x)\n",
        "https://school.programmers.co.kr/learn/courses/30/lessons/178871"
      ],
      "metadata": {
        "id": "mdhdv21W3HEi"
      }
    },
    {
      "cell_type": "code",
      "source": [
        "import operator\n",
        "\n",
        "players = [\"mumu\", \"soe\", \"poe\", \"kai\", \"mine\"]\n",
        "idx = {v : k for k, v in enumerate(players)}\n",
        "callings = [\"kai\", \"kai\", \"mine\", \"mine\"]\n",
        "\n",
        "for calling in callings:\n",
        "  players[idx[calling]], players[idx[calling]-1] = players[idx[calling]-1], players[idx[calling]]\n",
        "  print(players)"
      ],
      "metadata": {
        "colab": {
          "base_uri": "https://localhost:8080/"
        },
        "id": "6kQ8C-Nx3KYY",
        "outputId": "3806f59b-13c5-4e59-9a19-0ef59d49fff7"
      },
      "execution_count": null,
      "outputs": [
        {
          "output_type": "stream",
          "name": "stdout",
          "text": [
            "['mumu', 'soe', 'kai', 'poe', 'mine']\n",
            "['mumu', 'soe', 'poe', 'kai', 'mine']\n",
            "['mumu', 'soe', 'poe', 'mine', 'kai']\n",
            "['mumu', 'soe', 'poe', 'kai', 'mine']\n"
          ]
        }
      ]
    },
    {
      "cell_type": "markdown",
      "source": [
        "### 성격유형검사 (V)\n",
        "https://school.programmers.co.kr/learn/courses/30/lessons/118666"
      ],
      "metadata": {
        "id": "LnMqNgopIzVp"
      }
    },
    {
      "cell_type": "code",
      "source": [
        "def solution(survey, choices):\n",
        "    answer = ''\n",
        "    dicts = {'T' : 0, 'R' : 0, 'C' : 0, 'F' : 0, 'J' : 0, 'M' : 0, 'A' : 0, 'N' : 0}\n",
        "    for i in range(len(survey)) :\n",
        "        if choices[i] - 4 < 0: # choices 값이 4 미만일 시, survey의 앞의 값 출력\n",
        "            dicts[survey[i][0]] += 4 - choices[i]\n",
        "\n",
        "        elif choices[i] - 4 > 0: # choices 값이 4 초과 시, survey의 앞의 값 출력\n",
        "            dicts[survey[i][1]] += choices[i] - 4\n",
        "\n",
        "    answer += 'R' if dicts['R'] >= dicts['T'] else 'T'\n",
        "    answer += 'C' if dicts['C'] >= dicts['F'] else 'F'\n",
        "    answer += 'J' if dicts['J'] >= dicts['M'] else 'M'\n",
        "    answer += 'A' if dicts['A'] >= dicts['N'] else 'N'\n",
        "\n",
        "    return answer"
      ],
      "metadata": {
        "id": "gJ8e9RgFI1rW"
      },
      "execution_count": 170,
      "outputs": []
    },
    {
      "cell_type": "code",
      "source": [
        "survey = [\"AN\", \"CF\", \"MJ\", \"RT\", \"NA\"]\n",
        "choice = [5, 3, 2, 7, 5]\n",
        "solution(survey, choice)"
      ],
      "metadata": {
        "colab": {
          "base_uri": "https://localhost:8080/",
          "height": 35
        },
        "id": "ccV-xWC-wzSQ",
        "outputId": "a0185a0d-f960-4e40-cba5-e4e0b38da778"
      },
      "execution_count": 171,
      "outputs": [
        {
          "output_type": "execute_result",
          "data": {
            "text/plain": [
              "'TCMA'"
            ],
            "application/vnd.google.colaboratory.intrinsic+json": {
              "type": "string"
            }
          },
          "metadata": {},
          "execution_count": 171
        }
      ]
    },
    {
      "cell_type": "markdown",
      "source": [
        "### 신규 아이디 추천 (V)\n",
        "https://school.programmers.co.kr/learn/courses/30/lessons/72410\n"
      ],
      "metadata": {
        "id": "4QCNiBAsdW9P"
      }
    },
    {
      "cell_type": "code",
      "source": [
        "# 규칙\n",
        "# 아이디의 길이는 3자 이상 15자 이하여야 합니다.\n",
        "# 아이디는 알파벳 소문자, 숫자, 빼기(-), 밑줄(_), 마침표(.) 문자만 사용할 수 있습니다.\n",
        "# 단, 마침표(.)는 처음과 끝에 사용할 수 없으며 또한 연속으로 사용할 수 없습니다.\n",
        "import re\n",
        "def solution(new_id):\n",
        "\n",
        "    answer = step1(new_id)\n",
        "\n",
        "    return answer\n",
        "\n",
        "def step1(id):\n",
        "\n",
        "    return step2(id.lower())\n",
        "def step2(id):\n",
        "\n",
        "    return step3(re.sub(r'[^\\w\\s\\.\\-\\_]', '', id))\n",
        "def step3(id):\n",
        "    c = 0\n",
        "    id = list(id)\n",
        "    for i in range(len(id)):\n",
        "        if (id[i] == '.') and (c==0):\n",
        "            c += 1\n",
        "        elif (id[i] == '.') and (c>=1):\n",
        "            id[i] = ''\n",
        "            c += 1\n",
        "        elif id[i] != '.':\n",
        "            c = 0\n",
        "\n",
        "    return step4(''.join(id))\n",
        "def step4(id):\n",
        "    if id[0] == '.': start = 1\n",
        "    else: start = 0\n",
        "\n",
        "    if id[-1] == '.': answer = id[start:-1]\n",
        "    else: answer = id[start:]\n",
        "\n",
        "\n",
        "    return step5(answer)\n",
        "\n",
        "def step5(id):\n",
        "    if len(id) == 0:\n",
        "        id = 'a'\n",
        "    return step6(id)\n",
        "\n",
        "def step6(id):\n",
        "    if len(id) >= 16:\n",
        "        id = id[:15]\n",
        "        if id[-1] == '.':\n",
        "            id = id[:14]\n",
        "\n",
        "    return step7(id)\n",
        "def step7(id):\n",
        "    if len(id) < 3:\n",
        "        last = id[-1]\n",
        "\n",
        "        while len(id) < 3:\n",
        "            id += last\n",
        "    return id"
      ],
      "metadata": {
        "id": "vbPFFxxpdV6n"
      },
      "execution_count": 172,
      "outputs": []
    },
    {
      "cell_type": "code",
      "source": [
        "new_id = \"...!@BaT#*..y.abcdefghijklm\"\n",
        "solution(new_id)"
      ],
      "metadata": {
        "colab": {
          "base_uri": "https://localhost:8080/",
          "height": 35
        },
        "id": "QAFjciEvxBF1",
        "outputId": "4bcedc85-2c41-4da8-c918-3431e29d067e"
      },
      "execution_count": 173,
      "outputs": [
        {
          "output_type": "execute_result",
          "data": {
            "text/plain": [
              "'bat.y.abcdefghi'"
            ],
            "application/vnd.google.colaboratory.intrinsic+json": {
              "type": "string"
            }
          },
          "metadata": {},
          "execution_count": 173
        }
      ]
    },
    {
      "cell_type": "markdown",
      "source": [
        "### 크레인 인형뽑기 게임\n",
        "https://school.programmers.co.kr/learn/courses/30/lessons/64061"
      ],
      "metadata": {
        "id": "KYtVzogJyuPX"
      }
    },
    {
      "cell_type": "code",
      "source": [
        "def solution(board, moves):\n",
        "    stack = []\n",
        "    answer = 0\n",
        "    for move in moves:\n",
        "        for i in range(len(board)):\n",
        "            if board[i][move-1] != 0:\n",
        "                stack.append(board[i][move-1])\n",
        "                board[i][move-1] = 0\n",
        "\n",
        "                if len(stack) > 1:\n",
        "                    if stack[-1] == stack[-2]:\n",
        "                        stack.pop(-1)\n",
        "                        stack.pop(-1)\n",
        "                        answer += 2\n",
        "\n",
        "                break\n",
        "\n",
        "    return answer"
      ],
      "metadata": {
        "id": "c8_hRxwKd0Kr"
      },
      "execution_count": null,
      "outputs": []
    },
    {
      "cell_type": "code",
      "source": [
        "board = [\n",
        "        [0,0,0,0,0],\n",
        "        [0,0,1,0,3],\n",
        "        [0,2,5,0,1],\n",
        "        [4,2,4,4,2],\n",
        "        [3,5,1,3,1]\n",
        "         ]\n",
        "moves = [1,5,3,5,1,2,1,4]\n",
        "solution(board, moves)"
      ],
      "metadata": {
        "colab": {
          "base_uri": "https://localhost:8080/"
        },
        "id": "oimJOQI2d7Rn",
        "outputId": "5da3d0fb-02ae-48b8-b06a-1f0416ed9c37"
      },
      "execution_count": null,
      "outputs": [
        {
          "output_type": "execute_result",
          "data": {
            "text/plain": [
              "4"
            ]
          },
          "metadata": {},
          "execution_count": 32
        }
      ]
    },
    {
      "cell_type": "markdown",
      "source": [
        "### 키패드 누르기 (V)\n",
        "https://school.programmers.co.kr/learn/courses/30/lessons/67256"
      ],
      "metadata": {
        "id": "rYu8jWcjzH8U"
      }
    },
    {
      "cell_type": "code",
      "source": [
        "def solution(numbers, hand):\n",
        "    answer = ''\n",
        "\n",
        "    #키패드 위치\n",
        "    pad = {'1':(0,0), '2':(0,1), '3':(0,2),\n",
        "           '4':(1,0), '5':(1,1), '6':(1,2),\n",
        "           '7':(2,0), '8':(2,1), '9':(2,2),\n",
        "           '*':(3,0), '0':(3,1), '#':(3,2)\n",
        "        }\n",
        "\n",
        "    left = pad['*']   #처음 왼손의 위치\n",
        "    right = pad['#']  #처음 오른손의 위치\n",
        "\n",
        "    for num in numbers :\n",
        "    \t#왼손이 누를 번호\n",
        "        if num in [1, 4, 7] :\n",
        "            answer += 'L'          #answer에 'L' 저장\n",
        "            left = pad[str(num)]   #해당 번호를 눌렀을 때 왼손의 위치 저장\n",
        "\n",
        "        #오른손이 누를 번호\n",
        "        elif num in [3, 6, 9] :\n",
        "            answer += 'R'            #answer에 'R' 저장\n",
        "            right = pad[str(num)]    #해당 번호를 눌렀을 때 오른손의 위치 저장\n",
        "\n",
        "        #번호가 2,5,8,0일 때\n",
        "        else :\n",
        "        \t#번호와 왼손의 거리 계산\n",
        "            left_dis = abs(left[0] - pad[str(num)][0]) + abs(left[1] - pad[str(num)][1])\n",
        "            #번호와 오른손의 거리 계산\n",
        "            right_dis = abs(right[0] - pad[str(num)][0]) + abs(right[1] - pad[str(num)][1])\n",
        "\n",
        "            #왼손이 더 가까울 때\n",
        "            if left_dis < right_dis :\n",
        "                answer += 'L'\n",
        "                left = pad[str(num)]\n",
        "\n",
        "            #오른손이 더 가까울 때\n",
        "            elif left_dis > right_dis :\n",
        "                answer += 'R'\n",
        "                right = pad[str(num)]\n",
        "\n",
        "            #왼손과 오른손 거리가 같을 때\n",
        "            else :\n",
        "                if hand == 'right' :\n",
        "                    answer += 'R'\n",
        "                    right = pad[str(num)]\n",
        "                else :\n",
        "                    answer += 'L'\n",
        "                    left = pad[str(num)]\n",
        "\n",
        "    return answer\n"
      ],
      "metadata": {
        "id": "Nfpg84lPppSM"
      },
      "execution_count": null,
      "outputs": []
    },
    {
      "cell_type": "code",
      "source": [
        "numbers = [1, 3, 4, 5, 8, 2, 1, 4, 5, 9, 5]\n",
        "hand = 'right'\n",
        "solution(numbers, hand)"
      ],
      "metadata": {
        "id": "4fywQ0XdzPt0",
        "colab": {
          "base_uri": "https://localhost:8080/",
          "height": 35
        },
        "outputId": "11870b6e-4f93-46dd-8fbd-0907e8689343"
      },
      "execution_count": null,
      "outputs": [
        {
          "output_type": "execute_result",
          "data": {
            "text/plain": [
              "'LRLLLRLLRRL'"
            ],
            "application/vnd.google.colaboratory.intrinsic+json": {
              "type": "string"
            }
          },
          "metadata": {},
          "execution_count": 65
        }
      ]
    },
    {
      "cell_type": "markdown",
      "source": [
        "### 다트 던지기 (x)\n",
        "https://school.programmers.co.kr/learn/courses/30/lessons/17682"
      ],
      "metadata": {
        "id": "htVIWuID21Ss"
      }
    },
    {
      "cell_type": "code",
      "source": [
        "# 점수와 함께 Single(S), Double(D), Triple(T) 영역이 존재하고 각 영역 당첨 시 점수에서 1제곱, 2제곱, 3제곱 (점수1 , 점수2 , 점수3 )으로 계산된다.\n",
        "# 옵션으로 스타상(*) , 아차상(#) 이 존재하며 스타상(*) 당첨 시 해당 점수와 바로 전에 얻은 점수를 각 2배로 만든다. 아차상(#) 당첨 시 해당 점수는 마이너스된다.\n",
        "\n",
        "def sol(dartResult):\n",
        "    answer = 0\n",
        "    dart_score = []\n",
        "    number = list(map(str, range(1, 11)))\n",
        "\n",
        "    for i in dartResult:\n",
        "        if i in number:\n",
        "            dart_score.append(int(i))\n",
        "\n",
        "    return None\n",
        "\n",
        "dartResult = '1S2D*3T'\n",
        "sol(dartResult)"
      ],
      "metadata": {
        "id": "XAwekCvNsrpC"
      },
      "execution_count": null,
      "outputs": []
    },
    {
      "cell_type": "code",
      "source": [
        "dartResult = list('1S2D*3T')\n",
        "dartResult\n",
        "\n",
        "for i in range(len(dartResult)):\n",
        "    if dartResult[i] in ['S', 'D', 'T']:\n",
        "        if dartResult[i+1] not in ['*', '#']:\n",
        "            dartResult.insert(i+1, ' ')\n",
        "\n",
        "print(dartResult)"
      ],
      "metadata": {
        "colab": {
          "base_uri": "https://localhost:8080/"
        },
        "id": "H52KYqpR0pO7",
        "outputId": "5a0e07bd-ce86-47c4-e5f2-359885c2ab64"
      },
      "execution_count": null,
      "outputs": [
        {
          "output_type": "stream",
          "name": "stdout",
          "text": [
            "['1', 'S', ' ', '2', 'D', '*', '3', 'T']\n"
          ]
        }
      ]
    },
    {
      "cell_type": "markdown",
      "source": [
        "### 로또 최고순위와 최저순위 (v)\n",
        "https://school.programmers.co.kr/learn/courses/30/lessons/77484"
      ],
      "metadata": {
        "id": "RGyQ3ri425rM"
      }
    },
    {
      "cell_type": "code",
      "source": [
        "def solution(lottos, win_nums):\n",
        "    ranking = {6:1, 5:2, 4:3, 3:4, 2:5, 1:6, 0:6}\n",
        "    high_rank = 0\n",
        "    low_rank = 0\n",
        "    no = []\n",
        "\n",
        "    for i in lottos:\n",
        "        if i in win_nums:\n",
        "            high_rank += 1\n",
        "            low_rank += 1\n",
        "\n",
        "        elif i == 0:\n",
        "            high_rank += 1\n",
        "\n",
        "        print(ranking[high_rank], ranking[low_rank])\n",
        "\n",
        "\n",
        "    return sorted([ranking[high_rank], ranking[low_rank]])\n",
        "\n"
      ],
      "metadata": {
        "id": "aoaDoBGn29ju"
      },
      "execution_count": null,
      "outputs": []
    },
    {
      "cell_type": "code",
      "source": [
        "lottos = [0, 0, 0, 0, 0, 0]\n",
        "win_nums = [38, 19, 20, 40, 15, 25]\n",
        "\n",
        "solution(lottos, win_nums)"
      ],
      "metadata": {
        "colab": {
          "base_uri": "https://localhost:8080/"
        },
        "id": "3BYTQlWL34O3",
        "outputId": "3acc6bc6-a923-43bd-e814-8f9c45f3f592"
      },
      "execution_count": null,
      "outputs": [
        {
          "output_type": "stream",
          "name": "stdout",
          "text": [
            "6 6\n",
            "5 6\n",
            "4 6\n",
            "3 6\n",
            "2 6\n",
            "1 6\n"
          ]
        },
        {
          "output_type": "execute_result",
          "data": {
            "text/plain": [
              "[1, 6]"
            ]
          },
          "metadata": {},
          "execution_count": 31
        }
      ]
    },
    {
      "cell_type": "markdown",
      "source": [
        "### 공원 산책\n",
        "https://school.programmers.co.kr/learn/courses/30/lessons/172928"
      ],
      "metadata": {
        "id": "kFWTBJSxAf4z"
      }
    },
    {
      "cell_type": "code",
      "source": [
        "def solution(park, routes):\n",
        "    dx, dy = 0, 0\n",
        "    current = []\n",
        "\n",
        "    for idx_i, i in enumerate(park):\n",
        "        for idx_j, j in enumerate(i):\n",
        "            if j == 'S':\n",
        "                current = [idx_i] + [idx_j]\n",
        "                break\n",
        "\n",
        "    print(current)\n",
        "\n",
        "    pass"
      ],
      "metadata": {
        "id": "TCV0ji3H4pNx"
      },
      "execution_count": 178,
      "outputs": []
    },
    {
      "cell_type": "code",
      "source": [
        "park = [\"SOO\",\"OOO\",\"OOO\"]\n",
        "routes = [\"E 2\",\"S 2\",\"W 1\"]\n",
        "\n",
        "solution(park, routes)"
      ],
      "metadata": {
        "colab": {
          "base_uri": "https://localhost:8080/"
        },
        "id": "kUl2yrT2A7og",
        "outputId": "da56d76e-f7e6-456a-a7d0-9df4d3729591"
      },
      "execution_count": 179,
      "outputs": [
        {
          "output_type": "stream",
          "name": "stdout",
          "text": [
            "[0, 0]\n"
          ]
        }
      ]
    },
    {
      "cell_type": "markdown",
      "source": [
        "## 완주하지 못한 선수 (V)\n",
        "https://school.programmers.co.kr/learn/courses/30/lessons/42576"
      ],
      "metadata": {
        "id": "-K5OBnh2R5Vm"
      }
    },
    {
      "cell_type": "code",
      "source": [
        "def solution(participant, completion):\n",
        "    hash = {}\n",
        "    for p in participant:\n",
        "        if p in hash:\n",
        "            hash[p] += 1\n",
        "            continue\n",
        "\n",
        "        hash[p] = 1\n",
        "\n",
        "    for c in completion:\n",
        "        hash[c] -= 1\n",
        "\n",
        "    for p in participant:\n",
        "        if hash[p] != 0:\n",
        "            return p"
      ],
      "metadata": {
        "id": "8PSO1bvVB-VD"
      },
      "execution_count": null,
      "outputs": []
    },
    {
      "cell_type": "code",
      "source": [
        "participant = [\"mislav\", \"stanko\", \"mislav\", \"ana\"]\n",
        "completion = [\"stanko\", \"mislav\", \"ana\"]\n",
        "\n",
        "\n",
        "solution(participant, completion)"
      ],
      "metadata": {
        "colab": {
          "base_uri": "https://localhost:8080/",
          "height": 35
        },
        "id": "J2IF2ncxSPFH",
        "outputId": "9498e10a-4ecf-4db5-d7e6-b54dddb66b79"
      },
      "execution_count": null,
      "outputs": [
        {
          "output_type": "execute_result",
          "data": {
            "text/plain": [
              "'mislav'"
            ],
            "application/vnd.google.colaboratory.intrinsic+json": {
              "type": "string"
            }
          },
          "metadata": {},
          "execution_count": 14
        }
      ]
    },
    {
      "cell_type": "code",
      "source": [
        "from collections import Counter\n",
        "\n",
        "answer = Counter(participant) - Counter(completion)\n",
        "print(list(answer.keys())[0])"
      ],
      "metadata": {
        "colab": {
          "base_uri": "https://localhost:8080/"
        },
        "id": "JdxSTENuSj70",
        "outputId": "ac59dda5-ba86-4ed3-cda2-499e1458c5d3"
      },
      "execution_count": null,
      "outputs": [
        {
          "output_type": "stream",
          "name": "stdout",
          "text": [
            "mislav\n"
          ]
        }
      ]
    },
    {
      "cell_type": "markdown",
      "source": [
        "## Lv2"
      ],
      "metadata": {
        "id": "ce6S6zSvV-5X"
      }
    },
    {
      "cell_type": "markdown",
      "source": [
        "### 영어 끝말잇기 (V)\n",
        "https://school.programmers.co.kr/learn/courses/30/lessons/12981"
      ],
      "metadata": {
        "id": "PGrN4X-jWBB2"
      }
    },
    {
      "cell_type": "code",
      "source": [
        "def solution(n, words):\n",
        "    p = [words[0][0]] # word를 순서대로 넣음\n",
        "\n",
        "    for idx, word in enumerate(words):\n",
        "        if word not in p and p[-1][-1] == word[0]:\n",
        "            p.append(word)\n",
        "        else:\n",
        "            return [(idx+1) % n, idx // n + 1 ]\n",
        "        print(p, idx // n)"
      ],
      "metadata": {
        "id": "lXlelGqFV-K0"
      },
      "execution_count": null,
      "outputs": []
    },
    {
      "cell_type": "code",
      "source": [
        "n = 2\n",
        "words = [\"hello\", \"one\", \"even\", \"never\", \"now\", \"world\", \"draw\"]\n",
        "\n",
        "solution(n, words)"
      ],
      "metadata": {
        "colab": {
          "base_uri": "https://localhost:8080/"
        },
        "id": "s42cNIxvWI9q",
        "outputId": "6b37fe88-e39c-477c-c92d-b7f56c064c99"
      },
      "execution_count": null,
      "outputs": [
        {
          "output_type": "stream",
          "name": "stdout",
          "text": [
            "['h', 'hello'] 0\n",
            "['h', 'hello', 'one'] 0\n",
            "['h', 'hello', 'one', 'even'] 1\n",
            "['h', 'hello', 'one', 'even', 'never'] 1\n"
          ]
        },
        {
          "output_type": "execute_result",
          "data": {
            "text/plain": [
              "[1, 3]"
            ]
          },
          "metadata": {},
          "execution_count": 92
        }
      ]
    },
    {
      "cell_type": "markdown",
      "source": [
        "### 숫자의 표현 (v)\n",
        "https://school.programmers.co.kr/learn/courses/30/lessons/12924"
      ],
      "metadata": {
        "id": "pWW9HUAgAKMg"
      }
    },
    {
      "cell_type": "code",
      "source": [
        "def sol(n):\n",
        "    k = 1\n",
        "    cnt = 0\n",
        "\n",
        "    for i in range(1, 10000):\n",
        "        total = 0\n",
        "        for j in range(i, 10000):\n",
        "            if total > n or total == n:\n",
        "                break\n",
        "            total += j\n",
        "            if total == n:\n",
        "                cnt += 1\n",
        "    return cnt\n"
      ],
      "metadata": {
        "id": "OSbFJPgbWOde"
      },
      "execution_count": null,
      "outputs": []
    },
    {
      "cell_type": "code",
      "source": [
        "sol(17)"
      ],
      "metadata": {
        "colab": {
          "base_uri": "https://localhost:8080/"
        },
        "id": "pya3EeK2BDSo",
        "outputId": "2676fda7-be7c-48d7-8f05-01db92790f65"
      },
      "execution_count": null,
      "outputs": [
        {
          "output_type": "execute_result",
          "data": {
            "text/plain": [
              "2"
            ]
          },
          "metadata": {},
          "execution_count": 99
        }
      ]
    },
    {
      "cell_type": "markdown",
      "source": [
        "### 이진 변환 반복하기 (v)\n",
        "https://school.programmers.co.kr/learn/courses/30/lessons/70129"
      ],
      "metadata": {
        "id": "o2Slsr_QC3Up"
      }
    },
    {
      "cell_type": "code",
      "source": [
        "def solution(s):\n",
        "    n_zero = 0\n",
        "    cnt = 0\n",
        "\n",
        "    for _ in range(len(s)):\n",
        "        n_zero += s.count('0')\n",
        "\n",
        "        s = s.replace('0', '')\n",
        "        s = bin(len(s))[2:]\n",
        "        cnt += 1\n",
        "\n",
        "        if s == '1':\n",
        "            break\n",
        "\n",
        "    return [cnt, n_zero]"
      ],
      "metadata": {
        "id": "-MbKjAIhC274"
      },
      "execution_count": null,
      "outputs": []
    },
    {
      "cell_type": "code",
      "source": [
        "s = \"01110\"\n",
        "solution(s)"
      ],
      "metadata": {
        "colab": {
          "base_uri": "https://localhost:8080/"
        },
        "id": "RveD583DBVoL",
        "outputId": "10ff413f-2d6e-4a16-d928-810d551f9f84"
      },
      "execution_count": null,
      "outputs": [
        {
          "output_type": "execute_result",
          "data": {
            "text/plain": [
              "[3, 3]"
            ]
          },
          "metadata": {},
          "execution_count": 133
        }
      ]
    },
    {
      "cell_type": "markdown",
      "source": [
        "### 다음 큰 숫자 (v)\n",
        "https://school.programmers.co.kr/learn/courses/30/lessons/12911\n"
      ],
      "metadata": {
        "id": "F0mCyGroLEwL"
      }
    },
    {
      "cell_type": "code",
      "source": [
        "def solution(n):\n",
        "    for i in range(n+1, n+1000):\n",
        "        bi = bin(i)[2:] # str\n",
        "        if bin(n)[2:].count('1') == bi.count('1'):\n",
        "            return i\n",
        "\n"
      ],
      "metadata": {
        "id": "17Z0w83ELIW2"
      },
      "execution_count": null,
      "outputs": []
    },
    {
      "cell_type": "code",
      "source": [
        "n = 15\n",
        "solution(n)"
      ],
      "metadata": {
        "colab": {
          "base_uri": "https://localhost:8080/"
        },
        "id": "rmwW2DzjDl0N",
        "outputId": "40346ad9-910c-4c45-9d4e-1be54804fcca"
      },
      "execution_count": null,
      "outputs": [
        {
          "output_type": "execute_result",
          "data": {
            "text/plain": [
              "23"
            ]
          },
          "metadata": {},
          "execution_count": 145
        }
      ]
    },
    {
      "cell_type": "markdown",
      "source": [
        "### 피보나치 수 (v)\n",
        "https://school.programmers.co.kr/learn/courses/30/lessons/12945"
      ],
      "metadata": {
        "id": "dPRAGWWROi6P"
      }
    },
    {
      "cell_type": "code",
      "source": [
        "def solution(n):\n",
        "    l = []\n",
        "    for i in range(n+1):\n",
        "        pib = 0\n",
        "        if i > 1:\n",
        "            pib = l[-1] + l[-2]\n",
        "            l.append(pib)\n",
        "            continue\n",
        "        l.append(i)\n",
        "\n",
        "    print(l)\n",
        "\n",
        "    return (l[n] % 1234567)\n"
      ],
      "metadata": {
        "id": "u9rT_Jw3NZZL"
      },
      "execution_count": null,
      "outputs": []
    },
    {
      "cell_type": "code",
      "source": [
        "n = 5\n",
        "solution(n)"
      ],
      "metadata": {
        "colab": {
          "base_uri": "https://localhost:8080/"
        },
        "id": "IEoWdc3nPdsV",
        "outputId": "904d64a8-0534-494b-cf37-1d34f9595e12"
      },
      "execution_count": null,
      "outputs": [
        {
          "output_type": "stream",
          "name": "stdout",
          "text": [
            "[0, 1, 1, 2, 3, 5]\n"
          ]
        },
        {
          "output_type": "execute_result",
          "data": {
            "text/plain": [
              "5"
            ]
          },
          "metadata": {},
          "execution_count": 155
        }
      ]
    },
    {
      "cell_type": "markdown",
      "source": [
        "### 짝지어 제거하기(v)\n",
        "https://school.programmers.co.kr/learn/courses/30/lessons/12973"
      ],
      "metadata": {
        "id": "j9sBMQZ9SqoK"
      }
    },
    {
      "cell_type": "code",
      "source": [
        "def solution(s):\n",
        "\n",
        "    # 접근 1) 문자열 직접 삭제\n",
        "    # i = 0\n",
        "    # while True:\n",
        "\n",
        "    #     if len(s) == 0 or i >= len(set(s)): # 문자를 다 삭제하거나, 알파벳 쌍이 남아있지 않을경우\n",
        "    #         break\n",
        "\n",
        "    #     if s[i]*2 in s:\n",
        "    #         s = s.replace(s[i]*2, '') # 알파벳 쌍을 블랭크처리\n",
        "    #         i = 0   # 초기화\n",
        "    #     else:\n",
        "    #         i += 1\n",
        "    #     print(s, i)\n",
        "\n",
        "\n",
        "    # return 1 if len(s) == 0 else 0\n",
        "\n",
        "\n",
        "    # 접근 2) 문자열을 집합으로 만든 후 집합 원소 각각 다 제거\n",
        "\n",
        "    # set_s = list(set(s))\n",
        "    # i = 0\n",
        "    # while True:\n",
        "\n",
        "    #     if set_s[i]*2 in s:\n",
        "    #         s = s.replace(set_s[i]*2, '')\n",
        "    #         i = 0\n",
        "    #     else:\n",
        "    #         i += 1\n",
        "    #     print(s, i)\n",
        "\n",
        "    #     if len(s) == 0:\n",
        "    #         return 1\n",
        "    #     else:\n",
        "    #         return 0\n",
        "\n",
        "    # 접근 3) stack 활용\n",
        "\n",
        "    stack = []\n",
        "\n",
        "    for i in s:\n",
        "\n",
        "        if len(stack) == 0:\n",
        "            stack.append(i)\n",
        "        elif stack[-1] == i:\n",
        "            stack.pop()\n",
        "        else:\n",
        "            stack.append(i)\n",
        "\n",
        "        print(stack)\n",
        "\n",
        "    return 1 if len(stack) == 0 else 0"
      ],
      "metadata": {
        "id": "UkYZ8zBDTiAX"
      },
      "execution_count": null,
      "outputs": []
    },
    {
      "cell_type": "code",
      "source": [
        "s = 'baabaa'\n",
        "solution(s)"
      ],
      "metadata": {
        "colab": {
          "base_uri": "https://localhost:8080/"
        },
        "id": "RfAFgnnvQWK0",
        "outputId": "67350b08-13bb-4079-c371-042c5ec0d36c"
      },
      "execution_count": null,
      "outputs": [
        {
          "output_type": "stream",
          "name": "stdout",
          "text": [
            "['b']\n",
            "['b', 'a']\n",
            "['b']\n",
            "[]\n",
            "['a']\n",
            "[]\n"
          ]
        },
        {
          "output_type": "execute_result",
          "data": {
            "text/plain": [
              "1"
            ]
          },
          "metadata": {},
          "execution_count": 49
        }
      ]
    },
    {
      "cell_type": "markdown",
      "source": [
        "### 카펫 (V)\n",
        "https://school.programmers.co.kr/learn/courses/30/lessons/42842"
      ],
      "metadata": {
        "id": "hi9wGF6t16FV"
      }
    },
    {
      "cell_type": "code",
      "source": [
        "def getMyDivisor(n):\n",
        "\n",
        "    divisorsList = []\n",
        "\n",
        "    for i in range(1, int(n**(1/2)) + 1):\n",
        "        if (n % i == 0):\n",
        "            divisorsList.append(i)\n",
        "            if ( (i**2) != n) :\n",
        "                divisorsList.append(n // i)\n",
        "\n",
        "    divisorsList.sort()\n",
        "\n",
        "    return divisorsList\n",
        "\n",
        "def solution(brown, yellow):\n",
        "\n",
        "    l = getMyDivisor(brown+yellow)\n",
        "\n",
        "    for i in l:\n",
        "        for j in l:\n",
        "            if i*j == yellow+brown and (i-2)*(j-2) == yellow:\n",
        "                return sorted([i, j], reverse=True)\n"
      ],
      "metadata": {
        "id": "L5A0MJdUV9OM"
      },
      "execution_count": null,
      "outputs": []
    },
    {
      "cell_type": "code",
      "source": [
        "brown = 24\n",
        "yellow = 24\n",
        "solution(brown, yellow)"
      ],
      "metadata": {
        "colab": {
          "base_uri": "https://localhost:8080/"
        },
        "id": "RcxpdK462oER",
        "outputId": "48b84dd0-c296-4f99-d8c5-31865e2f8ad8"
      },
      "execution_count": null,
      "outputs": [
        {
          "output_type": "execute_result",
          "data": {
            "text/plain": [
              "[8, 6]"
            ]
          },
          "metadata": {},
          "execution_count": 43
        }
      ]
    },
    {
      "cell_type": "markdown",
      "source": [
        "### 예상 대진표 (v)\n",
        "https://school.programmers.co.kr/learn/courses/30/lessons/12985"
      ],
      "metadata": {
        "id": "yU6LWkB2DUIe"
      }
    },
    {
      "cell_type": "code",
      "source": [
        "def solution(n, a, b):\n",
        "    answer = 0\n",
        "    # a,b 값이 같아지는 순간은 a,b가 겨룬 후임.\n",
        "    while a!=b:\n",
        "        # 라운드 수\n",
        "        answer += 1\n",
        "        # 다음 라운드의 번호\n",
        "        a, b = (a+1)//2, (b+1)//2\n",
        "\n",
        "    return answer\n",
        "\n"
      ],
      "metadata": {
        "id": "gDj4qK1sDqM9"
      },
      "execution_count": null,
      "outputs": []
    },
    {
      "cell_type": "markdown",
      "source": [
        "### 구명보트(v)\n",
        "https://school.programmers.co.kr/learn/courses/30/lessons/42885"
      ],
      "metadata": {
        "id": "v3G9UoACL2Mj"
      }
    },
    {
      "cell_type": "code",
      "source": [
        "# 접근 1) 한명씩 넣어서 보트의 수를 계산하자\n",
        "# def solution1(people, limit):\n",
        "#     people.sort()\n",
        "\n",
        "#     total = []\n",
        "#     cnt = 1\n",
        "\n",
        "#     for p in people:\n",
        "#         total.append(p)\n",
        "\n",
        "#         if sum(total) > limit or len(total) > 2:\n",
        "#             total = [p]\n",
        "#             cnt += 1\n",
        "\n",
        "#         print(cnt, total)\n",
        "#     return cnt\n",
        "\n",
        "# 접근 2) 최소한의 보트 수를 구하기 위해, 가장 무거운 사람 + 가장 가벼운 사람 조합으로 해보자\n",
        "\n",
        "def solution(people, limit):\n",
        "    answer = 0\n",
        "\n",
        "    people.sort()\n",
        "\n",
        "    start, end = 0, len(people) - 1\n",
        "\n",
        "    # 중복 조합 방지\n",
        "    while start <= end:\n",
        "        # 보트를 1대씩 준비하고\n",
        "        answer += 1\n",
        "        # 무거운 + 가벼운 조합이 limit 범위 안이면 보트를 태워 보냄\n",
        "        if people[start] + people[end] <= limit:\n",
        "            start += 1\n",
        "        # 가장 무거운 사람을 보트에 태움\n",
        "        end -= 1\n",
        "        print(answer, start, end)\n",
        "\n",
        "    return answer"
      ],
      "metadata": {
        "id": "Nd_619RXL1JA"
      },
      "execution_count": null,
      "outputs": []
    },
    {
      "cell_type": "code",
      "source": [
        "people = [70, 50, 80, 50]\n",
        "limit = 100\n",
        "\n",
        "solution(people, limit)"
      ],
      "metadata": {
        "colab": {
          "base_uri": "https://localhost:8080/"
        },
        "id": "nehvcv-RMKXK",
        "outputId": "e750af26-a9c5-4945-de75-4b167730bdbd"
      },
      "execution_count": null,
      "outputs": [
        {
          "output_type": "stream",
          "name": "stdout",
          "text": [
            "1 0 2\n",
            "2 0 1\n",
            "3 1 0\n"
          ]
        },
        {
          "output_type": "execute_result",
          "data": {
            "text/plain": [
              "3"
            ]
          },
          "metadata": {},
          "execution_count": 52
        }
      ]
    },
    {
      "cell_type": "markdown",
      "source": [
        "### 점프와 순간 이동(v)\n",
        "https://school.programmers.co.kr/learn/courses/30/lessons/12980"
      ],
      "metadata": {
        "id": "lmcksiH5PIsU"
      }
    },
    {
      "cell_type": "code",
      "source": [
        "# 접근 1) 매 시행마다 점프 or 순간이동 선택해보자\n",
        "\n",
        "# def solution(n):\n",
        "#     current = 1\n",
        "#     jump = 1\n",
        "\n",
        "#     while True:\n",
        "#         print(current, jump)\n",
        "\n",
        "#         if current*2 <= n:\n",
        "#             current *= 2\n",
        "#         else:\n",
        "#             jump += 1\n",
        "#             current += jump\n",
        "\n",
        "#         if current == n or current > n:\n",
        "#             print(current, jump)\n",
        "#             break\n",
        "\n",
        "\n",
        "#     return jump\n",
        "\n",
        "# 접근 2) n을 2로 계속 나누고 홀수인 경우 -1하고 cnt += 1\n",
        "\n",
        "def solution(n):\n",
        "    cnt = 0\n",
        "\n",
        "    while n != 0:\n",
        "        if n % 2 == 1:\n",
        "            n -= 1\n",
        "            cnt += 1\n",
        "        n = int(n / 2)\n",
        "        print(n)\n",
        "\n",
        "\n",
        "    return cnt\n",
        "\n",
        "    # # 다른 풀이) 이진수의 자리수들의 합\n",
        "    # def solution(n):\n",
        "    #     return bin(n).count('1')\n",
        "\n"
      ],
      "metadata": {
        "id": "3bocTbdK84Vc"
      },
      "execution_count": null,
      "outputs": []
    },
    {
      "cell_type": "code",
      "source": [
        "n = 5000\n",
        "solution(n)"
      ],
      "metadata": {
        "id": "XayLbCbUPQUE",
        "colab": {
          "base_uri": "https://localhost:8080/"
        },
        "outputId": "05d25abc-b2f4-41db-9cc0-621917a872ad"
      },
      "execution_count": null,
      "outputs": [
        {
          "output_type": "stream",
          "name": "stdout",
          "text": [
            "2500\n",
            "1250\n",
            "625\n",
            "312\n",
            "156\n",
            "78\n",
            "39\n",
            "19\n",
            "9\n",
            "4\n",
            "2\n",
            "1\n",
            "0\n"
          ]
        },
        {
          "output_type": "execute_result",
          "data": {
            "text/plain": [
              "5"
            ]
          },
          "metadata": {},
          "execution_count": 42
        }
      ]
    },
    {
      "cell_type": "markdown",
      "source": [
        "### N개의 최소공배수 (v)\n",
        "https://school.programmers.co.kr/learn/courses/30/lessons/12953"
      ],
      "metadata": {
        "id": "eYrhbeALPOsL"
      }
    },
    {
      "cell_type": "code",
      "source": [
        "\n",
        "# 최대 공약수\n",
        "def GCD(x,y):\n",
        "    while(y):\n",
        "        x, y = y, x%y\n",
        "    return x\n",
        "\n",
        "# 최소공배수\n",
        "def LCM(x,y):\n",
        "    result = (x*y)//GCD(x,y)\n",
        "    return result\n",
        "\n",
        "\n",
        "def solution(arr):\n",
        "\n",
        "    temp = LCM(arr[0], arr[1])\n",
        "    for i in range(2, len(arr)):\n",
        "        temp = LCM(temp, arr[i])\n",
        "\n",
        "\n",
        "\n",
        "    return temp"
      ],
      "metadata": {
        "id": "TYaMZdwkE2i1"
      },
      "execution_count": null,
      "outputs": []
    },
    {
      "cell_type": "code",
      "source": [
        "arr = [2,7]\n",
        "solution(arr)"
      ],
      "metadata": {
        "colab": {
          "base_uri": "https://localhost:8080/"
        },
        "id": "IReG1iILUdBl",
        "outputId": "24dd94fb-adfb-46f8-be37-d83d9acf8c55"
      },
      "execution_count": null,
      "outputs": [
        {
          "output_type": "execute_result",
          "data": {
            "text/plain": [
              "14"
            ]
          },
          "metadata": {},
          "execution_count": 63
        }
      ]
    },
    {
      "cell_type": "markdown",
      "source": [
        "### 멀리뛰기 (v)\n",
        "https://school.programmers.co.kr/learn/courses/30/lessons/12953"
      ],
      "metadata": {
        "id": "xb11kMs38zQq"
      }
    },
    {
      "cell_type": "code",
      "source": [
        "# 접근 1) 1 or 2를 계속 합하는 경우의 수 문제이다\n",
        "# 접근 2) a[n] = a[n-1] + a[n-2]의 점화식을 코드로 구현하는 것이다.\n",
        "\n",
        "def solution(n):\n",
        "    if n == 1:\n",
        "        return 1\n",
        "    elif n == 2:\n",
        "        return 2\n",
        "    else:\n",
        "        l = [1,2]\n",
        "        for i in range(n-len(l)):\n",
        "            l.append(l[-1]+l[-2])\n",
        "\n",
        "\n",
        "    return l[-1] % 1234567\n",
        "\n"
      ],
      "metadata": {
        "id": "5Qi8ec1MUjaV"
      },
      "execution_count": null,
      "outputs": []
    },
    {
      "cell_type": "code",
      "source": [
        "n = 6\n",
        "solution(n)"
      ],
      "metadata": {
        "colab": {
          "base_uri": "https://localhost:8080/"
        },
        "id": "XiTE2jwi-jnK",
        "outputId": "f7f9343c-e105-42d8-80d8-af5586543324"
      },
      "execution_count": null,
      "outputs": [
        {
          "output_type": "execute_result",
          "data": {
            "text/plain": [
              "13"
            ]
          },
          "metadata": {},
          "execution_count": 8
        }
      ]
    },
    {
      "cell_type": "markdown",
      "source": [
        "### 귤고르기(V)\n",
        "https://school.programmers.co.kr/learn/courses/30/lessons/138476"
      ],
      "metadata": {
        "id": "3jSKNAcWDmqd"
      }
    },
    {
      "cell_type": "code",
      "source": [
        "# 접근 1) 귤의 크기를 집합으로 만들어서 크기별 몇 개의 귤이 있는지 파악 후\n",
        "# 판매하고자 하는 갯수가 되는 조합중 최소 값을 리턴하자\n",
        "\n",
        "def solution(k, tangarine):\n",
        "\n",
        "    # 귤의 종류별 갯수를 구함\n",
        "    set_tan = list(set(tangarine))\n",
        "    dict_ = {k:0 for k in set_tan}\n",
        "\n",
        "    for i in tangarine:\n",
        "        dict_[i] += 1\n",
        "    # import collections\n",
        "    # dict_ = collections.Counter(tangarine)가 더 깔끔함\n",
        "\n",
        "    # dict_의 value를 역순 정렬한 후\n",
        "    d_val = sorted([i for i in dict_.values()], reverse=True)\n",
        "\n",
        "    # 갯수가 많은 크기 순으로 귤을 담고\n",
        "    # 귤의 갯수가 k보다 크거나 같은 순간 cnt를 리턴\n",
        "    result, cnt = 0, 0\n",
        "    for v in d_val:\n",
        "        result += v\n",
        "        cnt += 1\n",
        "        if result >= k:\n",
        "            return cnt\n",
        "        print(cnt, result)\n",
        "\n"
      ],
      "metadata": {
        "id": "18KmloVPCCIG"
      },
      "execution_count": null,
      "outputs": []
    },
    {
      "cell_type": "code",
      "source": [
        "k, tangarine = 2, [1, 1, 1, 1, 2, 2, 2, 3]\n",
        "solution(k, tangarine)"
      ],
      "metadata": {
        "colab": {
          "base_uri": "https://localhost:8080/"
        },
        "id": "iJbCjw1cD62o",
        "outputId": "9a72162d-d49f-4416-95e7-60b072a40347"
      },
      "execution_count": null,
      "outputs": [
        {
          "output_type": "execute_result",
          "data": {
            "text/plain": [
              "1"
            ]
          },
          "metadata": {},
          "execution_count": 40
        }
      ]
    },
    {
      "cell_type": "markdown",
      "source": [
        "### 괄호 회전하기 (x)\n",
        "https://school.programmers.co.kr/learn/courses/30/lessons/76502"
      ],
      "metadata": {
        "id": "3nIwoD20xMPd"
      }
    },
    {
      "cell_type": "code",
      "source": [
        "def solution(s):\n",
        "    # stack으로 풀어보자\n",
        "\n",
        "    correct = ['()', '[]', '{}']\n",
        "    stack = []\n",
        "    answer = 0\n",
        "    for i in range(len(s)):\n",
        "        s = s[-1] + s[1:]\n",
        "        print(s)\n",
        "        for j in range(len(s)):\n",
        "            stack.append(s[j])\n",
        "            if stack[-1] + s[j] in correct:\n",
        "                stack.pop()\n",
        "            print(stack)\n",
        "\n",
        "\n",
        "        if len(stack) == 0:\n",
        "            answer += 1\n",
        "\n",
        "    return answer\n",
        "\n"
      ],
      "metadata": {
        "id": "aKeBAsgSEQwa"
      },
      "execution_count": null,
      "outputs": []
    },
    {
      "cell_type": "code",
      "source": [
        "s = \"[](){}\"\n",
        "solution(s)"
      ],
      "metadata": {
        "colab": {
          "base_uri": "https://localhost:8080/"
        },
        "id": "MAJs0G4uyERY",
        "outputId": "c88e8e7f-b1e8-499f-fafb-5e51b07f42ca"
      },
      "execution_count": null,
      "outputs": [
        {
          "output_type": "stream",
          "name": "stdout",
          "text": [
            "}](){}\n",
            "['}']\n",
            "['}', ']']\n",
            "['}', ']', '(']\n",
            "['}', ']', '(', ')']\n",
            "['}', ']', '(', ')', '{']\n",
            "['}', ']', '(', ')', '{', '}']\n",
            "}](){}\n",
            "['}', ']', '(', ')', '{', '}', '}']\n",
            "['}', ']', '(', ')', '{', '}', '}', ']']\n",
            "['}', ']', '(', ')', '{', '}', '}', ']', '(']\n",
            "['}', ']', '(', ')', '{', '}', '}', ']', '(', ')']\n",
            "['}', ']', '(', ')', '{', '}', '}', ']', '(', ')', '{']\n",
            "['}', ']', '(', ')', '{', '}', '}', ']', '(', ')', '{', '}']\n",
            "}](){}\n",
            "['}', ']', '(', ')', '{', '}', '}', ']', '(', ')', '{', '}', '}']\n",
            "['}', ']', '(', ')', '{', '}', '}', ']', '(', ')', '{', '}', '}', ']']\n",
            "['}', ']', '(', ')', '{', '}', '}', ']', '(', ')', '{', '}', '}', ']', '(']\n",
            "['}', ']', '(', ')', '{', '}', '}', ']', '(', ')', '{', '}', '}', ']', '(', ')']\n",
            "['}', ']', '(', ')', '{', '}', '}', ']', '(', ')', '{', '}', '}', ']', '(', ')', '{']\n",
            "['}', ']', '(', ')', '{', '}', '}', ']', '(', ')', '{', '}', '}', ']', '(', ')', '{', '}']\n",
            "}](){}\n",
            "['}', ']', '(', ')', '{', '}', '}', ']', '(', ')', '{', '}', '}', ']', '(', ')', '{', '}', '}']\n",
            "['}', ']', '(', ')', '{', '}', '}', ']', '(', ')', '{', '}', '}', ']', '(', ')', '{', '}', '}', ']']\n",
            "['}', ']', '(', ')', '{', '}', '}', ']', '(', ')', '{', '}', '}', ']', '(', ')', '{', '}', '}', ']', '(']\n",
            "['}', ']', '(', ')', '{', '}', '}', ']', '(', ')', '{', '}', '}', ']', '(', ')', '{', '}', '}', ']', '(', ')']\n",
            "['}', ']', '(', ')', '{', '}', '}', ']', '(', ')', '{', '}', '}', ']', '(', ')', '{', '}', '}', ']', '(', ')', '{']\n",
            "['}', ']', '(', ')', '{', '}', '}', ']', '(', ')', '{', '}', '}', ']', '(', ')', '{', '}', '}', ']', '(', ')', '{', '}']\n",
            "}](){}\n",
            "['}', ']', '(', ')', '{', '}', '}', ']', '(', ')', '{', '}', '}', ']', '(', ')', '{', '}', '}', ']', '(', ')', '{', '}', '}']\n",
            "['}', ']', '(', ')', '{', '}', '}', ']', '(', ')', '{', '}', '}', ']', '(', ')', '{', '}', '}', ']', '(', ')', '{', '}', '}', ']']\n",
            "['}', ']', '(', ')', '{', '}', '}', ']', '(', ')', '{', '}', '}', ']', '(', ')', '{', '}', '}', ']', '(', ')', '{', '}', '}', ']', '(']\n",
            "['}', ']', '(', ')', '{', '}', '}', ']', '(', ')', '{', '}', '}', ']', '(', ')', '{', '}', '}', ']', '(', ')', '{', '}', '}', ']', '(', ')']\n",
            "['}', ']', '(', ')', '{', '}', '}', ']', '(', ')', '{', '}', '}', ']', '(', ')', '{', '}', '}', ']', '(', ')', '{', '}', '}', ']', '(', ')', '{']\n",
            "['}', ']', '(', ')', '{', '}', '}', ']', '(', ')', '{', '}', '}', ']', '(', ')', '{', '}', '}', ']', '(', ')', '{', '}', '}', ']', '(', ')', '{', '}']\n",
            "}](){}\n",
            "['}', ']', '(', ')', '{', '}', '}', ']', '(', ')', '{', '}', '}', ']', '(', ')', '{', '}', '}', ']', '(', ')', '{', '}', '}', ']', '(', ')', '{', '}', '}']\n",
            "['}', ']', '(', ')', '{', '}', '}', ']', '(', ')', '{', '}', '}', ']', '(', ')', '{', '}', '}', ']', '(', ')', '{', '}', '}', ']', '(', ')', '{', '}', '}', ']']\n",
            "['}', ']', '(', ')', '{', '}', '}', ']', '(', ')', '{', '}', '}', ']', '(', ')', '{', '}', '}', ']', '(', ')', '{', '}', '}', ']', '(', ')', '{', '}', '}', ']', '(']\n",
            "['}', ']', '(', ')', '{', '}', '}', ']', '(', ')', '{', '}', '}', ']', '(', ')', '{', '}', '}', ']', '(', ')', '{', '}', '}', ']', '(', ')', '{', '}', '}', ']', '(', ')']\n",
            "['}', ']', '(', ')', '{', '}', '}', ']', '(', ')', '{', '}', '}', ']', '(', ')', '{', '}', '}', ']', '(', ')', '{', '}', '}', ']', '(', ')', '{', '}', '}', ']', '(', ')', '{']\n",
            "['}', ']', '(', ')', '{', '}', '}', ']', '(', ')', '{', '}', '}', ']', '(', ')', '{', '}', '}', ']', '(', ')', '{', '}', '}', ']', '(', ')', '{', '}', '}', ']', '(', ')', '{', '}']\n"
          ]
        },
        {
          "output_type": "execute_result",
          "data": {
            "text/plain": [
              "0"
            ]
          },
          "metadata": {},
          "execution_count": 46
        }
      ]
    },
    {
      "cell_type": "markdown",
      "source": [
        "### H-Index (△)\n",
        "https://school.programmers.co.kr/learn/courses/30/lessons/42747"
      ],
      "metadata": {
        "id": "uu75Hy1kKO12"
      }
    },
    {
      "cell_type": "code",
      "source": [
        "# 접근 1) 인용횟수를 정렬 후 중앙값 기준으로 좌/우에 몇 개의 숫자가 있는지?\n",
        "\n",
        "# def solution(citations):\n",
        "#     citations.sort()\n",
        "#     h = 0\n",
        "#     for i in range(len(citations)):\n",
        "#         if len(citations[i:]) >= i and len(citations[:i]) <= i:\n",
        "#             if citations[i] > h:\n",
        "#                 h = citations[i]\n",
        "#     return h\n",
        "\n",
        "# 접근 2) citations 중에 하나를 h로 잡고 좌/우 리스트를 나눈후 조건 확인\n",
        "\n",
        "# def solution_2(citations):\n",
        "#     c = citations\n",
        "#     c.sort()\n",
        "#     h = 0\n",
        "#     for i in range(len(citations)):\n",
        "#         left, right = c[:i], c[i+1:]\n",
        "#         if len(left) == 0 or len(right) == 0:\n",
        "#             continue\n",
        "#         if max(left) <= c[i] and min(right) >= c[i] and len(c[i:]) >= c[i]:\n",
        "#             if c[i] > h:\n",
        "#                 h = c[i]\n",
        "#         # print(left, right, c[i])\n",
        "\n",
        "#     return h\n",
        "\n",
        "# 인용수를 오름차순 정렬한 후\n",
        "# i번쨰 논문의 인용수(h)보다 같거나 작아지는 경우를 구함\n",
        "def solution_3(citations):\n",
        "    citations.sort()\n",
        "    n = len(citations)\n",
        "\n",
        "    for i in range(n):\n",
        "        print(citations[i], n-i)\n",
        "        if citations[i] >= n-i:\n",
        "            return n-i\n",
        "    return 0\n",
        "\n",
        "\n",
        "\n"
      ],
      "metadata": {
        "id": "RK0dSlLg5Rc8"
      },
      "execution_count": null,
      "outputs": []
    },
    {
      "cell_type": "code",
      "source": [
        "citations = [3, 0, 6, 1, 5]\n",
        "solution_3(citations)"
      ],
      "metadata": {
        "colab": {
          "base_uri": "https://localhost:8080/"
        },
        "id": "Cygh7UwSKggz",
        "outputId": "6836a8bc-ecce-40c5-931f-f56660d2360e"
      },
      "execution_count": null,
      "outputs": [
        {
          "output_type": "stream",
          "name": "stdout",
          "text": [
            "0 5\n",
            "1 4\n",
            "3 3\n"
          ]
        },
        {
          "output_type": "execute_result",
          "data": {
            "text/plain": [
              "3"
            ]
          },
          "metadata": {},
          "execution_count": 65
        }
      ]
    },
    {
      "cell_type": "markdown",
      "source": [
        "### 행렬의 곱셈(X)"
      ],
      "metadata": {
        "id": "_fWEOhmYde4Y"
      }
    },
    {
      "cell_type": "code",
      "source": [
        "def solution(arr1, arr2):\n",
        "    sum = 0\n",
        "    l = []\n",
        "    for i in range(len(arr1)):\n",
        "        for j in range(len(arr2)):\n",
        "            sum += arr1[i][j]*arr2[j][i]\n",
        "        l.append(sum)\n",
        "        sum = 0\n",
        "    print(l)\n",
        "\n",
        "\n"
      ],
      "metadata": {
        "id": "_cghmhy1MikJ"
      },
      "execution_count": 1,
      "outputs": []
    },
    {
      "cell_type": "code",
      "source": [
        "arr1, arr2 = [[1, 4], [3, 2], [4, 1]], [[3, 3], [3, 3]]\n",
        "solution(arr1, arr2)"
      ],
      "metadata": {
        "colab": {
          "base_uri": "https://localhost:8080/",
          "height": 305
        },
        "id": "3a-bCet1et2H",
        "outputId": "7e708f26-d321-424d-8a61-1c24542ca13c"
      },
      "execution_count": 2,
      "outputs": [
        {
          "output_type": "error",
          "ename": "IndexError",
          "evalue": "ignored",
          "traceback": [
            "\u001b[0;31m---------------------------------------------------------------------------\u001b[0m",
            "\u001b[0;31mIndexError\u001b[0m                                Traceback (most recent call last)",
            "\u001b[0;32m<ipython-input-2-cb02ed2ec4cf>\u001b[0m in \u001b[0;36m<cell line: 2>\u001b[0;34m()\u001b[0m\n\u001b[1;32m      1\u001b[0m \u001b[0marr1\u001b[0m\u001b[0;34m,\u001b[0m \u001b[0marr2\u001b[0m \u001b[0;34m=\u001b[0m \u001b[0;34m[\u001b[0m\u001b[0;34m[\u001b[0m\u001b[0;36m1\u001b[0m\u001b[0;34m,\u001b[0m \u001b[0;36m4\u001b[0m\u001b[0;34m]\u001b[0m\u001b[0;34m,\u001b[0m \u001b[0;34m[\u001b[0m\u001b[0;36m3\u001b[0m\u001b[0;34m,\u001b[0m \u001b[0;36m2\u001b[0m\u001b[0;34m]\u001b[0m\u001b[0;34m,\u001b[0m \u001b[0;34m[\u001b[0m\u001b[0;36m4\u001b[0m\u001b[0;34m,\u001b[0m \u001b[0;36m1\u001b[0m\u001b[0;34m]\u001b[0m\u001b[0;34m]\u001b[0m\u001b[0;34m,\u001b[0m \u001b[0;34m[\u001b[0m\u001b[0;34m[\u001b[0m\u001b[0;36m3\u001b[0m\u001b[0;34m,\u001b[0m \u001b[0;36m3\u001b[0m\u001b[0;34m]\u001b[0m\u001b[0;34m,\u001b[0m \u001b[0;34m[\u001b[0m\u001b[0;36m3\u001b[0m\u001b[0;34m,\u001b[0m \u001b[0;36m3\u001b[0m\u001b[0;34m]\u001b[0m\u001b[0;34m]\u001b[0m\u001b[0;34m\u001b[0m\u001b[0;34m\u001b[0m\u001b[0m\n\u001b[0;32m----> 2\u001b[0;31m \u001b[0msolution\u001b[0m\u001b[0;34m(\u001b[0m\u001b[0marr1\u001b[0m\u001b[0;34m,\u001b[0m \u001b[0marr2\u001b[0m\u001b[0;34m)\u001b[0m\u001b[0;34m\u001b[0m\u001b[0;34m\u001b[0m\u001b[0m\n\u001b[0m",
            "\u001b[0;32m<ipython-input-1-8cc0cc994301>\u001b[0m in \u001b[0;36msolution\u001b[0;34m(arr1, arr2)\u001b[0m\n\u001b[1;32m      4\u001b[0m     \u001b[0;32mfor\u001b[0m \u001b[0mi\u001b[0m \u001b[0;32min\u001b[0m \u001b[0mrange\u001b[0m\u001b[0;34m(\u001b[0m\u001b[0mlen\u001b[0m\u001b[0;34m(\u001b[0m\u001b[0marr1\u001b[0m\u001b[0;34m)\u001b[0m\u001b[0;34m)\u001b[0m\u001b[0;34m:\u001b[0m\u001b[0;34m\u001b[0m\u001b[0;34m\u001b[0m\u001b[0m\n\u001b[1;32m      5\u001b[0m         \u001b[0;32mfor\u001b[0m \u001b[0mj\u001b[0m \u001b[0;32min\u001b[0m \u001b[0mrange\u001b[0m\u001b[0;34m(\u001b[0m\u001b[0mlen\u001b[0m\u001b[0;34m(\u001b[0m\u001b[0marr2\u001b[0m\u001b[0;34m)\u001b[0m\u001b[0;34m)\u001b[0m\u001b[0;34m:\u001b[0m\u001b[0;34m\u001b[0m\u001b[0;34m\u001b[0m\u001b[0m\n\u001b[0;32m----> 6\u001b[0;31m             \u001b[0msum\u001b[0m \u001b[0;34m+=\u001b[0m \u001b[0marr1\u001b[0m\u001b[0;34m[\u001b[0m\u001b[0mi\u001b[0m\u001b[0;34m]\u001b[0m\u001b[0;34m[\u001b[0m\u001b[0mj\u001b[0m\u001b[0;34m]\u001b[0m\u001b[0;34m*\u001b[0m\u001b[0marr2\u001b[0m\u001b[0;34m[\u001b[0m\u001b[0mj\u001b[0m\u001b[0;34m]\u001b[0m\u001b[0;34m[\u001b[0m\u001b[0mi\u001b[0m\u001b[0;34m]\u001b[0m\u001b[0;34m\u001b[0m\u001b[0;34m\u001b[0m\u001b[0m\n\u001b[0m\u001b[1;32m      7\u001b[0m         \u001b[0ml\u001b[0m\u001b[0;34m.\u001b[0m\u001b[0mappend\u001b[0m\u001b[0;34m(\u001b[0m\u001b[0msum\u001b[0m\u001b[0;34m)\u001b[0m\u001b[0;34m\u001b[0m\u001b[0;34m\u001b[0m\u001b[0m\n\u001b[1;32m      8\u001b[0m         \u001b[0msum\u001b[0m \u001b[0;34m=\u001b[0m \u001b[0;36m0\u001b[0m\u001b[0;34m\u001b[0m\u001b[0;34m\u001b[0m\u001b[0m\n",
            "\u001b[0;31mIndexError\u001b[0m: list index out of range"
          ]
        }
      ]
    },
    {
      "cell_type": "markdown",
      "source": [
        "### n^2 배열 자르기 (v)\n",
        "https://school.programmers.co.kr/learn/courses/30/lessons/87390"
      ],
      "metadata": {
        "id": "5wCRkPdBXXPW"
      }
    },
    {
      "cell_type": "code",
      "source": [
        "# 접근 1) 문제의 주어진 조건에 따라 배열을 구성해보자\n",
        "# 빈사이즈의 2차원 리스트를 만들어서 값을 넣어보자\n",
        "# def solution(n, left, right):\n",
        "#     arr = [[0]*n, [0]*n, [0]*n]\n",
        "#     k = 1\n",
        "#     for i in range(n):\n",
        "#         for j in range(n):\n",
        "#             if arr[i][j] != 0:\n",
        "#                 k += 1\n",
        "#                 continue\n",
        "#             arr[i][j] = k\n",
        "#             print(arr)\n",
        "\n",
        "# -> 너무 복잡하다\n",
        "\n",
        "# 접근 2) 어차피 2차원 배열을 1차원으로 변경할 것이니\n",
        "# 처음부터 1차원기준으로 규칙을 찾아보자\n",
        "\n",
        "# def solution(n, left, right):\n",
        "#     result = []\n",
        "#     for i in range(1, n+1):\n",
        "#         l = []\n",
        "#         for j in range(1, n+1):\n",
        "#             l.append(j)\n",
        "\n",
        "#         if i==1:\n",
        "#             result.append(l)\n",
        "#             continue\n",
        "#         else:\n",
        "#             for k in range(len(l)):\n",
        "#                 if k <= i:\n",
        "#                     l[k] = l[k]+1\n",
        "#             result.append(l)\n",
        "\n",
        "#         print(result)\n",
        "\n",
        "# 접근 3) 문제의 규칙을 찾아보자\n",
        "def solution(n, left, right):\n",
        "    answer = []\n",
        "    for i in range(left, right+1):\n",
        "        answer.append(max(i//n, i%n)+1)\n",
        "\n",
        "    return answer\n",
        "\n",
        "\n",
        "\n",
        "\n"
      ],
      "metadata": {
        "id": "xH1yEm3Pg-Ce"
      },
      "execution_count": 85,
      "outputs": []
    },
    {
      "cell_type": "code",
      "source": [
        "n, left, right = 3, 2, 5\n",
        "solution(n, left, right)"
      ],
      "metadata": {
        "colab": {
          "base_uri": "https://localhost:8080/"
        },
        "id": "INAKoCLlEYJk",
        "outputId": "1471cb63-5f8a-4f62-c6d7-a4e590f8f80f"
      },
      "execution_count": 86,
      "outputs": [
        {
          "output_type": "execute_result",
          "data": {
            "text/plain": [
              "[3, 2, 2, 3]"
            ]
          },
          "metadata": {},
          "execution_count": 86
        }
      ]
    },
    {
      "cell_type": "markdown",
      "source": [
        "### [1차] 캐시 (X)\n",
        "https://school.programmers.co.kr/learn/courses/30/lessons/17680"
      ],
      "metadata": {
        "id": "GiExX-WjbrB8"
      }
    },
    {
      "cell_type": "code",
      "source": [
        "def solution(cacheSize, cities):\n",
        "    cities = [city.upper() for city in cities]\n",
        "    stack = []\n",
        "    hit, miss = 1, 5\n",
        "    time = 0\n",
        "    if cacheSize == 0:\n",
        "        return miss * len(cities)\n",
        "    else:\n",
        "         for city in cities:\n",
        "            if len(stack) == cacheSize:\n",
        "                if city in stack:\n",
        "                    stack.pop(city)\n",
        "                    time += hit\n",
        "                else:\n",
        "                    time += miss\n",
        "            else:\n",
        "                time += miss\n",
        "            stack.append(city)\n",
        "            print(stack, time)\n",
        "\n",
        "    return time\n"
      ],
      "metadata": {
        "id": "cBTJzbdWE690"
      },
      "execution_count": 157,
      "outputs": []
    },
    {
      "cell_type": "code",
      "source": [
        "cacheSize, cities = 2, [\"Jeju\", \"Pangyo\", \"NewYork\", \"newyork\"]\n",
        "solution(cacheSize, cities)"
      ],
      "metadata": {
        "colab": {
          "base_uri": "https://localhost:8080/"
        },
        "id": "i-_3nDDMd8nD",
        "outputId": "f31b7cc8-6e42-4fc4-9eca-4cc8e7daae3c"
      },
      "execution_count": 158,
      "outputs": [
        {
          "output_type": "stream",
          "name": "stdout",
          "text": [
            "['JEJU'] 5\n",
            "['JEJU', 'PANGYO'] 10\n",
            "['JEJU', 'PANGYO', 'NEWYORK'] 15\n",
            "['JEJU', 'PANGYO', 'NEWYORK', 'NEWYORK'] 20\n"
          ]
        },
        {
          "output_type": "execute_result",
          "data": {
            "text/plain": [
              "20"
            ]
          },
          "metadata": {},
          "execution_count": 158
        }
      ]
    },
    {
      "cell_type": "markdown",
      "source": [
        "### 기능개발\n",
        "https://school.programmers.co.kr/learn/courses/30/lessons/42586"
      ],
      "metadata": {
        "id": "UU4gXUa5ztdO"
      }
    },
    {
      "cell_type": "code",
      "source": [
        "import math\n",
        "\n",
        "def solution(progresses, speeds):\n",
        "    answer = []\n",
        "    cnt = 1\n",
        "    maxday = 0\n",
        "    for i in range(len(progresses)):\n",
        "        day = math.ceil((100 - progresses[i]) / speeds[i])\n",
        "        if maxday < day:\n",
        "            maxday = day\n",
        "            answer.append(cnt)\n",
        "            cnt = 1\n",
        "        else:\n",
        "            cnt += 1\n",
        "    return answer[1:] + [cnt]\n",
        ""
      ],
      "metadata": {
        "id": "VPrE77iNn-Rb"
      },
      "execution_count": 180,
      "outputs": []
    },
    {
      "cell_type": "code",
      "source": [
        "progresses, speeds = [93, 30, 55], [1, 30, 5]\n",
        "solution(progresses, speeds)"
      ],
      "metadata": {
        "colab": {
          "base_uri": "https://localhost:8080/"
        },
        "id": "ZrAZBtWQzyqo",
        "outputId": "34c8f58b-97e4-4277-cc8c-fa7189aa7661"
      },
      "execution_count": 181,
      "outputs": [
        {
          "output_type": "execute_result",
          "data": {
            "text/plain": [
              "[2, 1]"
            ]
          },
          "metadata": {},
          "execution_count": 181
        }
      ]
    }
  ],
  "metadata": {
    "colab": {
      "provenance": [],
      "authorship_tag": "ABX9TyPGwk3B9NVtBxXuiMcXwZ3s",
      "include_colab_link": true
    },
    "kernelspec": {
      "display_name": "Python 3",
      "name": "python3"
    },
    "language_info": {
      "name": "python"
    }
  },
  "nbformat": 4,
  "nbformat_minor": 0
}