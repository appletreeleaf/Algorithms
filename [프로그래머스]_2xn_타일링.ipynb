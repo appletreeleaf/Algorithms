{
  "nbformat": 4,
  "nbformat_minor": 0,
  "metadata": {
    "colab": {
      "provenance": [],
      "authorship_tag": "ABX9TyPUsk19O/Rz7yeebY7fl/Bm",
      "include_colab_link": true
    },
    "kernelspec": {
      "name": "python3",
      "display_name": "Python 3"
    },
    "language_info": {
      "name": "python"
    }
  },
  "cells": [
    {
      "cell_type": "markdown",
      "metadata": {
        "id": "view-in-github",
        "colab_type": "text"
      },
      "source": [
        "<a href=\"https://colab.research.google.com/github/appletreeleaf/Coding_Test/blob/main/%5B%ED%94%84%EB%A1%9C%EA%B7%B8%EB%9E%98%EB%A8%B8%EC%8A%A4%5D_2xn_%ED%83%80%EC%9D%BC%EB%A7%81.ipynb\" target=\"_parent\"><img src=\"https://colab.research.google.com/assets/colab-badge.svg\" alt=\"Open In Colab\"/></a>"
      ]
    },
    {
      "cell_type": "code",
      "execution_count": 22,
      "metadata": {
        "id": "Gm0Wf4cWco9g"
      },
      "outputs": [],
      "source": [
        "def solution(n):\n",
        "    answer = []\n",
        "    # n=1 / 1\n",
        "    # n=2 / 2\n",
        "    # n=3 / 3\n",
        "    # n=4 / 5\n",
        "    if n < 3:\n",
        "        return n\n",
        "\n",
        "    for i in range(1,n+1):\n",
        "        if i <= 2:\n",
        "            answer.append(i)\n",
        "        else:\n",
        "            answer.append(answer[-1]+answer[-2])\n",
        "            answer.popleft()\n",
        "\n",
        "    return answer[-1] % 1000000007"
      ]
    },
    {
      "cell_type": "code",
      "source": [
        "n = 4\n",
        "solution(n)"
      ],
      "metadata": {
        "colab": {
          "base_uri": "https://localhost:8080/"
        },
        "id": "j7V-iZh7cwFu",
        "outputId": "4287814e-fe7a-4b5d-da7d-d888c79bca43"
      },
      "execution_count": 21,
      "outputs": [
        {
          "output_type": "stream",
          "name": "stdout",
          "text": [
            "1 deque([1])\n",
            "2 deque([1, 2])\n",
            "3 deque([2, 3])\n",
            "4 deque([3, 5])\n"
          ]
        },
        {
          "output_type": "execute_result",
          "data": {
            "text/plain": [
              "5"
            ]
          },
          "metadata": {},
          "execution_count": 21
        }
      ]
    },
    {
      "cell_type": "code",
      "source": [],
      "metadata": {
        "id": "Ce5ZSAZugUyF"
      },
      "execution_count": null,
      "outputs": []
    }
  ]
}