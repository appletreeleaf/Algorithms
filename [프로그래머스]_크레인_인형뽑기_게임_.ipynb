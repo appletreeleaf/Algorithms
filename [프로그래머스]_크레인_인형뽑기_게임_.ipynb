{
  "nbformat": 4,
  "nbformat_minor": 0,
  "metadata": {
    "colab": {
      "provenance": [],
      "authorship_tag": "ABX9TyPBinDcejT2vIFXK2RVmI2j",
      "include_colab_link": true
    },
    "kernelspec": {
      "name": "python3",
      "display_name": "Python 3"
    },
    "language_info": {
      "name": "python"
    }
  },
  "cells": [
    {
      "cell_type": "markdown",
      "metadata": {
        "id": "view-in-github",
        "colab_type": "text"
      },
      "source": [
        "<a href=\"https://colab.research.google.com/github/appletreeleaf/Coding_Test/blob/main/%5B%ED%94%84%EB%A1%9C%EA%B7%B8%EB%9E%98%EB%A8%B8%EC%8A%A4%5D_%ED%81%AC%EB%A0%88%EC%9D%B8_%EC%9D%B8%ED%98%95%EB%BD%91%EA%B8%B0_%EA%B2%8C%EC%9E%84_.ipynb\" target=\"_parent\"><img src=\"https://colab.research.google.com/assets/colab-badge.svg\" alt=\"Open In Colab\"/></a>"
      ]
    },
    {
      "cell_type": "code",
      "execution_count": null,
      "metadata": {
        "id": "2vGfJd6_4ADX"
      },
      "outputs": [],
      "source": [
        "def solution(board, moves):\n",
        "    stack = []\n",
        "    answer = 0\n",
        "    for move in moves:\n",
        "        for i in range(len(board)):\n",
        "            if board[i][move-1] != 0:\n",
        "                stack.append(board[i][move-1])\n",
        "                board[i][move-1] = 0\n",
        "\n",
        "                if len(stack) > 1:\n",
        "                    if stack[-1] == stack[-2]:\n",
        "                        stack.pop(-1)\n",
        "                        stack.pop(-1)\n",
        "                        answer += 2\n",
        "\n",
        "                break\n",
        "\n",
        "    return answer\n",
        "\n",
        "\n",
        "board = [\n",
        "        [0,0,0,0,0],\n",
        "        [0,0,1,0,3],\n",
        "        [0,2,5,0,1],\n",
        "        [4,2,4,4,2],\n",
        "        [3,5,1,3,1]\n",
        "         ]\n",
        "moves = [1,5,3,5,1,2,1,4]\n",
        "solution(board, moves)\n"
      ]
    }
  ]
}