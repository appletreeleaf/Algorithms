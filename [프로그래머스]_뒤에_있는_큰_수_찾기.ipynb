{
  "nbformat": 4,
  "nbformat_minor": 0,
  "metadata": {
    "colab": {
      "provenance": [],
      "authorship_tag": "ABX9TyPtopc0eFkgNFlduDW9c0k5",
      "include_colab_link": true
    },
    "kernelspec": {
      "name": "python3",
      "display_name": "Python 3"
    },
    "language_info": {
      "name": "python"
    }
  },
  "cells": [
    {
      "cell_type": "markdown",
      "metadata": {
        "id": "view-in-github",
        "colab_type": "text"
      },
      "source": [
        "<a href=\"https://colab.research.google.com/github/appletreeleaf/Coding_Test/blob/main/%5B%ED%94%84%EB%A1%9C%EA%B7%B8%EB%9E%98%EB%A8%B8%EC%8A%A4%5D_%EB%92%A4%EC%97%90_%EC%9E%88%EB%8A%94_%ED%81%B0_%EC%88%98_%EC%B0%BE%EA%B8%B0.ipynb\" target=\"_parent\"><img src=\"https://colab.research.google.com/assets/colab-badge.svg\" alt=\"Open In Colab\"/></a>"
      ]
    },
    {
      "cell_type": "code",
      "execution_count": null,
      "metadata": {
        "id": "VsjZk9dZtGSx"
      },
      "outputs": [],
      "source": [
        "# Try 1\n",
        "from collections import deque\n",
        "\n",
        "def solution(numbers):\n",
        "    numbers = deque(numbers)\n",
        "    answer = []\n",
        "    cnt = 0\n",
        "    while numbers:\n",
        "        tmp = numbers.popleft()\n",
        "        for number in numbers:\n",
        "            if tmp < number:\n",
        "                answer.append(number); break\n",
        "        else:\n",
        "            answer.append(-1)\n",
        "        cnt += 1\n",
        "\n",
        "    print(cnt)\n",
        "    return answer"
      ]
    },
    {
      "cell_type": "code",
      "source": [
        "def solution(numbers):\n",
        "    # 먼저 -1을 채움\n",
        "    answer = [-1] * len(numbers)\n",
        "    # stack에 값이 아닌 index를 넣음\n",
        "    stack = []\n",
        "    for idx, number in enumerate(numbers):\n",
        "        if not stack:\n",
        "            stack.append(idx); continue\n",
        "        while stack and numbers[stack[-1]] < number:\n",
        "            answer[stack.pop()] = number\n",
        "        stack.append(idx)\n",
        "    return answer\n"
      ],
      "metadata": {
        "id": "J-kD7CNT6ush"
      },
      "execution_count": null,
      "outputs": []
    },
    {
      "cell_type": "code",
      "source": [
        "numbers = [9, 1, 5, 3, 6, 2]\n",
        "solution(numbers)"
      ],
      "metadata": {
        "colab": {
          "base_uri": "https://localhost:8080/"
        },
        "id": "K_2uXOXptNLQ",
        "outputId": "06a6d598-911a-4f5e-fde1-5c1197b07609"
      },
      "execution_count": null,
      "outputs": [
        {
          "output_type": "execute_result",
          "data": {
            "text/plain": [
              "[-1, 5, 6, 6, -1, -1]"
            ]
          },
          "metadata": {},
          "execution_count": 33
        }
      ]
    },
    {
      "cell_type": "code",
      "source": [],
      "metadata": {
        "id": "0MbhGgo1AuFe"
      },
      "execution_count": null,
      "outputs": []
    }
  ]
}