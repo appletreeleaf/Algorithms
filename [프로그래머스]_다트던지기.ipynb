{
  "nbformat": 4,
  "nbformat_minor": 0,
  "metadata": {
    "colab": {
      "provenance": [],
      "authorship_tag": "ABX9TyNYBpdgRbodmLAk2eiB9B5m",
      "include_colab_link": true
    },
    "kernelspec": {
      "name": "python3",
      "display_name": "Python 3"
    },
    "language_info": {
      "name": "python"
    }
  },
  "cells": [
    {
      "cell_type": "markdown",
      "metadata": {
        "id": "view-in-github",
        "colab_type": "text"
      },
      "source": [
        "<a href=\"https://colab.research.google.com/github/appletreeleaf/Coding_Test/blob/main/%5B%ED%94%84%EB%A1%9C%EA%B7%B8%EB%9E%98%EB%A8%B8%EC%8A%A4%5D_%EB%8B%A4%ED%8A%B8%EB%8D%98%EC%A7%80%EA%B8%B0.ipynb\" target=\"_parent\"><img src=\"https://colab.research.google.com/assets/colab-badge.svg\" alt=\"Open In Colab\"/></a>"
      ]
    },
    {
      "cell_type": "code",
      "execution_count": null,
      "metadata": {
        "id": "2vGfJd6_4ADX"
      },
      "outputs": [],
      "source": [
        "def solution(dartResult):\n",
        "    n = ''\n",
        "    bonus = {'S':1, 'D':2, \"T\":3}\n",
        "    answer = []\n",
        "    for i in dartResult:\n",
        "        # 숫자\n",
        "        if i.isnumeric():\n",
        "            n += i\n",
        "        # 보너스\n",
        "        elif i in bonus.keys():\n",
        "            answer.append(int(n)**bonus[i])\n",
        "            n = ''\n",
        "        # 옵션\n",
        "        elif i == '#':\n",
        "            answer.append(answer.pop() * -1)\n",
        "        elif i == '*':\n",
        "            if len(answer) < 2:\n",
        "                answer[-1] = answer[-1] * 2\n",
        "            else:\n",
        "                answer[-2] = answer[-2] * 2\n",
        "                answer[-1] = answer[-1] * 2\n",
        "\n",
        "    return sum(answer)"
      ]
    }
  ]
}