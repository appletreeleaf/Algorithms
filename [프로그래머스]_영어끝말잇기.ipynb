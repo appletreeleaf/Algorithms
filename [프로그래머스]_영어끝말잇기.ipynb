{
  "nbformat": 4,
  "nbformat_minor": 0,
  "metadata": {
    "colab": {
      "provenance": [],
      "authorship_tag": "ABX9TyOnD/p4MNruBcnTtp/PKP6P",
      "include_colab_link": true
    },
    "kernelspec": {
      "name": "python3",
      "display_name": "Python 3"
    },
    "language_info": {
      "name": "python"
    }
  },
  "cells": [
    {
      "cell_type": "markdown",
      "metadata": {
        "id": "view-in-github",
        "colab_type": "text"
      },
      "source": [
        "<a href=\"https://colab.research.google.com/github/appletreeleaf/Coding_Test/blob/main/%5B%ED%94%84%EB%A1%9C%EA%B7%B8%EB%9E%98%EB%A8%B8%EC%8A%A4%5D_%EC%98%81%EC%96%B4%EB%81%9D%EB%A7%90%EC%9E%87%EA%B8%B0.ipynb\" target=\"_parent\"><img src=\"https://colab.research.google.com/assets/colab-badge.svg\" alt=\"Open In Colab\"/></a>"
      ]
    },
    {
      "cell_type": "code",
      "execution_count": null,
      "metadata": {
        "id": "2vGfJd6_4ADX"
      },
      "outputs": [],
      "source": [
        "def solution(n, words):\n",
        "    p = [words[0][0]] # word를 순서대로 넣음\n",
        "\n",
        "    for idx, word in enumerate(words):\n",
        "        if word not in p and p[-1][-1] == word[0]:\n",
        "            p.append(word)\n",
        "        else:\n",
        "            return [(idx+1) % n, idx // n + 1 ]\n",
        "        print(p, idx // n)\n",
        "\n",
        "\n",
        "n = 2\n",
        "words = [\"hello\", \"one\", \"even\", \"never\", \"now\", \"world\", \"draw\"]\n",
        "\n",
        "solution(n, words)"
      ]
    }
  ]
}