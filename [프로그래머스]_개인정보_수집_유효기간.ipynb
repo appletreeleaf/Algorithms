{
  "nbformat": 4,
  "nbformat_minor": 0,
  "metadata": {
    "colab": {
      "provenance": [],
      "authorship_tag": "ABX9TyPD+9/RFhfGsDgXpOoPR4cn",
      "include_colab_link": true
    },
    "kernelspec": {
      "name": "python3",
      "display_name": "Python 3"
    },
    "language_info": {
      "name": "python"
    }
  },
  "cells": [
    {
      "cell_type": "markdown",
      "metadata": {
        "id": "view-in-github",
        "colab_type": "text"
      },
      "source": [
        "<a href=\"https://colab.research.google.com/github/appletreeleaf/Coding_Test/blob/main/%5B%ED%94%84%EB%A1%9C%EA%B7%B8%EB%9E%98%EB%A8%B8%EC%8A%A4%5D_%EA%B0%9C%EC%9D%B8%EC%A0%95%EB%B3%B4_%EC%88%98%EC%A7%91_%EC%9C%A0%ED%9A%A8%EA%B8%B0%EA%B0%84.ipynb\" target=\"_parent\"><img src=\"https://colab.research.google.com/assets/colab-badge.svg\" alt=\"Open In Colab\"/></a>"
      ]
    },
    {
      "cell_type": "code",
      "execution_count": null,
      "metadata": {
        "id": "Bmo1fonxAdAS"
      },
      "outputs": [],
      "source": [
        "def solution(today, terms, privacies):\n",
        "\n",
        "  terms = {i.split(' ')[0] : int(i.split(' ')[1]) for i in terms }\n",
        "\n",
        "  p = []\n",
        "  answer = []\n",
        "\n",
        "  today_int = list(map(int, today.split('.')))\n",
        "  today_to_day = today_int[0] * 12 * 28 +  today_int[1] * 28 + today_int[2]\n",
        "\n",
        "  for i in privacies:\n",
        "    p.append(i.split(' '))\n",
        "  p = [list(map(int, k[0].split('.'))) + [k[-1]] for k in p ]\n",
        "\n",
        "  for idx, i in enumerate(p):\n",
        "    year_to_day = i[0]*12*28\n",
        "    month_to_day = (i[1] + terms[i[3]]) * 28\n",
        "    day = i[2]\n",
        "\n",
        "    if year_to_day + month_to_day + day -1 < today_to_day:\n",
        "      answer.append(idx+1)\n",
        "\n",
        "  return answer"
      ]
    },
    {
      "cell_type": "code",
      "source": [
        "today = \"2022.05.19\"\n",
        "terms = [\"A 6\", \"B 12\", \"C 3\"]\n",
        "privacies =\t[\"2021.05.02 A\", \"2021.07.01 B\", \"2022.02.19 C\", \"2022.02.20 C\"]\n",
        "\n",
        "solution(today, terms, privacies)"
      ],
      "metadata": {
        "id": "v2j5AkGwAirU"
      },
      "execution_count": null,
      "outputs": []
    }
  ]
}