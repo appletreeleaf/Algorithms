{
  "nbformat": 4,
  "nbformat_minor": 0,
  "metadata": {
    "colab": {
      "provenance": [],
      "authorship_tag": "ABX9TyPEp7V/HJl7YYsEZBH72z5W",
      "include_colab_link": true
    },
    "kernelspec": {
      "name": "python3",
      "display_name": "Python 3"
    },
    "language_info": {
      "name": "python"
    }
  },
  "cells": [
    {
      "cell_type": "markdown",
      "metadata": {
        "id": "view-in-github",
        "colab_type": "text"
      },
      "source": [
        "<a href=\"https://colab.research.google.com/github/appletreeleaf/Coding_Test/blob/main/%5B%ED%94%84%EB%A1%9C%EA%B7%B8%EB%9E%98%EB%A8%B8%EC%8A%A4%5D_%EC%A0%90%ED%94%84%EC%99%80_%EC%88%9C%EA%B0%84_%EC%9D%B4%EB%8F%99.ipynb\" target=\"_parent\"><img src=\"https://colab.research.google.com/assets/colab-badge.svg\" alt=\"Open In Colab\"/></a>"
      ]
    },
    {
      "cell_type": "code",
      "execution_count": null,
      "metadata": {
        "id": "2vGfJd6_4ADX"
      },
      "outputs": [],
      "source": [
        "# 최대 공약수\n",
        "def GCD(x,y):\n",
        "    while(y):\n",
        "        x, y = y, x%y\n",
        "    return x\n",
        "\n",
        "# 최소공배수\n",
        "def LCM(x,y):\n",
        "    result = (x*y)//GCD(x,y)\n",
        "    return result\n",
        "\n",
        "\n",
        "def solution(arr):\n",
        "\n",
        "    temp = LCM(arr[0], arr[1])\n",
        "    for i in range(2, len(arr)):\n",
        "        temp = LCM(temp, arr[i])\n",
        "\n",
        "\n",
        "\n",
        "    return temp\n",
        "\n",
        "\n",
        "arr = [2,7]\n",
        "solution(arr)"
      ]
    }
  ]
}