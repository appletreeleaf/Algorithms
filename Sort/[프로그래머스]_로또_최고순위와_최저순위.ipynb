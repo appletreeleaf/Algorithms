{
  "nbformat": 4,
  "nbformat_minor": 0,
  "metadata": {
    "colab": {
      "provenance": [],
      "authorship_tag": "ABX9TyOpJ2f+/VqemDbU/7cT2yFh",
      "include_colab_link": true
    },
    "kernelspec": {
      "name": "python3",
      "display_name": "Python 3"
    },
    "language_info": {
      "name": "python"
    }
  },
  "cells": [
    {
      "cell_type": "markdown",
      "metadata": {
        "id": "view-in-github",
        "colab_type": "text"
      },
      "source": [
        "<a href=\"https://colab.research.google.com/github/appletreeleaf/Coding_Test/blob/main/%5B%ED%94%84%EB%A1%9C%EA%B7%B8%EB%9E%98%EB%A8%B8%EC%8A%A4%5D_%EB%A1%9C%EB%98%90_%EC%B5%9C%EA%B3%A0%EC%88%9C%EC%9C%84%EC%99%80_%EC%B5%9C%EC%A0%80%EC%88%9C%EC%9C%84.ipynb\" target=\"_parent\"><img src=\"https://colab.research.google.com/assets/colab-badge.svg\" alt=\"Open In Colab\"/></a>"
      ]
    },
    {
      "cell_type": "code",
      "execution_count": null,
      "metadata": {
        "id": "2vGfJd6_4ADX"
      },
      "outputs": [],
      "source": [
        "def solution(lottos, win_nums):\n",
        "    ranking = {6:1, 5:2, 4:3, 3:4, 2:5, 1:6, 0:6}\n",
        "    high_rank = 0\n",
        "    low_rank = 0\n",
        "    no = []\n",
        "\n",
        "    for i in lottos:\n",
        "        if i in win_nums:\n",
        "            high_rank += 1\n",
        "            low_rank += 1\n",
        "\n",
        "        elif i == 0:\n",
        "            high_rank += 1\n",
        "\n",
        "        print(ranking[high_rank], ranking[low_rank])\n",
        "\n",
        "\n",
        "    return sorted([ranking[high_rank], ranking[low_rank]])\n",
        "\n",
        "\n",
        "lottos = [0, 0, 0, 0, 0, 0]\n",
        "win_nums = [38, 19, 20, 40, 15, 25]\n",
        "\n",
        "solution(lottos, win_nums)"
      ]
    }
  ]
}
