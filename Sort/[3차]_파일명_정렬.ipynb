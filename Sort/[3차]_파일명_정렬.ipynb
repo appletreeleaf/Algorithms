{
  "nbformat": 4,
  "nbformat_minor": 0,
  "metadata": {
    "colab": {
      "provenance": [],
      "authorship_tag": "ABX9TyNH6ad63tj5czbQqJl1VncG",
      "include_colab_link": true
    },
    "kernelspec": {
      "name": "python3",
      "display_name": "Python 3"
    },
    "language_info": {
      "name": "python"
    }
  },
  "cells": [
    {
      "cell_type": "markdown",
      "metadata": {
        "id": "view-in-github",
        "colab_type": "text"
      },
      "source": [
        "<a href=\"https://colab.research.google.com/github/appletreeleaf/Coding_Test/blob/main/%5B3%EC%B0%A8%5D_%ED%8C%8C%EC%9D%BC%EB%AA%85_%EC%A0%95%EB%A0%AC.ipynb\" target=\"_parent\"><img src=\"https://colab.research.google.com/assets/colab-badge.svg\" alt=\"Open In Colab\"/></a>"
      ]
    },
    {
      "cell_type": "code",
      "execution_count": 57,
      "metadata": {
        "id": "jkL1ignp5492"
      },
      "outputs": [],
      "source": [
        "import re\n",
        "\n",
        "def solution(files):\n",
        "    p = re.compile('[0-9]+')\n",
        "    # number를 기준으로 파일명 자르\n",
        "    new_files = []\n",
        "    for f in files:\n",
        "        result = p.search(f)\n",
        "        start, end = result.span()\n",
        "        tmp = [f[:start], f[start:end], f[end:]]\n",
        "        new_files.append(tmp)\n",
        "    new_files.sort(key = lambda x : (x[0].lower(), int(x[1])))\n",
        "    new_files = [''.join(f) for f in new_files]\n",
        "    return new_files"
      ]
    },
    {
      "cell_type": "code",
      "source": [
        "files = [\"img12.png\", \"img10.png\", \"img02.png\", \"img1.png\", \"IMG01.GIF\", \"img2.JPG\"]\n",
        "solution(files)"
      ],
      "metadata": {
        "colab": {
          "base_uri": "https://localhost:8080/"
        },
        "id": "on4G99766udB",
        "outputId": "87997245-0184-4bef-d638-e94a007a9f40"
      },
      "execution_count": 58,
      "outputs": [
        {
          "output_type": "execute_result",
          "data": {
            "text/plain": [
              "['img1.png', 'IMG01.GIF', 'img02.png', 'img2.JPG', 'img10.png', 'img12.png']"
            ]
          },
          "metadata": {},
          "execution_count": 58
        }
      ]
    },
    {
      "cell_type": "code",
      "source": [],
      "metadata": {
        "id": "1oK8Gj4X7sVA"
      },
      "execution_count": null,
      "outputs": []
    }
  ]
}
