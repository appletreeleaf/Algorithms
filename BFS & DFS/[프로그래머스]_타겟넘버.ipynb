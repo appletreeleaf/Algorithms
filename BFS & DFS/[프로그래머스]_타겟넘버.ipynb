{
  "nbformat": 4,
  "nbformat_minor": 0,
  "metadata": {
    "colab": {
      "provenance": [],
      "authorship_tag": "ABX9TyPYZUOwuof1CEycbot27Aaj",
      "include_colab_link": true
    },
    "kernelspec": {
      "name": "python3",
      "display_name": "Python 3"
    },
    "language_info": {
      "name": "python"
    }
  },
  "cells": [
    {
      "cell_type": "markdown",
      "metadata": {
        "id": "view-in-github",
        "colab_type": "text"
      },
      "source": [
        "<a href=\"https://colab.research.google.com/github/appletreeleaf/Coding_Test/blob/main/%5B%ED%94%84%EB%A1%9C%EA%B7%B8%EB%9E%98%EB%A8%B8%EC%8A%A4%5D_%ED%83%80%EA%B2%9F%EB%84%98%EB%B2%84.ipynb\" target=\"_parent\"><img src=\"https://colab.research.google.com/assets/colab-badge.svg\" alt=\"Open In Colab\"/></a>"
      ]
    },
    {
      "cell_type": "code",
      "execution_count": 21,
      "metadata": {
        "id": "esOBdzpJn3_j"
      },
      "outputs": [],
      "source": [
        "# 모든 가능한 경우의 수를 탐색 -> DFS\n",
        "def solution(numbers, target):\n",
        "    n = len(numbers)\n",
        "    answer = 0\n",
        "    def dfs(index, result):\n",
        "        nonlocal answer\n",
        "        if index == n:\n",
        "            if result == target:\n",
        "                answer += 1\n",
        "        else:\n",
        "            dfs(index + 1, result - numbers[index])\n",
        "            dfs(index + 1, result + numbers[index])\n",
        "    dfs(0,0)\n",
        "\n",
        "    return answer"
      ]
    },
    {
      "cell_type": "code",
      "source": [
        "numbers, target = [1, 1, 1, 1, 1], 3\n",
        "solution(numbers, target)"
      ],
      "metadata": {
        "colab": {
          "base_uri": "https://localhost:8080/"
        },
        "id": "X0O1nf6Bn-qn",
        "outputId": "35b3654a-03bb-4a65-e34d-4d7cb132e4dc"
      },
      "execution_count": 22,
      "outputs": [
        {
          "output_type": "execute_result",
          "data": {
            "text/plain": [
              "5"
            ]
          },
          "metadata": {},
          "execution_count": 22
        }
      ]
    }
  ]
}
