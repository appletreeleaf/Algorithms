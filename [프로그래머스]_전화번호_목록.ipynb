{
  "nbformat": 4,
  "nbformat_minor": 0,
  "metadata": {
    "colab": {
      "provenance": [],
      "authorship_tag": "ABX9TyOmBbHvMJ1Z/APji8SmJyjJ",
      "include_colab_link": true
    },
    "kernelspec": {
      "name": "python3",
      "display_name": "Python 3"
    },
    "language_info": {
      "name": "python"
    }
  },
  "cells": [
    {
      "cell_type": "markdown",
      "metadata": {
        "id": "view-in-github",
        "colab_type": "text"
      },
      "source": [
        "<a href=\"https://colab.research.google.com/github/appletreeleaf/Coding_Test/blob/main/%5B%ED%94%84%EB%A1%9C%EA%B7%B8%EB%9E%98%EB%A8%B8%EC%8A%A4%5D_%EC%A0%84%ED%99%94%EB%B2%88%ED%98%B8_%EB%AA%A9%EB%A1%9D.ipynb\" target=\"_parent\"><img src=\"https://colab.research.google.com/assets/colab-badge.svg\" alt=\"Open In Colab\"/></a>"
      ]
    },
    {
      "cell_type": "code",
      "execution_count": 2,
      "metadata": {
        "colab": {
          "base_uri": "https://localhost:8080/"
        },
        "id": "2vGfJd6_4ADX",
        "outputId": "88d193f3-6fe0-471e-8924-b044391cca82"
      },
      "outputs": [
        {
          "output_type": "stream",
          "name": "stdout",
          "text": [
            "list1 = ['AA', 'AA'], list2=['AA', 'AA', 'AA']\n",
            "['AA', 'AA'] ['AA', 'AA', 'AA']\n"
          ]
        },
        {
          "output_type": "execute_result",
          "data": {
            "text/plain": [
              "43690"
            ]
          },
          "metadata": {},
          "execution_count": 2
        }
      ],
      "source": [
        "def solution(phone_book):\n",
        "\n",
        "    phone_book.sort()\n",
        "    for i in range(len(phone_book)-1):\n",
        "        if phone_book[i+1].startswith(phone_book[i]):\n",
        "            return False\n",
        "\n",
        "    return True\n",
        "\n",
        "phone_book = [\"12\",\"123\",\"1235\",\"567\",\"88\"]\n",
        "solution(phone_book)"
      ]
    }
  ]
}