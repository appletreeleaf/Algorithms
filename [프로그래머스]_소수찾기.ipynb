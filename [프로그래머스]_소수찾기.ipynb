{
  "nbformat": 4,
  "nbformat_minor": 0,
  "metadata": {
    "colab": {
      "provenance": [],
      "authorship_tag": "ABX9TyOH3KiajCV+jU2qk40uEtuC",
      "include_colab_link": true
    },
    "kernelspec": {
      "name": "python3",
      "display_name": "Python 3"
    },
    "language_info": {
      "name": "python"
    }
  },
  "cells": [
    {
      "cell_type": "markdown",
      "metadata": {
        "id": "view-in-github",
        "colab_type": "text"
      },
      "source": [
        "<a href=\"https://colab.research.google.com/github/appletreeleaf/Coding_Test/blob/main/%5B%ED%94%84%EB%A1%9C%EA%B7%B8%EB%9E%98%EB%A8%B8%EC%8A%A4%5D_%EC%86%8C%EC%88%98%EC%B0%BE%EA%B8%B0.ipynb\" target=\"_parent\"><img src=\"https://colab.research.google.com/assets/colab-badge.svg\" alt=\"Open In Colab\"/></a>"
      ]
    },
    {
      "cell_type": "code",
      "execution_count": 6,
      "metadata": {
        "id": "E-C8Yvmj5kGv"
      },
      "outputs": [],
      "source": [
        "# 시간초과\n",
        "def solution(n):\n",
        "    answer = 0\n",
        "    for num in range(2, n+1):\n",
        "        stack = []\n",
        "        for i in range(1, num+1):\n",
        "            if num % i == 0:\n",
        "                stack.append(i)\n",
        "            if len(stack) > 2:\n",
        "                continue\n",
        "\n",
        "        if len(stack) == 2:\n",
        "            answer += 1\n",
        "\n",
        "    return answer\n"
      ]
    },
    {
      "cell_type": "markdown",
      "source": [
        "- n까지 수를 하나씩 나눠보고, 나누어 떨어지는 수를 stack에 담은 후 개수를 세는 방식 -> 예상했으나 시간초과"
      ],
      "metadata": {
        "id": "YRiHhoB-8QI6"
      }
    },
    {
      "cell_type": "code",
      "source": [
        "def solution(n):\n",
        "    # 0,1은 소수가 아니므로 2부터 판별함\n",
        "    TF = [False, False] + [True] * (n-1)\n",
        "    answer = []\n",
        "    for i in range(2, n+1):\n",
        "        if TF[i]:\n",
        "            answer.append(i)\n",
        "            for j in range(i*2, n+1, i):\n",
        "                TF[j] = False\n",
        "\n",
        "    return len(answer)"
      ],
      "metadata": {
        "id": "c1OF96pC8cPZ"
      },
      "execution_count": 16,
      "outputs": []
    },
    {
      "cell_type": "code",
      "source": [
        "n = 10\n",
        "solution(n)"
      ],
      "metadata": {
        "colab": {
          "base_uri": "https://localhost:8080/"
        },
        "id": "PJnAyhR25ndk",
        "outputId": "f618753f-3c41-4990-81b5-99d7cc3aae66"
      },
      "execution_count": 17,
      "outputs": [
        {
          "output_type": "execute_result",
          "data": {
            "text/plain": [
              "4"
            ]
          },
          "metadata": {},
          "execution_count": 17
        }
      ]
    }
  ]
}