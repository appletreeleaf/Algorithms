{
  "nbformat": 4,
  "nbformat_minor": 0,
  "metadata": {
    "colab": {
      "provenance": [],
      "authorship_tag": "ABX9TyMotKSlfbYVwwwlK17rWIbQ",
      "include_colab_link": true
    },
    "kernelspec": {
      "name": "python3",
      "display_name": "Python 3"
    },
    "language_info": {
      "name": "python"
    }
  },
  "cells": [
    {
      "cell_type": "markdown",
      "metadata": {
        "id": "view-in-github",
        "colab_type": "text"
      },
      "source": [
        "<a href=\"https://colab.research.google.com/github/appletreeleaf/Coding_Test/blob/main/%5B%ED%94%84%EB%A1%9C%EA%B7%B8%EB%9E%98%EB%A8%B8%EC%8A%A4%5D_%5B1%EC%B0%A8%5D_%EB%8B%A4%ED%8A%B8_%EA%B2%8C%EC%9E%84.ipynb\" target=\"_parent\"><img src=\"https://colab.research.google.com/assets/colab-badge.svg\" alt=\"Open In Colab\"/></a>"
      ]
    },
    {
      "cell_type": "code",
      "execution_count": 10,
      "metadata": {
        "id": "hVAy0W2W5DCd"
      },
      "outputs": [],
      "source": [
        "# stack에 숫자가 나올 때 까지 원소를 하나씩 넣고\n",
        "# 각 시행별 점수 계산 후 answer에 더해줌\n",
        "# 옵션의 결과를 answer에 반영\n",
        "def solution(dartResult):\n",
        "    # 일단 3칸씩 잘리게 만들자 -> 너무 복잡합\n",
        "\n",
        "    # 옵션이 있는 경우와 없는 경우로 나누고\n",
        "    # 옵션을 기준으로 분리/처리 해보자\n",
        "    dartResult = list(dartResult)\n",
        "    num = list(map(str, list(range(10))))\n",
        "    bonus = {'S':1, 'D':2, \"T\":3}\n",
        "    option = {'*':2, '#':-1}\n",
        "    stack = []\n",
        "\n",
        "    answer = 0\n",
        "    for i in dartResult:\n",
        "        # 숫자\n",
        "        if i in num:\n",
        "            answer += int(i)\n",
        "        # 보너스\n",
        "        elif i in bonus.keys():\n",
        "            answer **= bonus[i]\n",
        "        # 옵션\n",
        "        elif i in option.keys():\n",
        "            answer *= option[i]\n",
        "        print(answer)\n"
      ]
    },
    {
      "cell_type": "code",
      "source": [
        "def solution(dartResult):\n",
        "    # 문자열을 순회하면서\n",
        "    # 모든 경우를 고려\n",
        "    num = list(map(str, list(range(10))))\n",
        "    bonus = {'S':1, 'D':2, \"T\":3}\n",
        "    option = {'*':2, '#':-1}\n",
        "\n",
        "    answer = []\n",
        "    # for i in dartResult:\n",
        "\n",
        "    #     # 숫자\n",
        "    #     if i in num:\n",
        "    #         answer.append(int(i))\n",
        "    #     # 보너스\n",
        "    #     elif i in bonus.keys():\n",
        "    #         answer.append(answer.pop()**bonus[i])\n",
        "    #     # 옵션\n",
        "    #     elif i == '#':\n",
        "    #         answer.append(answer.pop() * -1)\n",
        "    #     elif i == '*':\n",
        "    #         if len(answer) < 2:\n",
        "    #             answer.append(answer.pop() * 2)\n",
        "    #         else:\n",
        "    #             a = answer.pop()\n",
        "    #             b = answer.pop()\n",
        "    #             answer.append(a * 2)\n",
        "    #             answer.append(b * 2)\n",
        "    n = ''\n",
        "    for i in dartResult:\n",
        "        # 숫자\n",
        "        if i.isnumeric():\n",
        "            n += i\n",
        "        # 보너스\n",
        "        elif i in bonus.keys():\n",
        "            answer.append(int(n)**bonus[i])\n",
        "            n = ''\n",
        "        # 옵션\n",
        "        elif i == '#':\n",
        "            answer.append(answer.pop() * -1)\n",
        "        elif i == '*':\n",
        "            if len(answer) < 2:\n",
        "                answer.append(answer.pop() * 2)\n",
        "            else:\n",
        "                a = answer.pop()\n",
        "                b = answer.pop()\n",
        "                answer.append(a * 2)\n",
        "                answer.append(b * 2)\n",
        "\n",
        "    return sum(answer)\n",
        "\n"
      ],
      "metadata": {
        "id": "0U07Jg4hx63L"
      },
      "execution_count": 25,
      "outputs": []
    },
    {
      "cell_type": "code",
      "source": [
        "dartResult = '1S2D*3T'\n",
        "solution(dartResult)"
      ],
      "metadata": {
        "colab": {
          "base_uri": "https://localhost:8080/"
        },
        "id": "09ngXala5NMA",
        "outputId": "50f1c1ab-dd3f-4f8e-c04f-e609fb88e02f"
      },
      "execution_count": 27,
      "outputs": [
        {
          "output_type": "execute_result",
          "data": {
            "text/plain": [
              "37"
            ]
          },
          "metadata": {},
          "execution_count": 27
        }
      ]
    },
    {
      "cell_type": "code",
      "source": [
        ""
      ],
      "metadata": {
        "id": "LbVE-L0E7t4h"
      },
      "execution_count": null,
      "outputs": []
    }
  ]
}