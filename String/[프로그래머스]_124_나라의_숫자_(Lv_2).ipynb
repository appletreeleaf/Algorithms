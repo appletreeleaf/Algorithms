{
  "nbformat": 4,
  "nbformat_minor": 0,
  "metadata": {
    "colab": {
      "provenance": [],
      "authorship_tag": "ABX9TyMUdpgfXNVfXNNnt8LLqttZ",
      "include_colab_link": true
    },
    "kernelspec": {
      "name": "python3",
      "display_name": "Python 3"
    },
    "language_info": {
      "name": "python"
    }
  },
  "cells": [
    {
      "cell_type": "markdown",
      "metadata": {
        "id": "view-in-github",
        "colab_type": "text"
      },
      "source": [
        "<a href=\"https://colab.research.google.com/github/appletreeleaf/Coding_Test/blob/main/%5B%ED%94%84%EB%A1%9C%EA%B7%B8%EB%9E%98%EB%A8%B8%EC%8A%A4%5D_124_%EB%82%98%EB%9D%BC%EC%9D%98_%EC%88%AB%EC%9E%90_(Lv_2).ipynb\" target=\"_parent\"><img src=\"https://colab.research.google.com/assets/colab-badge.svg\" alt=\"Open In Colab\"/></a>"
      ]
    },
    {
      "cell_type": "code",
      "execution_count": 48,
      "metadata": {
        "id": "V8zth0RaMb3y"
      },
      "outputs": [],
      "source": [
        "def solution(n):\n",
        "    l = {k:v for k,v in enumerate('124')}\n",
        "    print(l)\n",
        "\n",
        "    answer = ''\n",
        "    for i in range(n):\n",
        "        if i < 3:\n",
        "            answer = l[i]\n",
        "        else:\n",
        "            answer = l[(i // 3)-1] + l[i % 3]\n",
        "\n",
        "    return int(answer)\n"
      ]
    },
    {
      "cell_type": "markdown",
      "source": [
        "- 일단 두자리수 한정해서 작성해봤다. 어차피 1, 2, 4의 조합으로 정답을 만드는 거라 딕셔너리 만들고 index에 맞게끔 작성했는데, 정답이 3자리가 넘어갈 경우는 잘 모르겠고, 테스트 케이스에서 런타임 에러가 뜬다. 뭔가 정답을 딕셔너리에 저장해가면서 푸는 것 같다..\n"
      ],
      "metadata": {
        "id": "dEQgLGtvZAgD"
      }
    },
    {
      "cell_type": "code",
      "source": [
        "def solution(n):\n",
        "    l = {k:v for k,v in enumerate('124')}\n",
        "    answer = ''\n",
        "    for i in range(n):\n",
        "        if i < 3:\n",
        "            continue\n",
        "        else:\n",
        "            l[i] = l[(i // 3)-1] + l[i % 3]\n",
        "\n",
        "    return l[n-1]"
      ],
      "metadata": {
        "id": "Pg_690uwZ14p"
      },
      "execution_count": 64,
      "outputs": []
    },
    {
      "cell_type": "markdown",
      "source": [
        "- 정확성 테스트는 다 맞았지만 효율성 테스트에서 전부 실패했다. 값을 저장하는 방식이 아닌 다른 방법이 필요해보인다."
      ],
      "metadata": {
        "id": "MpfUNfPFmrm3"
      }
    },
    {
      "cell_type": "code",
      "source": [
        "def solution(n):\n",
        "    l = list('124')\n",
        "\n",
        "    answer = ''\n",
        "    while n:\n",
        "        n -= 1\n",
        "        answer = l[n%3] + answer\n",
        "        n //= 3\n",
        "    return answer"
      ],
      "metadata": {
        "id": "I1sXFRRwmuxQ"
      },
      "execution_count": 93,
      "outputs": []
    },
    {
      "cell_type": "markdown",
      "source": [
        "- 결국 답을 못찾아서 힌트를 얻어보니.. 동일한 연산을 통해 각 자리 숫자를 더해가는 식으로 코드를 작성했더라. n-1은 index값을 맞추기 위함이고.. n // 3은 다음 자리 수에 들어갈 인덱스이다."
      ],
      "metadata": {
        "id": "6oJSiPcWqkmJ"
      }
    },
    {
      "cell_type": "code",
      "source": [
        "n = 13\n",
        "solution(n)"
      ],
      "metadata": {
        "colab": {
          "base_uri": "https://localhost:8080/",
          "height": 36
        },
        "id": "n9OgaUFEM-NP",
        "outputId": "1b1e7090-7964-47a5-f178-179a377778fa"
      },
      "execution_count": 94,
      "outputs": [
        {
          "output_type": "execute_result",
          "data": {
            "text/plain": [
              "'111'"
            ],
            "application/vnd.google.colaboratory.intrinsic+json": {
              "type": "string"
            }
          },
          "metadata": {},
          "execution_count": 94
        }
      ]
    }
  ]
}
