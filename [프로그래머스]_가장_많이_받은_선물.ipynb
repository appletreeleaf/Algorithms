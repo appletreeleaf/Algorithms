{
  "nbformat": 4,
  "nbformat_minor": 0,
  "metadata": {
    "colab": {
      "provenance": [],
      "authorship_tag": "ABX9TyMb4RH90+/YmooYYoyQOV1+",
      "include_colab_link": true
    },
    "kernelspec": {
      "name": "python3",
      "display_name": "Python 3"
    },
    "language_info": {
      "name": "python"
    }
  },
  "cells": [
    {
      "cell_type": "markdown",
      "metadata": {
        "id": "view-in-github",
        "colab_type": "text"
      },
      "source": [
        "<a href=\"https://colab.research.google.com/github/appletreeleaf/Coding_Test/blob/main/%5B%ED%94%84%EB%A1%9C%EA%B7%B8%EB%9E%98%EB%A8%B8%EC%8A%A4%5D_%EA%B0%80%EC%9E%A5_%EB%A7%8E%EC%9D%B4_%EB%B0%9B%EC%9D%80_%EC%84%A0%EB%AC%BC.ipynb\" target=\"_parent\"><img src=\"https://colab.research.google.com/assets/colab-badge.svg\" alt=\"Open In Colab\"/></a>"
      ]
    },
    {
      "cell_type": "code",
      "execution_count": 52,
      "metadata": {
        "id": "u-vjaG2u4jsc"
      },
      "outputs": [],
      "source": [
        "def solution(friends, gifts):\n",
        "    ## friends to index\n",
        "    f_index = {k:i for i, k in enumerate(friends)}\n",
        "    ## 선물지수\n",
        "    g_index = {k:0 for i, k in enumerate(friends)}\n",
        "    ## 선물 매트릭스\n",
        "    gift_matrix = [[0]*len(friends) for _ in range(len(friends))]\n",
        "\n",
        "    for gift in gifts:\n",
        "        A, B = gift.split()\n",
        "        gift_matrix[f_index[A]][f_index[B]] += 1\n",
        "        # 선물지수: 주면 + 받으면 -\n",
        "        g_index[A] += 1\n",
        "        g_index[B] -= 1\n",
        "\n",
        "    # 다음달 받을 선물 계산: f1기준\n",
        "    result = {k:0 for i, k in enumerate(friends)}\n",
        "    for f1 in friends:\n",
        "        for f2 in friends:\n",
        "            # 준사람과 받은 사람이 같은 경우 pass\n",
        "            if f1 == f2:\n",
        "                continue\n",
        "            give = gift_matrix[f_index[f1]][f_index[f2]]\n",
        "            take = gift_matrix[f_index[f2]][f_index[f1]]\n",
        "\n",
        "            # 선물을 주고받은 경우\n",
        "            if give+take > 0:\n",
        "                if give > take:\n",
        "                    result[f1] += 1\n",
        "            if give+take == 0 or give == take:\n",
        "                if g_index[f1] > g_index[f2]:\n",
        "                    result[f1] += 1\n",
        "\n",
        "    return max(result.values())"
      ]
    },
    {
      "cell_type": "code",
      "source": [
        "friends, gifts = [\"muzi\", \"ryan\", \"frodo\", \"neo\"], [\"muzi frodo\", \"muzi frodo\", \"ryan muzi\", \"ryan muzi\", \"ryan muzi\", \"frodo muzi\", \"frodo ryan\", \"neo muzi\"]\n",
        "solution(friends, gifts)"
      ],
      "metadata": {
        "colab": {
          "base_uri": "https://localhost:8080/"
        },
        "id": "OErM5dDh4tnL",
        "outputId": "dbc0d150-6491-482b-fd33-8614ebbb1661"
      },
      "execution_count": 53,
      "outputs": [
        {
          "output_type": "execute_result",
          "data": {
            "text/plain": [
              "2"
            ]
          },
          "metadata": {},
          "execution_count": 53
        }
      ]
    }
  ]
}