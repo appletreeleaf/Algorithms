{
  "nbformat": 4,
  "nbformat_minor": 0,
  "metadata": {
    "colab": {
      "provenance": [],
      "authorship_tag": "ABX9TyOZX2iHJXA64/x7PCQOS+tV",
      "include_colab_link": true
    },
    "kernelspec": {
      "name": "python3",
      "display_name": "Python 3"
    },
    "language_info": {
      "name": "python"
    }
  },
  "cells": [
    {
      "cell_type": "markdown",
      "metadata": {
        "id": "view-in-github",
        "colab_type": "text"
      },
      "source": [
        "<a href=\"https://colab.research.google.com/github/appletreeleaf/Coding_Test/blob/main/%5B%ED%94%84%EB%A1%9C%EA%B7%B8%EB%9E%98%EB%A8%B8%EC%8A%A4%5D_%EC%B9%B4%ED%8E%AB.ipynb\" target=\"_parent\"><img src=\"https://colab.research.google.com/assets/colab-badge.svg\" alt=\"Open In Colab\"/></a>"
      ]
    },
    {
      "cell_type": "code",
      "execution_count": null,
      "metadata": {
        "id": "2vGfJd6_4ADX"
      },
      "outputs": [],
      "source": [
        "def getMyDivisor(n):\n",
        "\n",
        "    divisorsList = []\n",
        "\n",
        "    for i in range(1, int(n**(1/2)) + 1):\n",
        "        if (n % i == 0):\n",
        "            divisorsList.append(i)\n",
        "            if ( (i**2) != n) :\n",
        "                divisorsList.append(n // i)\n",
        "\n",
        "    divisorsList.sort()\n",
        "\n",
        "    return divisorsList\n",
        "\n",
        "def solution(brown, yellow):\n",
        "\n",
        "    l = getMyDivisor(brown+yellow)\n",
        "\n",
        "    for i in l:\n",
        "        for j in l:\n",
        "            if i*j == yellow+brown and (i-2)*(j-2) == yellow:\n",
        "                return sorted([i, j], reverse=True)\n",
        "\n",
        "\n",
        "\n",
        "brown = 24\n",
        "yellow = 24\n",
        "solution(brown, yellow)"
      ]
    }
  ]
}