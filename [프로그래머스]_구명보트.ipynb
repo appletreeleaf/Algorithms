{
  "nbformat": 4,
  "nbformat_minor": 0,
  "metadata": {
    "colab": {
      "provenance": [],
      "authorship_tag": "ABX9TyOvZl0EbsYbAW5EJi99l7s3",
      "include_colab_link": true
    },
    "kernelspec": {
      "name": "python3",
      "display_name": "Python 3"
    },
    "language_info": {
      "name": "python"
    }
  },
  "cells": [
    {
      "cell_type": "markdown",
      "metadata": {
        "id": "view-in-github",
        "colab_type": "text"
      },
      "source": [
        "<a href=\"https://colab.research.google.com/github/appletreeleaf/Coding_Test/blob/main/%5B%ED%94%84%EB%A1%9C%EA%B7%B8%EB%9E%98%EB%A8%B8%EC%8A%A4%5D_%EA%B5%AC%EB%AA%85%EB%B3%B4%ED%8A%B8.ipynb\" target=\"_parent\"><img src=\"https://colab.research.google.com/assets/colab-badge.svg\" alt=\"Open In Colab\"/></a>"
      ]
    },
    {
      "cell_type": "code",
      "execution_count": null,
      "metadata": {
        "id": "2vGfJd6_4ADX"
      },
      "outputs": [],
      "source": [
        "def solution(people, limit):\n",
        "    answer = 0\n",
        "\n",
        "    people.sort()\n",
        "\n",
        "    start, end = 0, len(people) - 1\n",
        "\n",
        "    # 중복 조합 방지\n",
        "    while start <= end:\n",
        "        # 보트를 1대씩 준비하고\n",
        "        answer += 1\n",
        "        # 무거운 + 가벼운 조합이 limit 범위 안이면 보트를 태워 보냄\n",
        "        if people[start] + people[end] <= limit:\n",
        "            start += 1\n",
        "        # 가장 무거운 사람을 보트에 태움\n",
        "        end -= 1\n",
        "        print(answer, start, end)\n",
        "\n",
        "    return answer\n",
        "\n",
        "\n",
        "people = [70, 50, 80, 50]\n",
        "limit = 100\n",
        "\n",
        "solution(people, limit)"
      ]
    }
  ]
}