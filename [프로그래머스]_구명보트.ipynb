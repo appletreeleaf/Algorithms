{
  "nbformat": 4,
  "nbformat_minor": 0,
  "metadata": {
    "colab": {
      "provenance": [],
      "authorship_tag": "ABX9TyPRaj1z5UW3Mhejmetw9fiA",
      "include_colab_link": true
    },
    "kernelspec": {
      "name": "python3",
      "display_name": "Python 3"
    },
    "language_info": {
      "name": "python"
    }
  },
  "cells": [
    {
      "cell_type": "markdown",
      "metadata": {
        "id": "view-in-github",
        "colab_type": "text"
      },
      "source": [
        "<a href=\"https://colab.research.google.com/github/appletreeleaf/Coding_Test/blob/main/%5B%ED%94%84%EB%A1%9C%EA%B7%B8%EB%9E%98%EB%A8%B8%EC%8A%A4%5D_%EA%B5%AC%EB%AA%85%EB%B3%B4%ED%8A%B8.ipynb\" target=\"_parent\"><img src=\"https://colab.research.google.com/assets/colab-badge.svg\" alt=\"Open In Colab\"/></a>"
      ]
    },
    {
      "cell_type": "code",
      "execution_count": 39,
      "metadata": {
        "id": "u_qVNeqIiqs8"
      },
      "outputs": [],
      "source": [
        "def solution(people, limit):\n",
        "    # 보트의 길이는 2\n",
        "    # 오름차순 정렬해서 (가벼운,무거운) 조합으로 우선 보트에 실어야함\n",
        "    people.sort()\n",
        "    start, end = 0, len(people)-1\n",
        "    # 위 조합이 가능한 개수\n",
        "    answer = 0\n",
        "    while start < end:\n",
        "        if people[start] + people[end] <= limit:\n",
        "            start += 1\n",
        "            answer += 1\n",
        "        end -= 1\n",
        "    #\n",
        "    return len(people) - answer"
      ]
    },
    {
      "cell_type": "code",
      "source": [
        "people, limit = [70, 50, 80, 50], 100\n",
        "solution(people, limit)"
      ],
      "metadata": {
        "colab": {
          "base_uri": "https://localhost:8080/"
        },
        "id": "o9UmhyJni9BG",
        "outputId": "49c4ba87-a524-4658-9056-4d2ce7c48ade"
      },
      "execution_count": 40,
      "outputs": [
        {
          "output_type": "stream",
          "name": "stdout",
          "text": [
            "0 3 0\n",
            "0 2 0\n",
            "0 1 0\n"
          ]
        },
        {
          "output_type": "execute_result",
          "data": {
            "text/plain": [
              "3"
            ]
          },
          "metadata": {},
          "execution_count": 40
        }
      ]
    },
    {
      "cell_type": "code",
      "source": [],
      "metadata": {
        "id": "QKzyAjkNm5Z9"
      },
      "execution_count": null,
      "outputs": []
    }
  ]
}