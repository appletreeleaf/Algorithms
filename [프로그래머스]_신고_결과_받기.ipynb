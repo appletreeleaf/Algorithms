{
  "nbformat": 4,
  "nbformat_minor": 0,
  "metadata": {
    "colab": {
      "provenance": [],
      "authorship_tag": "ABX9TyPnYHJ/37OA/lB6afcJK5/8",
      "include_colab_link": true
    },
    "kernelspec": {
      "name": "python3",
      "display_name": "Python 3"
    },
    "language_info": {
      "name": "python"
    }
  },
  "cells": [
    {
      "cell_type": "markdown",
      "metadata": {
        "id": "view-in-github",
        "colab_type": "text"
      },
      "source": [
        "<a href=\"https://colab.research.google.com/github/appletreeleaf/Coding_Test/blob/main/%5B%ED%94%84%EB%A1%9C%EA%B7%B8%EB%9E%98%EB%A8%B8%EC%8A%A4%5D_%EC%8B%A0%EA%B3%A0_%EA%B2%B0%EA%B3%BC_%EB%B0%9B%EA%B8%B0.ipynb\" target=\"_parent\"><img src=\"https://colab.research.google.com/assets/colab-badge.svg\" alt=\"Open In Colab\"/></a>"
      ]
    },
    {
      "cell_type": "code",
      "execution_count": 1,
      "metadata": {
        "id": "vM0jxiB3Nab9"
      },
      "outputs": [],
      "source": [
        "from collections import defaultdict\n",
        "\n",
        "def solution(id_list, report, k):\n",
        "    answer = []\n",
        "    id_dict = {}\n",
        "    # 동일유저 동일신고, 중복방지용\n",
        "    report = set(report)\n",
        "    # 유저별 메일받을 횟수를 0으로 초기화\n",
        "    for i in id_list:\n",
        "        id_dict[i] = 0\n",
        "\n",
        "    # 신고내역을 추적할 수 있게 report list 수정\n",
        "    new_report = [r.split(' ') for r in report]\n",
        "\n",
        "    # 신고당한 유저 횟수\n",
        "    report_by_user = defaultdict(int)\n",
        "    for i in range(len(new_report)):\n",
        "        report_by_user[new_report[i][1]] += 1\n",
        "\n",
        "    # 유저별 메일 받을 횟수\n",
        "    for i in range(len(new_report)):\n",
        "        if new_report[i][1] in report_by_user and report_by_user[new_report[i][1]] >= k:\n",
        "            id_dict[new_report[i][0]] += 1\n",
        "\n",
        "    for i in id_dict:\n",
        "        answer.append(id_dict[i])\n",
        "\n",
        "    return answer"
      ]
    },
    {
      "cell_type": "code",
      "source": [
        "id_list, report, k = [\"muzi\", \"frodo\", \"apeach\", \"neo\"], [\"muzi frodo\",\"apeach frodo\",\"frodo neo\",\"muzi neo\",\"apeach muzi\"], 2\n",
        "solution(id_list, report, k)"
      ],
      "metadata": {
        "colab": {
          "base_uri": "https://localhost:8080/"
        },
        "id": "hxUElEP8NzNn",
        "outputId": "6e1add4e-3541-42fa-e80f-0497016df20d"
      },
      "execution_count": 2,
      "outputs": [
        {
          "output_type": "execute_result",
          "data": {
            "text/plain": [
              "[2, 1, 1, 0]"
            ]
          },
          "metadata": {},
          "execution_count": 2
        }
      ]
    }
  ]
}