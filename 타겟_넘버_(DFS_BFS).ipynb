{
  "nbformat": 4,
  "nbformat_minor": 0,
  "metadata": {
    "colab": {
      "provenance": [],
      "authorship_tag": "ABX9TyOhJQ8cQq5EN420W2997zFR",
      "include_colab_link": true
    },
    "kernelspec": {
      "name": "python3",
      "display_name": "Python 3"
    },
    "language_info": {
      "name": "python"
    }
  },
  "cells": [
    {
      "cell_type": "markdown",
      "metadata": {
        "id": "view-in-github",
        "colab_type": "text"
      },
      "source": [
        "<a href=\"https://colab.research.google.com/github/appletreeleaf/Algorithms/blob/DFS%2FBFS/%ED%83%80%EA%B2%9F_%EB%84%98%EB%B2%84_(DFS_BFS).ipynb\" target=\"_parent\"><img src=\"https://colab.research.google.com/assets/colab-badge.svg\" alt=\"Open In Colab\"/></a>"
      ]
    },
    {
      "cell_type": "code",
      "execution_count": 9,
      "metadata": {
        "id": "8qdkzIbwWWhC"
      },
      "outputs": [],
      "source": [
        "# 리스트를 순차적으로 순회하면서 모든 경우를 탐색한 후\n",
        "# 끝 노드에서 탐색결과와 target이 일치한다면\n",
        "# answer += 1 하면 되겠다.\n",
        "def solution(numbers, target):\n",
        "    n = len(numbers)\n",
        "    answer = 0\n",
        "    def dfs(idx, result):\n",
        "        if idx == n:\n",
        "            if result == target:\n",
        "                nonlocal answer\n",
        "                answer += 1\n",
        "            return\n",
        "        else:\n",
        "            dfs(idx+1, result + numbers[idx])\n",
        "            dfs(idx+1, result - numbers[idx])\n",
        "\n",
        "    dfs(0, 0)\n",
        "    return answer\n",
        ""
      ]
    },
    {
      "cell_type": "code",
      "source": [
        "numbers, target = [4, 1, 2, 1], 4\n",
        "solution(numbers, target)"
      ],
      "metadata": {
        "colab": {
          "base_uri": "https://localhost:8080/"
        },
        "id": "nU0DuDWbWmHz",
        "outputId": "c65375f1-b8f0-47a4-f44b-4e1936fe870a"
      },
      "execution_count": 11,
      "outputs": [
        {
          "output_type": "execute_result",
          "data": {
            "text/plain": [
              "2"
            ]
          },
          "metadata": {},
          "execution_count": 11
        }
      ]
    },
    {
      "cell_type": "code",
      "source": [],
      "metadata": {
        "id": "8GUp21NoY6DI"
      },
      "execution_count": null,
      "outputs": []
    }
  ]
}