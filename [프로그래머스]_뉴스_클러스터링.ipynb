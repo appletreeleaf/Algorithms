{
  "nbformat": 4,
  "nbformat_minor": 0,
  "metadata": {
    "colab": {
      "provenance": [],
      "authorship_tag": "ABX9TyMxomjzj5RqlRN6C54/bocm",
      "include_colab_link": true
    },
    "kernelspec": {
      "name": "python3",
      "display_name": "Python 3"
    },
    "language_info": {
      "name": "python"
    }
  },
  "cells": [
    {
      "cell_type": "markdown",
      "metadata": {
        "id": "view-in-github",
        "colab_type": "text"
      },
      "source": [
        "<a href=\"https://colab.research.google.com/github/appletreeleaf/Coding_Test/blob/main/%5B%ED%94%84%EB%A1%9C%EA%B7%B8%EB%9E%98%EB%A8%B8%EC%8A%A4%5D_%EB%89%B4%EC%8A%A4_%ED%81%B4%EB%9F%AC%EC%8A%A4%ED%84%B0%EB%A7%81.ipynb\" target=\"_parent\"><img src=\"https://colab.research.google.com/assets/colab-badge.svg\" alt=\"Open In Colab\"/></a>"
      ]
    },
    {
      "cell_type": "code",
      "execution_count": 2,
      "metadata": {
        "colab": {
          "base_uri": "https://localhost:8080/"
        },
        "id": "2vGfJd6_4ADX",
        "outputId": "88d193f3-6fe0-471e-8924-b044391cca82"
      },
      "outputs": [
        {
          "output_type": "stream",
          "name": "stdout",
          "text": [
            "list1 = ['AA', 'AA'], list2=['AA', 'AA', 'AA']\n",
            "['AA', 'AA'] ['AA', 'AA', 'AA']\n"
          ]
        },
        {
          "output_type": "execute_result",
          "data": {
            "text/plain": [
              "43690"
            ]
          },
          "metadata": {},
          "execution_count": 2
        }
      ],
      "source": [
        "from collections import Counter\n",
        "\n",
        "def solution(str1, str2):\n",
        "\n",
        "    str1, str2 = str1.upper(), str2.upper()\n",
        "\n",
        "    str1_list = []\n",
        "    str2_list = []\n",
        "\n",
        "    for i in range(len(str1)-1):\n",
        "        if str1[i].isalpha() and str1[i+1].isalpha():\n",
        "            str1_list.append(str1[i] + str1[i+1])\n",
        "\n",
        "    for j in range(len(str2)-1):\n",
        "        if str2[j].isalpha() and str2[j+1].isalpha():\n",
        "            str2_list.append(str2[j] + str2[j+1])\n",
        "\n",
        "\n",
        "    print(f\"list1 = {str1_list}, list2={str2_list}\")\n",
        "\n",
        "    Counter1 = Counter(str1_list)\n",
        "    Counter2 = Counter(str2_list)\n",
        "\n",
        "    inter = list((Counter1 & Counter2).elements())\n",
        "    union = list((Counter1 | Counter2).elements())\n",
        "\n",
        "    print(inter, union)\n",
        "    if len(inter) == 0 and len(union) == 0:\n",
        "        answer = 1\n",
        "    else:\n",
        "        answer = len(inter) / len(union)\n",
        "\n",
        "    return int(answer * 65536)\n",
        "\n",
        "\n",
        "\n",
        "str1, str2 = 'FRANCE', 'french'\n",
        "str3, str4 = 'handshake', 'shake hands'\n",
        "str5, str6 = 'aa1+aa2', 'AAAA12'\n",
        "str7, str8 = 'E=M*C^2', 'e=m*c^2'\n",
        "solution(str5, str6)"
      ]
    }
  ]
}