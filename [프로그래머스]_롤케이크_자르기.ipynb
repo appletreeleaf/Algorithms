{
  "nbformat": 4,
  "nbformat_minor": 0,
  "metadata": {
    "colab": {
      "provenance": [],
      "authorship_tag": "ABX9TyMHNpeiQ339L6wNbRY1DuL8",
      "include_colab_link": true
    },
    "kernelspec": {
      "name": "python3",
      "display_name": "Python 3"
    },
    "language_info": {
      "name": "python"
    }
  },
  "cells": [
    {
      "cell_type": "markdown",
      "metadata": {
        "id": "view-in-github",
        "colab_type": "text"
      },
      "source": [
        "<a href=\"https://colab.research.google.com/github/appletreeleaf/Coding_Test/blob/main/%5B%ED%94%84%EB%A1%9C%EA%B7%B8%EB%9E%98%EB%A8%B8%EC%8A%A4%5D_%EB%A1%A4%EC%BC%80%EC%9D%B4%ED%81%AC_%EC%9E%90%EB%A5%B4%EA%B8%B0.ipynb\" target=\"_parent\"><img src=\"https://colab.research.google.com/assets/colab-badge.svg\" alt=\"Open In Colab\"/></a>"
      ]
    },
    {
      "cell_type": "code",
      "execution_count": 4,
      "metadata": {
        "id": "7qjdgf0GYFox"
      },
      "outputs": [],
      "source": [
        "def solution(topping):\n",
        "    cnt = 0\n",
        "    for i in range(len(topping)):\n",
        "        a, b = topping[:i], topping[i:]\n",
        "        if len(set(a)) == len(set(b)):\n",
        "            cnt += 1\n",
        "    return cnt"
      ]
    },
    {
      "cell_type": "code",
      "source": [
        "from collections import deque\n",
        "\n",
        "def solution(topping):\n",
        "    a, b = [], deque(topping)\n",
        "    cnt = 0\n",
        "    for i in range(len(topping)):\n",
        "        a.append(b.popleft())\n",
        "        if len(set(a)) == len(set(b)):\n",
        "            cnt += 1\n",
        "    return cnt"
      ],
      "metadata": {
        "id": "oS0MEcXabbE6"
      },
      "execution_count": 29,
      "outputs": []
    },
    {
      "cell_type": "code",
      "source": [
        "## 같은 로직의 딕셔너리 풀이\n",
        "from collections import Counter\n",
        "\n",
        "def solution(topping):\n",
        "    me = set()\n",
        "    brother = Counter(topping)\n",
        "    cnt = 0\n",
        "    for i in topping:\n",
        "        brother[i] -= 1\n",
        "        if brother[i] == 0:\n",
        "            del brother[i]\n",
        "        me.add(i)\n",
        "        if len(me) == len(brother):\n",
        "            cnt += 1\n",
        "    return cnt"
      ],
      "metadata": {
        "id": "_hdwsMb3iios"
      },
      "execution_count": 33,
      "outputs": []
    },
    {
      "cell_type": "code",
      "source": [
        "topping = [1, 2, 1, 3, 1, 4, 1, 2]\n",
        "solution(topping)"
      ],
      "metadata": {
        "colab": {
          "base_uri": "https://localhost:8080/"
        },
        "id": "8GH3qL5AYLtC",
        "outputId": "6d9ab08d-e332-4a5b-8e4f-de445599718c"
      },
      "execution_count": 34,
      "outputs": [
        {
          "output_type": "execute_result",
          "data": {
            "text/plain": [
              "2"
            ]
          },
          "metadata": {},
          "execution_count": 34
        }
      ]
    },
    {
      "cell_type": "code",
      "source": [],
      "metadata": {
        "id": "HR-NwJR6aqI9"
      },
      "execution_count": null,
      "outputs": []
    }
  ]
}