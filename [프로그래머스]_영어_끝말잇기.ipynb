{
  "nbformat": 4,
  "nbformat_minor": 0,
  "metadata": {
    "colab": {
      "provenance": [],
      "authorship_tag": "ABX9TyPwTSf+KejhuxdRDOU9Ui4i",
      "include_colab_link": true
    },
    "kernelspec": {
      "name": "python3",
      "display_name": "Python 3"
    },
    "language_info": {
      "name": "python"
    }
  },
  "cells": [
    {
      "cell_type": "markdown",
      "metadata": {
        "id": "view-in-github",
        "colab_type": "text"
      },
      "source": [
        "<a href=\"https://colab.research.google.com/github/appletreeleaf/Coding_Test/blob/main/%5B%ED%94%84%EB%A1%9C%EA%B7%B8%EB%9E%98%EB%A8%B8%EC%8A%A4%5D_%EC%98%81%EC%96%B4_%EB%81%9D%EB%A7%90%EC%9E%87%EA%B8%B0.ipynb\" target=\"_parent\"><img src=\"https://colab.research.google.com/assets/colab-badge.svg\" alt=\"Open In Colab\"/></a>"
      ]
    },
    {
      "cell_type": "markdown",
      "source": [
        "끝말잇기 규칙에 허용되지 않는 경우를 바탕으로한 로직 -> 실패"
      ],
      "metadata": {
        "id": "q_a16Tv9uFgp"
      }
    },
    {
      "cell_type": "code",
      "execution_count": 43,
      "metadata": {
        "id": "qm1HGZgWh9QN"
      },
      "outputs": [],
      "source": [
        "def solution(n, words):\n",
        "    l = []\n",
        "    for idx, word in enumerate(words):\n",
        "        if idx == 0:\n",
        "            l.append(word);continue;\n",
        "        if l[-1][-1] != word or word in l:\n",
        "            return [(idx % n)+1, (idx // n)+1]\n",
        "        else:\n",
        "            l.append(word)\n",
        "    else:\n",
        "        return [0, 0]"
      ]
    },
    {
      "cell_type": "markdown",
      "source": [
        "끝말잇기 규칙에 허용되는 경우를 바탕으로 한 로직 -> 해결"
      ],
      "metadata": {
        "id": "UZMLGYI7t5jT"
      }
    },
    {
      "cell_type": "code",
      "source": [
        "def solution(n, words):\n",
        "    l = []\n",
        "    for idx, word in enumerate(words):\n",
        "        if idx == 0:\n",
        "            l.append(word); continue;\n",
        "        if l[-1][-1] == word[0] and word not in l:\n",
        "            l.append(word)\n",
        "        else:\n",
        "            return [(idx % n)+1, (idx // n)+1]\n",
        "    else:\n",
        "        return [0, 0]"
      ],
      "metadata": {
        "id": "vJdV8R4st4hl"
      },
      "execution_count": null,
      "outputs": []
    },
    {
      "cell_type": "code",
      "source": [
        "n, words = 2, [\"hello\", \"one\", \"even\",'can', \"never\", \"now\", \"world\", \"draw\"]\n",
        "solution(n, words)"
      ],
      "metadata": {
        "colab": {
          "base_uri": "https://localhost:8080/"
        },
        "id": "Cf3NfoW6iPy4",
        "outputId": "895acfc2-d5d3-403f-cfc1-5e4ade11c266"
      },
      "execution_count": 44,
      "outputs": [
        {
          "output_type": "execute_result",
          "data": {
            "text/plain": [
              "[2, 1]"
            ]
          },
          "metadata": {},
          "execution_count": 44
        }
      ]
    },
    {
      "cell_type": "code",
      "source": [],
      "metadata": {
        "id": "TkbG9-Mjj0-V"
      },
      "execution_count": null,
      "outputs": []
    }
  ]
}