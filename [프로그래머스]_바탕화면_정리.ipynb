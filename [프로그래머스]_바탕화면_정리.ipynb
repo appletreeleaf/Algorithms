{
  "nbformat": 4,
  "nbformat_minor": 0,
  "metadata": {
    "colab": {
      "provenance": [],
      "authorship_tag": "ABX9TyOuuLkOl3zRry9IrdcvB2Bd",
      "include_colab_link": true
    },
    "kernelspec": {
      "name": "python3",
      "display_name": "Python 3"
    },
    "language_info": {
      "name": "python"
    }
  },
  "cells": [
    {
      "cell_type": "markdown",
      "metadata": {
        "id": "view-in-github",
        "colab_type": "text"
      },
      "source": [
        "<a href=\"https://colab.research.google.com/github/appletreeleaf/Coding_Test/blob/main/%5B%ED%94%84%EB%A1%9C%EA%B7%B8%EB%9E%98%EB%A8%B8%EC%8A%A4%5D_%EB%B0%94%ED%83%95%ED%99%94%EB%A9%B4_%EC%A0%95%EB%A6%AC.ipynb\" target=\"_parent\"><img src=\"https://colab.research.google.com/assets/colab-badge.svg\" alt=\"Open In Colab\"/></a>"
      ]
    },
    {
      "cell_type": "code",
      "execution_count": null,
      "metadata": {
        "id": "zriiGsU-Axx5"
      },
      "outputs": [],
      "source": [
        "def solution(wallpaper):\n",
        "    row, col = [], []\n",
        "    for idx, i in enumerate(wallpaper):\n",
        "        for idx_, s in enumerate(i):\n",
        "            if s == '#':\n",
        "                row.append(idx)\n",
        "                col.append(idx_)\n",
        "\n",
        "    return [min(row), min(col), max(row)+1, max(col)+1]"
      ]
    },
    {
      "cell_type": "code",
      "source": [
        "wallpaper = [\".#...\", \"..#..\", \"...#.\"]\n",
        "solution(wallpaper)"
      ],
      "metadata": {
        "id": "6g2am-mHA-Ev"
      },
      "execution_count": null,
      "outputs": []
    }
  ]
}