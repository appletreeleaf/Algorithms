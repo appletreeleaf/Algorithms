{
  "nbformat": 4,
  "nbformat_minor": 0,
  "metadata": {
    "colab": {
      "provenance": [],
      "authorship_tag": "ABX9TyNNRQyq+evsg6AJkPLluSUP",
      "include_colab_link": true
    },
    "kernelspec": {
      "name": "python3",
      "display_name": "Python 3"
    },
    "language_info": {
      "name": "python"
    }
  },
  "cells": [
    {
      "cell_type": "markdown",
      "metadata": {
        "id": "view-in-github",
        "colab_type": "text"
      },
      "source": [
        "<a href=\"https://colab.research.google.com/github/appletreeleaf/Coding_Test/blob/main/%5B%ED%94%84%EB%A1%9C%EA%B7%B8%EB%9E%98%EB%A8%B8%EC%8A%A4%5D_%EB%AC%B8%EC%9E%90%EC%97%B4_%EB%82%98%EB%88%84%EA%B8%B0.ipynb\" target=\"_parent\"><img src=\"https://colab.research.google.com/assets/colab-badge.svg\" alt=\"Open In Colab\"/></a>"
      ]
    },
    {
      "cell_type": "code",
      "execution_count": 30,
      "metadata": {
        "id": "iztQQ2bbZiof"
      },
      "outputs": [],
      "source": [
        "from collections import deque\n",
        "def solution(s):\n",
        "    answer = 0\n",
        "    while s:\n",
        "        x = s[0] # b\n",
        "        c1, c2 = 0, 0\n",
        "        for i in range(len(s)):\n",
        "            if x == s[i]:\n",
        "                c1 += 1\n",
        "            else:\n",
        "                c2 += 1\n",
        "            if c1 == c2:\n",
        "                break\n",
        "        s = s[i+1:]\n",
        "        answer += 1\n",
        "\n",
        "    return answer"
      ]
    },
    {
      "cell_type": "code",
      "source": [
        "s = \"aaabbaccccabba\"\n",
        "solution(s)"
      ],
      "metadata": {
        "colab": {
          "base_uri": "https://localhost:8080/"
        },
        "id": "qW0RsrMdZlv3",
        "outputId": "9a5b1d1f-5cf3-4092-bd54-ba34c9abcac2"
      },
      "execution_count": 31,
      "outputs": [
        {
          "output_type": "stream",
          "name": "stdout",
          "text": [
            "x = a\n",
            "c1, c2 =  4 4\n",
            "s =  ccabba\n",
            "----------------------------------------------------------------------------------------------------\n",
            "x = c\n",
            "c1, c2 =  2 2\n",
            "s =  ba\n",
            "----------------------------------------------------------------------------------------------------\n",
            "x = b\n",
            "c1, c2 =  1 1\n",
            "s =  \n",
            "----------------------------------------------------------------------------------------------------\n"
          ]
        },
        {
          "output_type": "execute_result",
          "data": {
            "text/plain": [
              "3"
            ]
          },
          "metadata": {},
          "execution_count": 31
        }
      ]
    }
  ]
}