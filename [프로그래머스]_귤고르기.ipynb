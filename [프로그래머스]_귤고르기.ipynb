{
  "nbformat": 4,
  "nbformat_minor": 0,
  "metadata": {
    "colab": {
      "provenance": [],
      "authorship_tag": "ABX9TyOUwiSzxeOMJvpt9F+xdCOE",
      "include_colab_link": true
    },
    "kernelspec": {
      "name": "python3",
      "display_name": "Python 3"
    },
    "language_info": {
      "name": "python"
    }
  },
  "cells": [
    {
      "cell_type": "markdown",
      "metadata": {
        "id": "view-in-github",
        "colab_type": "text"
      },
      "source": [
        "<a href=\"https://colab.research.google.com/github/appletreeleaf/Coding_Test/blob/main/%5B%ED%94%84%EB%A1%9C%EA%B7%B8%EB%9E%98%EB%A8%B8%EC%8A%A4%5D_%EA%B7%A4%EA%B3%A0%EB%A5%B4%EA%B8%B0.ipynb\" target=\"_parent\"><img src=\"https://colab.research.google.com/assets/colab-badge.svg\" alt=\"Open In Colab\"/></a>"
      ]
    },
    {
      "cell_type": "code",
      "execution_count": null,
      "metadata": {
        "id": "2vGfJd6_4ADX"
      },
      "outputs": [],
      "source": [
        "# 접근 1) 귤의 크기를 집합으로 만들어서 크기별 몇 개의 귤이 있는지 파악 후\n",
        "# 판매하고자 하는 갯수가 되는 조합중 최소 값을 리턴하자\n",
        "\n",
        "def solution(k, tangarine):\n",
        "\n",
        "    # 귤의 종류별 갯수를 구함\n",
        "    set_tan = list(set(tangarine))\n",
        "    dict_ = {k:0 for k in set_tan}\n",
        "\n",
        "    for i in tangarine:\n",
        "        dict_[i] += 1\n",
        "    # import collections\n",
        "    # dict_ = collections.Counter(tangarine)가 더 깔끔함\n",
        "\n",
        "    # dict_의 value를 역순 정렬한 후\n",
        "    d_val = sorted([i for i in dict_.values()], reverse=True)\n",
        "\n",
        "    # 갯수가 많은 크기 순으로 귤을 담고\n",
        "    # 귤의 갯수가 k보다 크거나 같은 순간 cnt를 리턴\n",
        "    result, cnt = 0, 0\n",
        "    for v in d_val:\n",
        "        result += v\n",
        "        cnt += 1\n",
        "        if result >= k:\n",
        "            return cnt\n",
        "        print(cnt, result)\n",
        "\n",
        "\n",
        "\n",
        "k, tangarine = 2, [1, 1, 1, 1, 2, 2, 2, 3]\n",
        "solution(k, tangarine)"
      ]
    }
  ]
}